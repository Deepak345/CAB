{
 "cells": [
  {
   "cell_type": "code",
   "execution_count": 1,
   "metadata": {},
   "outputs": [],
   "source": [
    "import pandas as pd\n",
    "import matplotlib.pyplot as plt\n",
    "import matplotlib\n",
    "import seaborn as sn\n",
    "%matplotlib inline"
   ]
  },
  {
   "cell_type": "code",
   "execution_count": 3,
   "metadata": {},
   "outputs": [],
   "source": [
    "ass = pd.read_csv(\"./cleaned_data/AS.csv\", low_memory=False, index_col=False)\n",
    "mp = pd.read_csv(\"./cleaned_data/MP.csv\", low_memory=False, index_col=False)\n",
    "up = pd.read_csv(\"./cleaned_data/UP.csv\", low_memory=False, index_col=False)\n",
    "jh = pd.read_csv(\"./cleaned_data/JH.csv\", low_memory=False, index_col=False)\n",
    "rj = pd.read_csv(\"./cleaned_data/RJ.csv\", low_memory=False, index_col=False)\n",
    "bh = pd.read_csv(\"./cleaned_data/BH.csv\", low_memory=False, index_col=False)\n",
    "cg = pd.read_csv(\"./cleaned_data/CG.csv\", low_memory=False, index_col=False)\n",
    "od = pd.read_csv(\"./cleaned_data/OD.csv\", low_memory=False, index_col=False)\n",
    "ut = pd.read_csv(\"./cleaned_data/UT.csv\", low_memory=False, index_col=False)"
   ]
  },
  {
   "cell_type": "code",
   "execution_count": 4,
   "metadata": {},
   "outputs": [
    {
     "data": {
      "text/plain": [
       "(3499, 16)"
      ]
     },
     "execution_count": 4,
     "metadata": {},
     "output_type": "execute_result"
    }
   ],
   "source": [
    "ut.shape"
   ]
  },
  {
   "cell_type": "code",
   "execution_count": 5,
   "metadata": {},
   "outputs": [
    {
     "data": {
      "text/plain": [
       "(6842, 16)"
      ]
     },
     "execution_count": 5,
     "metadata": {},
     "output_type": "execute_result"
    }
   ],
   "source": [
    "cg.shape"
   ]
  },
  {
   "cell_type": "code",
   "execution_count": 6,
   "metadata": {},
   "outputs": [
    {
     "data": {
      "text/plain": [
       "(8582, 16)"
      ]
     },
     "execution_count": 6,
     "metadata": {},
     "output_type": "execute_result"
    }
   ],
   "source": [
    "jh.shape"
   ]
  },
  {
   "cell_type": "code",
   "execution_count": 7,
   "metadata": {},
   "outputs": [
    {
     "data": {
      "text/plain": [
       "(7692, 16)"
      ]
     },
     "execution_count": 7,
     "metadata": {},
     "output_type": "execute_result"
    }
   ],
   "source": [
    "ass.shape"
   ]
  },
  {
   "cell_type": "code",
   "execution_count": 8,
   "metadata": {},
   "outputs": [
    {
     "data": {
      "text/plain": [
       "(12910, 16)"
      ]
     },
     "execution_count": 8,
     "metadata": {},
     "output_type": "execute_result"
    }
   ],
   "source": [
    "od.shape"
   ]
  },
  {
   "cell_type": "code",
   "execution_count": 9,
   "metadata": {},
   "outputs": [
    {
     "data": {
      "text/plain": [
       "(12107, 16)"
      ]
     },
     "execution_count": 9,
     "metadata": {},
     "output_type": "execute_result"
    }
   ],
   "source": [
    "rj.shape"
   ]
  },
  {
   "cell_type": "code",
   "execution_count": 10,
   "metadata": {},
   "outputs": [
    {
     "data": {
      "text/plain": [
       "(14661, 16)"
      ]
     },
     "execution_count": 10,
     "metadata": {},
     "output_type": "execute_result"
    }
   ],
   "source": [
    "mp.shape"
   ]
  },
  {
   "cell_type": "code",
   "execution_count": 11,
   "metadata": {},
   "outputs": [
    {
     "data": {
      "text/plain": [
       "(19760, 16)"
      ]
     },
     "execution_count": 11,
     "metadata": {},
     "output_type": "execute_result"
    }
   ],
   "source": [
    "bh.shape"
   ]
  },
  {
   "cell_type": "code",
   "execution_count": 12,
   "metadata": {},
   "outputs": [
    {
     "data": {
      "text/plain": [
       "(34916, 16)"
      ]
     },
     "execution_count": 12,
     "metadata": {},
     "output_type": "execute_result"
    }
   ],
   "source": [
    "up.shape"
   ]
  },
  {
   "cell_type": "code",
   "execution_count": 13,
   "metadata": {},
   "outputs": [],
   "source": [
    "result = pd.concat([ut, cg, jh, ass, od, rj, mp, bh, up])"
   ]
  },
  {
   "cell_type": "code",
   "execution_count": 14,
   "metadata": {},
   "outputs": [
    {
     "data": {
      "text/plain": [
       "(120969, 16)"
      ]
     },
     "execution_count": 14,
     "metadata": {},
     "output_type": "execute_result"
    }
   ],
   "source": [
    "result.shape"
   ]
  },
  {
   "cell_type": "code",
   "execution_count": 17,
   "metadata": {},
   "outputs": [
    {
     "data": {
      "text/html": [
       "<div>\n",
       "<style>\n",
       "    .dataframe thead tr:only-child th {\n",
       "        text-align: right;\n",
       "    }\n",
       "\n",
       "    .dataframe thead th {\n",
       "        text-align: left;\n",
       "    }\n",
       "\n",
       "    .dataframe tbody tr th {\n",
       "        vertical-align: top;\n",
       "    }\n",
       "</style>\n",
       "<table border=\"1\" class=\"dataframe\">\n",
       "  <thead>\n",
       "    <tr style=\"text-align: right;\">\n",
       "      <th></th>\n",
       "      <th>state_code</th>\n",
       "      <th>record_code_iodine</th>\n",
       "      <th>sex</th>\n",
       "      <th>age</th>\n",
       "      <th>weight_in_kg</th>\n",
       "      <th>length_height_cm</th>\n",
       "      <th>haemoglobin_level</th>\n",
       "      <th>first_breast_feeding</th>\n",
       "      <th>is_cur_breast_feeding</th>\n",
       "      <th>day_or_month_for_breast_feeding</th>\n",
       "      <th>water_month</th>\n",
       "      <th>ani_milk_month</th>\n",
       "      <th>semisolid_month_or_day</th>\n",
       "      <th>solid_month</th>\n",
       "      <th>vegetables_month_or_day</th>\n",
       "      <th>illness_type</th>\n",
       "    </tr>\n",
       "  </thead>\n",
       "  <tbody>\n",
       "    <tr>\n",
       "      <th>4</th>\n",
       "      <td>21.0</td>\n",
       "      <td>3</td>\n",
       "      <td>2</td>\n",
       "      <td>48.0</td>\n",
       "      <td>11.8</td>\n",
       "      <td>91.900002</td>\n",
       "      <td>12.000000</td>\n",
       "      <td>1.0</td>\n",
       "      <td>2.0</td>\n",
       "      <td>6.0</td>\n",
       "      <td>7.0</td>\n",
       "      <td>0.0</td>\n",
       "      <td>7.0</td>\n",
       "      <td>7.0</td>\n",
       "      <td>7.0</td>\n",
       "      <td>3.0</td>\n",
       "    </tr>\n",
       "    <tr>\n",
       "      <th>10</th>\n",
       "      <td>21.0</td>\n",
       "      <td>3</td>\n",
       "      <td>2</td>\n",
       "      <td>3.0</td>\n",
       "      <td>4.7</td>\n",
       "      <td>61.900002</td>\n",
       "      <td>10.150000</td>\n",
       "      <td>1.0</td>\n",
       "      <td>1.0</td>\n",
       "      <td>3.0</td>\n",
       "      <td>0.0</td>\n",
       "      <td>0.0</td>\n",
       "      <td>0.0</td>\n",
       "      <td>0.0</td>\n",
       "      <td>0.0</td>\n",
       "      <td>3.0</td>\n",
       "    </tr>\n",
       "    <tr>\n",
       "      <th>20</th>\n",
       "      <td>21.0</td>\n",
       "      <td>3</td>\n",
       "      <td>2</td>\n",
       "      <td>36.0</td>\n",
       "      <td>9.0</td>\n",
       "      <td>85.300003</td>\n",
       "      <td>5.000000</td>\n",
       "      <td>1.0</td>\n",
       "      <td>2.0</td>\n",
       "      <td>6.0</td>\n",
       "      <td>7.0</td>\n",
       "      <td>0.0</td>\n",
       "      <td>7.0</td>\n",
       "      <td>7.0</td>\n",
       "      <td>7.0</td>\n",
       "      <td>3.0</td>\n",
       "    </tr>\n",
       "    <tr>\n",
       "      <th>21</th>\n",
       "      <td>21.0</td>\n",
       "      <td>3</td>\n",
       "      <td>1</td>\n",
       "      <td>24.0</td>\n",
       "      <td>9.0</td>\n",
       "      <td>87.900002</td>\n",
       "      <td>8.000000</td>\n",
       "      <td>1.0</td>\n",
       "      <td>1.0</td>\n",
       "      <td>3.0</td>\n",
       "      <td>4.0</td>\n",
       "      <td>7.0</td>\n",
       "      <td>7.0</td>\n",
       "      <td>12.0</td>\n",
       "      <td>12.0</td>\n",
       "      <td>3.0</td>\n",
       "    </tr>\n",
       "    <tr>\n",
       "      <th>27</th>\n",
       "      <td>21.0</td>\n",
       "      <td>3</td>\n",
       "      <td>1</td>\n",
       "      <td>24.0</td>\n",
       "      <td>8.6</td>\n",
       "      <td>84.412921</td>\n",
       "      <td>6.000000</td>\n",
       "      <td>2.0</td>\n",
       "      <td>2.0</td>\n",
       "      <td>0.0</td>\n",
       "      <td>6.0</td>\n",
       "      <td>7.0</td>\n",
       "      <td>7.0</td>\n",
       "      <td>8.0</td>\n",
       "      <td>12.0</td>\n",
       "      <td>3.0</td>\n",
       "    </tr>\n",
       "    <tr>\n",
       "      <th>28</th>\n",
       "      <td>21.0</td>\n",
       "      <td>3</td>\n",
       "      <td>1</td>\n",
       "      <td>24.0</td>\n",
       "      <td>9.8</td>\n",
       "      <td>83.000000</td>\n",
       "      <td>8.500000</td>\n",
       "      <td>1.0</td>\n",
       "      <td>1.0</td>\n",
       "      <td>1.0</td>\n",
       "      <td>2.0</td>\n",
       "      <td>0.0</td>\n",
       "      <td>5.0</td>\n",
       "      <td>6.0</td>\n",
       "      <td>6.0</td>\n",
       "      <td>3.0</td>\n",
       "    </tr>\n",
       "    <tr>\n",
       "      <th>29</th>\n",
       "      <td>21.0</td>\n",
       "      <td>2</td>\n",
       "      <td>1</td>\n",
       "      <td>36.0</td>\n",
       "      <td>10.9</td>\n",
       "      <td>96.199997</td>\n",
       "      <td>9.500000</td>\n",
       "      <td>1.0</td>\n",
       "      <td>2.0</td>\n",
       "      <td>6.0</td>\n",
       "      <td>7.0</td>\n",
       "      <td>0.0</td>\n",
       "      <td>7.0</td>\n",
       "      <td>7.0</td>\n",
       "      <td>7.0</td>\n",
       "      <td>3.0</td>\n",
       "    </tr>\n",
       "    <tr>\n",
       "      <th>36</th>\n",
       "      <td>21.0</td>\n",
       "      <td>3</td>\n",
       "      <td>1</td>\n",
       "      <td>9.0</td>\n",
       "      <td>7.2</td>\n",
       "      <td>67.199997</td>\n",
       "      <td>7.500000</td>\n",
       "      <td>1.0</td>\n",
       "      <td>1.0</td>\n",
       "      <td>1.0</td>\n",
       "      <td>2.0</td>\n",
       "      <td>3.0</td>\n",
       "      <td>3.0</td>\n",
       "      <td>5.0</td>\n",
       "      <td>5.0</td>\n",
       "      <td>3.0</td>\n",
       "    </tr>\n",
       "    <tr>\n",
       "      <th>48</th>\n",
       "      <td>21.0</td>\n",
       "      <td>3</td>\n",
       "      <td>1</td>\n",
       "      <td>7.0</td>\n",
       "      <td>6.7</td>\n",
       "      <td>66.699997</td>\n",
       "      <td>7.500000</td>\n",
       "      <td>1.0</td>\n",
       "      <td>1.0</td>\n",
       "      <td>1.0</td>\n",
       "      <td>2.0</td>\n",
       "      <td>6.0</td>\n",
       "      <td>6.0</td>\n",
       "      <td>7.0</td>\n",
       "      <td>7.0</td>\n",
       "      <td>3.0</td>\n",
       "    </tr>\n",
       "    <tr>\n",
       "      <th>52</th>\n",
       "      <td>21.0</td>\n",
       "      <td>3</td>\n",
       "      <td>2</td>\n",
       "      <td>48.0</td>\n",
       "      <td>11.5</td>\n",
       "      <td>89.500000</td>\n",
       "      <td>10.061931</td>\n",
       "      <td>1.0</td>\n",
       "      <td>2.0</td>\n",
       "      <td>6.0</td>\n",
       "      <td>7.0</td>\n",
       "      <td>0.0</td>\n",
       "      <td>7.0</td>\n",
       "      <td>7.0</td>\n",
       "      <td>7.0</td>\n",
       "      <td>3.0</td>\n",
       "    </tr>\n",
       "    <tr>\n",
       "      <th>63</th>\n",
       "      <td>21.0</td>\n",
       "      <td>3</td>\n",
       "      <td>1</td>\n",
       "      <td>48.0</td>\n",
       "      <td>12.0</td>\n",
       "      <td>94.500000</td>\n",
       "      <td>12.000000</td>\n",
       "      <td>1.0</td>\n",
       "      <td>2.0</td>\n",
       "      <td>6.0</td>\n",
       "      <td>7.0</td>\n",
       "      <td>0.0</td>\n",
       "      <td>7.0</td>\n",
       "      <td>7.0</td>\n",
       "      <td>7.0</td>\n",
       "      <td>3.0</td>\n",
       "    </tr>\n",
       "    <tr>\n",
       "      <th>88</th>\n",
       "      <td>21.0</td>\n",
       "      <td>3</td>\n",
       "      <td>2</td>\n",
       "      <td>6.0</td>\n",
       "      <td>5.9</td>\n",
       "      <td>65.500000</td>\n",
       "      <td>13.600000</td>\n",
       "      <td>2.0</td>\n",
       "      <td>1.0</td>\n",
       "      <td>3.0</td>\n",
       "      <td>4.0</td>\n",
       "      <td>0.0</td>\n",
       "      <td>4.0</td>\n",
       "      <td>0.0</td>\n",
       "      <td>0.0</td>\n",
       "      <td>3.0</td>\n",
       "    </tr>\n",
       "    <tr>\n",
       "      <th>92</th>\n",
       "      <td>21.0</td>\n",
       "      <td>3</td>\n",
       "      <td>2</td>\n",
       "      <td>48.0</td>\n",
       "      <td>11.4</td>\n",
       "      <td>99.500000</td>\n",
       "      <td>10.061931</td>\n",
       "      <td>1.0</td>\n",
       "      <td>2.0</td>\n",
       "      <td>6.0</td>\n",
       "      <td>7.0</td>\n",
       "      <td>0.0</td>\n",
       "      <td>7.0</td>\n",
       "      <td>7.0</td>\n",
       "      <td>7.0</td>\n",
       "      <td>3.0</td>\n",
       "    </tr>\n",
       "    <tr>\n",
       "      <th>94</th>\n",
       "      <td>21.0</td>\n",
       "      <td>3</td>\n",
       "      <td>2</td>\n",
       "      <td>12.0</td>\n",
       "      <td>6.8</td>\n",
       "      <td>68.699997</td>\n",
       "      <td>8.000000</td>\n",
       "      <td>1.0</td>\n",
       "      <td>1.0</td>\n",
       "      <td>4.0</td>\n",
       "      <td>5.0</td>\n",
       "      <td>0.0</td>\n",
       "      <td>5.0</td>\n",
       "      <td>6.0</td>\n",
       "      <td>6.0</td>\n",
       "      <td>3.0</td>\n",
       "    </tr>\n",
       "    <tr>\n",
       "      <th>98</th>\n",
       "      <td>21.0</td>\n",
       "      <td>3</td>\n",
       "      <td>2</td>\n",
       "      <td>36.0</td>\n",
       "      <td>9.7</td>\n",
       "      <td>83.000000</td>\n",
       "      <td>13.100000</td>\n",
       "      <td>1.0</td>\n",
       "      <td>2.0</td>\n",
       "      <td>6.0</td>\n",
       "      <td>7.0</td>\n",
       "      <td>0.0</td>\n",
       "      <td>7.0</td>\n",
       "      <td>7.0</td>\n",
       "      <td>7.0</td>\n",
       "      <td>3.0</td>\n",
       "    </tr>\n",
       "    <tr>\n",
       "      <th>99</th>\n",
       "      <td>21.0</td>\n",
       "      <td>3</td>\n",
       "      <td>1</td>\n",
       "      <td>36.0</td>\n",
       "      <td>11.9</td>\n",
       "      <td>89.500000</td>\n",
       "      <td>9.500000</td>\n",
       "      <td>1.0</td>\n",
       "      <td>2.0</td>\n",
       "      <td>6.0</td>\n",
       "      <td>7.0</td>\n",
       "      <td>0.0</td>\n",
       "      <td>7.0</td>\n",
       "      <td>7.0</td>\n",
       "      <td>7.0</td>\n",
       "      <td>3.0</td>\n",
       "    </tr>\n",
       "    <tr>\n",
       "      <th>100</th>\n",
       "      <td>21.0</td>\n",
       "      <td>3</td>\n",
       "      <td>2</td>\n",
       "      <td>11.0</td>\n",
       "      <td>6.4</td>\n",
       "      <td>68.000000</td>\n",
       "      <td>10.500000</td>\n",
       "      <td>2.0</td>\n",
       "      <td>1.0</td>\n",
       "      <td>6.0</td>\n",
       "      <td>7.0</td>\n",
       "      <td>7.0</td>\n",
       "      <td>7.0</td>\n",
       "      <td>8.0</td>\n",
       "      <td>8.0</td>\n",
       "      <td>3.0</td>\n",
       "    </tr>\n",
       "    <tr>\n",
       "      <th>106</th>\n",
       "      <td>21.0</td>\n",
       "      <td>3</td>\n",
       "      <td>2</td>\n",
       "      <td>48.0</td>\n",
       "      <td>12.8</td>\n",
       "      <td>96.699997</td>\n",
       "      <td>9.500000</td>\n",
       "      <td>1.0</td>\n",
       "      <td>2.0</td>\n",
       "      <td>6.0</td>\n",
       "      <td>7.0</td>\n",
       "      <td>0.0</td>\n",
       "      <td>7.0</td>\n",
       "      <td>7.0</td>\n",
       "      <td>7.0</td>\n",
       "      <td>3.0</td>\n",
       "    </tr>\n",
       "    <tr>\n",
       "      <th>109</th>\n",
       "      <td>21.0</td>\n",
       "      <td>3</td>\n",
       "      <td>1</td>\n",
       "      <td>48.0</td>\n",
       "      <td>11.8</td>\n",
       "      <td>94.699997</td>\n",
       "      <td>7.500000</td>\n",
       "      <td>1.0</td>\n",
       "      <td>2.0</td>\n",
       "      <td>6.0</td>\n",
       "      <td>7.0</td>\n",
       "      <td>0.0</td>\n",
       "      <td>7.0</td>\n",
       "      <td>7.0</td>\n",
       "      <td>7.0</td>\n",
       "      <td>3.0</td>\n",
       "    </tr>\n",
       "    <tr>\n",
       "      <th>111</th>\n",
       "      <td>21.0</td>\n",
       "      <td>1</td>\n",
       "      <td>2</td>\n",
       "      <td>24.0</td>\n",
       "      <td>9.1</td>\n",
       "      <td>79.000000</td>\n",
       "      <td>11.000000</td>\n",
       "      <td>1.0</td>\n",
       "      <td>1.0</td>\n",
       "      <td>4.0</td>\n",
       "      <td>5.0</td>\n",
       "      <td>0.0</td>\n",
       "      <td>7.0</td>\n",
       "      <td>7.0</td>\n",
       "      <td>7.0</td>\n",
       "      <td>3.0</td>\n",
       "    </tr>\n",
       "    <tr>\n",
       "      <th>116</th>\n",
       "      <td>21.0</td>\n",
       "      <td>3</td>\n",
       "      <td>1</td>\n",
       "      <td>36.0</td>\n",
       "      <td>9.2</td>\n",
       "      <td>85.300003</td>\n",
       "      <td>7.500000</td>\n",
       "      <td>1.0</td>\n",
       "      <td>2.0</td>\n",
       "      <td>6.0</td>\n",
       "      <td>7.0</td>\n",
       "      <td>0.0</td>\n",
       "      <td>7.0</td>\n",
       "      <td>7.0</td>\n",
       "      <td>7.0</td>\n",
       "      <td>3.0</td>\n",
       "    </tr>\n",
       "    <tr>\n",
       "      <th>123</th>\n",
       "      <td>21.0</td>\n",
       "      <td>3</td>\n",
       "      <td>1</td>\n",
       "      <td>36.0</td>\n",
       "      <td>12.7</td>\n",
       "      <td>89.900002</td>\n",
       "      <td>12.000000</td>\n",
       "      <td>1.0</td>\n",
       "      <td>1.0</td>\n",
       "      <td>5.0</td>\n",
       "      <td>6.0</td>\n",
       "      <td>0.0</td>\n",
       "      <td>8.0</td>\n",
       "      <td>12.0</td>\n",
       "      <td>12.0</td>\n",
       "      <td>3.0</td>\n",
       "    </tr>\n",
       "    <tr>\n",
       "      <th>141</th>\n",
       "      <td>21.0</td>\n",
       "      <td>3</td>\n",
       "      <td>2</td>\n",
       "      <td>10.0</td>\n",
       "      <td>9.8</td>\n",
       "      <td>74.699997</td>\n",
       "      <td>8.500000</td>\n",
       "      <td>2.0</td>\n",
       "      <td>2.0</td>\n",
       "      <td>6.0</td>\n",
       "      <td>6.0</td>\n",
       "      <td>6.0</td>\n",
       "      <td>8.0</td>\n",
       "      <td>10.0</td>\n",
       "      <td>10.0</td>\n",
       "      <td>3.0</td>\n",
       "    </tr>\n",
       "    <tr>\n",
       "      <th>144</th>\n",
       "      <td>21.0</td>\n",
       "      <td>3</td>\n",
       "      <td>2</td>\n",
       "      <td>7.0</td>\n",
       "      <td>5.3</td>\n",
       "      <td>65.699997</td>\n",
       "      <td>6.500000</td>\n",
       "      <td>1.0</td>\n",
       "      <td>1.0</td>\n",
       "      <td>5.0</td>\n",
       "      <td>6.0</td>\n",
       "      <td>7.0</td>\n",
       "      <td>7.0</td>\n",
       "      <td>7.0</td>\n",
       "      <td>7.0</td>\n",
       "      <td>3.0</td>\n",
       "    </tr>\n",
       "    <tr>\n",
       "      <th>146</th>\n",
       "      <td>21.0</td>\n",
       "      <td>2</td>\n",
       "      <td>1</td>\n",
       "      <td>12.0</td>\n",
       "      <td>10.0</td>\n",
       "      <td>80.000000</td>\n",
       "      <td>11.000000</td>\n",
       "      <td>1.0</td>\n",
       "      <td>1.0</td>\n",
       "      <td>3.0</td>\n",
       "      <td>4.0</td>\n",
       "      <td>0.0</td>\n",
       "      <td>5.0</td>\n",
       "      <td>5.0</td>\n",
       "      <td>5.0</td>\n",
       "      <td>3.0</td>\n",
       "    </tr>\n",
       "    <tr>\n",
       "      <th>148</th>\n",
       "      <td>21.0</td>\n",
       "      <td>3</td>\n",
       "      <td>1</td>\n",
       "      <td>24.0</td>\n",
       "      <td>10.3</td>\n",
       "      <td>77.199997</td>\n",
       "      <td>8.500000</td>\n",
       "      <td>5.0</td>\n",
       "      <td>2.0</td>\n",
       "      <td>0.0</td>\n",
       "      <td>1.0</td>\n",
       "      <td>1.0</td>\n",
       "      <td>1.0</td>\n",
       "      <td>7.0</td>\n",
       "      <td>7.0</td>\n",
       "      <td>3.0</td>\n",
       "    </tr>\n",
       "    <tr>\n",
       "      <th>153</th>\n",
       "      <td>21.0</td>\n",
       "      <td>3</td>\n",
       "      <td>1</td>\n",
       "      <td>7.0</td>\n",
       "      <td>6.0</td>\n",
       "      <td>62.900002</td>\n",
       "      <td>9.237059</td>\n",
       "      <td>1.0</td>\n",
       "      <td>1.0</td>\n",
       "      <td>5.0</td>\n",
       "      <td>6.0</td>\n",
       "      <td>6.0</td>\n",
       "      <td>7.0</td>\n",
       "      <td>7.0</td>\n",
       "      <td>7.0</td>\n",
       "      <td>3.0</td>\n",
       "    </tr>\n",
       "    <tr>\n",
       "      <th>154</th>\n",
       "      <td>21.0</td>\n",
       "      <td>3</td>\n",
       "      <td>2</td>\n",
       "      <td>24.0</td>\n",
       "      <td>10.4</td>\n",
       "      <td>79.199997</td>\n",
       "      <td>7.000000</td>\n",
       "      <td>1.0</td>\n",
       "      <td>2.0</td>\n",
       "      <td>4.0</td>\n",
       "      <td>5.0</td>\n",
       "      <td>6.0</td>\n",
       "      <td>7.0</td>\n",
       "      <td>10.0</td>\n",
       "      <td>12.0</td>\n",
       "      <td>3.0</td>\n",
       "    </tr>\n",
       "    <tr>\n",
       "      <th>229</th>\n",
       "      <td>21.0</td>\n",
       "      <td>3</td>\n",
       "      <td>2</td>\n",
       "      <td>24.0</td>\n",
       "      <td>7.9</td>\n",
       "      <td>72.099998</td>\n",
       "      <td>10.500000</td>\n",
       "      <td>1.0</td>\n",
       "      <td>1.0</td>\n",
       "      <td>6.0</td>\n",
       "      <td>7.0</td>\n",
       "      <td>0.0</td>\n",
       "      <td>7.0</td>\n",
       "      <td>8.0</td>\n",
       "      <td>8.0</td>\n",
       "      <td>3.0</td>\n",
       "    </tr>\n",
       "    <tr>\n",
       "      <th>241</th>\n",
       "      <td>21.0</td>\n",
       "      <td>3</td>\n",
       "      <td>2</td>\n",
       "      <td>12.0</td>\n",
       "      <td>8.8</td>\n",
       "      <td>76.400002</td>\n",
       "      <td>8.000000</td>\n",
       "      <td>1.0</td>\n",
       "      <td>1.0</td>\n",
       "      <td>1.0</td>\n",
       "      <td>2.0</td>\n",
       "      <td>0.0</td>\n",
       "      <td>2.0</td>\n",
       "      <td>7.0</td>\n",
       "      <td>7.0</td>\n",
       "      <td>3.0</td>\n",
       "    </tr>\n",
       "    <tr>\n",
       "      <th>...</th>\n",
       "      <td>...</td>\n",
       "      <td>...</td>\n",
       "      <td>...</td>\n",
       "      <td>...</td>\n",
       "      <td>...</td>\n",
       "      <td>...</td>\n",
       "      <td>...</td>\n",
       "      <td>...</td>\n",
       "      <td>...</td>\n",
       "      <td>...</td>\n",
       "      <td>...</td>\n",
       "      <td>...</td>\n",
       "      <td>...</td>\n",
       "      <td>...</td>\n",
       "      <td>...</td>\n",
       "      <td>...</td>\n",
       "    </tr>\n",
       "    <tr>\n",
       "      <th>12469</th>\n",
       "      <td>21.0</td>\n",
       "      <td>3</td>\n",
       "      <td>1</td>\n",
       "      <td>10.0</td>\n",
       "      <td>6.1</td>\n",
       "      <td>66.800003</td>\n",
       "      <td>9.500000</td>\n",
       "      <td>1.0</td>\n",
       "      <td>1.0</td>\n",
       "      <td>6.0</td>\n",
       "      <td>7.0</td>\n",
       "      <td>0.0</td>\n",
       "      <td>7.0</td>\n",
       "      <td>7.0</td>\n",
       "      <td>7.0</td>\n",
       "      <td>3.0</td>\n",
       "    </tr>\n",
       "    <tr>\n",
       "      <th>12470</th>\n",
       "      <td>21.0</td>\n",
       "      <td>3</td>\n",
       "      <td>2</td>\n",
       "      <td>36.0</td>\n",
       "      <td>10.9</td>\n",
       "      <td>85.500000</td>\n",
       "      <td>9.500000</td>\n",
       "      <td>1.0</td>\n",
       "      <td>2.0</td>\n",
       "      <td>6.0</td>\n",
       "      <td>7.0</td>\n",
       "      <td>0.0</td>\n",
       "      <td>0.0</td>\n",
       "      <td>0.0</td>\n",
       "      <td>0.0</td>\n",
       "      <td>3.0</td>\n",
       "    </tr>\n",
       "    <tr>\n",
       "      <th>12472</th>\n",
       "      <td>21.0</td>\n",
       "      <td>3</td>\n",
       "      <td>2</td>\n",
       "      <td>24.0</td>\n",
       "      <td>10.0</td>\n",
       "      <td>83.900002</td>\n",
       "      <td>7.000000</td>\n",
       "      <td>1.0</td>\n",
       "      <td>1.0</td>\n",
       "      <td>4.0</td>\n",
       "      <td>5.0</td>\n",
       "      <td>6.0</td>\n",
       "      <td>7.0</td>\n",
       "      <td>7.0</td>\n",
       "      <td>9.0</td>\n",
       "      <td>3.0</td>\n",
       "    </tr>\n",
       "    <tr>\n",
       "      <th>12479</th>\n",
       "      <td>21.0</td>\n",
       "      <td>3</td>\n",
       "      <td>1</td>\n",
       "      <td>36.0</td>\n",
       "      <td>10.2</td>\n",
       "      <td>89.900002</td>\n",
       "      <td>9.000000</td>\n",
       "      <td>1.0</td>\n",
       "      <td>2.0</td>\n",
       "      <td>6.0</td>\n",
       "      <td>7.0</td>\n",
       "      <td>0.0</td>\n",
       "      <td>0.0</td>\n",
       "      <td>0.0</td>\n",
       "      <td>0.0</td>\n",
       "      <td>3.0</td>\n",
       "    </tr>\n",
       "    <tr>\n",
       "      <th>12482</th>\n",
       "      <td>21.0</td>\n",
       "      <td>3</td>\n",
       "      <td>2</td>\n",
       "      <td>12.0</td>\n",
       "      <td>6.9</td>\n",
       "      <td>67.400002</td>\n",
       "      <td>8.000000</td>\n",
       "      <td>1.0</td>\n",
       "      <td>1.0</td>\n",
       "      <td>6.0</td>\n",
       "      <td>7.0</td>\n",
       "      <td>0.0</td>\n",
       "      <td>7.0</td>\n",
       "      <td>7.0</td>\n",
       "      <td>7.0</td>\n",
       "      <td>3.0</td>\n",
       "    </tr>\n",
       "    <tr>\n",
       "      <th>12487</th>\n",
       "      <td>21.0</td>\n",
       "      <td>3</td>\n",
       "      <td>1</td>\n",
       "      <td>12.0</td>\n",
       "      <td>8.2</td>\n",
       "      <td>73.099998</td>\n",
       "      <td>7.500000</td>\n",
       "      <td>1.0</td>\n",
       "      <td>1.0</td>\n",
       "      <td>6.0</td>\n",
       "      <td>7.0</td>\n",
       "      <td>0.0</td>\n",
       "      <td>12.0</td>\n",
       "      <td>12.0</td>\n",
       "      <td>12.0</td>\n",
       "      <td>3.0</td>\n",
       "    </tr>\n",
       "    <tr>\n",
       "      <th>12524</th>\n",
       "      <td>21.0</td>\n",
       "      <td>3</td>\n",
       "      <td>2</td>\n",
       "      <td>12.0</td>\n",
       "      <td>8.1</td>\n",
       "      <td>65.099998</td>\n",
       "      <td>9.510282</td>\n",
       "      <td>2.0</td>\n",
       "      <td>1.0</td>\n",
       "      <td>4.0</td>\n",
       "      <td>5.0</td>\n",
       "      <td>6.0</td>\n",
       "      <td>9.0</td>\n",
       "      <td>11.0</td>\n",
       "      <td>12.0</td>\n",
       "      <td>3.0</td>\n",
       "    </tr>\n",
       "    <tr>\n",
       "      <th>12581</th>\n",
       "      <td>21.0</td>\n",
       "      <td>1</td>\n",
       "      <td>1</td>\n",
       "      <td>12.0</td>\n",
       "      <td>9.8</td>\n",
       "      <td>81.599998</td>\n",
       "      <td>13.100000</td>\n",
       "      <td>1.0</td>\n",
       "      <td>1.0</td>\n",
       "      <td>6.0</td>\n",
       "      <td>7.0</td>\n",
       "      <td>0.0</td>\n",
       "      <td>8.0</td>\n",
       "      <td>12.0</td>\n",
       "      <td>12.0</td>\n",
       "      <td>3.0</td>\n",
       "    </tr>\n",
       "    <tr>\n",
       "      <th>12588</th>\n",
       "      <td>21.0</td>\n",
       "      <td>3</td>\n",
       "      <td>2</td>\n",
       "      <td>24.0</td>\n",
       "      <td>8.9</td>\n",
       "      <td>89.300003</td>\n",
       "      <td>9.600000</td>\n",
       "      <td>1.0</td>\n",
       "      <td>1.0</td>\n",
       "      <td>6.0</td>\n",
       "      <td>7.0</td>\n",
       "      <td>0.0</td>\n",
       "      <td>7.0</td>\n",
       "      <td>7.0</td>\n",
       "      <td>7.0</td>\n",
       "      <td>3.0</td>\n",
       "    </tr>\n",
       "    <tr>\n",
       "      <th>12592</th>\n",
       "      <td>21.0</td>\n",
       "      <td>3</td>\n",
       "      <td>2</td>\n",
       "      <td>24.0</td>\n",
       "      <td>8.9</td>\n",
       "      <td>83.599998</td>\n",
       "      <td>9.781700</td>\n",
       "      <td>1.0</td>\n",
       "      <td>1.0</td>\n",
       "      <td>4.0</td>\n",
       "      <td>5.0</td>\n",
       "      <td>6.0</td>\n",
       "      <td>7.0</td>\n",
       "      <td>8.0</td>\n",
       "      <td>9.0</td>\n",
       "      <td>3.0</td>\n",
       "    </tr>\n",
       "    <tr>\n",
       "      <th>12596</th>\n",
       "      <td>21.0</td>\n",
       "      <td>1</td>\n",
       "      <td>2</td>\n",
       "      <td>24.0</td>\n",
       "      <td>8.7</td>\n",
       "      <td>86.699997</td>\n",
       "      <td>10.500000</td>\n",
       "      <td>1.0</td>\n",
       "      <td>1.0</td>\n",
       "      <td>6.0</td>\n",
       "      <td>7.0</td>\n",
       "      <td>0.0</td>\n",
       "      <td>8.0</td>\n",
       "      <td>12.0</td>\n",
       "      <td>12.0</td>\n",
       "      <td>3.0</td>\n",
       "    </tr>\n",
       "    <tr>\n",
       "      <th>12602</th>\n",
       "      <td>21.0</td>\n",
       "      <td>1</td>\n",
       "      <td>1</td>\n",
       "      <td>12.0</td>\n",
       "      <td>5.3</td>\n",
       "      <td>83.099998</td>\n",
       "      <td>12.000000</td>\n",
       "      <td>1.0</td>\n",
       "      <td>1.0</td>\n",
       "      <td>6.0</td>\n",
       "      <td>7.0</td>\n",
       "      <td>0.0</td>\n",
       "      <td>8.0</td>\n",
       "      <td>9.0</td>\n",
       "      <td>9.0</td>\n",
       "      <td>3.0</td>\n",
       "    </tr>\n",
       "    <tr>\n",
       "      <th>12607</th>\n",
       "      <td>21.0</td>\n",
       "      <td>3</td>\n",
       "      <td>1</td>\n",
       "      <td>12.0</td>\n",
       "      <td>8.7</td>\n",
       "      <td>75.300003</td>\n",
       "      <td>10.000000</td>\n",
       "      <td>1.0</td>\n",
       "      <td>1.0</td>\n",
       "      <td>6.0</td>\n",
       "      <td>7.0</td>\n",
       "      <td>10.0</td>\n",
       "      <td>10.0</td>\n",
       "      <td>10.0</td>\n",
       "      <td>10.0</td>\n",
       "      <td>3.0</td>\n",
       "    </tr>\n",
       "    <tr>\n",
       "      <th>12611</th>\n",
       "      <td>21.0</td>\n",
       "      <td>3</td>\n",
       "      <td>2</td>\n",
       "      <td>48.0</td>\n",
       "      <td>9.9</td>\n",
       "      <td>83.500000</td>\n",
       "      <td>6.500000</td>\n",
       "      <td>1.0</td>\n",
       "      <td>2.0</td>\n",
       "      <td>6.0</td>\n",
       "      <td>7.0</td>\n",
       "      <td>0.0</td>\n",
       "      <td>0.0</td>\n",
       "      <td>0.0</td>\n",
       "      <td>0.0</td>\n",
       "      <td>3.0</td>\n",
       "    </tr>\n",
       "    <tr>\n",
       "      <th>12612</th>\n",
       "      <td>21.0</td>\n",
       "      <td>3</td>\n",
       "      <td>1</td>\n",
       "      <td>12.0</td>\n",
       "      <td>7.2</td>\n",
       "      <td>73.099998</td>\n",
       "      <td>8.000000</td>\n",
       "      <td>1.0</td>\n",
       "      <td>1.0</td>\n",
       "      <td>1.0</td>\n",
       "      <td>2.0</td>\n",
       "      <td>0.0</td>\n",
       "      <td>0.0</td>\n",
       "      <td>7.0</td>\n",
       "      <td>7.0</td>\n",
       "      <td>3.0</td>\n",
       "    </tr>\n",
       "    <tr>\n",
       "      <th>12618</th>\n",
       "      <td>21.0</td>\n",
       "      <td>3</td>\n",
       "      <td>1</td>\n",
       "      <td>9.0</td>\n",
       "      <td>6.6</td>\n",
       "      <td>66.300003</td>\n",
       "      <td>6.500000</td>\n",
       "      <td>1.0</td>\n",
       "      <td>1.0</td>\n",
       "      <td>6.0</td>\n",
       "      <td>7.0</td>\n",
       "      <td>0.0</td>\n",
       "      <td>9.0</td>\n",
       "      <td>9.0</td>\n",
       "      <td>9.0</td>\n",
       "      <td>3.0</td>\n",
       "    </tr>\n",
       "    <tr>\n",
       "      <th>12623</th>\n",
       "      <td>21.0</td>\n",
       "      <td>3</td>\n",
       "      <td>1</td>\n",
       "      <td>36.0</td>\n",
       "      <td>11.5</td>\n",
       "      <td>89.500000</td>\n",
       "      <td>10.000000</td>\n",
       "      <td>1.0</td>\n",
       "      <td>2.0</td>\n",
       "      <td>6.0</td>\n",
       "      <td>7.0</td>\n",
       "      <td>0.0</td>\n",
       "      <td>0.0</td>\n",
       "      <td>0.0</td>\n",
       "      <td>0.0</td>\n",
       "      <td>3.0</td>\n",
       "    </tr>\n",
       "    <tr>\n",
       "      <th>12624</th>\n",
       "      <td>21.0</td>\n",
       "      <td>3</td>\n",
       "      <td>1</td>\n",
       "      <td>2.0</td>\n",
       "      <td>5.6</td>\n",
       "      <td>60.599998</td>\n",
       "      <td>12.050000</td>\n",
       "      <td>1.0</td>\n",
       "      <td>1.0</td>\n",
       "      <td>2.0</td>\n",
       "      <td>0.0</td>\n",
       "      <td>0.0</td>\n",
       "      <td>0.0</td>\n",
       "      <td>0.0</td>\n",
       "      <td>0.0</td>\n",
       "      <td>3.0</td>\n",
       "    </tr>\n",
       "    <tr>\n",
       "      <th>12630</th>\n",
       "      <td>21.0</td>\n",
       "      <td>3</td>\n",
       "      <td>1</td>\n",
       "      <td>12.0</td>\n",
       "      <td>8.7</td>\n",
       "      <td>72.000000</td>\n",
       "      <td>10.600000</td>\n",
       "      <td>1.0</td>\n",
       "      <td>1.0</td>\n",
       "      <td>6.0</td>\n",
       "      <td>7.0</td>\n",
       "      <td>0.0</td>\n",
       "      <td>7.0</td>\n",
       "      <td>7.0</td>\n",
       "      <td>7.0</td>\n",
       "      <td>3.0</td>\n",
       "    </tr>\n",
       "    <tr>\n",
       "      <th>12632</th>\n",
       "      <td>21.0</td>\n",
       "      <td>3</td>\n",
       "      <td>1</td>\n",
       "      <td>24.0</td>\n",
       "      <td>10.0</td>\n",
       "      <td>86.400002</td>\n",
       "      <td>9.000000</td>\n",
       "      <td>1.0</td>\n",
       "      <td>1.0</td>\n",
       "      <td>6.0</td>\n",
       "      <td>7.0</td>\n",
       "      <td>0.0</td>\n",
       "      <td>7.0</td>\n",
       "      <td>7.0</td>\n",
       "      <td>7.0</td>\n",
       "      <td>3.0</td>\n",
       "    </tr>\n",
       "    <tr>\n",
       "      <th>12638</th>\n",
       "      <td>21.0</td>\n",
       "      <td>3</td>\n",
       "      <td>2</td>\n",
       "      <td>36.0</td>\n",
       "      <td>11.5</td>\n",
       "      <td>84.800003</td>\n",
       "      <td>11.500000</td>\n",
       "      <td>1.0</td>\n",
       "      <td>2.0</td>\n",
       "      <td>6.0</td>\n",
       "      <td>7.0</td>\n",
       "      <td>0.0</td>\n",
       "      <td>0.0</td>\n",
       "      <td>0.0</td>\n",
       "      <td>0.0</td>\n",
       "      <td>3.0</td>\n",
       "    </tr>\n",
       "    <tr>\n",
       "      <th>12639</th>\n",
       "      <td>21.0</td>\n",
       "      <td>3</td>\n",
       "      <td>1</td>\n",
       "      <td>24.0</td>\n",
       "      <td>12.5</td>\n",
       "      <td>89.699997</td>\n",
       "      <td>11.500000</td>\n",
       "      <td>1.0</td>\n",
       "      <td>1.0</td>\n",
       "      <td>6.0</td>\n",
       "      <td>7.0</td>\n",
       "      <td>0.0</td>\n",
       "      <td>4.0</td>\n",
       "      <td>13.0</td>\n",
       "      <td>13.0</td>\n",
       "      <td>3.0</td>\n",
       "    </tr>\n",
       "    <tr>\n",
       "      <th>12654</th>\n",
       "      <td>21.0</td>\n",
       "      <td>1</td>\n",
       "      <td>2</td>\n",
       "      <td>12.0</td>\n",
       "      <td>6.9</td>\n",
       "      <td>70.099998</td>\n",
       "      <td>10.500000</td>\n",
       "      <td>1.0</td>\n",
       "      <td>1.0</td>\n",
       "      <td>6.0</td>\n",
       "      <td>8.0</td>\n",
       "      <td>0.0</td>\n",
       "      <td>9.0</td>\n",
       "      <td>10.0</td>\n",
       "      <td>12.0</td>\n",
       "      <td>3.0</td>\n",
       "    </tr>\n",
       "    <tr>\n",
       "      <th>12656</th>\n",
       "      <td>21.0</td>\n",
       "      <td>3</td>\n",
       "      <td>1</td>\n",
       "      <td>36.0</td>\n",
       "      <td>11.4</td>\n",
       "      <td>92.900002</td>\n",
       "      <td>9.500000</td>\n",
       "      <td>1.0</td>\n",
       "      <td>2.0</td>\n",
       "      <td>6.0</td>\n",
       "      <td>7.0</td>\n",
       "      <td>0.0</td>\n",
       "      <td>0.0</td>\n",
       "      <td>0.0</td>\n",
       "      <td>0.0</td>\n",
       "      <td>3.0</td>\n",
       "    </tr>\n",
       "    <tr>\n",
       "      <th>12657</th>\n",
       "      <td>21.0</td>\n",
       "      <td>3</td>\n",
       "      <td>1</td>\n",
       "      <td>6.0</td>\n",
       "      <td>8.4</td>\n",
       "      <td>64.500000</td>\n",
       "      <td>10.000000</td>\n",
       "      <td>1.0</td>\n",
       "      <td>1.0</td>\n",
       "      <td>5.0</td>\n",
       "      <td>6.0</td>\n",
       "      <td>6.0</td>\n",
       "      <td>6.0</td>\n",
       "      <td>0.0</td>\n",
       "      <td>0.0</td>\n",
       "      <td>3.0</td>\n",
       "    </tr>\n",
       "    <tr>\n",
       "      <th>12672</th>\n",
       "      <td>21.0</td>\n",
       "      <td>3</td>\n",
       "      <td>1</td>\n",
       "      <td>36.0</td>\n",
       "      <td>12.1</td>\n",
       "      <td>87.699997</td>\n",
       "      <td>8.500000</td>\n",
       "      <td>1.0</td>\n",
       "      <td>2.0</td>\n",
       "      <td>6.0</td>\n",
       "      <td>7.0</td>\n",
       "      <td>0.0</td>\n",
       "      <td>0.0</td>\n",
       "      <td>0.0</td>\n",
       "      <td>0.0</td>\n",
       "      <td>3.0</td>\n",
       "    </tr>\n",
       "    <tr>\n",
       "      <th>12758</th>\n",
       "      <td>21.0</td>\n",
       "      <td>3</td>\n",
       "      <td>1</td>\n",
       "      <td>12.0</td>\n",
       "      <td>7.6</td>\n",
       "      <td>76.500000</td>\n",
       "      <td>8.000000</td>\n",
       "      <td>2.0</td>\n",
       "      <td>1.0</td>\n",
       "      <td>6.0</td>\n",
       "      <td>7.0</td>\n",
       "      <td>8.0</td>\n",
       "      <td>10.0</td>\n",
       "      <td>11.0</td>\n",
       "      <td>11.0</td>\n",
       "      <td>3.0</td>\n",
       "    </tr>\n",
       "    <tr>\n",
       "      <th>12775</th>\n",
       "      <td>21.0</td>\n",
       "      <td>3</td>\n",
       "      <td>2</td>\n",
       "      <td>24.0</td>\n",
       "      <td>12.5</td>\n",
       "      <td>87.699997</td>\n",
       "      <td>11.000000</td>\n",
       "      <td>1.0</td>\n",
       "      <td>1.0</td>\n",
       "      <td>4.0</td>\n",
       "      <td>5.0</td>\n",
       "      <td>5.0</td>\n",
       "      <td>6.0</td>\n",
       "      <td>14.0</td>\n",
       "      <td>14.0</td>\n",
       "      <td>3.0</td>\n",
       "    </tr>\n",
       "    <tr>\n",
       "      <th>12904</th>\n",
       "      <td>21.0</td>\n",
       "      <td>3</td>\n",
       "      <td>2</td>\n",
       "      <td>36.0</td>\n",
       "      <td>13.1</td>\n",
       "      <td>95.099998</td>\n",
       "      <td>7.000000</td>\n",
       "      <td>1.0</td>\n",
       "      <td>2.0</td>\n",
       "      <td>6.0</td>\n",
       "      <td>7.0</td>\n",
       "      <td>0.0</td>\n",
       "      <td>0.0</td>\n",
       "      <td>0.0</td>\n",
       "      <td>0.0</td>\n",
       "      <td>3.0</td>\n",
       "    </tr>\n",
       "    <tr>\n",
       "      <th>12906</th>\n",
       "      <td>21.0</td>\n",
       "      <td>3</td>\n",
       "      <td>1</td>\n",
       "      <td>12.0</td>\n",
       "      <td>9.7</td>\n",
       "      <td>79.199997</td>\n",
       "      <td>9.500000</td>\n",
       "      <td>1.0</td>\n",
       "      <td>1.0</td>\n",
       "      <td>6.0</td>\n",
       "      <td>7.0</td>\n",
       "      <td>12.0</td>\n",
       "      <td>12.0</td>\n",
       "      <td>12.0</td>\n",
       "      <td>12.0</td>\n",
       "      <td>3.0</td>\n",
       "    </tr>\n",
       "  </tbody>\n",
       "</table>\n",
       "<p>1996 rows × 16 columns</p>\n",
       "</div>"
      ],
      "text/plain": [
       "       state_code  record_code_iodine  sex   age  weight_in_kg  \\\n",
       "4            21.0                   3    2  48.0          11.8   \n",
       "10           21.0                   3    2   3.0           4.7   \n",
       "20           21.0                   3    2  36.0           9.0   \n",
       "21           21.0                   3    1  24.0           9.0   \n",
       "27           21.0                   3    1  24.0           8.6   \n",
       "28           21.0                   3    1  24.0           9.8   \n",
       "29           21.0                   2    1  36.0          10.9   \n",
       "36           21.0                   3    1   9.0           7.2   \n",
       "48           21.0                   3    1   7.0           6.7   \n",
       "52           21.0                   3    2  48.0          11.5   \n",
       "63           21.0                   3    1  48.0          12.0   \n",
       "88           21.0                   3    2   6.0           5.9   \n",
       "92           21.0                   3    2  48.0          11.4   \n",
       "94           21.0                   3    2  12.0           6.8   \n",
       "98           21.0                   3    2  36.0           9.7   \n",
       "99           21.0                   3    1  36.0          11.9   \n",
       "100          21.0                   3    2  11.0           6.4   \n",
       "106          21.0                   3    2  48.0          12.8   \n",
       "109          21.0                   3    1  48.0          11.8   \n",
       "111          21.0                   1    2  24.0           9.1   \n",
       "116          21.0                   3    1  36.0           9.2   \n",
       "123          21.0                   3    1  36.0          12.7   \n",
       "141          21.0                   3    2  10.0           9.8   \n",
       "144          21.0                   3    2   7.0           5.3   \n",
       "146          21.0                   2    1  12.0          10.0   \n",
       "148          21.0                   3    1  24.0          10.3   \n",
       "153          21.0                   3    1   7.0           6.0   \n",
       "154          21.0                   3    2  24.0          10.4   \n",
       "229          21.0                   3    2  24.0           7.9   \n",
       "241          21.0                   3    2  12.0           8.8   \n",
       "...           ...                 ...  ...   ...           ...   \n",
       "12469        21.0                   3    1  10.0           6.1   \n",
       "12470        21.0                   3    2  36.0          10.9   \n",
       "12472        21.0                   3    2  24.0          10.0   \n",
       "12479        21.0                   3    1  36.0          10.2   \n",
       "12482        21.0                   3    2  12.0           6.9   \n",
       "12487        21.0                   3    1  12.0           8.2   \n",
       "12524        21.0                   3    2  12.0           8.1   \n",
       "12581        21.0                   1    1  12.0           9.8   \n",
       "12588        21.0                   3    2  24.0           8.9   \n",
       "12592        21.0                   3    2  24.0           8.9   \n",
       "12596        21.0                   1    2  24.0           8.7   \n",
       "12602        21.0                   1    1  12.0           5.3   \n",
       "12607        21.0                   3    1  12.0           8.7   \n",
       "12611        21.0                   3    2  48.0           9.9   \n",
       "12612        21.0                   3    1  12.0           7.2   \n",
       "12618        21.0                   3    1   9.0           6.6   \n",
       "12623        21.0                   3    1  36.0          11.5   \n",
       "12624        21.0                   3    1   2.0           5.6   \n",
       "12630        21.0                   3    1  12.0           8.7   \n",
       "12632        21.0                   3    1  24.0          10.0   \n",
       "12638        21.0                   3    2  36.0          11.5   \n",
       "12639        21.0                   3    1  24.0          12.5   \n",
       "12654        21.0                   1    2  12.0           6.9   \n",
       "12656        21.0                   3    1  36.0          11.4   \n",
       "12657        21.0                   3    1   6.0           8.4   \n",
       "12672        21.0                   3    1  36.0          12.1   \n",
       "12758        21.0                   3    1  12.0           7.6   \n",
       "12775        21.0                   3    2  24.0          12.5   \n",
       "12904        21.0                   3    2  36.0          13.1   \n",
       "12906        21.0                   3    1  12.0           9.7   \n",
       "\n",
       "       length_height_cm  haemoglobin_level  first_breast_feeding  \\\n",
       "4             91.900002          12.000000                   1.0   \n",
       "10            61.900002          10.150000                   1.0   \n",
       "20            85.300003           5.000000                   1.0   \n",
       "21            87.900002           8.000000                   1.0   \n",
       "27            84.412921           6.000000                   2.0   \n",
       "28            83.000000           8.500000                   1.0   \n",
       "29            96.199997           9.500000                   1.0   \n",
       "36            67.199997           7.500000                   1.0   \n",
       "48            66.699997           7.500000                   1.0   \n",
       "52            89.500000          10.061931                   1.0   \n",
       "63            94.500000          12.000000                   1.0   \n",
       "88            65.500000          13.600000                   2.0   \n",
       "92            99.500000          10.061931                   1.0   \n",
       "94            68.699997           8.000000                   1.0   \n",
       "98            83.000000          13.100000                   1.0   \n",
       "99            89.500000           9.500000                   1.0   \n",
       "100           68.000000          10.500000                   2.0   \n",
       "106           96.699997           9.500000                   1.0   \n",
       "109           94.699997           7.500000                   1.0   \n",
       "111           79.000000          11.000000                   1.0   \n",
       "116           85.300003           7.500000                   1.0   \n",
       "123           89.900002          12.000000                   1.0   \n",
       "141           74.699997           8.500000                   2.0   \n",
       "144           65.699997           6.500000                   1.0   \n",
       "146           80.000000          11.000000                   1.0   \n",
       "148           77.199997           8.500000                   5.0   \n",
       "153           62.900002           9.237059                   1.0   \n",
       "154           79.199997           7.000000                   1.0   \n",
       "229           72.099998          10.500000                   1.0   \n",
       "241           76.400002           8.000000                   1.0   \n",
       "...                 ...                ...                   ...   \n",
       "12469         66.800003           9.500000                   1.0   \n",
       "12470         85.500000           9.500000                   1.0   \n",
       "12472         83.900002           7.000000                   1.0   \n",
       "12479         89.900002           9.000000                   1.0   \n",
       "12482         67.400002           8.000000                   1.0   \n",
       "12487         73.099998           7.500000                   1.0   \n",
       "12524         65.099998           9.510282                   2.0   \n",
       "12581         81.599998          13.100000                   1.0   \n",
       "12588         89.300003           9.600000                   1.0   \n",
       "12592         83.599998           9.781700                   1.0   \n",
       "12596         86.699997          10.500000                   1.0   \n",
       "12602         83.099998          12.000000                   1.0   \n",
       "12607         75.300003          10.000000                   1.0   \n",
       "12611         83.500000           6.500000                   1.0   \n",
       "12612         73.099998           8.000000                   1.0   \n",
       "12618         66.300003           6.500000                   1.0   \n",
       "12623         89.500000          10.000000                   1.0   \n",
       "12624         60.599998          12.050000                   1.0   \n",
       "12630         72.000000          10.600000                   1.0   \n",
       "12632         86.400002           9.000000                   1.0   \n",
       "12638         84.800003          11.500000                   1.0   \n",
       "12639         89.699997          11.500000                   1.0   \n",
       "12654         70.099998          10.500000                   1.0   \n",
       "12656         92.900002           9.500000                   1.0   \n",
       "12657         64.500000          10.000000                   1.0   \n",
       "12672         87.699997           8.500000                   1.0   \n",
       "12758         76.500000           8.000000                   2.0   \n",
       "12775         87.699997          11.000000                   1.0   \n",
       "12904         95.099998           7.000000                   1.0   \n",
       "12906         79.199997           9.500000                   1.0   \n",
       "\n",
       "       is_cur_breast_feeding  day_or_month_for_breast_feeding  water_month  \\\n",
       "4                        2.0                              6.0          7.0   \n",
       "10                       1.0                              3.0          0.0   \n",
       "20                       2.0                              6.0          7.0   \n",
       "21                       1.0                              3.0          4.0   \n",
       "27                       2.0                              0.0          6.0   \n",
       "28                       1.0                              1.0          2.0   \n",
       "29                       2.0                              6.0          7.0   \n",
       "36                       1.0                              1.0          2.0   \n",
       "48                       1.0                              1.0          2.0   \n",
       "52                       2.0                              6.0          7.0   \n",
       "63                       2.0                              6.0          7.0   \n",
       "88                       1.0                              3.0          4.0   \n",
       "92                       2.0                              6.0          7.0   \n",
       "94                       1.0                              4.0          5.0   \n",
       "98                       2.0                              6.0          7.0   \n",
       "99                       2.0                              6.0          7.0   \n",
       "100                      1.0                              6.0          7.0   \n",
       "106                      2.0                              6.0          7.0   \n",
       "109                      2.0                              6.0          7.0   \n",
       "111                      1.0                              4.0          5.0   \n",
       "116                      2.0                              6.0          7.0   \n",
       "123                      1.0                              5.0          6.0   \n",
       "141                      2.0                              6.0          6.0   \n",
       "144                      1.0                              5.0          6.0   \n",
       "146                      1.0                              3.0          4.0   \n",
       "148                      2.0                              0.0          1.0   \n",
       "153                      1.0                              5.0          6.0   \n",
       "154                      2.0                              4.0          5.0   \n",
       "229                      1.0                              6.0          7.0   \n",
       "241                      1.0                              1.0          2.0   \n",
       "...                      ...                              ...          ...   \n",
       "12469                    1.0                              6.0          7.0   \n",
       "12470                    2.0                              6.0          7.0   \n",
       "12472                    1.0                              4.0          5.0   \n",
       "12479                    2.0                              6.0          7.0   \n",
       "12482                    1.0                              6.0          7.0   \n",
       "12487                    1.0                              6.0          7.0   \n",
       "12524                    1.0                              4.0          5.0   \n",
       "12581                    1.0                              6.0          7.0   \n",
       "12588                    1.0                              6.0          7.0   \n",
       "12592                    1.0                              4.0          5.0   \n",
       "12596                    1.0                              6.0          7.0   \n",
       "12602                    1.0                              6.0          7.0   \n",
       "12607                    1.0                              6.0          7.0   \n",
       "12611                    2.0                              6.0          7.0   \n",
       "12612                    1.0                              1.0          2.0   \n",
       "12618                    1.0                              6.0          7.0   \n",
       "12623                    2.0                              6.0          7.0   \n",
       "12624                    1.0                              2.0          0.0   \n",
       "12630                    1.0                              6.0          7.0   \n",
       "12632                    1.0                              6.0          7.0   \n",
       "12638                    2.0                              6.0          7.0   \n",
       "12639                    1.0                              6.0          7.0   \n",
       "12654                    1.0                              6.0          8.0   \n",
       "12656                    2.0                              6.0          7.0   \n",
       "12657                    1.0                              5.0          6.0   \n",
       "12672                    2.0                              6.0          7.0   \n",
       "12758                    1.0                              6.0          7.0   \n",
       "12775                    1.0                              4.0          5.0   \n",
       "12904                    2.0                              6.0          7.0   \n",
       "12906                    1.0                              6.0          7.0   \n",
       "\n",
       "       ani_milk_month  semisolid_month_or_day  solid_month  \\\n",
       "4                 0.0                     7.0          7.0   \n",
       "10                0.0                     0.0          0.0   \n",
       "20                0.0                     7.0          7.0   \n",
       "21                7.0                     7.0         12.0   \n",
       "27                7.0                     7.0          8.0   \n",
       "28                0.0                     5.0          6.0   \n",
       "29                0.0                     7.0          7.0   \n",
       "36                3.0                     3.0          5.0   \n",
       "48                6.0                     6.0          7.0   \n",
       "52                0.0                     7.0          7.0   \n",
       "63                0.0                     7.0          7.0   \n",
       "88                0.0                     4.0          0.0   \n",
       "92                0.0                     7.0          7.0   \n",
       "94                0.0                     5.0          6.0   \n",
       "98                0.0                     7.0          7.0   \n",
       "99                0.0                     7.0          7.0   \n",
       "100               7.0                     7.0          8.0   \n",
       "106               0.0                     7.0          7.0   \n",
       "109               0.0                     7.0          7.0   \n",
       "111               0.0                     7.0          7.0   \n",
       "116               0.0                     7.0          7.0   \n",
       "123               0.0                     8.0         12.0   \n",
       "141               6.0                     8.0         10.0   \n",
       "144               7.0                     7.0          7.0   \n",
       "146               0.0                     5.0          5.0   \n",
       "148               1.0                     1.0          7.0   \n",
       "153               6.0                     7.0          7.0   \n",
       "154               6.0                     7.0         10.0   \n",
       "229               0.0                     7.0          8.0   \n",
       "241               0.0                     2.0          7.0   \n",
       "...               ...                     ...          ...   \n",
       "12469             0.0                     7.0          7.0   \n",
       "12470             0.0                     0.0          0.0   \n",
       "12472             6.0                     7.0          7.0   \n",
       "12479             0.0                     0.0          0.0   \n",
       "12482             0.0                     7.0          7.0   \n",
       "12487             0.0                    12.0         12.0   \n",
       "12524             6.0                     9.0         11.0   \n",
       "12581             0.0                     8.0         12.0   \n",
       "12588             0.0                     7.0          7.0   \n",
       "12592             6.0                     7.0          8.0   \n",
       "12596             0.0                     8.0         12.0   \n",
       "12602             0.0                     8.0          9.0   \n",
       "12607            10.0                    10.0         10.0   \n",
       "12611             0.0                     0.0          0.0   \n",
       "12612             0.0                     0.0          7.0   \n",
       "12618             0.0                     9.0          9.0   \n",
       "12623             0.0                     0.0          0.0   \n",
       "12624             0.0                     0.0          0.0   \n",
       "12630             0.0                     7.0          7.0   \n",
       "12632             0.0                     7.0          7.0   \n",
       "12638             0.0                     0.0          0.0   \n",
       "12639             0.0                     4.0         13.0   \n",
       "12654             0.0                     9.0         10.0   \n",
       "12656             0.0                     0.0          0.0   \n",
       "12657             6.0                     6.0          0.0   \n",
       "12672             0.0                     0.0          0.0   \n",
       "12758             8.0                    10.0         11.0   \n",
       "12775             5.0                     6.0         14.0   \n",
       "12904             0.0                     0.0          0.0   \n",
       "12906            12.0                    12.0         12.0   \n",
       "\n",
       "       vegetables_month_or_day  illness_type  \n",
       "4                          7.0           3.0  \n",
       "10                         0.0           3.0  \n",
       "20                         7.0           3.0  \n",
       "21                        12.0           3.0  \n",
       "27                        12.0           3.0  \n",
       "28                         6.0           3.0  \n",
       "29                         7.0           3.0  \n",
       "36                         5.0           3.0  \n",
       "48                         7.0           3.0  \n",
       "52                         7.0           3.0  \n",
       "63                         7.0           3.0  \n",
       "88                         0.0           3.0  \n",
       "92                         7.0           3.0  \n",
       "94                         6.0           3.0  \n",
       "98                         7.0           3.0  \n",
       "99                         7.0           3.0  \n",
       "100                        8.0           3.0  \n",
       "106                        7.0           3.0  \n",
       "109                        7.0           3.0  \n",
       "111                        7.0           3.0  \n",
       "116                        7.0           3.0  \n",
       "123                       12.0           3.0  \n",
       "141                       10.0           3.0  \n",
       "144                        7.0           3.0  \n",
       "146                        5.0           3.0  \n",
       "148                        7.0           3.0  \n",
       "153                        7.0           3.0  \n",
       "154                       12.0           3.0  \n",
       "229                        8.0           3.0  \n",
       "241                        7.0           3.0  \n",
       "...                        ...           ...  \n",
       "12469                      7.0           3.0  \n",
       "12470                      0.0           3.0  \n",
       "12472                      9.0           3.0  \n",
       "12479                      0.0           3.0  \n",
       "12482                      7.0           3.0  \n",
       "12487                     12.0           3.0  \n",
       "12524                     12.0           3.0  \n",
       "12581                     12.0           3.0  \n",
       "12588                      7.0           3.0  \n",
       "12592                      9.0           3.0  \n",
       "12596                     12.0           3.0  \n",
       "12602                      9.0           3.0  \n",
       "12607                     10.0           3.0  \n",
       "12611                      0.0           3.0  \n",
       "12612                      7.0           3.0  \n",
       "12618                      9.0           3.0  \n",
       "12623                      0.0           3.0  \n",
       "12624                      0.0           3.0  \n",
       "12630                      7.0           3.0  \n",
       "12632                      7.0           3.0  \n",
       "12638                      0.0           3.0  \n",
       "12639                     13.0           3.0  \n",
       "12654                     12.0           3.0  \n",
       "12656                      0.0           3.0  \n",
       "12657                      0.0           3.0  \n",
       "12672                      0.0           3.0  \n",
       "12758                     11.0           3.0  \n",
       "12775                     14.0           3.0  \n",
       "12904                      0.0           3.0  \n",
       "12906                     12.0           3.0  \n",
       "\n",
       "[1996 rows x 16 columns]"
      ]
     },
     "execution_count": 17,
     "metadata": {},
     "output_type": "execute_result"
    }
   ],
   "source": [
    "result[(result['illness_type'] == 3) & (result['state_code'] == 21)]"
   ]
  },
  {
   "cell_type": "code",
   "execution_count": null,
   "metadata": {},
   "outputs": [],
   "source": []
  },
  {
   "cell_type": "code",
   "execution_count": null,
   "metadata": {},
   "outputs": [],
   "source": [
    "result.describe()"
   ]
  },
  {
   "cell_type": "code",
   "execution_count": 15,
   "metadata": {},
   "outputs": [
    {
     "name": "stdout",
     "output_type": "stream",
     "text": [
      "state_code\n",
      "Series([], Name: state_code, dtype: int64)\n",
      "record_code_iodine\n",
      "Series([], Name: record_code_iodine, dtype: int64)\n",
      "sex\n",
      "Series([], Name: sex, dtype: int64)\n",
      "age\n",
      "Series([], Name: age, dtype: int64)\n",
      "weight_in_kg\n",
      "Series([], Name: weight_in_kg, dtype: int64)\n",
      "length_height_cm\n",
      "Series([], Name: length_height_cm, dtype: int64)\n",
      "haemoglobin_level\n",
      "Series([], Name: haemoglobin_level, dtype: int64)\n",
      "first_breast_feeding\n",
      "Series([], Name: first_breast_feeding, dtype: int64)\n",
      "is_cur_breast_feeding\n",
      "Series([], Name: is_cur_breast_feeding, dtype: int64)\n",
      "day_or_month_for_breast_feeding\n",
      "Series([], Name: day_or_month_for_breast_feeding, dtype: int64)\n",
      "water_month\n",
      "Series([], Name: water_month, dtype: int64)\n",
      "ani_milk_month\n",
      "Series([], Name: ani_milk_month, dtype: int64)\n",
      "semisolid_month_or_day\n",
      "Series([], Name: semisolid_month_or_day, dtype: int64)\n",
      "solid_month\n",
      "Series([], Name: solid_month, dtype: int64)\n",
      "vegetables_month_or_day\n",
      "Series([], Name: vegetables_month_or_day, dtype: int64)\n",
      "illness_type\n",
      "Series([], Name: illness_type, dtype: int64)\n"
     ]
    }
   ],
   "source": [
    "for i in result.columns:\n",
    "    print(i)\n",
    "    print(result[i][result[i] == -1].value_counts())"
   ]
  },
  {
   "cell_type": "code",
   "execution_count": 16,
   "metadata": {},
   "outputs": [
    {
     "name": "stdout",
     "output_type": "stream",
     "text": [
      "state_code\n",
      "Series([], Name: state_code, dtype: int64)\n",
      "-------------------------\n",
      "record_code_iodine\n",
      "Series([], Name: state_code, dtype: int64)\n",
      "-------------------------\n",
      "sex\n",
      "Series([], Name: state_code, dtype: int64)\n",
      "-------------------------\n",
      "age\n",
      "Series([], Name: state_code, dtype: int64)\n",
      "-------------------------\n",
      "weight_in_kg\n",
      "Series([], Name: state_code, dtype: int64)\n",
      "-------------------------\n",
      "length_height_cm\n",
      "Series([], Name: state_code, dtype: int64)\n",
      "-------------------------\n",
      "haemoglobin_level\n",
      "Series([], Name: state_code, dtype: int64)\n",
      "-------------------------\n",
      "first_breast_feeding\n",
      "Series([], Name: state_code, dtype: int64)\n",
      "-------------------------\n",
      "is_cur_breast_feeding\n",
      "Series([], Name: state_code, dtype: int64)\n",
      "-------------------------\n",
      "day_or_month_for_breast_feeding\n",
      "Series([], Name: state_code, dtype: int64)\n",
      "-------------------------\n",
      "water_month\n",
      "Series([], Name: state_code, dtype: int64)\n",
      "-------------------------\n",
      "ani_milk_month\n",
      "Series([], Name: state_code, dtype: int64)\n",
      "-------------------------\n",
      "semisolid_month_or_day\n",
      "Series([], Name: state_code, dtype: int64)\n",
      "-------------------------\n",
      "solid_month\n",
      "Series([], Name: state_code, dtype: int64)\n",
      "-------------------------\n",
      "vegetables_month_or_day\n",
      "Series([], Name: state_code, dtype: int64)\n",
      "-------------------------\n",
      "illness_type\n",
      "Series([], Name: state_code, dtype: int64)\n",
      "-------------------------\n"
     ]
    }
   ],
   "source": [
    "for i in result.columns.values:\n",
    "    print(i)\n",
    "    print(result['state_code'][result[i].isnull()].value_counts())\n",
    "    print(\"-------------------------\")"
   ]
  },
  {
   "cell_type": "code",
   "execution_count": 17,
   "metadata": {},
   "outputs": [
    {
     "data": {
      "text/plain": [
       "(120969, 16)"
      ]
     },
     "execution_count": 17,
     "metadata": {},
     "output_type": "execute_result"
    }
   ],
   "source": [
    "result.shape"
   ]
  },
  {
   "cell_type": "markdown",
   "metadata": {},
   "source": [
    "## Model Training"
   ]
  },
  {
   "cell_type": "code",
   "execution_count": 18,
   "metadata": {},
   "outputs": [],
   "source": [
    "from sklearn.model_selection import train_test_split\n",
    "\n",
    "from sklearn.linear_model import LogisticRegression\n",
    "from sklearn.svm import SVC\n",
    "from sklearn.svm import LinearSVC\n",
    "from sklearn.tree import DecisionTreeClassifier\n",
    "from sklearn.neighbors import KNeighborsClassifier\n",
    "from sklearn.ensemble import RandomForestClassifier\n",
    "from sklearn.metrics import accuracy_score\n",
    "from sklearn.model_selection import cross_val_score\n",
    "from sklearn.model_selection import StratifiedKFold\n",
    "from sklearn.model_selection import KFold\n",
    "\n",
    "from sklearn.metrics import confusion_matrix"
   ]
  },
  {
   "cell_type": "code",
   "execution_count": 19,
   "metadata": {},
   "outputs": [],
   "source": [
    "x_train, x_test, y_train, y_test = train_test_split(result.drop('illness_type', axis=1), result['illness_type'], test_size=0.3, random_state=22)"
   ]
  },
  {
   "cell_type": "code",
   "execution_count": 20,
   "metadata": {},
   "outputs": [
    {
     "data": {
      "text/plain": [
       "((84678, 15), (84678,))"
      ]
     },
     "execution_count": 20,
     "metadata": {},
     "output_type": "execute_result"
    }
   ],
   "source": [
    "x_train.shape, y_train.shape"
   ]
  },
  {
   "cell_type": "code",
   "execution_count": 21,
   "metadata": {},
   "outputs": [
    {
     "data": {
      "text/plain": [
       "((36291, 15), (36291,))"
      ]
     },
     "execution_count": 21,
     "metadata": {},
     "output_type": "execute_result"
    }
   ],
   "source": [
    "x_test.shape, y_test.shape"
   ]
  },
  {
   "cell_type": "code",
   "execution_count": null,
   "metadata": {},
   "outputs": [],
   "source": [
    "x_train['state_code'].value_counts()"
   ]
  },
  {
   "cell_type": "code",
   "execution_count": 22,
   "metadata": {},
   "outputs": [],
   "source": [
    "svc = SVC()\n",
    "l_svc = LinearSVC()\n",
    "knc = KNeighborsClassifier(n_neighbors=49)\n",
    "dtc = DecisionTreeClassifier(min_samples_split=300, random_state=200)\n",
    "lrc = LogisticRegression()\n",
    "rfc = RandomForestClassifier(n_estimators=231, random_state=200)"
   ]
  },
  {
   "cell_type": "code",
   "execution_count": 23,
   "metadata": {},
   "outputs": [],
   "source": [
    "clfs = {'SVC' : svc, 'Linear SVC' : l_svc, 'KN' : knc, 'DT': dtc, 'LR': lrc, 'RF': rfc}"
   ]
  },
  {
   "cell_type": "code",
   "execution_count": 24,
   "metadata": {},
   "outputs": [],
   "source": [
    "def train_classifier(clf, feature_train, labels_train):    \n",
    "    clf.fit(feature_train, labels_train)\n",
    "    return clf"
   ]
  },
  {
   "cell_type": "code",
   "execution_count": 25,
   "metadata": {},
   "outputs": [],
   "source": [
    "def predict_labels(clf, features):\n",
    "    return (clf.predict(features))"
   ]
  },
  {
   "cell_type": "code",
   "execution_count": 26,
   "metadata": {},
   "outputs": [],
   "source": [
    "pred_scores = []\n",
    "pds = []\n",
    "# for k,v in clfs.items():\n",
    "#     clf = train_classifier(v, x_train, y_train)\n",
    "#     pred = predict_labels(v,x_test)\n",
    "#     pred_scores.append((k, [accuracy_score(y_test,pred)]))\n",
    "#     print(k,\" - \",clf.score(x_test, y_test))\n",
    "#     cm = confusion_matrix(y_test, pred)\n",
    "#     print(cm)\n",
    "#     sn.heatmap(cm, annot=True)\n",
    "#     plt.show()\n",
    "#     print(\"---------------------------------------\\n\\n\")"
   ]
  },
  {
   "cell_type": "code",
   "execution_count": 27,
   "metadata": {},
   "outputs": [],
   "source": [
    "from sklearn.ensemble import AdaBoostClassifier\n",
    "from sklearn.ensemble import BaggingClassifier\n",
    "from sklearn.ensemble import ExtraTreesClassifier"
   ]
  },
  {
   "cell_type": "code",
   "execution_count": 28,
   "metadata": {},
   "outputs": [],
   "source": [
    "abc = AdaBoostClassifier(n_estimators=231, random_state=200)\n",
    "bc = BaggingClassifier(n_estimators=231, random_state=200)\n",
    "etc = ExtraTreesClassifier(n_estimators=231, random_state=200)"
   ]
  },
  {
   "cell_type": "code",
   "execution_count": 29,
   "metadata": {},
   "outputs": [
    {
     "name": "stdout",
     "output_type": "stream",
     "text": [
      "0.720398996997\n",
      "[[25867    11    51    95     2]\n",
      " [ 2696     4    24    40     0]\n",
      " [ 4394     4   215    55     1]\n",
      " [ 2256     2     6    58     2]\n",
      " [  489     0     1    18     0]]\n"
     ]
    },
    {
     "data": {
      "text/plain": [
       "<matplotlib.axes._subplots.AxesSubplot at 0x7f87bf11bb00>"
      ]
     },
     "execution_count": 29,
     "metadata": {},
     "output_type": "execute_result"
    },
    {
     "data": {
      "image/png": "[encoded data removed]",
      "text/plain": [
       "<matplotlib.figure.Figure at 0x7f87bf11b4a8>"
      ]
     },
     "metadata": {},
     "output_type": "display_data"
    }
   ],
   "source": [
    "clf = train_classifier(abc, x_train, y_train)\n",
    "pred = predict_labels(abc,x_test)\n",
    "pred_scores.append(('ABC', [accuracy_score(y_test,pred)]))\n",
    "print(clf.score(x_test, y_test))\n",
    "cm = confusion_matrix(y_test, pred)\n",
    "print(cm)\n",
    "sn.heatmap(cm, annot=True)"
   ]
  },
  {
   "cell_type": "code",
   "execution_count": 30,
   "metadata": {},
   "outputs": [
    {
     "name": "stdout",
     "output_type": "stream",
     "text": [
      "Accuracy:  73.7648452784\n",
      "Confusion Matrix: \n",
      " [[24437   474   760   333    22]\n",
      " [ 1986   426   226   123     3]\n",
      " [ 2656   239  1629   137     8]\n",
      " [ 1781   145   118   274     6]\n",
      " [  417    25    35    27     4]]\n",
      "\n",
      "Heatmap for Confusion Matrix:\n"
     ]
    },
    {
     "data": {
      "text/plain": [
       "<matplotlib.axes._subplots.AxesSubplot at 0x7f87c396ecc0>"
      ]
     },
     "execution_count": 30,
     "metadata": {},
     "output_type": "execute_result"
    },
    {
     "data": {
      "image/png": "[encoded data removed]",
      "text/plain": [
       "<matplotlib.figure.Figure at 0x7f87c396e5f8>"
      ]
     },
     "metadata": {},
     "output_type": "display_data"
    }
   ],
   "source": [
    "clf = train_classifier(bc, x_train, y_train)\n",
    "pred = predict_labels(bc,x_test)\n",
    "pred_scores.append(('Bagging Classifier', [accuracy_score(y_test,pred)*100]))\n",
    "pds.append(accuracy_score(y_test,pred)*100)\n",
    "print('Accuracy: ',clf.score(x_test, y_test)*100)\n",
    "cm = confusion_matrix(y_test, pred)\n",
    "print('Confusion Matrix: \\n',cm)\n",
    "print('\\nHeatmap for Confusion Matrix:')\n",
    "sn.heatmap(cm, annot=True)"
   ]
  },
  {
   "cell_type": "code",
   "execution_count": 31,
   "metadata": {},
   "outputs": [
    {
     "name": "stdout",
     "output_type": "stream",
     "text": [
      "0.731586343722\n",
      "[[24338   485   780   375    48]\n",
      " [ 1986   404   244   121     9]\n",
      " [ 2735   236  1569   110    19]\n",
      " [ 1857   120   104   231    12]\n",
      " [  423    26    25    26     8]]\n"
     ]
    },
    {
     "data": {
      "text/plain": [
       "<matplotlib.axes._subplots.AxesSubplot at 0x7f87c386a908>"
      ]
     },
     "execution_count": 31,
     "metadata": {},
     "output_type": "execute_result"
    },
    {
     "data": {
      "image/png": "[encoded data removed]",
      "text/plain": [
       "<matplotlib.figure.Figure at 0x7f87c386a278>"
      ]
     },
     "metadata": {},
     "output_type": "display_data"
    }
   ],
   "source": [
    "clf = train_classifier(etc, x_train, y_train)\n",
    "pred = predict_labels(etc,x_test)\n",
    "pred_scores.append(('ETC', [accuracy_score(y_test,pred)]))\n",
    "print(clf.score(x_test, y_test))\n",
    "cm = confusion_matrix(y_test, pred)\n",
    "print(cm)\n",
    "sn.heatmap(cm, annot=True)"
   ]
  },
  {
   "cell_type": "code",
   "execution_count": 32,
   "metadata": {},
   "outputs": [
    {
     "name": "stdout",
     "output_type": "stream",
     "text": [
      "Accuracy:  74.3435011435\n",
      "Confusion Matrix: \n",
      " [[24957   291   557   206    15]\n",
      " [ 2188   331   165    78     2]\n",
      " [ 2901   176  1504    81     7]\n",
      " [ 1984    87    64   186     3]\n",
      " [  456    12    21    17     2]]\n",
      "\n",
      "Heatmap for Confusion Matrix:\n"
     ]
    },
    {
     "data": {
      "text/plain": [
       "<matplotlib.axes._subplots.AxesSubplot at 0x7f87c351e588>"
      ]
     },
     "execution_count": 32,
     "metadata": {},
     "output_type": "execute_result"
    },
    {
     "data": {
      "image/png": "[encoded data removed]",
      "text/plain": [
       "<matplotlib.figure.Figure at 0x7f87c351ec50>"
      ]
     },
     "metadata": {},
     "output_type": "display_data"
    }
   ],
   "source": [
    "clf = train_classifier(rfc, x_train, y_train)\n",
    "pred = predict_labels(rfc,x_test)\n",
    "pred_scores.append(('Random Forest Classifier', [accuracy_score(y_test,pred)*100]))\n",
    "pds.append(accuracy_score(y_test,pred)*100)\n",
    "print('Accuracy: ',clf.score(x_test, y_test)*100)\n",
    "cm = confusion_matrix(y_test, pred)\n",
    "print('Confusion Matrix: \\n',cm)\n",
    "print('\\nHeatmap for Confusion Matrix:')\n",
    "sn.heatmap(cm, annot=True)"
   ]
  },
  {
   "cell_type": "code",
   "execution_count": 33,
   "metadata": {},
   "outputs": [
    {
     "name": "stdout",
     "output_type": "stream",
     "text": [
      "Accuracy:  71.6871951724\n",
      "Confusion Matrix: \n",
      " [[26014     0     3     9     0]\n",
      " [ 2761     0     0     3     0]\n",
      " [ 4666     0     1     2     0]\n",
      " [ 2323     0     0     1     0]\n",
      " [  508     0     0     0     0]]\n",
      "\n",
      "Heatmap for Confusion Matrix:\n"
     ]
    },
    {
     "data": {
      "text/plain": [
       "<matplotlib.axes._subplots.AxesSubplot at 0x7f87c33fce48>"
      ]
     },
     "execution_count": 33,
     "metadata": {},
     "output_type": "execute_result"
    },
    {
     "data": {
      "image/png": "[encoded data removed]",
      "text/plain": [
       "<matplotlib.figure.Figure at 0x7f87c3401780>"
      ]
     },
     "metadata": {},
     "output_type": "display_data"
    }
   ],
   "source": [
    "clf = train_classifier(lrc, x_train, y_train)\n",
    "pred = predict_labels(lrc,x_test)\n",
    "pred_scores.append(('Logistic Regression Classifier', [accuracy_score(y_test,pred)*100]))\n",
    "pds.append(accuracy_score(y_test,pred)*100)\n",
    "print('Accuracy: ',clf.score(x_test, y_test)*100)\n",
    "cm = confusion_matrix(y_test, pred)\n",
    "print('Confusion Matrix: \\n',cm)\n",
    "print('\\nHeatmap for Confusion Matrix:')\n",
    "sn.heatmap(cm, annot=True)"
   ]
  },
  {
   "cell_type": "code",
   "execution_count": 34,
   "metadata": {},
   "outputs": [
    {
     "name": "stdout",
     "output_type": "stream",
     "text": [
      "Accuracy:  74.2608360199\n",
      "Confusion Matrix: \n",
      " [[25200   218   467   141     0]\n",
      " [ 2442   163   123    36     0]\n",
      " [ 3063   101  1459    45     1]\n",
      " [ 2101    54    40   128     1]\n",
      " [  472    13    14     9     0]]\n",
      "\n",
      "Heatmap for Confusion Matrix:\n"
     ]
    },
    {
     "data": {
      "text/plain": [
       "<matplotlib.axes._subplots.AxesSubplot at 0x7f87c3401208>"
      ]
     },
     "execution_count": 34,
     "metadata": {},
     "output_type": "execute_result"
    },
    {
     "data": {
      "image/png": "[encoded data removed]",
      "text/plain": [
       "<matplotlib.figure.Figure at 0x7f87c3365a20>"
      ]
     },
     "metadata": {},
     "output_type": "display_data"
    }
   ],
   "source": [
    "clf = train_classifier(dtc, x_train, y_train)\n",
    "pred = predict_labels(dtc,x_test)\n",
    "pred_scores.append(('Decision Tree Classifier', [accuracy_score(y_test,pred)*100]))\n",
    "pds.append(accuracy_score(y_test,pred)*100)\n",
    "print('Accuracy: ',clf.score(x_test, y_test)*100)\n",
    "cm = confusion_matrix(y_test, pred)\n",
    "print('Confusion Matrix: \\n',cm)\n",
    "print('\\nHeatmap for Confusion Matrix:')\n",
    "sn.heatmap(cm, annot=True)"
   ]
  },
  {
   "cell_type": "code",
   "execution_count": 35,
   "metadata": {},
   "outputs": [
    {
     "name": "stdout",
     "output_type": "stream",
     "text": [
      "Accuracy:  73.9411975421\n",
      "Confusion Matrix: \n",
      " [[25410    86   485    45     0]\n",
      " [ 2536   132    78    18     0]\n",
      " [ 3354    61  1237    17     0]\n",
      " [ 2204    21    44    55     0]\n",
      " [  499     3     6     0     0]]\n",
      "\n",
      "Heatmap for Confusion Matrix:\n"
     ]
    },
    {
     "data": {
      "text/plain": [
       "<matplotlib.axes._subplots.AxesSubplot at 0x7f87c33110f0>"
      ]
     },
     "execution_count": 35,
     "metadata": {},
     "output_type": "execute_result"
    },
    {
     "data": {
      "image/png": "[encoded data removed]",
      "text/plain": [
       "<matplotlib.figure.Figure at 0x7f87c324f898>"
      ]
     },
     "metadata": {},
     "output_type": "display_data"
    }
   ],
   "source": [
    "clf = train_classifier(knc, x_train, y_train)\n",
    "pred = predict_labels(knc,x_test)\n",
    "pred_scores.append(('K-nearest Neighbors Classifier', [accuracy_score(y_test,pred)*100]))\n",
    "pds.append(accuracy_score(y_test,pred)*100)\n",
    "print('Accuracy: ',clf.score(x_test, y_test)*100)\n",
    "cm = confusion_matrix(y_test, pred)\n",
    "print('Confusion Matrix: \\n',cm)\n",
    "print('\\nHeatmap for Confusion Matrix:')\n",
    "sn.heatmap(cm, annot=True)"
   ]
  },
  {
   "cell_type": "code",
   "execution_count": 36,
   "metadata": {},
   "outputs": [
    {
     "data": {
      "text/html": [
       "<div>\n",
       "<style>\n",
       "    .dataframe thead tr:only-child th {\n",
       "        text-align: right;\n",
       "    }\n",
       "\n",
       "    .dataframe thead th {\n",
       "        text-align: left;\n",
       "    }\n",
       "\n",
       "    .dataframe tbody tr th {\n",
       "        vertical-align: top;\n",
       "    }\n",
       "</style>\n",
       "<table border=\"1\" class=\"dataframe\">\n",
       "  <thead>\n",
       "    <tr style=\"text-align: right;\">\n",
       "      <th></th>\n",
       "      <th>Accuracy Score</th>\n",
       "    </tr>\n",
       "  </thead>\n",
       "  <tbody>\n",
       "    <tr>\n",
       "      <th>ABC</th>\n",
       "      <td>0.720399</td>\n",
       "    </tr>\n",
       "    <tr>\n",
       "      <th>Bagging Classifier</th>\n",
       "      <td>73.764845</td>\n",
       "    </tr>\n",
       "    <tr>\n",
       "      <th>ETC</th>\n",
       "      <td>0.731586</td>\n",
       "    </tr>\n",
       "    <tr>\n",
       "      <th>Random Forest Classifier</th>\n",
       "      <td>74.343501</td>\n",
       "    </tr>\n",
       "    <tr>\n",
       "      <th>Logistic Regression Classifier</th>\n",
       "      <td>71.687195</td>\n",
       "    </tr>\n",
       "    <tr>\n",
       "      <th>Decision Tree Classifier</th>\n",
       "      <td>74.260836</td>\n",
       "    </tr>\n",
       "    <tr>\n",
       "      <th>K-nearest Neighbors Classifier</th>\n",
       "      <td>73.941198</td>\n",
       "    </tr>\n",
       "  </tbody>\n",
       "</table>\n",
       "</div>"
      ],
      "text/plain": [
       "                                Accuracy Score\n",
       "ABC                                   0.720399\n",
       "Bagging Classifier                   73.764845\n",
       "ETC                                   0.731586\n",
       "Random Forest Classifier             74.343501\n",
       "Logistic Regression Classifier       71.687195\n",
       "Decision Tree Classifier             74.260836\n",
       "K-nearest Neighbors Classifier       73.941198"
      ]
     },
     "execution_count": 36,
     "metadata": {},
     "output_type": "execute_result"
    }
   ],
   "source": [
    "scores = pd.DataFrame.from_items(pred_scores,orient='index', columns=['Accuracy Score'])\n",
    "scores"
   ]
  },
  {
   "cell_type": "code",
   "execution_count": 37,
   "metadata": {},
   "outputs": [
    {
     "data": {
      "text/plain": [
       "[73.764845278443687,\n",
       " 74.343501143534212,\n",
       " 71.687195172356795,\n",
       " 74.260836019949849,\n",
       " 73.941197542090322]"
      ]
     },
     "execution_count": 37,
     "metadata": {},
     "output_type": "execute_result"
    }
   ],
   "source": [
    "pds"
   ]
  },
  {
   "cell_type": "code",
   "execution_count": 38,
   "metadata": {},
   "outputs": [],
   "source": [
    "import numpy as np"
   ]
  },
  {
   "cell_type": "code",
   "execution_count": 39,
   "metadata": {},
   "outputs": [],
   "source": [
    "label = ['Bagging Classifier','Random Forest', 'Logistic Regression', 'Decision Tree','K-nearest Neighbor']"
   ]
  },
  {
   "cell_type": "code",
   "execution_count": 40,
   "metadata": {},
   "outputs": [
    {
     "data": {
      "text/plain": [
       "<matplotlib.text.Text at 0x7f87c30f0cf8>"
      ]
     },
     "execution_count": 40,
     "metadata": {},
     "output_type": "execute_result"
    },
    {
     "data": {
      "image/png": "[encoded data removed]",
      "text/plain": [
       "<matplotlib.figure.Figure at 0x7f87c31fe6a0>"
      ]
     },
     "metadata": {},
     "output_type": "display_data"
    }
   ],
   "source": [
    "index = np.arange(len(label))\n",
    "plt.bar(index, pds)\n",
    "plt.xlabel('Classifiers', fontsize=15)\n",
    "plt.ylabel('Accuracy', fontsize=15)\n",
    "plt.xticks(index, label, fontsize=10, rotation=30)\n",
    "plt.title('Accuracy of the Classifiers')"
   ]
  },
  {
   "cell_type": "code",
   "execution_count": 41,
   "metadata": {},
   "outputs": [],
   "source": [
    "kfold = StratifiedKFold(n_splits=20, shuffle=True, random_state=None)"
   ]
  },
  {
   "cell_type": "code",
   "execution_count": 42,
   "metadata": {},
   "outputs": [],
   "source": [
    "pred_score = []"
   ]
  },
  {
   "cell_type": "code",
   "execution_count": null,
   "metadata": {},
   "outputs": [],
   "source": [
    "score = cross_val_score(rfc, result.drop('illness_type', axis=1), result['illness_type'], cv = kfold, scoring = \"accuracy\", n_jobs=-1)"
   ]
  },
  {
   "cell_type": "code",
   "execution_count": null,
   "metadata": {},
   "outputs": [],
   "source": [
    "score"
   ]
  },
  {
   "cell_type": "code",
   "execution_count": null,
   "metadata": {},
   "outputs": [],
   "source": [
    "score.max()*100"
   ]
  },
  {
   "cell_type": "code",
   "execution_count": null,
   "metadata": {},
   "outputs": [],
   "source": [
    "pred_score.append(score.max()*100)"
   ]
  },
  {
   "cell_type": "code",
   "execution_count": null,
   "metadata": {},
   "outputs": [],
   "source": [
    "plt.plot(score)"
   ]
  },
  {
   "cell_type": "code",
   "execution_count": 123,
   "metadata": {},
   "outputs": [
    {
     "data": {
      "text/plain": [
       "74.68777726446497"
      ]
     },
     "execution_count": 123,
     "metadata": {},
     "output_type": "execute_result"
    }
   ],
   "source": [
    "score.mean()*100"
   ]
  },
  {
   "cell_type": "code",
   "execution_count": 124,
   "metadata": {},
   "outputs": [
    {
     "data": {
      "text/plain": [
       "[75.376219613031253]"
      ]
     },
     "execution_count": 124,
     "metadata": {},
     "output_type": "execute_result"
    }
   ],
   "source": [
    "pred_score"
   ]
  },
  {
   "cell_type": "code",
   "execution_count": 125,
   "metadata": {},
   "outputs": [],
   "source": [
    "score = cross_val_score(knc, result.drop('illness_type', axis=1), result['illness_type'], cv = kfold, scoring = \"accuracy\")"
   ]
  },
  {
   "cell_type": "code",
   "execution_count": 126,
   "metadata": {},
   "outputs": [
    {
     "data": {
      "text/plain": [
       "array([ 0.73826834,  0.7419035 ,  0.73706825,  0.73392828,  0.74132231,\n",
       "        0.7414876 ,  0.74061828,  0.74421296,  0.73842593,  0.74239418,\n",
       "        0.73838267,  0.74185547,  0.74417066,  0.74218621,  0.74235158,\n",
       "        0.74483215,  0.74235158,  0.73606747,  0.74202084,  0.74251695])"
      ]
     },
     "execution_count": 126,
     "metadata": {},
     "output_type": "execute_result"
    }
   ],
   "source": [
    "score"
   ]
  },
  {
   "cell_type": "code",
   "execution_count": 129,
   "metadata": {},
   "outputs": [
    {
     "data": {
      "text/plain": [
       "74.483214817264766"
      ]
     },
     "execution_count": 129,
     "metadata": {},
     "output_type": "execute_result"
    }
   ],
   "source": [
    "score.max()*100"
   ]
  },
  {
   "cell_type": "code",
   "execution_count": 130,
   "metadata": {},
   "outputs": [],
   "source": [
    "pred_score.append(score.max()*100)"
   ]
  },
  {
   "cell_type": "code",
   "execution_count": 127,
   "metadata": {},
   "outputs": [
    {
     "data": {
      "text/plain": [
       "[<matplotlib.lines.Line2D at 0x7fe87108e438>]"
      ]
     },
     "execution_count": 127,
     "metadata": {},
     "output_type": "execute_result"
    },
    {
     "data": {
      "image/png": "[encoded data removed]",
      "text/plain": [
       "<matplotlib.figure.Figure at 0x7fe879221898>"
      ]
     },
     "metadata": {},
     "output_type": "display_data"
    }
   ],
   "source": [
    "plt.plot(score)"
   ]
  },
  {
   "cell_type": "code",
   "execution_count": 131,
   "metadata": {},
   "outputs": [
    {
     "data": {
      "text/plain": [
       "74.081826075138949"
      ]
     },
     "execution_count": 131,
     "metadata": {},
     "output_type": "execute_result"
    }
   ],
   "source": [
    "score.mean()*100"
   ]
  },
  {
   "cell_type": "code",
   "execution_count": 132,
   "metadata": {},
   "outputs": [
    {
     "data": {
      "text/plain": [
       "[75.376219613031253, 74.483214817264766]"
      ]
     },
     "execution_count": 132,
     "metadata": {},
     "output_type": "execute_result"
    }
   ],
   "source": [
    "pred_score"
   ]
  },
  {
   "cell_type": "code",
   "execution_count": 133,
   "metadata": {},
   "outputs": [],
   "source": [
    "score = cross_val_score(dtc, result.drop('illness_type', axis=1), result['illness_type'], cv = kfold, scoring = \"accuracy\")"
   ]
  },
  {
   "cell_type": "code",
   "execution_count": 134,
   "metadata": {},
   "outputs": [
    {
     "data": {
      "text/plain": [
       "array([ 0.74239921,  0.74586913,  0.7494629 ,  0.75359445,  0.74958678,\n",
       "        0.74280992,  0.74227145,  0.74222884,  0.75297619,  0.74355159,\n",
       "        0.74532826,  0.7479742 ,  0.74979329,  0.74086324,  0.74698197,\n",
       "        0.74301306,  0.74598975,  0.74731272,  0.74466678,  0.74036712])"
      ]
     },
     "execution_count": 134,
     "metadata": {},
     "output_type": "execute_result"
    }
   ],
   "source": [
    "score"
   ]
  },
  {
   "cell_type": "code",
   "execution_count": 155,
   "metadata": {},
   "outputs": [
    {
     "data": {
      "text/plain": [
       "75.359444719881012"
      ]
     },
     "execution_count": 155,
     "metadata": {},
     "output_type": "execute_result"
    }
   ],
   "source": [
    "score.max()*100"
   ]
  },
  {
   "cell_type": "code",
   "execution_count": 156,
   "metadata": {},
   "outputs": [
    {
     "data": {
      "text/plain": [
       "74.585204183326567"
      ]
     },
     "execution_count": 156,
     "metadata": {},
     "output_type": "execute_result"
    }
   ],
   "source": [
    "score.mean()*100"
   ]
  },
  {
   "cell_type": "code",
   "execution_count": 136,
   "metadata": {},
   "outputs": [
    {
     "data": {
      "text/plain": [
       "[<matplotlib.lines.Line2D at 0x7fe8710004a8>]"
      ]
     },
     "execution_count": 136,
     "metadata": {},
     "output_type": "execute_result"
    },
    {
     "data": {
      "image/png": "[encoded data removed]",
      "text/plain": [
       "<matplotlib.figure.Figure at 0x7fe87102de10>"
      ]
     },
     "metadata": {},
     "output_type": "display_data"
    }
   ],
   "source": [
    "plt.plot(score)"
   ]
  },
  {
   "cell_type": "code",
   "execution_count": 137,
   "metadata": {},
   "outputs": [],
   "source": [
    "pred_score.append(score.max()*100)"
   ]
  },
  {
   "cell_type": "code",
   "execution_count": 138,
   "metadata": {},
   "outputs": [
    {
     "data": {
      "text/plain": [
       "[75.376219613031253, 74.483214817264766, 75.359444719881012]"
      ]
     },
     "execution_count": 138,
     "metadata": {},
     "output_type": "execute_result"
    }
   ],
   "source": [
    "pred_score"
   ]
  },
  {
   "cell_type": "code",
   "execution_count": 139,
   "metadata": {},
   "outputs": [],
   "source": [
    "labels = ['random Forest', 'K-nearest Neighbors', 'Decision Tree']"
   ]
  },
  {
   "cell_type": "code",
   "execution_count": 150,
   "metadata": {},
   "outputs": [
    {
     "data": {
      "text/plain": [
       "<matplotlib.text.Text at 0x7fe870bbbf98>"
      ]
     },
     "execution_count": 150,
     "metadata": {},
     "output_type": "execute_result"
    },
    {
     "data": {
      "image/png": "[encoded data removed]",
      "text/plain": [
       "<matplotlib.figure.Figure at 0x7fe870c480b8>"
      ]
     },
     "metadata": {},
     "output_type": "display_data"
    }
   ],
   "source": [
    "index = np.arange(len(labels))\n",
    "plt.bar(index, pred_score)\n",
    "plt.xlabel('Classifiers', fontsize=15)\n",
    "plt.ylabel('Maximum Accuracy', fontsize=15)\n",
    "plt.xticks(index, labels, fontsize=10, rotation=20)\n",
    "plt.title('Accuracy of the Classifiers')"
   ]
  },
  {
   "cell_type": "markdown",
   "metadata": {},
   "source": [
    "### Grid Search"
   ]
  },
  {
   "cell_type": "code",
   "execution_count": 16,
   "metadata": {},
   "outputs": [],
   "source": [
    "from sklearn.model_selection import GridSearchCV"
   ]
  },
  {
   "cell_type": "code",
   "execution_count": 30,
   "metadata": {},
   "outputs": [],
   "source": [
    "rf = RandomForestClassifier(random_state=42,n_jobs=-1)"
   ]
  },
  {
   "cell_type": "code",
   "execution_count": 31,
   "metadata": {},
   "outputs": [],
   "source": [
    "param_grid = { \n",
    "    'n_estimators': [200, 500],\n",
    "    'max_features': ['auto', 'sqrt', 'log2'],\n",
    "    'max_depth' : [4,5,6,7,8],\n",
    "    'criterion' :['gini', 'entropy']\n",
    "}"
   ]
  },
  {
   "cell_type": "code",
   "execution_count": 32,
   "metadata": {},
   "outputs": [
    {
     "data": {
      "text/plain": [
       "{'criterion': 'entropy',\n",
       " 'max_depth': 6,\n",
       " 'max_features': 'log2',\n",
       " 'n_estimators': 500}"
      ]
     },
     "execution_count": 32,
     "metadata": {},
     "output_type": "execute_result"
    }
   ],
   "source": [
    "CV_rfc = GridSearchCV(estimator=rf, param_grid=param_grid, cv= 5)\n",
    "CV_rfc.fit(result.drop('illness_type', axis=1), result['illness_type'])\n",
    "CV_rfc.best_params_"
   ]
  },
  {
   "cell_type": "code",
   "execution_count": 34,
   "metadata": {},
   "outputs": [],
   "source": [
    "rf = RandomForestClassifier(n_estimators = 500,max_depth= 6, max_features= 'log2', criterion= 'entropy',random_state=42,n_jobs=-1)"
   ]
  },
  {
   "cell_type": "code",
   "execution_count": 35,
   "metadata": {},
   "outputs": [],
   "source": [
    "score = cross_val_score(rf, result.drop('illness_type', axis=1), result['illness_type'], cv = kfold, scoring = \"accuracy\", n_jobs=-1)"
   ]
  },
  {
   "cell_type": "code",
   "execution_count": 36,
   "metadata": {},
   "outputs": [
    {
     "data": {
      "text/plain": [
       "array([ 0.74405155,  0.74107733,  0.74549661,  0.74533135,  0.74429752,\n",
       "        0.74347107,  0.74607373,  0.74140212,  0.74272487,  0.74222884,\n",
       "        0.74516289,  0.74301306,  0.74483215,  0.74417066,  0.74665123,\n",
       "        0.74632049,  0.74731272,  0.74417066,  0.74962791,  0.74598975])"
      ]
     },
     "execution_count": 36,
     "metadata": {},
     "output_type": "execute_result"
    }
   ],
   "source": [
    "score"
   ]
  },
  {
   "cell_type": "code",
   "execution_count": 37,
   "metadata": {},
   "outputs": [
    {
     "data": {
      "text/plain": [
       "[<matplotlib.lines.Line2D at 0x7f0bf28f9ef0>]"
      ]
     },
     "execution_count": 37,
     "metadata": {},
     "output_type": "execute_result"
    },
    {
     "data": {
      "image/png": "[encoded data removed]",
      "text/plain": [
       "<matplotlib.figure.Figure at 0x7f0bf2906048>"
      ]
     },
     "metadata": {},
     "output_type": "display_data"
    }
   ],
   "source": [
    "plt.plot(score)"
   ]
  },
  {
   "cell_type": "code",
   "execution_count": 38,
   "metadata": {},
   "outputs": [
    {
     "data": {
      "text/plain": [
       "0.74467032606803396"
      ]
     },
     "execution_count": 38,
     "metadata": {},
     "output_type": "execute_result"
    }
   ],
   "source": [
    "score.mean()"
   ]
  }
 ],
 "metadata": {
  "kernelspec": {
   "display_name": "Python 3",
   "language": "python",
   "name": "python3"
  },
  "language_info": {
   "codemirror_mode": {
    "name": "ipython",
    "version": 3
   },
   "file_extension": ".py",
   "mimetype": "text/x-python",
   "name": "python",
   "nbconvert_exporter": "python",
   "pygments_lexer": "ipython3",
   "version": "3.5.2"
  }
 },
 "nbformat": 4,
 "nbformat_minor": 2
}
