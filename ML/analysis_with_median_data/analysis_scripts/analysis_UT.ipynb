{
 "cells": [
  {
   "cell_type": "code",
   "execution_count": 1,
   "metadata": {},
   "outputs": [],
   "source": [
    "import pandas as pd\n",
    "import matplotlib.pyplot as plt\n",
    "%matplotlib inline"
   ]
  },
  {
   "cell_type": "code",
   "execution_count": 2,
   "metadata": {},
   "outputs": [],
   "source": [
    "data = pd.read_csv(\"../../data/CAB_05_UT.csv\", low_memory=False)"
   ]
  },
  {
   "cell_type": "code",
   "execution_count": 3,
   "metadata": {},
   "outputs": [
    {
     "data": {
      "text/plain": [
       "(67342, 54)"
      ]
     },
     "execution_count": 3,
     "metadata": {},
     "output_type": "execute_result"
    }
   ],
   "source": [
    "data.shape"
   ]
  },
  {
   "cell_type": "code",
   "execution_count": 4,
   "metadata": {},
   "outputs": [
    {
     "name": "stdout",
     "output_type": "stream",
     "text": [
      "<class 'pandas.core.frame.DataFrame'>\n",
      "RangeIndex: 67342 entries, 0 to 67341\n",
      "Data columns (total 54 columns):\n",
      "state_code                          67342 non-null int64\n",
      "district_code                       67342 non-null int64\n",
      "rural_urban                         67342 non-null int64\n",
      "stratum                             67342 non-null int64\n",
      "psu_id                              67342 non-null int64\n",
      "ahs_house_unit                      67342 non-null int64\n",
      "house_hold_no                       67342 non-null int64\n",
      "date_survey                         67342 non-null object\n",
      "test_salt_iodine                    67342 non-null int64\n",
      "record_code_iodine                  67342 non-null int64\n",
      "record_code_iodine_reason           0 non-null float64\n",
      "sl_no                               67342 non-null int64\n",
      "sex                                 67342 non-null int64\n",
      "usual_residance                     67342 non-null int64\n",
      "usual_residance_reason              7 non-null object\n",
      "identification_code                 67338 non-null float64\n",
      "age_code                            67342 non-null object\n",
      "age                                 67342 non-null int64\n",
      "date_of_birth                       67342 non-null int64\n",
      "month_of_birth                      67342 non-null int64\n",
      "year_of_birth                       67342 non-null int64\n",
      "weight_measured                     67342 non-null int64\n",
      "weight_in_kg                        67342 non-null float64\n",
      "length_height_measured              67342 non-null int64\n",
      "length_height_code                  67342 non-null object\n",
      "length_height_cm                    67342 non-null float64\n",
      "haemoglobin_test                    67342 non-null int64\n",
      "haemoglobin                         67342 non-null int64\n",
      "haemoglobin_level                   67342 non-null float64\n",
      "bp_systolic                         67342 non-null int64\n",
      "bp_systolic_2_reading               67342 non-null int64\n",
      "bp_diastolic                        67342 non-null int64\n",
      "bp_diastolic_2reading               67342 non-null int64\n",
      "pulse_rate                          67342 non-null int64\n",
      "pulse_rate_2_reading                67342 non-null int64\n",
      "diabetes_test                       67342 non-null int64\n",
      "fasting_blood_glucose               67342 non-null int64\n",
      "fasting_blood_glucose_mg_dl         67342 non-null int64\n",
      "marital_status                      67342 non-null int64\n",
      "gauna_perfor_not_perfor             67342 non-null int64\n",
      "duration_pregnanacy                 67342 non-null int64\n",
      "first_breast_feeding                67342 non-null int64\n",
      "is_cur_breast_feeding               67342 non-null int64\n",
      "day_or_month_for_breast_feeding_    67342 non-null object\n",
      "day_or_month_for_breast_feeding     67342 non-null int64\n",
      "water_month                         67342 non-null int64\n",
      "ani_milk_month                      67342 non-null int64\n",
      "semisolid_month_or_day              67342 non-null int64\n",
      "solid_month                         67342 non-null int64\n",
      "vegetables_month_or_day             67342 non-null int64\n",
      "illness_type                        67342 non-null int64\n",
      "illness_duration                    67342 non-null int64\n",
      "treatment_type                      67342 non-null int64\n",
      "v54                                 0 non-null float64\n",
      "dtypes: float64(6), int64(43), object(5)\n",
      "memory usage: 27.7+ MB\n"
     ]
    }
   ],
   "source": [
    "data.info()"
   ]
  },
  {
   "cell_type": "code",
   "execution_count": 5,
   "metadata": {},
   "outputs": [
    {
     "data": {
      "text/plain": [
       "array(['state_code', 'district_code', 'rural_urban', 'stratum', 'psu_id',\n",
       "       'ahs_house_unit', 'house_hold_no', 'date_survey',\n",
       "       'test_salt_iodine', 'record_code_iodine',\n",
       "       'record_code_iodine_reason', 'sl_no', 'sex', 'usual_residance',\n",
       "       'usual_residance_reason', 'identification_code', 'age_code', 'age',\n",
       "       'date_of_birth', 'month_of_birth', 'year_of_birth',\n",
       "       'weight_measured', 'weight_in_kg', 'length_height_measured',\n",
       "       'length_height_code', 'length_height_cm', 'haemoglobin_test',\n",
       "       'haemoglobin', 'haemoglobin_level', 'bp_systolic',\n",
       "       'bp_systolic_2_reading', 'bp_diastolic', 'bp_diastolic_2reading',\n",
       "       'pulse_rate', 'pulse_rate_2_reading', 'diabetes_test',\n",
       "       'fasting_blood_glucose', 'fasting_blood_glucose_mg_dl',\n",
       "       'marital_status', 'gauna_perfor_not_perfor', 'duration_pregnanacy',\n",
       "       'first_breast_feeding', 'is_cur_breast_feeding',\n",
       "       'day_or_month_for_breast_feeding_',\n",
       "       'day_or_month_for_breast_feeding', 'water_month', 'ani_milk_month',\n",
       "       'semisolid_month_or_day', 'solid_month', 'vegetables_month_or_day',\n",
       "       'illness_type', 'illness_duration', 'treatment_type', 'v54'], dtype=object)"
      ]
     },
     "execution_count": 5,
     "metadata": {},
     "output_type": "execute_result"
    }
   ],
   "source": [
    "data.columns.values"
   ]
  },
  {
   "cell_type": "code",
   "execution_count": 6,
   "metadata": {},
   "outputs": [],
   "source": [
    "data = data.drop([ 'psu_id','ahs_house_unit','house_hold_no', 'date_survey',\n",
    "                  'test_salt_iodine', 'record_code_iodine_reason', 'sl_no', 'usual_residance_reason',\n",
    "                  'identification_code', 'date_of_birth', 'year_of_birth', 'weight_measured',\n",
    "                  'length_height_measured', 'length_height_code', 'haemoglobin_test', 'haemoglobin', 'bp_systolic',\n",
    "                  'bp_systolic_2_reading', 'bp_diastolic', 'bp_diastolic_2reading', 'pulse_rate',\n",
    "                  'pulse_rate_2_reading', 'diabetes_test', 'fasting_blood_glucose', 'fasting_blood_glucose_mg_dl',\n",
    "                  'marital_status', 'gauna_perfor_not_perfor', 'duration_pregnanacy', 'illness_duration', 'v54'],\n",
    "                axis = 1)"
   ]
  },
  {
   "cell_type": "code",
   "execution_count": 7,
   "metadata": {},
   "outputs": [
    {
     "data": {
      "text/plain": [
       "(67342, 24)"
      ]
     },
     "execution_count": 7,
     "metadata": {},
     "output_type": "execute_result"
    }
   ],
   "source": [
    "data.shape"
   ]
  },
  {
   "cell_type": "code",
   "execution_count": 8,
   "metadata": {},
   "outputs": [
    {
     "data": {
      "text/plain": [
       "array(['state_code', 'district_code', 'rural_urban', 'stratum',\n",
       "       'record_code_iodine', 'sex', 'usual_residance', 'age_code', 'age',\n",
       "       'month_of_birth', 'weight_in_kg', 'length_height_cm',\n",
       "       'haemoglobin_level', 'first_breast_feeding',\n",
       "       'is_cur_breast_feeding', 'day_or_month_for_breast_feeding_',\n",
       "       'day_or_month_for_breast_feeding', 'water_month', 'ani_milk_month',\n",
       "       'semisolid_month_or_day', 'solid_month', 'vegetables_month_or_day',\n",
       "       'illness_type', 'treatment_type'], dtype=object)"
      ]
     },
     "execution_count": 8,
     "metadata": {},
     "output_type": "execute_result"
    }
   ],
   "source": [
    "data.columns.values"
   ]
  },
  {
   "cell_type": "code",
   "execution_count": 9,
   "metadata": {},
   "outputs": [],
   "source": [
    "data = data.drop(data[(data['age_code'] == 'Y') & (data['age'] > 5) | (data['illness_type'] == -1)].index)"
   ]
  },
  {
   "cell_type": "code",
   "execution_count": 10,
   "metadata": {},
   "outputs": [
    {
     "data": {
      "text/plain": [
       "(3499, 24)"
      ]
     },
     "execution_count": 10,
     "metadata": {},
     "output_type": "execute_result"
    }
   ],
   "source": [
    "data.shape"
   ]
  },
  {
   "cell_type": "code",
   "execution_count": 11,
   "metadata": {},
   "outputs": [
    {
     "data": {
      "text/plain": [
       "0    2562\n",
       "3     607\n",
       "1     155\n",
       "2     150\n",
       "4      25\n",
       "Name: illness_type, dtype: int64"
      ]
     },
     "execution_count": 11,
     "metadata": {},
     "output_type": "execute_result"
    }
   ],
   "source": [
    "data['illness_type'].value_counts()"
   ]
  },
  {
   "cell_type": "code",
   "execution_count": 12,
   "metadata": {},
   "outputs": [
    {
     "data": {
      "text/plain": [
       "0    73.220920\n",
       "3    17.347814\n",
       "1     4.429837\n",
       "2     4.286939\n",
       "4     0.714490\n",
       "Name: illness_type, dtype: float64"
      ]
     },
     "execution_count": 12,
     "metadata": {},
     "output_type": "execute_result"
    }
   ],
   "source": [
    "data['illness_type'].value_counts() / 34.99"
   ]
  },
  {
   "cell_type": "code",
   "execution_count": 13,
   "metadata": {},
   "outputs": [
    {
     "data": {
      "text/plain": [
       "Y    3098\n",
       "M     395\n",
       "D       6\n",
       "Name: age_code, dtype: int64"
      ]
     },
     "execution_count": 13,
     "metadata": {},
     "output_type": "execute_result"
    }
   ],
   "source": [
    "data['age_code'].value_counts()"
   ]
  },
  {
   "cell_type": "code",
   "execution_count": 14,
   "metadata": {},
   "outputs": [
    {
     "name": "stdout",
     "output_type": "stream",
     "text": [
      "1    2725\n",
      "2     774\n",
      "Name: rural_urban, dtype: int64\n",
      "2    1442\n",
      "1    1283\n",
      "0     774\n",
      "Name: stratum, dtype: int64\n",
      "3    3256\n",
      "2     143\n",
      "1     100\n",
      "Name: record_code_iodine, dtype: int64\n",
      "1    1847\n",
      "2    1652\n",
      "Name: sex, dtype: int64\n",
      "1    3499\n",
      "Name: usual_residance, dtype: int64\n",
      "Y    3098\n",
      "M     395\n",
      "D       6\n",
      "Name: age_code, dtype: int64\n",
      "6     414\n",
      "10    314\n",
      "11    308\n",
      "9     307\n",
      "8     305\n",
      "1     292\n",
      "7     284\n",
      "3     272\n",
      "12    271\n",
      "4     265\n",
      "2     248\n",
      "5     219\n",
      "Name: month_of_birth, dtype: int64\n"
     ]
    }
   ],
   "source": [
    "print(data['rural_urban'].value_counts())\n",
    "print(data['stratum'].value_counts())\n",
    "print(data['record_code_iodine'].value_counts())\n",
    "print(data['sex'].value_counts())\n",
    "print(data['usual_residance'].value_counts())\n",
    "print(data['age_code'].value_counts())\n",
    "print(data['month_of_birth'].value_counts())"
   ]
  },
  {
   "cell_type": "code",
   "execution_count": 15,
   "metadata": {},
   "outputs": [
    {
     "data": {
      "text/plain": [
       "month_of_birth\n",
       "1     0\n",
       "2     0\n",
       "3     0\n",
       "4     0\n",
       "5     0\n",
       "6     0\n",
       "7     0\n",
       "8     0\n",
       "9     0\n",
       "10    0\n",
       "11    0\n",
       "12    0\n",
       "Name: illness_type, dtype: int64"
      ]
     },
     "execution_count": 15,
     "metadata": {},
     "output_type": "execute_result"
    }
   ],
   "source": [
    "data['illness_type'].groupby(data['month_of_birth']).median()"
   ]
  },
  {
   "cell_type": "code",
   "execution_count": 16,
   "metadata": {},
   "outputs": [
    {
     "data": {
      "text/plain": [
       "(3499, 24)"
      ]
     },
     "execution_count": 16,
     "metadata": {},
     "output_type": "execute_result"
    }
   ],
   "source": [
    "data.shape"
   ]
  },
  {
   "cell_type": "code",
   "execution_count": 17,
   "metadata": {},
   "outputs": [
    {
     "data": {
      "text/plain": [
       "Y    3098\n",
       "M     395\n",
       "D       6\n",
       "Name: age_code, dtype: int64"
      ]
     },
     "execution_count": 17,
     "metadata": {},
     "output_type": "execute_result"
    }
   ],
   "source": [
    "data['age_code'].value_counts()"
   ]
  },
  {
   "cell_type": "code",
   "execution_count": 18,
   "metadata": {},
   "outputs": [
    {
     "data": {
      "text/plain": [
       "3    3256\n",
       "2     143\n",
       "1     100\n",
       "Name: record_code_iodine, dtype: int64"
      ]
     },
     "execution_count": 18,
     "metadata": {},
     "output_type": "execute_result"
    }
   ],
   "source": [
    "data['record_code_iodine'].value_counts()"
   ]
  },
  {
   "cell_type": "code",
   "execution_count": 19,
   "metadata": {},
   "outputs": [
    {
     "data": {
      "text/plain": [
       "1    1847\n",
       "2    1652\n",
       "Name: sex, dtype: int64"
      ]
     },
     "execution_count": 19,
     "metadata": {},
     "output_type": "execute_result"
    }
   ],
   "source": [
    "data['sex'].value_counts()"
   ]
  },
  {
   "cell_type": "code",
   "execution_count": 20,
   "metadata": {},
   "outputs": [
    {
     "data": {
      "text/plain": [
       "M     1738\n",
       "-1    1706\n",
       "D       54\n",
       "m        1\n",
       "Name: day_or_month_for_breast_feeding_, dtype: int64"
      ]
     },
     "execution_count": 20,
     "metadata": {},
     "output_type": "execute_result"
    }
   ],
   "source": [
    "data['day_or_month_for_breast_feeding_'].value_counts()"
   ]
  },
  {
   "cell_type": "code",
   "execution_count": 21,
   "metadata": {},
   "outputs": [
    {
     "name": "stderr",
     "output_type": "stream",
     "text": [
      "/usr/local/lib/python3.5/dist-packages/ipykernel_launcher.py:1: SettingWithCopyWarning: \n",
      "A value is trying to be set on a copy of a slice from a DataFrame\n",
      "\n",
      "See the caveats in the documentation: http://pandas.pydata.org/pandas-docs/stable/indexing.html#indexing-view-versus-copy\n",
      "  \"\"\"Entry point for launching an IPython kernel.\n",
      "/usr/local/lib/python3.5/dist-packages/ipykernel_launcher.py:2: SettingWithCopyWarning: \n",
      "A value is trying to be set on a copy of a slice from a DataFrame\n",
      "\n",
      "See the caveats in the documentation: http://pandas.pydata.org/pandas-docs/stable/indexing.html#indexing-view-versus-copy\n",
      "  \n"
     ]
    }
   ],
   "source": [
    "data['day_or_month_for_breast_feeding_'][data['day_or_month_for_breast_feeding_'] == 'm'] = 'M'\n",
    "data['day_or_month_for_breast_feeding_'][data['day_or_month_for_breast_feeding_'] == 'd'] = 'D'"
   ]
  },
  {
   "cell_type": "code",
   "execution_count": 22,
   "metadata": {},
   "outputs": [
    {
     "name": "stderr",
     "output_type": "stream",
     "text": [
      "/usr/local/lib/python3.5/dist-packages/ipykernel_launcher.py:1: SettingWithCopyWarning: \n",
      "A value is trying to be set on a copy of a slice from a DataFrame\n",
      "\n",
      "See the caveats in the documentation: http://pandas.pydata.org/pandas-docs/stable/indexing.html#indexing-view-versus-copy\n",
      "  \"\"\"Entry point for launching an IPython kernel.\n",
      "/usr/local/lib/python3.5/dist-packages/ipykernel_launcher.py:2: SettingWithCopyWarning: \n",
      "A value is trying to be set on a copy of a slice from a DataFrame\n",
      "\n",
      "See the caveats in the documentation: http://pandas.pydata.org/pandas-docs/stable/indexing.html#indexing-view-versus-copy\n",
      "  \n",
      "/usr/local/lib/python3.5/dist-packages/ipykernel_launcher.py:3: SettingWithCopyWarning: \n",
      "A value is trying to be set on a copy of a slice from a DataFrame\n",
      "\n",
      "See the caveats in the documentation: http://pandas.pydata.org/pandas-docs/stable/indexing.html#indexing-view-versus-copy\n",
      "  This is separate from the ipykernel package so we can avoid doing imports until\n"
     ]
    }
   ],
   "source": [
    "data['age_code'][data['age_code'] == 'd'] = 'D'\n",
    "data['age_code'][data['age_code'] == 'm'] = 'M'\n",
    "data['age_code'][data['age_code'] == 'y'] = 'Y'"
   ]
  },
  {
   "cell_type": "code",
   "execution_count": 23,
   "metadata": {},
   "outputs": [
    {
     "data": {
      "text/plain": [
       "M     1739\n",
       "-1    1706\n",
       "D       54\n",
       "Name: day_or_month_for_breast_feeding_, dtype: int64"
      ]
     },
     "execution_count": 23,
     "metadata": {},
     "output_type": "execute_result"
    }
   ],
   "source": [
    "data['day_or_month_for_breast_feeding_'].value_counts()"
   ]
  },
  {
   "cell_type": "code",
   "execution_count": 24,
   "metadata": {},
   "outputs": [],
   "source": [
    "#droping birth month\n",
    "data = data.drop('month_of_birth', axis=1)"
   ]
  },
  {
   "cell_type": "code",
   "execution_count": 25,
   "metadata": {},
   "outputs": [
    {
     "data": {
      "text/plain": [
       "Index(['state_code', 'district_code', 'rural_urban', 'stratum',\n",
       "       'record_code_iodine', 'sex', 'usual_residance', 'age_code', 'age',\n",
       "       'weight_in_kg', 'length_height_cm', 'haemoglobin_level',\n",
       "       'first_breast_feeding', 'is_cur_breast_feeding',\n",
       "       'day_or_month_for_breast_feeding_', 'day_or_month_for_breast_feeding',\n",
       "       'water_month', 'ani_milk_month', 'semisolid_month_or_day',\n",
       "       'solid_month', 'vegetables_month_or_day', 'illness_type',\n",
       "       'treatment_type'],\n",
       "      dtype='object')"
      ]
     },
     "execution_count": 25,
     "metadata": {},
     "output_type": "execute_result"
    }
   ],
   "source": [
    "data.columns.unique()"
   ]
  },
  {
   "cell_type": "code",
   "execution_count": 26,
   "metadata": {},
   "outputs": [],
   "source": [
    "data = data.drop('rural_urban',axis=1)"
   ]
  },
  {
   "cell_type": "code",
   "execution_count": 27,
   "metadata": {},
   "outputs": [
    {
     "data": {
      "text/plain": [
       "array(['state_code', 'district_code', 'stratum', 'record_code_iodine',\n",
       "       'sex', 'usual_residance', 'age_code', 'age', 'weight_in_kg',\n",
       "       'length_height_cm', 'haemoglobin_level', 'first_breast_feeding',\n",
       "       'is_cur_breast_feeding', 'day_or_month_for_breast_feeding_',\n",
       "       'day_or_month_for_breast_feeding', 'water_month', 'ani_milk_month',\n",
       "       'semisolid_month_or_day', 'solid_month', 'vegetables_month_or_day',\n",
       "       'illness_type', 'treatment_type'], dtype=object)"
      ]
     },
     "execution_count": 27,
     "metadata": {},
     "output_type": "execute_result"
    }
   ],
   "source": [
    "data.columns.values"
   ]
  },
  {
   "cell_type": "code",
   "execution_count": 28,
   "metadata": {},
   "outputs": [],
   "source": [
    "data = data.drop(['stratum', 'usual_residance'],axis=1)"
   ]
  },
  {
   "cell_type": "code",
   "execution_count": 29,
   "metadata": {},
   "outputs": [
    {
     "data": {
      "text/plain": [
       "array(['state_code', 'district_code', 'record_code_iodine', 'sex',\n",
       "       'age_code', 'age', 'weight_in_kg', 'length_height_cm',\n",
       "       'haemoglobin_level', 'first_breast_feeding',\n",
       "       'is_cur_breast_feeding', 'day_or_month_for_breast_feeding_',\n",
       "       'day_or_month_for_breast_feeding', 'water_month', 'ani_milk_month',\n",
       "       'semisolid_month_or_day', 'solid_month', 'vegetables_month_or_day',\n",
       "       'illness_type', 'treatment_type'], dtype=object)"
      ]
     },
     "execution_count": 29,
     "metadata": {},
     "output_type": "execute_result"
    }
   ],
   "source": [
    "data.columns.values"
   ]
  },
  {
   "cell_type": "code",
   "execution_count": 30,
   "metadata": {},
   "outputs": [
    {
     "data": {
      "text/plain": [
       "-1.0    95\n",
       "Name: weight_in_kg, dtype: int64"
      ]
     },
     "execution_count": 30,
     "metadata": {},
     "output_type": "execute_result"
    }
   ],
   "source": [
    "data['weight_in_kg'][data[data['weight_in_kg'] == -1].index].value_counts()"
   ]
  },
  {
   "cell_type": "code",
   "execution_count": 31,
   "metadata": {},
   "outputs": [
    {
     "name": "stdout",
     "output_type": "stream",
     "text": [
      "Series([], Name: record_code_iodine, dtype: int64)\n",
      "Series([], Name: sex, dtype: int64)\n",
      "Series([], Name: age_code, dtype: int64)\n",
      "Series([], Name: age, dtype: int64)\n",
      "-1.0    95\n",
      "Name: weight_in_kg, dtype: int64\n",
      "-1.0    112\n",
      "Name: length_height_cm, dtype: int64\n",
      "-1.0    1535\n",
      "Name: haemoglobin_level, dtype: int64\n",
      "-1    1699\n",
      "Name: first_breast_feeding, dtype: int64\n",
      "-1    1707\n",
      "Name: is_cur_breast_feeding, dtype: int64\n",
      "Series([], Name: day_or_month_for_breast_feeding_, dtype: int64)\n",
      "-1    1709\n",
      "Name: day_or_month_for_breast_feeding, dtype: int64\n",
      "-1    1715\n",
      "Name: water_month, dtype: int64\n",
      "-1    1722\n",
      "Name: ani_milk_month, dtype: int64\n",
      "-1    1720\n",
      "Name: semisolid_month_or_day, dtype: int64\n",
      "-1    1726\n",
      "Name: solid_month, dtype: int64\n",
      "-1    1730\n",
      "Name: vegetables_month_or_day, dtype: int64\n"
     ]
    }
   ],
   "source": [
    "print(data['record_code_iodine'][data[data['record_code_iodine'] == -1].index].value_counts())\n",
    "print(data['sex'][data[data['sex'] == -1].index].value_counts())\n",
    "print(data['age_code'][data[data['age_code'] == -1].index].value_counts())\n",
    "print(data['age'][data[data['age'] == -1].index].value_counts())\n",
    "print(data['weight_in_kg'][data[data['weight_in_kg'] == -1].index].value_counts())\n",
    "print(data['length_height_cm'][data[data['length_height_cm'] == -1].index].value_counts())\n",
    "print(data['haemoglobin_level'][data[data['haemoglobin_level'] == -1].index].value_counts())\n",
    "print(data['first_breast_feeding'][data[data['first_breast_feeding'] == -1].index].value_counts())\n",
    "print(data['is_cur_breast_feeding'][data[data['is_cur_breast_feeding'] == -1].index].value_counts())\n",
    "print(data['day_or_month_for_breast_feeding_'][data[data['day_or_month_for_breast_feeding_'] == -1].index].value_counts())\n",
    "print(data['day_or_month_for_breast_feeding'][data[data['day_or_month_for_breast_feeding'] == -1].index].value_counts())\n",
    "print(data['water_month'][data[data['water_month'] == -1].index].value_counts())\n",
    "print(data['ani_milk_month'][data[data['ani_milk_month'] == -1].index].value_counts())\n",
    "print(data['semisolid_month_or_day'][data[data['semisolid_month_or_day'] == -1].index].value_counts())\n",
    "print(data['solid_month'][data[data['solid_month'] == -1].index].value_counts())\n",
    "print(data['vegetables_month_or_day'][data[data['vegetables_month_or_day'] == -1].index].value_counts())"
   ]
  },
  {
   "cell_type": "code",
   "execution_count": 32,
   "metadata": {},
   "outputs": [
    {
     "data": {
      "text/plain": [
       "(3499, 20)"
      ]
     },
     "execution_count": 32,
     "metadata": {},
     "output_type": "execute_result"
    }
   ],
   "source": [
    "data.shape"
   ]
  },
  {
   "cell_type": "code",
   "execution_count": 33,
   "metadata": {},
   "outputs": [
    {
     "data": {
      "text/plain": [
       "-1    1715\n",
       "Name: water_month, dtype: int64"
      ]
     },
     "execution_count": 33,
     "metadata": {},
     "output_type": "execute_result"
    }
   ],
   "source": [
    "data['water_month'][data[data['water_month'] == -1].index].value_counts()"
   ]
  },
  {
   "cell_type": "code",
   "execution_count": 34,
   "metadata": {},
   "outputs": [
    {
     "data": {
      "text/plain": [
       "-1    1720\n",
       "Name: semisolid_month_or_day, dtype: int64"
      ]
     },
     "execution_count": 34,
     "metadata": {},
     "output_type": "execute_result"
    }
   ],
   "source": [
    "data['semisolid_month_or_day'][data[data['semisolid_month_or_day'] == -1].index].value_counts()"
   ]
  },
  {
   "cell_type": "code",
   "execution_count": 35,
   "metadata": {},
   "outputs": [
    {
     "data": {
      "text/plain": [
       "-1    1707\n",
       "Name: is_cur_breast_feeding, dtype: int64"
      ]
     },
     "execution_count": 35,
     "metadata": {},
     "output_type": "execute_result"
    }
   ],
   "source": [
    "data['is_cur_breast_feeding'][data[(data['is_cur_breast_feeding'] == -1)].index].value_counts()"
   ]
  },
  {
   "cell_type": "code",
   "execution_count": 36,
   "metadata": {},
   "outputs": [
    {
     "data": {
      "text/plain": [
       "-1    1655\n",
       "Name: is_cur_breast_feeding, dtype: int64"
      ]
     },
     "execution_count": 36,
     "metadata": {},
     "output_type": "execute_result"
    }
   ],
   "source": [
    "data['is_cur_breast_feeding'][data[(data['is_cur_breast_feeding'] == -1) & (data['age']>2) & (data['age_code'] == 'Y')].index].value_counts()"
   ]
  },
  {
   "cell_type": "code",
   "execution_count": 37,
   "metadata": {},
   "outputs": [],
   "source": [
    "# data['is_cur_breast_feeding'][data[(data['age_code'] == 'Y') & (data['age'] > 2) & (data['is_cur_breast_feeding'] == -1)].index] = 2\n",
    "data.loc[((data['age']>2) & (data['age_code'] == 'Y') & (data['is_cur_breast_feeding'] == -1)),'is_cur_breast_feeding'] = 2"
   ]
  },
  {
   "cell_type": "code",
   "execution_count": 38,
   "metadata": {},
   "outputs": [
    {
     "data": {
      "text/plain": [
       "-1    52\n",
       "Name: is_cur_breast_feeding, dtype: int64"
      ]
     },
     "execution_count": 38,
     "metadata": {},
     "output_type": "execute_result"
    }
   ],
   "source": [
    "data['is_cur_breast_feeding'][data[data['is_cur_breast_feeding'] == -1].index].value_counts()"
   ]
  },
  {
   "cell_type": "code",
   "execution_count": 39,
   "metadata": {},
   "outputs": [],
   "source": [
    "data['is_cur_breast_feeding'] = data['is_cur_breast_feeding'].replace(-1, 1)"
   ]
  },
  {
   "cell_type": "code",
   "execution_count": 40,
   "metadata": {},
   "outputs": [
    {
     "data": {
      "text/plain": [
       "Series([], Name: age, dtype: int64)"
      ]
     },
     "execution_count": 40,
     "metadata": {},
     "output_type": "execute_result"
    }
   ],
   "source": [
    "data['age'][data[data['is_cur_breast_feeding'] == -1].index]"
   ]
  },
  {
   "cell_type": "code",
   "execution_count": 41,
   "metadata": {},
   "outputs": [
    {
     "data": {
      "text/plain": [
       "-1.0    95\n",
       "Name: weight_in_kg, dtype: int64"
      ]
     },
     "execution_count": 41,
     "metadata": {},
     "output_type": "execute_result"
    }
   ],
   "source": [
    "data['weight_in_kg'][data[(data['weight_in_kg'] == -1)].index].value_counts()"
   ]
  },
  {
   "cell_type": "code",
   "execution_count": 42,
   "metadata": {},
   "outputs": [
    {
     "data": {
      "text/plain": [
       "Y    75\n",
       "M    14\n",
       "D     6\n",
       "Name: age_code, dtype: int64"
      ]
     },
     "execution_count": 42,
     "metadata": {},
     "output_type": "execute_result"
    }
   ],
   "source": [
    "data['age_code'][data[(data['weight_in_kg'] == -1)].index].value_counts()"
   ]
  },
  {
   "cell_type": "code",
   "execution_count": 43,
   "metadata": {},
   "outputs": [],
   "source": [
    "for y in data['age_code'].unique():\n",
    "    for i in data['age'][data[data['age_code'] == y].index].unique():\n",
    "        x = data['weight_in_kg'][data[(data['age_code'] == y) & (data['age'] == i) & (data['weight_in_kg'] != -1)].index].median()\n",
    "        data.loc[((data['age_code'] == y) & (data['age'] == i) & ((data['weight_in_kg'] == -1) | (data['weight_in_kg'].isnull()))), 'weight_in_kg'] = x"
   ]
  },
  {
   "cell_type": "code",
   "execution_count": 46,
   "metadata": {},
   "outputs": [],
   "source": [
    "for y in data['age_code'].unique():\n",
    "    for i in data['age'][data[data['age_code'] == y].index].unique():\n",
    "        x = data['weight_in_kg'][data[(data['age_code'] == y) & (data['age'] == i) & (data['weight_in_kg'] != -1)].index].median()\n",
    "        data['weight_in_kg'] = data['weight_in_kg'].fillna(x)"
   ]
  },
  {
   "cell_type": "code",
   "execution_count": 47,
   "metadata": {},
   "outputs": [
    {
     "data": {
      "text/plain": [
       "Series([], Name: weight_in_kg, dtype: int64)"
      ]
     },
     "execution_count": 47,
     "metadata": {},
     "output_type": "execute_result"
    }
   ],
   "source": [
    "data['weight_in_kg'][data[(data['weight_in_kg'] == -1)].index].value_counts()"
   ]
  },
  {
   "cell_type": "code",
   "execution_count": 48,
   "metadata": {},
   "outputs": [
    {
     "data": {
      "text/plain": [
       "-1.0    112\n",
       "Name: length_height_cm, dtype: int64"
      ]
     },
     "execution_count": 48,
     "metadata": {},
     "output_type": "execute_result"
    }
   ],
   "source": [
    "data['length_height_cm'][data[(data['length_height_cm'] == -1)].index].value_counts()"
   ]
  },
  {
   "cell_type": "code",
   "execution_count": 49,
   "metadata": {},
   "outputs": [],
   "source": [
    "for y in data['age_code'].unique():\n",
    "    for i in data['age'][data[data['age_code'] == y].index].unique():\n",
    "        x = data['length_height_cm'][data[(data['age_code'] == y) & (data['age'] == i) & (data['length_height_cm'] != -1)].index].median()\n",
    "        data.loc[((data['age_code'] == y) & (data['age'] == i) & ((data['length_height_cm'] == -1) | (data['length_height_cm'].isnull()))), 'length_height_cm'] = x\n",
    "        data['length_height_cm'] = data['length_height_cm'].fillna(x)"
   ]
  },
  {
   "cell_type": "code",
   "execution_count": 50,
   "metadata": {},
   "outputs": [],
   "source": [
    "for y in data['age_code'].unique():\n",
    "    for i in data['age'][data[data['age_code'] == y].index].unique():\n",
    "        x = data['length_height_cm'][data[(data['age_code'] == y) & (data['age'] == i) & (data['length_height_cm'] != -1)].index].median()\n",
    "        data['length_height_cm'] = data['length_height_cm'].fillna(x)"
   ]
  },
  {
   "cell_type": "code",
   "execution_count": 51,
   "metadata": {},
   "outputs": [
    {
     "data": {
      "text/plain": [
       "Series([], Name: length_height_cm, dtype: int64)"
      ]
     },
     "execution_count": 51,
     "metadata": {},
     "output_type": "execute_result"
    }
   ],
   "source": [
    "data['length_height_cm'][data[(data['length_height_cm'] == -1)].index].value_counts()"
   ]
  },
  {
   "cell_type": "code",
   "execution_count": 52,
   "metadata": {},
   "outputs": [
    {
     "data": {
      "text/plain": [
       "-1.0    1535\n",
       "Name: haemoglobin_level, dtype: int64"
      ]
     },
     "execution_count": 52,
     "metadata": {},
     "output_type": "execute_result"
    }
   ],
   "source": [
    "data['haemoglobin_level'][data[(data['haemoglobin_level'] == -1)].index].value_counts()"
   ]
  },
  {
   "cell_type": "code",
   "execution_count": 53,
   "metadata": {},
   "outputs": [],
   "source": [
    "for y in data['age_code'].unique():\n",
    "    for i in data['age'][data[data['age_code'] == y].index].unique():\n",
    "        x = data['haemoglobin_level'][data[(data['age_code'] == y) & (data['age'] == i) & (data['haemoglobin_level'] != -1)].index].median()\n",
    "        data.loc[((data['age_code'] == y) & (data['age'] == i) & ((data['haemoglobin_level'] == -1) | (data['haemoglobin_level'].isnull()))), 'haemoglobin_level'] = x"
   ]
  },
  {
   "cell_type": "code",
   "execution_count": 54,
   "metadata": {},
   "outputs": [],
   "source": [
    "for y in data['age_code'].unique():\n",
    "    for i in data['age'][data[data['age_code'] == y].index].unique():\n",
    "        x = data['haemoglobin_level'][data[(data['age_code'] == y) & (data['age'] == i) & (data['haemoglobin_level'] != -1)].index].median()\n",
    "        data['haemoglobin_level'] = data['haemoglobin_level'].fillna(x)"
   ]
  },
  {
   "cell_type": "code",
   "execution_count": 55,
   "metadata": {},
   "outputs": [
    {
     "data": {
      "text/plain": [
       "Series([], Name: haemoglobin_level, dtype: int64)"
      ]
     },
     "execution_count": 55,
     "metadata": {},
     "output_type": "execute_result"
    }
   ],
   "source": [
    "data['haemoglobin_level'][data[(data['haemoglobin_level'] == -1)].index].value_counts()"
   ]
  },
  {
   "cell_type": "code",
   "execution_count": 56,
   "metadata": {},
   "outputs": [
    {
     "data": {
      "text/plain": [
       "-1    1699\n",
       "Name: first_breast_feeding, dtype: int64"
      ]
     },
     "execution_count": 56,
     "metadata": {},
     "output_type": "execute_result"
    }
   ],
   "source": [
    "data['first_breast_feeding'][data[(data['first_breast_feeding'] == -1)].index].value_counts()"
   ]
  },
  {
   "cell_type": "code",
   "execution_count": 57,
   "metadata": {},
   "outputs": [
    {
     "name": "stdout",
     "output_type": "stream",
     "text": [
      "1\n",
      "297\n",
      "-1    45.117845\n",
      " 1    49.158249\n",
      " 2     5.050505\n",
      " 3     0.336700\n",
      " 4     0.336700\n",
      "Name: first_breast_feeding, dtype: float64\n",
      "----------------------------------------------------\n",
      "4\n",
      "411\n",
      "-1    40.145985\n",
      " 1    12.895377\n",
      " 2    46.958637\n",
      "Name: first_breast_feeding, dtype: float64\n",
      "----------------------------------------------------\n",
      "5\n",
      "276\n",
      "-1    46.376812\n",
      " 1    40.942029\n",
      " 2     9.420290\n",
      " 3     2.898551\n",
      " 5     0.362319\n",
      "Name: first_breast_feeding, dtype: float64\n",
      "----------------------------------------------------\n",
      "6\n",
      "234\n",
      "-1    50.854701\n",
      " 1    40.170940\n",
      " 2     5.128205\n",
      " 3     2.564103\n",
      " 4     0.427350\n",
      " 5     0.854701\n",
      "Name: first_breast_feeding, dtype: float64\n",
      "----------------------------------------------------\n",
      "7\n",
      "134\n",
      "-1    79.104478\n",
      " 1    17.164179\n",
      " 2     3.731343\n",
      "Name: first_breast_feeding, dtype: float64\n",
      "----------------------------------------------------\n",
      "8\n",
      "136\n",
      "-1    73.529412\n",
      " 1    24.264706\n",
      " 2     1.470588\n",
      " 3     0.735294\n",
      "Name: first_breast_feeding, dtype: float64\n",
      "----------------------------------------------------\n",
      "9\n",
      "116\n",
      "-1    68.103448\n",
      " 1    29.310345\n",
      " 2     2.586207\n",
      "Name: first_breast_feeding, dtype: float64\n",
      "----------------------------------------------------\n",
      "10\n",
      "298\n",
      "-1    53.020134\n",
      " 1    30.201342\n",
      " 2    11.744966\n",
      " 3     3.020134\n",
      " 4     1.677852\n",
      " 5     0.335570\n",
      "Name: first_breast_feeding, dtype: float64\n",
      "----------------------------------------------------\n",
      "11\n",
      "327\n",
      "-1    51.987768\n",
      " 1    36.085627\n",
      " 2     9.785933\n",
      " 3     1.834862\n",
      " 5     0.305810\n",
      "Name: first_breast_feeding, dtype: float64\n",
      "----------------------------------------------------\n",
      "12\n",
      "523\n",
      "-1    48.183556\n",
      " 1    32.313576\n",
      " 2    13.766730\n",
      " 3     3.632887\n",
      " 4     1.338432\n",
      " 5     0.764818\n",
      "Name: first_breast_feeding, dtype: float64\n",
      "----------------------------------------------------\n",
      "13\n",
      "747\n",
      "-1    38.554217\n",
      " 1    24.899598\n",
      " 2    27.175368\n",
      " 3     7.228916\n",
      " 4     1.606426\n",
      " 5     0.535475\n",
      "Name: first_breast_feeding, dtype: float64\n",
      "----------------------------------------------------\n"
     ]
    }
   ],
   "source": [
    "for i in data['district_code'].unique():\n",
    "    print(i)\n",
    "    x = data['district_code'][data[data['district_code']==i].index].value_counts()\n",
    "    print(x[i])\n",
    "    print((data['first_breast_feeding'][data[data['district_code']==i].index].value_counts().sort_index())*100/x[i])\n",
    "    print(\"----------------------------------------------------\")"
   ]
  },
  {
   "cell_type": "code",
   "execution_count": 58,
   "metadata": {},
   "outputs": [],
   "source": [
    "for i in data['district_code'].unique():\n",
    "    x = data['first_breast_feeding'][data[(data['district_code'] == i) & (data['first_breast_feeding'] != -1)].index].value_counts()\n",
    "    y = x[x == x.max()].index.item()\n",
    "    data.loc[((data['district_code'] == i) & ((data['first_breast_feeding'] == -1) | (data['first_breast_feeding'].isnull()))), 'first_breast_feeding'] = y"
   ]
  },
  {
   "cell_type": "code",
   "execution_count": 59,
   "metadata": {},
   "outputs": [],
   "source": [
    "for i in data['district_code'].unique():\n",
    "    x = data['first_breast_feeding'][data[(data['district_code'] == i) & (data['first_breast_feeding'] != -1)].index].value_counts()\n",
    "    y = x[x == x.max()].index.item()\n",
    "    data['first_breast_feeding'] = data['first_breast_feeding'].fillna(y)"
   ]
  },
  {
   "cell_type": "code",
   "execution_count": 60,
   "metadata": {},
   "outputs": [
    {
     "data": {
      "text/plain": [
       "Series([], Name: first_breast_feeding, dtype: int64)"
      ]
     },
     "execution_count": 60,
     "metadata": {},
     "output_type": "execute_result"
    }
   ],
   "source": [
    "data['first_breast_feeding'][data[(data['first_breast_feeding'] == -1)].index].value_counts()"
   ]
  },
  {
   "cell_type": "code",
   "execution_count": 61,
   "metadata": {},
   "outputs": [
    {
     "data": {
      "text/plain": [
       "-1    1709\n",
       "Name: day_or_month_for_breast_feeding, dtype: int64"
      ]
     },
     "execution_count": 61,
     "metadata": {},
     "output_type": "execute_result"
    }
   ],
   "source": [
    "data['day_or_month_for_breast_feeding'][data[(data['day_or_month_for_breast_feeding'] == -1)].index].value_counts()"
   ]
  },
  {
   "cell_type": "code",
   "execution_count": 62,
   "metadata": {},
   "outputs": [
    {
     "name": "stdout",
     "output_type": "stream",
     "text": [
      "1\n",
      "297\n",
      "-1     45.454545\n",
      " 0      1.683502\n",
      " 1      0.336700\n",
      " 2      2.020202\n",
      " 3      2.020202\n",
      " 4      5.723906\n",
      " 6     18.181818\n",
      " 7      3.367003\n",
      " 8      2.356902\n",
      " 9      3.367003\n",
      " 10     1.010101\n",
      " 11     2.356902\n",
      " 12     5.050505\n",
      " 13     0.336700\n",
      " 14     0.336700\n",
      " 15     0.336700\n",
      " 18     4.377104\n",
      " 20     1.010101\n",
      " 23     0.336700\n",
      " 28     0.336700\n",
      "Name: day_or_month_for_breast_feeding, dtype: float64\n",
      "----------------------------------------------------\n",
      "4\n",
      "411\n",
      "-1     40.145985\n",
      " 0      0.973236\n",
      " 1      4.866180\n",
      " 2      4.866180\n",
      " 3      6.326034\n",
      " 4      6.569343\n",
      " 5     11.435523\n",
      " 6     22.384428\n",
      " 7      0.729927\n",
      " 8      0.729927\n",
      " 10     0.486618\n",
      " 24     0.486618\n",
      "Name: day_or_month_for_breast_feeding, dtype: float64\n",
      "----------------------------------------------------\n",
      "5\n",
      "276\n",
      "-1     47.101449\n",
      " 0      2.536232\n",
      " 1      1.449275\n",
      " 2      3.623188\n",
      " 3      3.623188\n",
      " 4      9.057971\n",
      " 5     22.101449\n",
      " 6      7.971014\n",
      " 8      0.362319\n",
      " 9      1.086957\n",
      " 10     0.362319\n",
      " 11     0.362319\n",
      " 15     0.362319\n",
      "Name: day_or_month_for_breast_feeding, dtype: float64\n",
      "----------------------------------------------------\n",
      "6\n",
      "234\n",
      "-1     52.991453\n",
      " 0      3.418803\n",
      " 1      3.418803\n",
      " 2      1.709402\n",
      " 3      2.136752\n",
      " 4     10.256410\n",
      " 5      5.555556\n",
      " 6     16.666667\n",
      " 7      0.854701\n",
      " 10     0.427350\n",
      " 12     0.427350\n",
      " 15     0.427350\n",
      " 16     0.854701\n",
      " 18     0.854701\n",
      "Name: day_or_month_for_breast_feeding, dtype: float64\n",
      "----------------------------------------------------\n",
      "7\n",
      "134\n",
      "-1     79.104478\n",
      " 0      2.238806\n",
      " 3      0.746269\n",
      " 5      1.492537\n",
      " 6      3.731343\n",
      " 7      0.746269\n",
      " 8      0.746269\n",
      " 9      1.492537\n",
      " 10     2.985075\n",
      " 12     1.492537\n",
      " 14     0.746269\n",
      " 16     2.238806\n",
      " 18     1.492537\n",
      " 22     0.746269\n",
      "Name: day_or_month_for_breast_feeding, dtype: float64\n",
      "----------------------------------------------------\n",
      "8\n",
      "136\n",
      "-1     73.529412\n",
      " 1      0.735294\n",
      " 2      0.735294\n",
      " 4      2.205882\n",
      " 5      1.470588\n",
      " 6     15.441176\n",
      " 8      1.470588\n",
      " 9      0.735294\n",
      " 10     0.735294\n",
      " 11     0.735294\n",
      " 14     1.470588\n",
      " 16     0.735294\n",
      "Name: day_or_month_for_breast_feeding, dtype: float64\n",
      "----------------------------------------------------\n",
      "9\n",
      "116\n",
      "-1     68.103448\n",
      " 2      0.862069\n",
      " 4      1.724138\n",
      " 5      3.448276\n",
      " 6      7.758621\n",
      " 7      0.862069\n",
      " 8      2.586207\n",
      " 10     0.862069\n",
      " 11     1.724138\n",
      " 13     0.862069\n",
      " 15     0.862069\n",
      " 16     1.724138\n",
      " 17     0.862069\n",
      " 18     6.896552\n",
      " 21     0.862069\n",
      "Name: day_or_month_for_breast_feeding, dtype: float64\n",
      "----------------------------------------------------\n",
      "10\n",
      "298\n",
      "-1     53.355705\n",
      " 0      1.342282\n",
      " 1      1.006711\n",
      " 3      0.671141\n",
      " 4      0.671141\n",
      " 5      2.684564\n",
      " 6     24.496644\n",
      " 7      1.342282\n",
      " 8      3.020134\n",
      " 9      2.684564\n",
      " 10     3.691275\n",
      " 11     2.348993\n",
      " 12     0.671141\n",
      " 15     0.335570\n",
      " 16     0.671141\n",
      " 18     0.335570\n",
      " 20     0.335570\n",
      " 24     0.335570\n",
      "Name: day_or_month_for_breast_feeding, dtype: float64\n",
      "----------------------------------------------------\n",
      "11\n",
      "327\n",
      "-1     51.987768\n",
      " 0      0.305810\n",
      " 1      1.529052\n",
      " 2      1.529052\n",
      " 3      1.223242\n",
      " 4      0.917431\n",
      " 5      3.363914\n",
      " 6     22.629969\n",
      " 7      3.058104\n",
      " 8      2.752294\n",
      " 9      1.834862\n",
      " 10     1.223242\n",
      " 11     1.529052\n",
      " 12     1.223242\n",
      " 13     0.611621\n",
      " 14     0.305810\n",
      " 15     0.305810\n",
      " 16     1.223242\n",
      " 18     0.917431\n",
      " 20     0.611621\n",
      " 22     0.305810\n",
      " 24     0.611621\n",
      "Name: day_or_month_for_breast_feeding, dtype: float64\n",
      "----------------------------------------------------\n",
      "12\n",
      "523\n",
      "-1     48.183556\n",
      " 0      0.956023\n",
      " 1      0.764818\n",
      " 2      1.529637\n",
      " 3      1.529637\n",
      " 4      2.294455\n",
      " 5      3.632887\n",
      " 6     16.252390\n",
      " 7      1.912046\n",
      " 8      2.868069\n",
      " 9      2.868069\n",
      " 10     2.485660\n",
      " 11     2.676864\n",
      " 12     2.294455\n",
      " 13     1.338432\n",
      " 14     2.294455\n",
      " 15     1.147228\n",
      " 16     1.147228\n",
      " 17     0.573614\n",
      " 18     1.529637\n",
      " 19     0.573614\n",
      " 20     0.573614\n",
      " 21     0.382409\n",
      " 22     0.191205\n",
      "Name: day_or_month_for_breast_feeding, dtype: float64\n",
      "----------------------------------------------------\n",
      "13\n",
      "747\n",
      "-1     38.688086\n",
      " 0      4.685408\n",
      " 1      7.496653\n",
      " 2      6.559572\n",
      " 3      9.638554\n",
      " 4     11.378849\n",
      " 5      6.157965\n",
      " 6     11.914324\n",
      " 7      0.535475\n",
      " 8      0.669344\n",
      " 10     0.937082\n",
      " 11     0.401606\n",
      " 12     0.133869\n",
      " 15     0.133869\n",
      " 16     0.133869\n",
      " 17     0.133869\n",
      " 39     0.133869\n",
      " 40     0.133869\n",
      " 41     0.133869\n",
      "Name: day_or_month_for_breast_feeding, dtype: float64\n",
      "----------------------------------------------------\n"
     ]
    }
   ],
   "source": [
    "for i in data['district_code'].unique():\n",
    "    print(i)\n",
    "    x = data['district_code'][data[data['district_code']==i].index].value_counts()\n",
    "    print(x[i])\n",
    "    print((data['day_or_month_for_breast_feeding'][data[data['district_code']==i].index].value_counts().sort_index())*100/x[i])\n",
    "    print(\"----------------------------------------------------\")"
   ]
  },
  {
   "cell_type": "code",
   "execution_count": 63,
   "metadata": {},
   "outputs": [],
   "source": [
    "data.loc[(data['day_or_month_for_breast_feeding'] == -1), 'day_or_month_for_breast_feeding'] = 6"
   ]
  },
  {
   "cell_type": "code",
   "execution_count": 64,
   "metadata": {},
   "outputs": [
    {
     "data": {
      "text/plain": [
       "Series([], Name: day_or_month_for_breast_feeding, dtype: int64)"
      ]
     },
     "execution_count": 64,
     "metadata": {},
     "output_type": "execute_result"
    }
   ],
   "source": [
    "data['day_or_month_for_breast_feeding'][data[(data['day_or_month_for_breast_feeding'] == -1)].index].value_counts()"
   ]
  },
  {
   "cell_type": "code",
   "execution_count": 65,
   "metadata": {},
   "outputs": [
    {
     "name": "stdout",
     "output_type": "stream",
     "text": [
      "-1    1715\n",
      "Name: water_month, dtype: int64\n",
      "-1    1722\n",
      "Name: ani_milk_month, dtype: int64\n",
      "-1    1720\n",
      "Name: semisolid_month_or_day, dtype: int64\n",
      "-1    1726\n",
      "Name: solid_month, dtype: int64\n",
      "-1    1730\n",
      "Name: vegetables_month_or_day, dtype: int64\n"
     ]
    }
   ],
   "source": [
    "print(data['water_month'][data[data['water_month'] == -1].index].value_counts())\n",
    "print(data['ani_milk_month'][data[data['ani_milk_month'] == -1].index].value_counts())\n",
    "print(data['semisolid_month_or_day'][data[data['semisolid_month_or_day'] == -1].index].value_counts())\n",
    "print(data['solid_month'][data[data['solid_month'] == -1].index].value_counts())\n",
    "print(data['vegetables_month_or_day'][data[data['vegetables_month_or_day'] == -1].index].value_counts())"
   ]
  },
  {
   "cell_type": "code",
   "execution_count": 66,
   "metadata": {},
   "outputs": [],
   "source": [
    "for i in data['district_code'].unique():\n",
    "    x = data['water_month'][data[(data['district_code'] == i) & (data['water_month'] != -1)].index].value_counts()\n",
    "    y = x[x == x.max()].index.tolist()\n",
    "    data.loc[((data['district_code'] == i) & ((data['water_month'] == -1) | (data['water_month'].isnull()))), 'water_month'] = y[0]"
   ]
  },
  {
   "cell_type": "code",
   "execution_count": 67,
   "metadata": {},
   "outputs": [],
   "source": [
    "for i in data['district_code'].unique():\n",
    "    x = data['water_month'][data[(data['district_code'] == i) & (data['water_month'] != -1)].index].value_counts()\n",
    "    y = x[x == x.max()].index.tolist()\n",
    "    data['water_month'] = data['water_month'].fillna(y[0])"
   ]
  },
  {
   "cell_type": "code",
   "execution_count": 68,
   "metadata": {},
   "outputs": [],
   "source": [
    "for i in data['district_code'].unique():\n",
    "    x = data['ani_milk_month'][data[(data['district_code'] == i) & (data['ani_milk_month'] != -1)].index].value_counts()\n",
    "    y = x[x == x.max()].index.tolist()\n",
    "    data.loc[((data['district_code'] == i) & ((data['ani_milk_month'] == -1) | (data['ani_milk_month'].isnull()))), 'ani_milk_month'] = y[0]\n",
    "    #data['ani_milk_month'] = data['ani_milk_month'].fillna(y[0])"
   ]
  },
  {
   "cell_type": "code",
   "execution_count": 69,
   "metadata": {},
   "outputs": [],
   "source": [
    "for i in data['district_code'].unique():\n",
    "    x = data['ani_milk_month'][data[(data['district_code'] == i) & (data['ani_milk_month'] != -1)].index].value_counts()\n",
    "    y = x[x == x.max()].index.tolist()\n",
    "    data['ani_milk_month'] = data['ani_milk_month'].fillna(y[0])"
   ]
  },
  {
   "cell_type": "code",
   "execution_count": 70,
   "metadata": {},
   "outputs": [],
   "source": [
    "for i in data['district_code'].unique():\n",
    "    x = data['semisolid_month_or_day'][data[(data['district_code'] == i) & (data['semisolid_month_or_day'] != -1)].index].value_counts()\n",
    "    y = x[x == x.max()].index.tolist()\n",
    "    data.loc[((data['district_code'] == i) & ((data['semisolid_month_or_day'] == -1) | (data['semisolid_month_or_day'].isnull()))), 'semisolid_month_or_day'] = y[0]\n",
    "    #data['semisolid_month_or_day'] = data['semisolid_month_or_day'].fillna(y[0])"
   ]
  },
  {
   "cell_type": "code",
   "execution_count": 71,
   "metadata": {},
   "outputs": [],
   "source": [
    "for i in data['district_code'].unique():\n",
    "    x = data['semisolid_month_or_day'][data[(data['district_code'] == i) & (data['semisolid_month_or_day'] != -1)].index].value_counts()\n",
    "    y = x[x == x.max()].index.tolist()\n",
    "    data['semisolid_month_or_day'] = data['semisolid_month_or_day'].fillna(y[0])"
   ]
  },
  {
   "cell_type": "code",
   "execution_count": 72,
   "metadata": {},
   "outputs": [],
   "source": [
    "for i in data['district_code'].unique():\n",
    "    x = data['solid_month'][data[(data['district_code'] == i) & (data['solid_month'] != -1)].index].value_counts()\n",
    "    y = x[x == x.max()].index.tolist()\n",
    "    data.loc[((data['district_code'] == i) & ((data['solid_month'] == -1) | (data['solid_month'].isnull()))), 'solid_month'] = y[0]\n",
    "    #data['solid_month'] = data['solid_month'].fillna(y[0])"
   ]
  },
  {
   "cell_type": "code",
   "execution_count": 73,
   "metadata": {},
   "outputs": [],
   "source": [
    "for i in data['district_code'].unique():\n",
    "    x = data['solid_month'][data[(data['district_code'] == i) & (data['solid_month'] != -1)].index].value_counts()\n",
    "    y = x[x == x.max()].index.tolist()\n",
    "    data['solid_month'] = data['solid_month'].fillna(y[0])"
   ]
  },
  {
   "cell_type": "code",
   "execution_count": 74,
   "metadata": {},
   "outputs": [],
   "source": [
    "for i in data['district_code'].unique():\n",
    "    x = data['vegetables_month_or_day'][data[(data['district_code'] == i) & (data['vegetables_month_or_day'] != -1)].index].value_counts()\n",
    "    y = x[x == x.max()].index.tolist()\n",
    "    data.loc[((data['district_code'] == i) & ((data['vegetables_month_or_day'] == -1) | (data['vegetables_month_or_day'].isnull()))), 'vegetables_month_or_day'] = y[0]\n",
    "    #data['vegetables_month_or_day'] = data['vegetables_month_or_day'].fillna(y[0])"
   ]
  },
  {
   "cell_type": "code",
   "execution_count": 75,
   "metadata": {},
   "outputs": [],
   "source": [
    "for i in data['district_code'].unique():\n",
    "    x = data['vegetables_month_or_day'][data[(data['district_code'] == i) & (data['vegetables_month_or_day'] != -1)].index].value_counts()\n",
    "    y = x[x == x.max()].index.tolist()\n",
    "    data['vegetables_month_or_day'] = data['vegetables_month_or_day'].fillna(y[0])"
   ]
  },
  {
   "cell_type": "code",
   "execution_count": 76,
   "metadata": {},
   "outputs": [
    {
     "name": "stdout",
     "output_type": "stream",
     "text": [
      "Series([], Name: water_month, dtype: int64)\n",
      "Series([], Name: ani_milk_month, dtype: int64)\n",
      "Series([], Name: semisolid_month_or_day, dtype: int64)\n",
      "Series([], Name: solid_month, dtype: int64)\n",
      "Series([], Name: vegetables_month_or_day, dtype: int64)\n"
     ]
    }
   ],
   "source": [
    "print(data['water_month'][data[data['water_month'] == -1].index].value_counts())\n",
    "print(data['ani_milk_month'][data[data['ani_milk_month'] == -1].index].value_counts())\n",
    "print(data['semisolid_month_or_day'][data[data['semisolid_month_or_day'] == -1].index].value_counts())\n",
    "print(data['solid_month'][data[data['solid_month'] == -1].index].value_counts())\n",
    "print(data['vegetables_month_or_day'][data[data['vegetables_month_or_day'] == -1].index].value_counts())"
   ]
  },
  {
   "cell_type": "code",
   "execution_count": 77,
   "metadata": {},
   "outputs": [],
   "source": [
    "data = data.drop('district_code', axis=1)"
   ]
  },
  {
   "cell_type": "code",
   "execution_count": 78,
   "metadata": {},
   "outputs": [
    {
     "data": {
      "text/plain": [
       "array(['state_code', 'record_code_iodine', 'sex', 'age_code', 'age',\n",
       "       'weight_in_kg', 'length_height_cm', 'haemoglobin_level',\n",
       "       'first_breast_feeding', 'is_cur_breast_feeding',\n",
       "       'day_or_month_for_breast_feeding_',\n",
       "       'day_or_month_for_breast_feeding', 'water_month', 'ani_milk_month',\n",
       "       'semisolid_month_or_day', 'solid_month', 'vegetables_month_or_day',\n",
       "       'illness_type', 'treatment_type'], dtype=object)"
      ]
     },
     "execution_count": 78,
     "metadata": {},
     "output_type": "execute_result"
    }
   ],
   "source": [
    "data.columns.values"
   ]
  },
  {
   "cell_type": "code",
   "execution_count": 79,
   "metadata": {},
   "outputs": [
    {
     "data": {
      "text/plain": [
       "(3499, 19)"
      ]
     },
     "execution_count": 79,
     "metadata": {},
     "output_type": "execute_result"
    }
   ],
   "source": [
    "data.shape"
   ]
  },
  {
   "cell_type": "code",
   "execution_count": 80,
   "metadata": {},
   "outputs": [
    {
     "name": "stderr",
     "output_type": "stream",
     "text": [
      "/usr/local/lib/python3.5/dist-packages/ipykernel_launcher.py:3: SettingWithCopyWarning: \n",
      "A value is trying to be set on a copy of a slice from a DataFrame\n",
      "\n",
      "See the caveats in the documentation: http://pandas.pydata.org/pandas-docs/stable/indexing.html#indexing-view-versus-copy\n",
      "  This is separate from the ipykernel package so we can avoid doing imports until\n",
      "/usr/local/lib/python3.5/dist-packages/ipykernel_launcher.py:5: SettingWithCopyWarning: \n",
      "A value is trying to be set on a copy of a slice from a DataFrame\n",
      "\n",
      "See the caveats in the documentation: http://pandas.pydata.org/pandas-docs/stable/indexing.html#indexing-view-versus-copy\n",
      "  \"\"\"\n"
     ]
    }
   ],
   "source": [
    "for i in data[data['day_or_month_for_breast_feeding_'] == 'D'].index:\n",
    "    if data['day_or_month_for_breast_feeding'][i] < 15:\n",
    "        data['day_or_month_for_breast_feeding'][i] = 0\n",
    "    else :\n",
    "        data['day_or_month_for_breast_feeding'][i] = 1"
   ]
  },
  {
   "cell_type": "code",
   "execution_count": 81,
   "metadata": {},
   "outputs": [
    {
     "name": "stderr",
     "output_type": "stream",
     "text": [
      "/usr/local/lib/python3.5/dist-packages/ipykernel_launcher.py:3: SettingWithCopyWarning: \n",
      "A value is trying to be set on a copy of a slice from a DataFrame\n",
      "\n",
      "See the caveats in the documentation: http://pandas.pydata.org/pandas-docs/stable/indexing.html#indexing-view-versus-copy\n",
      "  This is separate from the ipykernel package so we can avoid doing imports until\n"
     ]
    }
   ],
   "source": [
    "for i in data[data['age_code'] == 'Y'].index:\n",
    "    x = data['age'][i]\n",
    "    data['age'][i] = x*12"
   ]
  },
  {
   "cell_type": "code",
   "execution_count": 82,
   "metadata": {},
   "outputs": [
    {
     "name": "stderr",
     "output_type": "stream",
     "text": [
      "/usr/local/lib/python3.5/dist-packages/ipykernel_launcher.py:4: SettingWithCopyWarning: \n",
      "A value is trying to be set on a copy of a slice from a DataFrame\n",
      "\n",
      "See the caveats in the documentation: http://pandas.pydata.org/pandas-docs/stable/indexing.html#indexing-view-versus-copy\n",
      "  after removing the cwd from sys.path.\n",
      "/usr/local/lib/python3.5/dist-packages/ipykernel_launcher.py:6: SettingWithCopyWarning: \n",
      "A value is trying to be set on a copy of a slice from a DataFrame\n",
      "\n",
      "See the caveats in the documentation: http://pandas.pydata.org/pandas-docs/stable/indexing.html#indexing-view-versus-copy\n",
      "  \n"
     ]
    }
   ],
   "source": [
    "for i in data[data['age_code'] == 'D'].index:\n",
    "    x = data['age'][i]\n",
    "    if data['age'][i] < 15:\n",
    "        data['age'][i] = 0\n",
    "    else :\n",
    "        data['age'][i] = 1"
   ]
  },
  {
   "cell_type": "code",
   "execution_count": 83,
   "metadata": {},
   "outputs": [
    {
     "data": {
      "text/plain": [
       "array(['state_code', 'record_code_iodine', 'sex', 'age_code', 'age',\n",
       "       'weight_in_kg', 'length_height_cm', 'haemoglobin_level',\n",
       "       'first_breast_feeding', 'is_cur_breast_feeding',\n",
       "       'day_or_month_for_breast_feeding_',\n",
       "       'day_or_month_for_breast_feeding', 'water_month', 'ani_milk_month',\n",
       "       'semisolid_month_or_day', 'solid_month', 'vegetables_month_or_day',\n",
       "       'illness_type', 'treatment_type'], dtype=object)"
      ]
     },
     "execution_count": 83,
     "metadata": {},
     "output_type": "execute_result"
    }
   ],
   "source": [
    "data.columns.values"
   ]
  },
  {
   "cell_type": "code",
   "execution_count": 84,
   "metadata": {},
   "outputs": [],
   "source": [
    "data = data.drop(['age_code', 'day_or_month_for_breast_feeding_'] , axis=1)"
   ]
  },
  {
   "cell_type": "code",
   "execution_count": 85,
   "metadata": {},
   "outputs": [],
   "source": [
    "data = data.drop('treatment_type' , axis=1)"
   ]
  },
  {
   "cell_type": "code",
   "execution_count": 86,
   "metadata": {},
   "outputs": [
    {
     "data": {
      "text/plain": [
       "array(['state_code', 'record_code_iodine', 'sex', 'age', 'weight_in_kg',\n",
       "       'length_height_cm', 'haemoglobin_level', 'first_breast_feeding',\n",
       "       'is_cur_breast_feeding', 'day_or_month_for_breast_feeding',\n",
       "       'water_month', 'ani_milk_month', 'semisolid_month_or_day',\n",
       "       'solid_month', 'vegetables_month_or_day', 'illness_type'], dtype=object)"
      ]
     },
     "execution_count": 86,
     "metadata": {},
     "output_type": "execute_result"
    }
   ],
   "source": [
    "data.columns.values"
   ]
  },
  {
   "cell_type": "code",
   "execution_count": 87,
   "metadata": {},
   "outputs": [
    {
     "data": {
      "text/plain": [
       "(3499, 16)"
      ]
     },
     "execution_count": 87,
     "metadata": {},
     "output_type": "execute_result"
    }
   ],
   "source": [
    "data.shape"
   ]
  },
  {
   "cell_type": "code",
   "execution_count": 88,
   "metadata": {},
   "outputs": [
    {
     "name": "stdout",
     "output_type": "stream",
     "text": [
      "state_code\n",
      "Series([], Name: state_code, dtype: int64)\n",
      "Series([], Name: state_code, dtype: int64)\n",
      "record_code_iodine\n",
      "Series([], Name: state_code, dtype: int64)\n",
      "Series([], Name: state_code, dtype: int64)\n",
      "sex\n",
      "Series([], Name: state_code, dtype: int64)\n",
      "Series([], Name: state_code, dtype: int64)\n",
      "age\n",
      "Series([], Name: state_code, dtype: int64)\n",
      "Series([], Name: state_code, dtype: int64)\n",
      "weight_in_kg\n",
      "Series([], Name: state_code, dtype: int64)\n",
      "Series([], Name: state_code, dtype: int64)\n",
      "length_height_cm\n",
      "Series([], Name: state_code, dtype: int64)\n",
      "Series([], Name: state_code, dtype: int64)\n",
      "haemoglobin_level\n",
      "Series([], Name: state_code, dtype: int64)\n",
      "Series([], Name: state_code, dtype: int64)\n",
      "first_breast_feeding\n",
      "Series([], Name: state_code, dtype: int64)\n",
      "Series([], Name: state_code, dtype: int64)\n",
      "is_cur_breast_feeding\n",
      "Series([], Name: state_code, dtype: int64)\n",
      "Series([], Name: state_code, dtype: int64)\n",
      "day_or_month_for_breast_feeding\n",
      "Series([], Name: state_code, dtype: int64)\n",
      "Series([], Name: state_code, dtype: int64)\n",
      "water_month\n",
      "Series([], Name: state_code, dtype: int64)\n",
      "Series([], Name: state_code, dtype: int64)\n",
      "ani_milk_month\n",
      "Series([], Name: state_code, dtype: int64)\n",
      "Series([], Name: state_code, dtype: int64)\n",
      "semisolid_month_or_day\n",
      "Series([], Name: state_code, dtype: int64)\n",
      "Series([], Name: state_code, dtype: int64)\n",
      "solid_month\n",
      "Series([], Name: state_code, dtype: int64)\n",
      "Series([], Name: state_code, dtype: int64)\n",
      "vegetables_month_or_day\n",
      "Series([], Name: state_code, dtype: int64)\n",
      "Series([], Name: state_code, dtype: int64)\n",
      "illness_type\n",
      "Series([], Name: state_code, dtype: int64)\n",
      "Series([], Name: state_code, dtype: int64)\n"
     ]
    }
   ],
   "source": [
    "for i in data.columns:\n",
    "    print(i)\n",
    "    print(data['state_code'][data[i] == -1].value_counts())\n",
    "    print(data['state_code'][data[i].isnull()].value_counts())"
   ]
  },
  {
   "cell_type": "code",
   "execution_count": 89,
   "metadata": {},
   "outputs": [],
   "source": [
    "data.to_csv('../cleaned_data/UT.csv', encoding='utf-8', index=False)"
   ]
  }
 ],
 "metadata": {
  "kernelspec": {
   "display_name": "Python 3",
   "language": "python",
   "name": "python3"
  },
  "language_info": {
   "codemirror_mode": {
    "name": "ipython",
    "version": 3
   },
   "file_extension": ".py",
   "mimetype": "text/x-python",
   "name": "python",
   "nbconvert_exporter": "python",
   "pygments_lexer": "ipython3",
   "version": "3.5.2"
  }
 },
 "nbformat": 4,
 "nbformat_minor": 2
}
