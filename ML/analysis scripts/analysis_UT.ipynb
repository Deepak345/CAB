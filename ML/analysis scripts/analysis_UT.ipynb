{
 "cells": [
  {
   "cell_type": "code",
   "execution_count": 1,
   "metadata": {},
   "outputs": [],
   "source": [
    "import pandas as pd\n",
    "import matplotlib.pyplot as plt\n",
    "%matplotlib inline"
   ]
  },
  {
   "cell_type": "code",
   "execution_count": 2,
   "metadata": {},
   "outputs": [],
   "source": [
    "data = pd.read_csv(\"../data/CAB_05_UT.csv\", low_memory=False)"
   ]
  },
  {
   "cell_type": "code",
   "execution_count": null,
   "metadata": {},
   "outputs": [],
   "source": [
    "data.shape"
   ]
  },
  {
   "cell_type": "code",
   "execution_count": null,
   "metadata": {},
   "outputs": [],
   "source": [
    "data.info()"
   ]
  },
  {
   "cell_type": "code",
   "execution_count": null,
   "metadata": {},
   "outputs": [],
   "source": [
    "data.columns.values"
   ]
  },
  {
   "cell_type": "code",
   "execution_count": 3,
   "metadata": {},
   "outputs": [],
   "source": [
    "data = data.drop([ 'psu_id','ahs_house_unit','house_hold_no', 'date_survey',\n",
    "                  'test_salt_iodine', 'record_code_iodine_reason', 'sl_no', 'usual_residance_reason',\n",
    "                  'identification_code', 'date_of_birth', 'year_of_birth', 'weight_measured',\n",
    "                  'length_height_measured', 'length_height_code', 'haemoglobin_test', 'haemoglobin', 'bp_systolic',\n",
    "                  'bp_systolic_2_reading', 'bp_diastolic', 'bp_diastolic_2reading', 'pulse_rate',\n",
    "                  'pulse_rate_2_reading', 'diabetes_test', 'fasting_blood_glucose', 'fasting_blood_glucose_mg_dl',\n",
    "                  'marital_status', 'gauna_perfor_not_perfor', 'duration_pregnanacy', 'illness_duration', 'v54'],\n",
    "                axis = 1)"
   ]
  },
  {
   "cell_type": "code",
   "execution_count": null,
   "metadata": {},
   "outputs": [],
   "source": [
    "data.shape"
   ]
  },
  {
   "cell_type": "code",
   "execution_count": null,
   "metadata": {},
   "outputs": [],
   "source": [
    "data.columns.values"
   ]
  },
  {
   "cell_type": "code",
   "execution_count": 4,
   "metadata": {},
   "outputs": [],
   "source": [
    "data = data.drop(data[(data['age_code'] == 'Y') & (data['age'] > 5) | (data['illness_type'] == -1)].index)"
   ]
  },
  {
   "cell_type": "code",
   "execution_count": null,
   "metadata": {},
   "outputs": [],
   "source": [
    "data.shape"
   ]
  },
  {
   "cell_type": "code",
   "execution_count": null,
   "metadata": {},
   "outputs": [],
   "source": [
    "data['illness_type'].value_counts()"
   ]
  },
  {
   "cell_type": "code",
   "execution_count": null,
   "metadata": {},
   "outputs": [],
   "source": [
    "data['illness_type'].value_counts() / 34.99"
   ]
  },
  {
   "cell_type": "code",
   "execution_count": null,
   "metadata": {},
   "outputs": [],
   "source": [
    "data['age_code'].value_counts()"
   ]
  },
  {
   "cell_type": "code",
   "execution_count": null,
   "metadata": {},
   "outputs": [],
   "source": [
    "print(data['rural_urban'].value_counts())\n",
    "print(data['stratum'].value_counts())\n",
    "print(data['record_code_iodine'].value_counts())\n",
    "print(data['sex'].value_counts())\n",
    "print(data['usual_residance'].value_counts())\n",
    "print(data['age_code'].value_counts())\n",
    "print(data['month_of_birth'].value_counts())"
   ]
  },
  {
   "cell_type": "code",
   "execution_count": null,
   "metadata": {},
   "outputs": [],
   "source": [
    "data['illness_type'].groupby(data['month_of_birth']).mean()"
   ]
  },
  {
   "cell_type": "code",
   "execution_count": null,
   "metadata": {},
   "outputs": [],
   "source": [
    "data.shape"
   ]
  },
  {
   "cell_type": "code",
   "execution_count": null,
   "metadata": {},
   "outputs": [],
   "source": [
    "data['age_code'].value_counts()"
   ]
  },
  {
   "cell_type": "code",
   "execution_count": null,
   "metadata": {},
   "outputs": [],
   "source": [
    "data['record_code_iodine'].value_counts()"
   ]
  },
  {
   "cell_type": "code",
   "execution_count": null,
   "metadata": {},
   "outputs": [],
   "source": [
    "data['sex'].value_counts()"
   ]
  },
  {
   "cell_type": "code",
   "execution_count": null,
   "metadata": {},
   "outputs": [],
   "source": [
    "data['day_or_month_for_breast_feeding_'].value_counts()"
   ]
  },
  {
   "cell_type": "code",
   "execution_count": 5,
   "metadata": {},
   "outputs": [
    {
     "name": "stderr",
     "output_type": "stream",
     "text": [
      "/usr/local/lib/python3.5/dist-packages/ipykernel_launcher.py:1: SettingWithCopyWarning: \n",
      "A value is trying to be set on a copy of a slice from a DataFrame\n",
      "\n",
      "See the caveats in the documentation: http://pandas.pydata.org/pandas-docs/stable/indexing.html#indexing-view-versus-copy\n",
      "  \"\"\"Entry point for launching an IPython kernel.\n",
      "/usr/local/lib/python3.5/dist-packages/ipykernel_launcher.py:2: SettingWithCopyWarning: \n",
      "A value is trying to be set on a copy of a slice from a DataFrame\n",
      "\n",
      "See the caveats in the documentation: http://pandas.pydata.org/pandas-docs/stable/indexing.html#indexing-view-versus-copy\n",
      "  \n"
     ]
    }
   ],
   "source": [
    "data['day_or_month_for_breast_feeding_'][data['day_or_month_for_breast_feeding_'] == 'm'] = 'M'\n",
    "data['day_or_month_for_breast_feeding_'][data['day_or_month_for_breast_feeding_'] == 'd'] = 'D'"
   ]
  },
  {
   "cell_type": "code",
   "execution_count": 6,
   "metadata": {},
   "outputs": [
    {
     "name": "stderr",
     "output_type": "stream",
     "text": [
      "/usr/local/lib/python3.5/dist-packages/ipykernel_launcher.py:1: SettingWithCopyWarning: \n",
      "A value is trying to be set on a copy of a slice from a DataFrame\n",
      "\n",
      "See the caveats in the documentation: http://pandas.pydata.org/pandas-docs/stable/indexing.html#indexing-view-versus-copy\n",
      "  \"\"\"Entry point for launching an IPython kernel.\n",
      "/usr/local/lib/python3.5/dist-packages/ipykernel_launcher.py:2: SettingWithCopyWarning: \n",
      "A value is trying to be set on a copy of a slice from a DataFrame\n",
      "\n",
      "See the caveats in the documentation: http://pandas.pydata.org/pandas-docs/stable/indexing.html#indexing-view-versus-copy\n",
      "  \n",
      "/usr/local/lib/python3.5/dist-packages/ipykernel_launcher.py:3: SettingWithCopyWarning: \n",
      "A value is trying to be set on a copy of a slice from a DataFrame\n",
      "\n",
      "See the caveats in the documentation: http://pandas.pydata.org/pandas-docs/stable/indexing.html#indexing-view-versus-copy\n",
      "  This is separate from the ipykernel package so we can avoid doing imports until\n"
     ]
    }
   ],
   "source": [
    "data['age_code'][data['age_code'] == 'd'] = 'D'\n",
    "data['age_code'][data['age_code'] == 'm'] = 'M'\n",
    "data['age_code'][data['age_code'] == 'y'] = 'Y'"
   ]
  },
  {
   "cell_type": "code",
   "execution_count": null,
   "metadata": {},
   "outputs": [],
   "source": [
    "data['day_or_month_for_breast_feeding_'].value_counts()"
   ]
  },
  {
   "cell_type": "code",
   "execution_count": 7,
   "metadata": {},
   "outputs": [],
   "source": [
    "#droping birth month\n",
    "data = data.drop('month_of_birth', axis=1)"
   ]
  },
  {
   "cell_type": "code",
   "execution_count": null,
   "metadata": {},
   "outputs": [],
   "source": [
    "data.columns.unique()"
   ]
  },
  {
   "cell_type": "code",
   "execution_count": 8,
   "metadata": {},
   "outputs": [],
   "source": [
    "data = data.drop('rural_urban',axis=1)"
   ]
  },
  {
   "cell_type": "code",
   "execution_count": null,
   "metadata": {},
   "outputs": [],
   "source": [
    "data.columns.values"
   ]
  },
  {
   "cell_type": "code",
   "execution_count": 9,
   "metadata": {},
   "outputs": [],
   "source": [
    "data = data.drop(['stratum', 'usual_residance'],axis=1)"
   ]
  },
  {
   "cell_type": "code",
   "execution_count": null,
   "metadata": {},
   "outputs": [],
   "source": [
    "data.columns.values"
   ]
  },
  {
   "cell_type": "code",
   "execution_count": null,
   "metadata": {},
   "outputs": [],
   "source": [
    "data['weight_in_kg'][data[data['weight_in_kg'] == -1].index].value_counts()"
   ]
  },
  {
   "cell_type": "code",
   "execution_count": null,
   "metadata": {},
   "outputs": [],
   "source": [
    "print(data['record_code_iodine'][data[data['record_code_iodine'] == -1].index].value_counts())\n",
    "print(data['sex'][data[data['sex'] == -1].index].value_counts())\n",
    "print(data['age_code'][data[data['age_code'] == -1].index].value_counts())\n",
    "print(data['age'][data[data['age'] == -1].index].value_counts())\n",
    "print(data['weight_in_kg'][data[data['weight_in_kg'] == -1].index].value_counts())\n",
    "print(data['length_height_cm'][data[data['length_height_cm'] == -1].index].value_counts())\n",
    "print(data['haemoglobin_level'][data[data['haemoglobin_level'] == -1].index].value_counts())\n",
    "print(data['first_breast_feeding'][data[data['first_breast_feeding'] == -1].index].value_counts())\n",
    "print(data['is_cur_breast_feeding'][data[data['is_cur_breast_feeding'] == -1].index].value_counts())\n",
    "print(data['day_or_month_for_breast_feeding_'][data[data['day_or_month_for_breast_feeding_'] == -1].index].value_counts())\n",
    "print(data['day_or_month_for_breast_feeding'][data[data['day_or_month_for_breast_feeding'] == -1].index].value_counts())\n",
    "print(data['water_month'][data[data['water_month'] == -1].index].value_counts())\n",
    "print(data['ani_milk_month'][data[data['ani_milk_month'] == -1].index].value_counts())\n",
    "print(data['semisolid_month_or_day'][data[data['semisolid_month_or_day'] == -1].index].value_counts())\n",
    "print(data['solid_month'][data[data['solid_month'] == -1].index].value_counts())\n",
    "print(data['vegetables_month_or_day'][data[data['vegetables_month_or_day'] == -1].index].value_counts())"
   ]
  },
  {
   "cell_type": "code",
   "execution_count": null,
   "metadata": {},
   "outputs": [],
   "source": [
    "data.shape"
   ]
  },
  {
   "cell_type": "code",
   "execution_count": null,
   "metadata": {},
   "outputs": [],
   "source": [
    "data['water_month'][data[data['water_month'] == -1].index].value_counts()"
   ]
  },
  {
   "cell_type": "code",
   "execution_count": null,
   "metadata": {},
   "outputs": [],
   "source": [
    "data['semisolid_month_or_day'][data[data['semisolid_month_or_day'] == -1].index].value_counts()"
   ]
  },
  {
   "cell_type": "code",
   "execution_count": null,
   "metadata": {},
   "outputs": [],
   "source": [
    "data['is_cur_breast_feeding'][data[(data['is_cur_breast_feeding'] == -1)].index].value_counts()"
   ]
  },
  {
   "cell_type": "code",
   "execution_count": null,
   "metadata": {},
   "outputs": [],
   "source": [
    "data['is_cur_breast_feeding'][data[(data['is_cur_breast_feeding'] == -1) & (data['age']>2) & (data['age_code'] == 'Y')].index].value_counts()"
   ]
  },
  {
   "cell_type": "code",
   "execution_count": 10,
   "metadata": {},
   "outputs": [],
   "source": [
    "# data['is_cur_breast_feeding'][data[(data['age_code'] == 'Y') & (data['age'] > 2) & (data['is_cur_breast_feeding'] == -1)].index] = 2\n",
    "data.loc[((data['age']>2) & (data['age_code'] == 'Y') & (data['is_cur_breast_feeding'] == -1)),'is_cur_breast_feeding'] = 2"
   ]
  },
  {
   "cell_type": "code",
   "execution_count": null,
   "metadata": {},
   "outputs": [],
   "source": [
    "data['is_cur_breast_feeding'][data[data['is_cur_breast_feeding'] == -1].index].value_counts()"
   ]
  },
  {
   "cell_type": "code",
   "execution_count": 12,
   "metadata": {},
   "outputs": [],
   "source": [
    "data['is_cur_breast_feeding'] = data['is_cur_breast_feeding'].replace(-1, 1)"
   ]
  },
  {
   "cell_type": "code",
   "execution_count": null,
   "metadata": {},
   "outputs": [],
   "source": [
    "data['age'][data[data['is_cur_breast_feeding'] == -1].index]"
   ]
  },
  {
   "cell_type": "code",
   "execution_count": null,
   "metadata": {},
   "outputs": [],
   "source": [
    "data['weight_in_kg'][data[(data['weight_in_kg'] == -1)].index].value_counts()"
   ]
  },
  {
   "cell_type": "code",
   "execution_count": null,
   "metadata": {},
   "outputs": [],
   "source": [
    "data['age_code'][data[(data['weight_in_kg'] == -1)].index].value_counts()"
   ]
  },
  {
   "cell_type": "code",
   "execution_count": 13,
   "metadata": {},
   "outputs": [],
   "source": [
    "for y in data['age_code'].unique():\n",
    "    for i in data['age'][data[data['age_code'] == y].index].unique():\n",
    "        x = data['weight_in_kg'][data[(data['age_code'] == y) & (data['age'] == i) & (data['weight_in_kg'] != -1)].index].mean()\n",
    "        data.loc[((data['age_code'] == y) & (data['age'] == i) & ((data['weight_in_kg'] == -1) | (data['weight_in_kg'].isnull()))), 'weight_in_kg'] = x"
   ]
  },
  {
   "cell_type": "code",
   "execution_count": 14,
   "metadata": {},
   "outputs": [],
   "source": [
    "for y in data['age_code'].unique():\n",
    "    for i in data['age'][data[data['age_code'] == y].index].unique():\n",
    "        x = data['weight_in_kg'][data[(data['age_code'] == y) & (data['age'] == i) & (data['weight_in_kg'] != -1)].index].mean()\n",
    "        data['weight_in_kg'] = data['weight_in_kg'].fillna(x)"
   ]
  },
  {
   "cell_type": "code",
   "execution_count": null,
   "metadata": {},
   "outputs": [],
   "source": [
    "data['weight_in_kg'][data[(data['weight_in_kg'] == -1)].index].value_counts()"
   ]
  },
  {
   "cell_type": "code",
   "execution_count": null,
   "metadata": {},
   "outputs": [],
   "source": [
    "data['length_height_cm'][data[(data['length_height_cm'] == -1)].index].value_counts()"
   ]
  },
  {
   "cell_type": "code",
   "execution_count": 15,
   "metadata": {},
   "outputs": [],
   "source": [
    "for y in data['age_code'].unique():\n",
    "    for i in data['age'][data[data['age_code'] == y].index].unique():\n",
    "        x = data['length_height_cm'][data[(data['age_code'] == y) & (data['age'] == i) & (data['length_height_cm'] != -1)].index].mean()\n",
    "        data.loc[((data['age_code'] == y) & (data['age'] == i) & ((data['length_height_cm'] == -1) | (data['length_height_cm'].isnull()))), 'length_height_cm'] = x\n",
    "        data['length_height_cm'] = data['length_height_cm'].fillna(x)"
   ]
  },
  {
   "cell_type": "code",
   "execution_count": 16,
   "metadata": {},
   "outputs": [],
   "source": [
    "for y in data['age_code'].unique():\n",
    "    for i in data['age'][data[data['age_code'] == y].index].unique():\n",
    "        x = data['length_height_cm'][data[(data['age_code'] == y) & (data['age'] == i) & (data['length_height_cm'] != -1)].index].mean()\n",
    "        data['length_height_cm'] = data['length_height_cm'].fillna(x)"
   ]
  },
  {
   "cell_type": "code",
   "execution_count": null,
   "metadata": {},
   "outputs": [],
   "source": [
    "data['length_height_cm'][data[(data['length_height_cm'] == -1)].index].value_counts()"
   ]
  },
  {
   "cell_type": "code",
   "execution_count": null,
   "metadata": {},
   "outputs": [],
   "source": [
    "data['haemoglobin_level'][data[(data['haemoglobin_level'] == -1)].index].value_counts()"
   ]
  },
  {
   "cell_type": "code",
   "execution_count": 17,
   "metadata": {},
   "outputs": [],
   "source": [
    "for y in data['age_code'].unique():\n",
    "    for i in data['age'][data[data['age_code'] == y].index].unique():\n",
    "        x = data['haemoglobin_level'][data[(data['age_code'] == y) & (data['age'] == i) & (data['haemoglobin_level'] != -1)].index].mean()\n",
    "        data.loc[((data['age_code'] == y) & (data['age'] == i) & ((data['haemoglobin_level'] == -1) | (data['haemoglobin_level'].isnull()))), 'haemoglobin_level'] = x"
   ]
  },
  {
   "cell_type": "code",
   "execution_count": 18,
   "metadata": {},
   "outputs": [],
   "source": [
    "for y in data['age_code'].unique():\n",
    "    for i in data['age'][data[data['age_code'] == y].index].unique():\n",
    "        x = data['haemoglobin_level'][data[(data['age_code'] == y) & (data['age'] == i) & (data['haemoglobin_level'] != -1)].index].mean()\n",
    "        data['haemoglobin_level'] = data['haemoglobin_level'].fillna(x)"
   ]
  },
  {
   "cell_type": "code",
   "execution_count": null,
   "metadata": {},
   "outputs": [],
   "source": [
    "data['haemoglobin_level'][data[(data['haemoglobin_level'] == -1)].index].value_counts()"
   ]
  },
  {
   "cell_type": "code",
   "execution_count": null,
   "metadata": {},
   "outputs": [],
   "source": [
    "data['first_breast_feeding'][data[(data['first_breast_feeding'] == -1)].index].value_counts()"
   ]
  },
  {
   "cell_type": "code",
   "execution_count": null,
   "metadata": {},
   "outputs": [],
   "source": [
    "for i in data['district_code'].unique():\n",
    "    print(i)\n",
    "    x = data['district_code'][data[data['district_code']==i].index].value_counts()\n",
    "    print(x[i])\n",
    "    print((data['first_breast_feeding'][data[data['district_code']==i].index].value_counts().sort_index())*100/x[i])\n",
    "    print(\"----------------------------------------------------\")"
   ]
  },
  {
   "cell_type": "code",
   "execution_count": 19,
   "metadata": {},
   "outputs": [],
   "source": [
    "for i in data['district_code'].unique():\n",
    "    x = data['first_breast_feeding'][data[(data['district_code'] == i) & (data['first_breast_feeding'] != -1)].index].value_counts()\n",
    "    y = x[x == x.max()].index.item()\n",
    "    data.loc[((data['district_code'] == i) & ((data['first_breast_feeding'] == -1) | (data['first_breast_feeding'].isnull()))), 'first_breast_feeding'] = y"
   ]
  },
  {
   "cell_type": "code",
   "execution_count": 20,
   "metadata": {},
   "outputs": [],
   "source": [
    "for i in data['district_code'].unique():\n",
    "    x = data['first_breast_feeding'][data[(data['district_code'] == i) & (data['first_breast_feeding'] != -1)].index].value_counts()\n",
    "    y = x[x == x.max()].index.item()\n",
    "    data['first_breast_feeding'] = data['first_breast_feeding'].fillna(y)"
   ]
  },
  {
   "cell_type": "code",
   "execution_count": null,
   "metadata": {},
   "outputs": [],
   "source": [
    "data['first_breast_feeding'][data[(data['first_breast_feeding'] == -1)].index].value_counts()"
   ]
  },
  {
   "cell_type": "code",
   "execution_count": null,
   "metadata": {},
   "outputs": [],
   "source": [
    "data['day_or_month_for_breast_feeding'][data[(data['day_or_month_for_breast_feeding'] == -1)].index].value_counts()"
   ]
  },
  {
   "cell_type": "code",
   "execution_count": null,
   "metadata": {},
   "outputs": [],
   "source": [
    "for i in data['district_code'].unique():\n",
    "    print(i)\n",
    "    x = data['district_code'][data[data['district_code']==i].index].value_counts()\n",
    "    print(x[i])\n",
    "    print((data['day_or_month_for_breast_feeding'][data[data['district_code']==i].index].value_counts().sort_index())*100/x[i])\n",
    "    print(\"----------------------------------------------------\")"
   ]
  },
  {
   "cell_type": "code",
   "execution_count": 21,
   "metadata": {},
   "outputs": [],
   "source": [
    "data.loc[(data['day_or_month_for_breast_feeding'] == -1), 'day_or_month_for_breast_feeding'] = 6"
   ]
  },
  {
   "cell_type": "code",
   "execution_count": null,
   "metadata": {},
   "outputs": [],
   "source": [
    "data['day_or_month_for_breast_feeding'][data[(data['day_or_month_for_breast_feeding'] == -1)].index].value_counts()"
   ]
  },
  {
   "cell_type": "code",
   "execution_count": null,
   "metadata": {},
   "outputs": [],
   "source": [
    "print(data['water_month'][data[data['water_month'] == -1].index].value_counts())\n",
    "print(data['ani_milk_month'][data[data['ani_milk_month'] == -1].index].value_counts())\n",
    "print(data['semisolid_month_or_day'][data[data['semisolid_month_or_day'] == -1].index].value_counts())\n",
    "print(data['solid_month'][data[data['solid_month'] == -1].index].value_counts())\n",
    "print(data['vegetables_month_or_day'][data[data['vegetables_month_or_day'] == -1].index].value_counts())"
   ]
  },
  {
   "cell_type": "code",
   "execution_count": 22,
   "metadata": {},
   "outputs": [],
   "source": [
    "for i in data['district_code'].unique():\n",
    "    x = data['water_month'][data[(data['district_code'] == i) & (data['water_month'] != -1)].index].value_counts()\n",
    "    y = x[x == x.max()].index.tolist()\n",
    "    data.loc[((data['district_code'] == i) & ((data['water_month'] == -1) | (data['water_month'].isnull()))), 'water_month'] = y[0]"
   ]
  },
  {
   "cell_type": "code",
   "execution_count": 23,
   "metadata": {},
   "outputs": [],
   "source": [
    "for i in data['district_code'].unique():\n",
    "    x = data['water_month'][data[(data['district_code'] == i) & (data['water_month'] != -1)].index].value_counts()\n",
    "    y = x[x == x.max()].index.tolist()\n",
    "    data['water_month'] = data['water_month'].fillna(y[0])"
   ]
  },
  {
   "cell_type": "code",
   "execution_count": 24,
   "metadata": {},
   "outputs": [],
   "source": [
    "for i in data['district_code'].unique():\n",
    "    x = data['ani_milk_month'][data[(data['district_code'] == i) & (data['ani_milk_month'] != -1)].index].value_counts()\n",
    "    y = x[x == x.max()].index.tolist()\n",
    "    data.loc[((data['district_code'] == i) & ((data['ani_milk_month'] == -1) | (data['ani_milk_month'].isnull()))), 'ani_milk_month'] = y[0]\n",
    "    #data['ani_milk_month'] = data['ani_milk_month'].fillna(y[0])"
   ]
  },
  {
   "cell_type": "code",
   "execution_count": 25,
   "metadata": {},
   "outputs": [],
   "source": [
    "for i in data['district_code'].unique():\n",
    "    x = data['ani_milk_month'][data[(data['district_code'] == i) & (data['ani_milk_month'] != -1)].index].value_counts()\n",
    "    y = x[x == x.max()].index.tolist()\n",
    "    data['ani_milk_month'] = data['ani_milk_month'].fillna(y[0])"
   ]
  },
  {
   "cell_type": "code",
   "execution_count": 26,
   "metadata": {},
   "outputs": [],
   "source": [
    "for i in data['district_code'].unique():\n",
    "    x = data['semisolid_month_or_day'][data[(data['district_code'] == i) & (data['semisolid_month_or_day'] != -1)].index].value_counts()\n",
    "    y = x[x == x.max()].index.tolist()\n",
    "    data.loc[((data['district_code'] == i) & ((data['semisolid_month_or_day'] == -1) | (data['semisolid_month_or_day'].isnull()))), 'semisolid_month_or_day'] = y[0]\n",
    "    #data['semisolid_month_or_day'] = data['semisolid_month_or_day'].fillna(y[0])"
   ]
  },
  {
   "cell_type": "code",
   "execution_count": 27,
   "metadata": {},
   "outputs": [],
   "source": [
    "for i in data['district_code'].unique():\n",
    "    x = data['semisolid_month_or_day'][data[(data['district_code'] == i) & (data['semisolid_month_or_day'] != -1)].index].value_counts()\n",
    "    y = x[x == x.max()].index.tolist()\n",
    "    data['semisolid_month_or_day'] = data['semisolid_month_or_day'].fillna(y[0])"
   ]
  },
  {
   "cell_type": "code",
   "execution_count": 28,
   "metadata": {},
   "outputs": [],
   "source": [
    "for i in data['district_code'].unique():\n",
    "    x = data['solid_month'][data[(data['district_code'] == i) & (data['solid_month'] != -1)].index].value_counts()\n",
    "    y = x[x == x.max()].index.tolist()\n",
    "    data.loc[((data['district_code'] == i) & ((data['solid_month'] == -1) | (data['solid_month'].isnull()))), 'solid_month'] = y[0]\n",
    "    #data['solid_month'] = data['solid_month'].fillna(y[0])"
   ]
  },
  {
   "cell_type": "code",
   "execution_count": 29,
   "metadata": {},
   "outputs": [],
   "source": [
    "for i in data['district_code'].unique():\n",
    "    x = data['solid_month'][data[(data['district_code'] == i) & (data['solid_month'] != -1)].index].value_counts()\n",
    "    y = x[x == x.max()].index.tolist()\n",
    "    data['solid_month'] = data['solid_month'].fillna(y[0])"
   ]
  },
  {
   "cell_type": "code",
   "execution_count": 30,
   "metadata": {},
   "outputs": [],
   "source": [
    "for i in data['district_code'].unique():\n",
    "    x = data['vegetables_month_or_day'][data[(data['district_code'] == i) & (data['vegetables_month_or_day'] != -1)].index].value_counts()\n",
    "    y = x[x == x.max()].index.tolist()\n",
    "    data.loc[((data['district_code'] == i) & ((data['vegetables_month_or_day'] == -1) | (data['vegetables_month_or_day'].isnull()))), 'vegetables_month_or_day'] = y[0]\n",
    "    #data['vegetables_month_or_day'] = data['vegetables_month_or_day'].fillna(y[0])"
   ]
  },
  {
   "cell_type": "code",
   "execution_count": 31,
   "metadata": {},
   "outputs": [],
   "source": [
    "for i in data['district_code'].unique():\n",
    "    x = data['vegetables_month_or_day'][data[(data['district_code'] == i) & (data['vegetables_month_or_day'] != -1)].index].value_counts()\n",
    "    y = x[x == x.max()].index.tolist()\n",
    "    data['vegetables_month_or_day'] = data['vegetables_month_or_day'].fillna(y[0])"
   ]
  },
  {
   "cell_type": "code",
   "execution_count": null,
   "metadata": {},
   "outputs": [],
   "source": [
    "print(data['water_month'][data[data['water_month'] == -1].index].value_counts())\n",
    "print(data['ani_milk_month'][data[data['ani_milk_month'] == -1].index].value_counts())\n",
    "print(data['semisolid_month_or_day'][data[data['semisolid_month_or_day'] == -1].index].value_counts())\n",
    "print(data['solid_month'][data[data['solid_month'] == -1].index].value_counts())\n",
    "print(data['vegetables_month_or_day'][data[data['vegetables_month_or_day'] == -1].index].value_counts())"
   ]
  },
  {
   "cell_type": "code",
   "execution_count": 32,
   "metadata": {},
   "outputs": [],
   "source": [
    "data = data.drop('district_code', axis=1)"
   ]
  },
  {
   "cell_type": "code",
   "execution_count": null,
   "metadata": {},
   "outputs": [],
   "source": [
    "data.columns.values"
   ]
  },
  {
   "cell_type": "code",
   "execution_count": null,
   "metadata": {},
   "outputs": [],
   "source": [
    "data.shape"
   ]
  },
  {
   "cell_type": "code",
   "execution_count": 33,
   "metadata": {},
   "outputs": [
    {
     "name": "stderr",
     "output_type": "stream",
     "text": [
      "/usr/local/lib/python3.5/dist-packages/ipykernel_launcher.py:3: SettingWithCopyWarning: \n",
      "A value is trying to be set on a copy of a slice from a DataFrame\n",
      "\n",
      "See the caveats in the documentation: http://pandas.pydata.org/pandas-docs/stable/indexing.html#indexing-view-versus-copy\n",
      "  This is separate from the ipykernel package so we can avoid doing imports until\n",
      "/usr/local/lib/python3.5/dist-packages/ipykernel_launcher.py:5: SettingWithCopyWarning: \n",
      "A value is trying to be set on a copy of a slice from a DataFrame\n",
      "\n",
      "See the caveats in the documentation: http://pandas.pydata.org/pandas-docs/stable/indexing.html#indexing-view-versus-copy\n",
      "  \"\"\"\n"
     ]
    }
   ],
   "source": [
    "for i in data[data['day_or_month_for_breast_feeding_'] == 'D'].index:\n",
    "    if data['day_or_month_for_breast_feeding'][i] < 15:\n",
    "        data['day_or_month_for_breast_feeding'][i] = 0\n",
    "    else :\n",
    "        data['day_or_month_for_breast_feeding'][i] = 1"
   ]
  },
  {
   "cell_type": "code",
   "execution_count": 34,
   "metadata": {},
   "outputs": [
    {
     "name": "stderr",
     "output_type": "stream",
     "text": [
      "/usr/local/lib/python3.5/dist-packages/ipykernel_launcher.py:3: SettingWithCopyWarning: \n",
      "A value is trying to be set on a copy of a slice from a DataFrame\n",
      "\n",
      "See the caveats in the documentation: http://pandas.pydata.org/pandas-docs/stable/indexing.html#indexing-view-versus-copy\n",
      "  This is separate from the ipykernel package so we can avoid doing imports until\n"
     ]
    }
   ],
   "source": [
    "for i in data[data['age_code'] == 'Y'].index:\n",
    "    x = data['age'][i]\n",
    "    data['age'][i] = x*12"
   ]
  },
  {
   "cell_type": "code",
   "execution_count": 35,
   "metadata": {},
   "outputs": [
    {
     "name": "stderr",
     "output_type": "stream",
     "text": [
      "/usr/local/lib/python3.5/dist-packages/ipykernel_launcher.py:4: SettingWithCopyWarning: \n",
      "A value is trying to be set on a copy of a slice from a DataFrame\n",
      "\n",
      "See the caveats in the documentation: http://pandas.pydata.org/pandas-docs/stable/indexing.html#indexing-view-versus-copy\n",
      "  after removing the cwd from sys.path.\n",
      "/usr/local/lib/python3.5/dist-packages/ipykernel_launcher.py:6: SettingWithCopyWarning: \n",
      "A value is trying to be set on a copy of a slice from a DataFrame\n",
      "\n",
      "See the caveats in the documentation: http://pandas.pydata.org/pandas-docs/stable/indexing.html#indexing-view-versus-copy\n",
      "  \n"
     ]
    }
   ],
   "source": [
    "for i in data[data['age_code'] == 'D'].index:\n",
    "    x = data['age'][i]\n",
    "    if data['age'][i] < 15:\n",
    "        data['age'][i] = 0\n",
    "    else :\n",
    "        data['age'][i] = 1"
   ]
  },
  {
   "cell_type": "code",
   "execution_count": null,
   "metadata": {},
   "outputs": [],
   "source": [
    "data.columns.values"
   ]
  },
  {
   "cell_type": "code",
   "execution_count": 36,
   "metadata": {},
   "outputs": [],
   "source": [
    "data = data.drop(['age_code', 'day_or_month_for_breast_feeding_'] , axis=1)"
   ]
  },
  {
   "cell_type": "code",
   "execution_count": 39,
   "metadata": {},
   "outputs": [],
   "source": [
    "data = data.drop('treatment_type' , axis=1)"
   ]
  },
  {
   "cell_type": "code",
   "execution_count": null,
   "metadata": {},
   "outputs": [],
   "source": [
    "data.columns.values"
   ]
  },
  {
   "cell_type": "code",
   "execution_count": 40,
   "metadata": {},
   "outputs": [
    {
     "data": {
      "text/plain": [
       "(3499, 16)"
      ]
     },
     "execution_count": 40,
     "metadata": {},
     "output_type": "execute_result"
    }
   ],
   "source": [
    "data.shape"
   ]
  },
  {
   "cell_type": "code",
   "execution_count": 41,
   "metadata": {},
   "outputs": [
    {
     "name": "stdout",
     "output_type": "stream",
     "text": [
      "state_code\n",
      "Series([], Name: state_code, dtype: int64)\n",
      "Series([], Name: state_code, dtype: int64)\n",
      "record_code_iodine\n",
      "Series([], Name: state_code, dtype: int64)\n",
      "Series([], Name: state_code, dtype: int64)\n",
      "sex\n",
      "Series([], Name: state_code, dtype: int64)\n",
      "Series([], Name: state_code, dtype: int64)\n",
      "age\n",
      "Series([], Name: state_code, dtype: int64)\n",
      "Series([], Name: state_code, dtype: int64)\n",
      "weight_in_kg\n",
      "Series([], Name: state_code, dtype: int64)\n",
      "Series([], Name: state_code, dtype: int64)\n",
      "length_height_cm\n",
      "Series([], Name: state_code, dtype: int64)\n",
      "Series([], Name: state_code, dtype: int64)\n",
      "haemoglobin_level\n",
      "Series([], Name: state_code, dtype: int64)\n",
      "Series([], Name: state_code, dtype: int64)\n",
      "first_breast_feeding\n",
      "Series([], Name: state_code, dtype: int64)\n",
      "Series([], Name: state_code, dtype: int64)\n",
      "is_cur_breast_feeding\n",
      "Series([], Name: state_code, dtype: int64)\n",
      "Series([], Name: state_code, dtype: int64)\n",
      "day_or_month_for_breast_feeding\n",
      "Series([], Name: state_code, dtype: int64)\n",
      "Series([], Name: state_code, dtype: int64)\n",
      "water_month\n",
      "Series([], Name: state_code, dtype: int64)\n",
      "Series([], Name: state_code, dtype: int64)\n",
      "ani_milk_month\n",
      "Series([], Name: state_code, dtype: int64)\n",
      "Series([], Name: state_code, dtype: int64)\n",
      "semisolid_month_or_day\n",
      "Series([], Name: state_code, dtype: int64)\n",
      "Series([], Name: state_code, dtype: int64)\n",
      "solid_month\n",
      "Series([], Name: state_code, dtype: int64)\n",
      "Series([], Name: state_code, dtype: int64)\n",
      "vegetables_month_or_day\n",
      "Series([], Name: state_code, dtype: int64)\n",
      "Series([], Name: state_code, dtype: int64)\n",
      "illness_type\n",
      "Series([], Name: state_code, dtype: int64)\n",
      "Series([], Name: state_code, dtype: int64)\n"
     ]
    }
   ],
   "source": [
    "for i in data.columns:\n",
    "    print(i)\n",
    "    print(data['state_code'][data[i] == -1].value_counts())\n",
    "    print(data['state_code'][data[i].isnull()].value_counts())"
   ]
  },
  {
   "cell_type": "code",
   "execution_count": null,
   "metadata": {},
   "outputs": [],
   "source": [
    "#data.to_csv('cleaned data/UT.csv', encoding='utf-8', index=False)"
   ]
  }
 ],
 "metadata": {
  "kernelspec": {
   "display_name": "Python 3",
   "language": "python",
   "name": "python3"
  },
  "language_info": {
   "codemirror_mode": {
    "name": "ipython",
    "version": 3
   },
   "file_extension": ".py",
   "mimetype": "text/x-python",
   "name": "python",
   "nbconvert_exporter": "python",
   "pygments_lexer": "ipython3",
   "version": "3.5.2"
  }
 },
 "nbformat": 4,
 "nbformat_minor": 2
}
