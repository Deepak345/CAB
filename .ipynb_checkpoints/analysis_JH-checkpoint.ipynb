{
 "cells": [
  {
   "cell_type": "code",
   "execution_count": null,
   "metadata": {},
   "outputs": [],
   "source": [
    "import pandas as pd\n",
    "import matplotlib.pyplot as plt\n",
    "%matplotlib inline"
   ]
  },
  {
   "cell_type": "code",
   "execution_count": null,
   "metadata": {},
   "outputs": [],
   "source": [
    "data = pd.read_csv(\"data/CAB_20_JH.csv\", low_memory = False)"
   ]
  },
  {
   "cell_type": "code",
   "execution_count": null,
   "metadata": {},
   "outputs": [],
   "source": [
    "data.shape"
   ]
  },
  {
   "cell_type": "code",
   "execution_count": null,
   "metadata": {},
   "outputs": [],
   "source": [
    "data.info()"
   ]
  },
  {
   "cell_type": "code",
   "execution_count": null,
   "metadata": {},
   "outputs": [],
   "source": [
    "data.columns.values"
   ]
  },
  {
   "cell_type": "code",
   "execution_count": null,
   "metadata": {},
   "outputs": [],
   "source": [
    "data = data.drop(['state_code', 'psu_id','ahs_house_unit','house_hold_no', 'date_survey',\n",
    "                  'test_salt_iodine', 'record_code_iodine_reason', 'sl_no', 'usual_residance_reason',\n",
    "                  'identification_code', 'date_of_birth', 'year_of_birth', 'weight_measured',\n",
    "                  'length_height_measured', 'length_height_code', 'haemoglobin_test', 'haemoglobin', 'bp_systolic',\n",
    "                  'bp_systolic_2_reading', 'bp_diastolic', 'bp_diastolic_2reading', 'pulse_rate',\n",
    "                  'pulse_rate_2_reading', 'diabetes_test', 'fasting_blood_glucose', 'fasting_blood_glucose_mg_dl',\n",
    "                  'marital_status', 'gauna_perfor_not_perfor', 'duration_pregnanacy', 'illness_duration', 'v54'],\n",
    "                axis = 1)"
   ]
  },
  {
   "cell_type": "code",
   "execution_count": null,
   "metadata": {},
   "outputs": [],
   "source": [
    "data.shape"
   ]
  },
  {
   "cell_type": "code",
   "execution_count": null,
   "metadata": {},
   "outputs": [],
   "source": [
    "data.columns.values"
   ]
  },
  {
   "cell_type": "code",
   "execution_count": null,
   "metadata": {},
   "outputs": [],
   "source": [
    "data = data.drop(data[(data['age_code'] == 'Y') & (data['age'] > 5) | (data['illness_type'] == -1)].index)"
   ]
  },
  {
   "cell_type": "code",
   "execution_count": null,
   "metadata": {},
   "outputs": [],
   "source": [
    "data.shape"
   ]
  },
  {
   "cell_type": "code",
   "execution_count": null,
   "metadata": {},
   "outputs": [],
   "source": [
    "data['illness_type'].value_counts()"
   ]
  },
  {
   "cell_type": "code",
   "execution_count": null,
   "metadata": {},
   "outputs": [],
   "source": [
    "data['age_code'].value_counts()"
   ]
  },
  {
   "cell_type": "code",
   "execution_count": null,
   "metadata": {},
   "outputs": [],
   "source": [
    "data = data.drop(data[data['age_code'] == '-1'].index)\n",
    "data.shape"
   ]
  },
  {
   "cell_type": "code",
   "execution_count": null,
   "metadata": {},
   "outputs": [],
   "source": [
    "print(data['rural_urban'].value_counts())\n",
    "print(data['stratum'].value_counts())\n",
    "print(data['record_code_iodine'].value_counts())\n",
    "print(data['sex'].value_counts())\n",
    "print(data['usual_residance'].value_counts())\n",
    "print(data['age_code'].value_counts())\n",
    "print(data['month_of_birth'].value_counts())"
   ]
  },
  {
   "cell_type": "code",
   "execution_count": null,
   "metadata": {},
   "outputs": [],
   "source": [
    "print(data['day_or_month_for_breast_feeding_'].value_counts())"
   ]
  },
  {
   "cell_type": "code",
   "execution_count": null,
   "metadata": {},
   "outputs": [],
   "source": [
    "data['illness_type'].groupby(data['month_of_birth']).mean()"
   ]
  },
  {
   "cell_type": "code",
   "execution_count": null,
   "metadata": {},
   "outputs": [],
   "source": [
    "(data['illness_type'][data[data['month_of_birth']==0].index].value_counts())/1451"
   ]
  },
  {
   "cell_type": "code",
   "execution_count": null,
   "metadata": {},
   "outputs": [],
   "source": [
    "print((data['illness_type'][data[data['month_of_birth']==1].index].value_counts())/1451)\n",
    "print((data['illness_type'][data[data['month_of_birth']==2].index].value_counts())/1451)\n",
    "print((data['illness_type'][data[data['month_of_birth']==3].index].value_counts())/1451)\n",
    "print((data['illness_type'][data[data['month_of_birth']==4].index].value_counts())/1451)\n",
    "print((data['illness_type'][data[data['month_of_birth']==5].index].value_counts())/1451)\n",
    "print((data['illness_type'][data[data['month_of_birth']==6].index].value_counts())/1451)\n",
    "print((data['illness_type'][data[data['month_of_birth']==7].index].value_counts())/1451)\n",
    "print((data['illness_type'][data[data['month_of_birth']==8].index].value_counts())/1451)\n",
    "print((data['illness_type'][data[data['month_of_birth']==9].index].value_counts())/1451)\n",
    "print((data['illness_type'][data[data['month_of_birth']==10].index].value_counts())/1451)\n",
    "print((data['illness_type'][data[data['month_of_birth']==11].index].value_counts())/1451)\n",
    "print((data['illness_type'][data[data['month_of_birth']==12].index].value_counts())/1451)"
   ]
  },
  {
   "cell_type": "code",
   "execution_count": null,
   "metadata": {},
   "outputs": [],
   "source": [
    "#droping birth month\n",
    "data = data.drop('month_of_birth', axis=1)\n",
    "data.shape"
   ]
  },
  {
   "cell_type": "code",
   "execution_count": null,
   "metadata": {},
   "outputs": [],
   "source": [
    "data.columns.unique()"
   ]
  },
  {
   "cell_type": "code",
   "execution_count": null,
   "metadata": {},
   "outputs": [],
   "source": [
    "for i in data['district_code'].unique():\n",
    "    print(i)\n",
    "    x = data['district_code'][data[data['district_code']==i].index].value_counts()\n",
    "    print(x[i])\n",
    "    print((data['illness_type'][data[data['district_code']==i].index].value_counts().sort_index())*100/x[i])"
   ]
  },
  {
   "cell_type": "code",
   "execution_count": null,
   "metadata": {},
   "outputs": [],
   "source": [
    "for i in data['rural_urban'].unique():\n",
    "    print(i)\n",
    "    x = data['rural_urban'][data[data['rural_urban']==i].index].value_counts()\n",
    "    print(x[i])\n",
    "    print((data['illness_type'][data[data['rural_urban']==i].index].value_counts().sort_index())*100/x[i])\n",
    "    print(\"----------------------------------------------------\")"
   ]
  },
  {
   "cell_type": "code",
   "execution_count": null,
   "metadata": {},
   "outputs": [],
   "source": [
    "data = data.drop('rural_urban',axis=1)"
   ]
  },
  {
   "cell_type": "code",
   "execution_count": null,
   "metadata": {},
   "outputs": [],
   "source": [
    "data.columns.values"
   ]
  },
  {
   "cell_type": "code",
   "execution_count": null,
   "metadata": {},
   "outputs": [],
   "source": [
    "for i in data['stratum'].unique():\n",
    "    print(i)\n",
    "    x = data['stratum'][data[data['stratum']==i].index].value_counts()\n",
    "    print(x[i])\n",
    "    print((data['illness_type'][data[data['stratum']==i].index].value_counts().sort_index())*100/x[i])\n",
    "    print(\"----------------------------------------------------\")"
   ]
  },
  {
   "cell_type": "code",
   "execution_count": null,
   "metadata": {},
   "outputs": [],
   "source": [
    "data = data.drop(['stratum', 'usual_residance'],axis=1)"
   ]
  },
  {
   "cell_type": "code",
   "execution_count": null,
   "metadata": {},
   "outputs": [],
   "source": [
    "data.columns.values"
   ]
  },
  {
   "cell_type": "code",
   "execution_count": null,
   "metadata": {},
   "outputs": [],
   "source": [
    "data['weight_in_kg'][data[data['weight_in_kg'] == -1].index].value_counts()"
   ]
  },
  {
   "cell_type": "code",
   "execution_count": null,
   "metadata": {},
   "outputs": [],
   "source": [
    "print(data['record_code_iodine'][data[data['record_code_iodine'] == -1].index].value_counts())\n",
    "print(data['sex'][data[data['sex'] == -1].index].value_counts())\n",
    "print(data['age_code'][data[data['age_code'] == -1].index].value_counts())\n",
    "print(data['age'][data[data['age'] == -1].index].value_counts())\n",
    "print(data['weight_in_kg'][data[data['weight_in_kg'] == -1].index].value_counts())\n",
    "print(data['length_height_cm'][data[data['length_height_cm'] == -1].index].value_counts())\n",
    "print(data['haemoglobin_level'][data[data['haemoglobin_level'] == -1].index].value_counts())\n",
    "print(data['first_breast_feeding'][data[data['first_breast_feeding'] == -1].index].value_counts())\n",
    "print(data['is_cur_breast_feeding'][data[data['is_cur_breast_feeding'] == -1].index].value_counts())\n",
    "print(data['day_or_month_for_breast_feeding_'][data[data['day_or_month_for_breast_feeding_'] == -1].index].value_counts())\n",
    "print(data['day_or_month_for_breast_feeding'][data[data['day_or_month_for_breast_feeding'] == -1].index].value_counts())\n",
    "print(data['water_month'][data[data['water_month'] == -1].index].value_counts())\n",
    "print(data['ani_milk_month'][data[data['ani_milk_month'] == -1].index].value_counts())\n",
    "print(data['semisolid_month_or_day'][data[data['semisolid_month_or_day'] == -1].index].value_counts())\n",
    "print(data['solid_month'][data[data['solid_month'] == -1].index].value_counts())\n",
    "print(data['vegetables_month_or_day'][data[data['vegetables_month_or_day'] == -1].index].value_counts())"
   ]
  },
  {
   "cell_type": "code",
   "execution_count": null,
   "metadata": {},
   "outputs": [],
   "source": [
    "data.shape"
   ]
  },
  {
   "cell_type": "code",
   "execution_count": null,
   "metadata": {},
   "outputs": [],
   "source": [
    "data['water_month'] = data['water_month'].replace(-1, data['water_month'][data[data['water_month'] != -1].index].mean())"
   ]
  },
  {
   "cell_type": "code",
   "execution_count": null,
   "metadata": {},
   "outputs": [],
   "source": [
    "data['water_month'][data[data['water_month'] == -1].index].value_counts()"
   ]
  },
  {
   "cell_type": "code",
   "execution_count": null,
   "metadata": {},
   "outputs": [],
   "source": [
    "data['semisolid_month_or_day'].value_counts()"
   ]
  },
  {
   "cell_type": "code",
   "execution_count": null,
   "metadata": {},
   "outputs": [],
   "source": [
    "data['ani_milk_month'] = data['ani_milk_month'].replace(-1, data['ani_milk_month'][data[data['ani_milk_month'] != -1].index].mean())\n",
    "data['semisolid_month_or_day'] = data['semisolid_month_or_day'].replace(-1, data['semisolid_month_or_day'][data[data['semisolid_month_or_day'] != -1].index].mean())\n",
    "data['solid_month'] = data['solid_month'].replace(-1, data['solid_month'][data[data['solid_month'] != -1].index].mean())\n",
    "data['vegetables_month_or_day'] = data['vegetables_month_or_day'].replace(-1, data['vegetables_month_or_day'][data[data['vegetables_month_or_day'] != -1].index].mean())"
   ]
  },
  {
   "cell_type": "code",
   "execution_count": null,
   "metadata": {},
   "outputs": [],
   "source": [
    "print(data['water_month'][data[data['water_month'] == -1].index].value_counts())\n",
    "print(data['ani_milk_month'][data[data['ani_milk_month'] == -1].index].value_counts())\n",
    "print(data['semisolid_month_or_day'][data[data['semisolid_month_or_day'] == -1].index].value_counts())\n",
    "print(data['solid_month'][data[data['solid_month'] == -1].index].value_counts())\n",
    "print(data['vegetables_month_or_day'][data[data['vegetables_month_or_day'] == -1].index].value_counts())"
   ]
  },
  {
   "cell_type": "code",
   "execution_count": null,
   "metadata": {},
   "outputs": [],
   "source": [
    "data['is_cur_breast_feeding'][data[(data['is_cur_breast_feeding'] == -1)].index].value_counts()"
   ]
  },
  {
   "cell_type": "code",
   "execution_count": null,
   "metadata": {},
   "outputs": [],
   "source": [
    "data['is_cur_breast_feeding'][data[(data['is_cur_breast_feeding'] == -1) & (data['age']>2) & (data['age_code'] == 'Y')].index].value_counts()"
   ]
  },
  {
   "cell_type": "code",
   "execution_count": null,
   "metadata": {},
   "outputs": [],
   "source": [
    "# data['is_cur_breast_feeding'][data[(data['age_code'] == 'Y') & (data['age'] > 2) & (data['is_cur_breast_feeding'] == -1)].index] = 2\n",
    "data.loc[((data['age']>2) & (data['age_code'] == 'Y') & (data['is_cur_breast_feeding'] == -1)),'is_cur_breast_feeding'] = 2"
   ]
  },
  {
   "cell_type": "code",
   "execution_count": null,
   "metadata": {},
   "outputs": [],
   "source": [
    "data['age'][data[data['is_cur_breast_feeding'] == -1].index]"
   ]
  },
  {
   "cell_type": "code",
   "execution_count": null,
   "metadata": {},
   "outputs": [],
   "source": [
    "data['is_cur_breast_feeding'] = data['is_cur_breast_feeding'].replace(-1, 1)"
   ]
  },
  {
   "cell_type": "code",
   "execution_count": null,
   "metadata": {},
   "outputs": [],
   "source": [
    "data['age'][data[data['is_cur_breast_feeding'] == -1].index]"
   ]
  },
  {
   "cell_type": "code",
   "execution_count": null,
   "metadata": {},
   "outputs": [],
   "source": [
    "data['weight_in_kg'][data[(data['weight_in_kg'] == -1)].index].value_counts()"
   ]
  },
  {
   "cell_type": "code",
   "execution_count": null,
   "metadata": {},
   "outputs": [],
   "source": [
    "data['age_code'][data[(data['weight_in_kg'] == -1)].index].value_counts()"
   ]
  },
  {
   "cell_type": "code",
   "execution_count": null,
   "metadata": {},
   "outputs": [],
   "source": [
    "for y in data['age_code'].unique():\n",
    "    for i in data['age'][data[data['age_code'] == y].index].unique():\n",
    "        x = data['weight_in_kg'][data[(data['age_code'] == y) & (data['age'] == i) & (data['weight_in_kg'] != -1)].index].mean()\n",
    "        data.loc[((data['age_code'] == y) & (data['age'] == i) & (data['weight_in_kg'] == -1)), 'weight_in_kg'] = x"
   ]
  },
  {
   "cell_type": "code",
   "execution_count": null,
   "metadata": {},
   "outputs": [],
   "source": [
    "data['weight_in_kg'][data[(data['weight_in_kg'] == -1)].index].value_counts()"
   ]
  },
  {
   "cell_type": "code",
   "execution_count": null,
   "metadata": {},
   "outputs": [],
   "source": [
    "data['length_height_cm'][data[(data['length_height_cm'] == -1)].index].value_counts()"
   ]
  },
  {
   "cell_type": "code",
   "execution_count": null,
   "metadata": {},
   "outputs": [],
   "source": [
    "for y in data['age_code'].unique():\n",
    "    for i in data['age'][data[data['age_code'] == y].index].unique():\n",
    "        x = data['length_height_cm'][data[(data['age_code'] == y) & (data['age'] == i) & (data['length_height_cm'] != -1)].index].mean()\n",
    "        data.loc[((data['age_code'] == y) & (data['age'] == i) & (data['length_height_cm'] == -1)), 'length_height_cm'] = x"
   ]
  },
  {
   "cell_type": "code",
   "execution_count": null,
   "metadata": {},
   "outputs": [],
   "source": [
    "data['length_height_cm'][data[(data['length_height_cm'] == -1)].index].value_counts()"
   ]
  },
  {
   "cell_type": "code",
   "execution_count": null,
   "metadata": {},
   "outputs": [],
   "source": [
    "data['haemoglobin_level'][data[(data['haemoglobin_level'] == -1)].index].value_counts()"
   ]
  },
  {
   "cell_type": "code",
   "execution_count": null,
   "metadata": {},
   "outputs": [],
   "source": [
    "for y in data['age_code'].unique():\n",
    "    for i in data['age'][data[data['age_code'] == y].index].unique():\n",
    "        x = data['haemoglobin_level'][data[(data['age_code'] == y) & (data['age'] == i) & (data['haemoglobin_level'] != -1)].index].mean()\n",
    "        data.loc[((data['age_code'] == y) & (data['age'] == i) & (data['haemoglobin_level'] == -1)), 'haemoglobin_level'] = x"
   ]
  },
  {
   "cell_type": "code",
   "execution_count": null,
   "metadata": {},
   "outputs": [],
   "source": [
    "data['haemoglobin_level'][data[(data['haemoglobin_level'] == -1)].index].value_counts()"
   ]
  },
  {
   "cell_type": "code",
   "execution_count": null,
   "metadata": {},
   "outputs": [],
   "source": [
    "data['first_breast_feeding'][data[(data['first_breast_feeding'] == -1)].index].value_counts()"
   ]
  },
  {
   "cell_type": "code",
   "execution_count": null,
   "metadata": {},
   "outputs": [],
   "source": [
    "for i in data['district_code'].unique():\n",
    "    print(i)\n",
    "    x = data['district_code'][data[data['district_code']==i].index].value_counts()\n",
    "    print(x[i])\n",
    "    print((data['first_breast_feeding'][data[data['district_code']==i].index].value_counts().sort_index())*100/x[i])\n",
    "    print(\"----------------------------------------------------\")"
   ]
  },
  {
   "cell_type": "code",
   "execution_count": null,
   "metadata": {},
   "outputs": [],
   "source": [
    "for i in data['district_code'].unique():\n",
    "    x = data['first_breast_feeding'][data[(data['district_code'] == i) & (data['first_breast_feeding'] != -1)].index].value_counts()\n",
    "    y = x[x == x.max()].index.item()\n",
    "    data.loc[((data['district_code'] == i) & (data['first_breast_feeding'] == -1)), 'first_breast_feeding'] = y"
   ]
  },
  {
   "cell_type": "code",
   "execution_count": null,
   "metadata": {},
   "outputs": [],
   "source": [
    "data['first_breast_feeding'][data[(data['first_breast_feeding'] == -1)].index].value_counts()"
   ]
  },
  {
   "cell_type": "code",
   "execution_count": null,
   "metadata": {},
   "outputs": [],
   "source": [
    "data['day_or_month_for_breast_feeding'][data[(data['day_or_month_for_breast_feeding'] == -1)].index].value_counts()"
   ]
  },
  {
   "cell_type": "code",
   "execution_count": null,
   "metadata": {},
   "outputs": [],
   "source": [
    "for i in data['district_code'].unique():\n",
    "    print(i)\n",
    "    x = data['district_code'][data[data['district_code']==i].index].value_counts()\n",
    "    print(x[i])\n",
    "    print((data['day_or_month_for_breast_feeding'][data[data['district_code']==i].index].value_counts().sort_index())*100/x[i])\n",
    "    print(\"----------------------------------------------------\")"
   ]
  },
  {
   "cell_type": "code",
   "execution_count": null,
   "metadata": {},
   "outputs": [],
   "source": [
    "data.loc[(data['day_or_month_for_breast_feeding'] == -1), 'day_or_month_for_breast_feeding'] = 6"
   ]
  },
  {
   "cell_type": "code",
   "execution_count": null,
   "metadata": {},
   "outputs": [],
   "source": [
    "data['day_or_month_for_breast_feeding'][data[(data['day_or_month_for_breast_feeding'] == -1)].index].value_counts()"
   ]
  },
  {
   "cell_type": "code",
   "execution_count": null,
   "metadata": {},
   "outputs": [],
   "source": [
    "data = data.drop('district_code', axis=1)"
   ]
  },
  {
   "cell_type": "code",
   "execution_count": null,
   "metadata": {},
   "outputs": [],
   "source": [
    "data.columns.values"
   ]
  },
  {
   "cell_type": "code",
   "execution_count": null,
   "metadata": {},
   "outputs": [],
   "source": [
    "data.shape"
   ]
  },
  {
   "cell_type": "code",
   "execution_count": null,
   "metadata": {},
   "outputs": [],
   "source": [
    "for i in data[data['age_code'] == 'Y'].index:\n",
    "    x = data['age'][i]\n",
    "    print(i,' ',data['age_code'][i],' ',data['age'][i])\n",
    "    data['age'][i] = x*4\n",
    "    print(i,' ',data['age_code'][i],' ',data['age'][i])"
   ]
  },
  {
   "cell_type": "code",
   "execution_count": null,
   "metadata": {},
   "outputs": [],
   "source": []
  }
 ],
 "metadata": {
  "kernelspec": {
   "display_name": "Python 3",
   "language": "python",
   "name": "python3"
  },
  "language_info": {
   "codemirror_mode": {
    "name": "ipython",
    "version": 3
   },
   "file_extension": ".py",
   "mimetype": "text/x-python",
   "name": "python",
   "nbconvert_exporter": "python",
   "pygments_lexer": "ipython3",
   "version": "3.5.2"
  }
 },
 "nbformat": 4,
 "nbformat_minor": 2
}
