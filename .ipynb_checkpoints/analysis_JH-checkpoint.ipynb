{
 "cells": [
  {
   "cell_type": "code",
   "execution_count": 201,
   "metadata": {},
   "outputs": [],
   "source": [
    "import pandas as pd\n",
    "import matplotlib.pyplot as plt\n",
    "%matplotlib inline"
   ]
  },
  {
   "cell_type": "code",
   "execution_count": 202,
   "metadata": {},
   "outputs": [],
   "source": [
    "data = pd.read_csv(\"data/CAB_20_JH.csv\", low_memory = False)"
   ]
  },
  {
   "cell_type": "code",
   "execution_count": 203,
   "metadata": {},
   "outputs": [
    {
     "data": {
      "text/plain": [
       "(127810, 54)"
      ]
     },
     "execution_count": 203,
     "metadata": {},
     "output_type": "execute_result"
    }
   ],
   "source": [
    "data.shape"
   ]
  },
  {
   "cell_type": "code",
   "execution_count": 204,
   "metadata": {},
   "outputs": [
    {
     "name": "stdout",
     "output_type": "stream",
     "text": [
      "<class 'pandas.core.frame.DataFrame'>\n",
      "RangeIndex: 127810 entries, 0 to 127809\n",
      "Data columns (total 54 columns):\n",
      "state_code                          127807 non-null float64\n",
      "district_code                       127810 non-null int64\n",
      "rural_urban                         127810 non-null object\n",
      "stratum                             127810 non-null int64\n",
      "psu_id                              127810 non-null int64\n",
      "ahs_house_unit                      127810 non-null int64\n",
      "house_hold_no                       127810 non-null int64\n",
      "date_survey                         127810 non-null object\n",
      "test_salt_iodine                    127810 non-null int64\n",
      "record_code_iodine                  127810 non-null int64\n",
      "record_code_iodine_reason           93771 non-null object\n",
      "sl_no                               127810 non-null int64\n",
      "sex                                 127810 non-null int64\n",
      "usual_residance                     127810 non-null int64\n",
      "usual_residance_reason              99314 non-null object\n",
      "identification_code                 127791 non-null float64\n",
      "age_code                            127807 non-null object\n",
      "age                                 127807 non-null float64\n",
      "date_of_birth                       127807 non-null float64\n",
      "month_of_birth                      127807 non-null float64\n",
      "year_of_birth                       127807 non-null float64\n",
      "weight_measured                     127807 non-null float64\n",
      "weight_in_kg                        127807 non-null float64\n",
      "length_height_measured              127807 non-null float64\n",
      "length_height_code                  127807 non-null object\n",
      "length_height_cm                    127807 non-null float64\n",
      "haemoglobin_test                    127807 non-null float64\n",
      "haemoglobin                         127807 non-null float64\n",
      "haemoglobin_level                   127807 non-null float64\n",
      "bp_systolic                         127807 non-null float64\n",
      "bp_systolic_2_reading               127807 non-null float64\n",
      "bp_diastolic                        127807 non-null float64\n",
      "bp_diastolic_2reading               127807 non-null float64\n",
      "pulse_rate                          127807 non-null float64\n",
      "pulse_rate_2_reading                127807 non-null float64\n",
      "diabetes_test                       127807 non-null float64\n",
      "fasting_blood_glucose               127807 non-null float64\n",
      "fasting_blood_glucose_mg_dl         127807 non-null float64\n",
      "marital_status                      127807 non-null float64\n",
      "gauna_perfor_not_perfor             127804 non-null float64\n",
      "duration_pregnanacy                 127804 non-null float64\n",
      "first_breast_feeding                127804 non-null float64\n",
      "is_cur_breast_feeding               127804 non-null float64\n",
      "day_or_month_for_breast_feeding_    127804 non-null object\n",
      "day_or_month_for_breast_feeding     127804 non-null float64\n",
      "water_month                         127804 non-null float64\n",
      "ani_milk_month                      127804 non-null float64\n",
      "semisolid_month_or_day              127804 non-null float64\n",
      "solid_month                         127804 non-null float64\n",
      "vegetables_month_or_day             127804 non-null float64\n",
      "illness_type                        127804 non-null float64\n",
      "illness_duration                    127804 non-null float64\n",
      "treatment_type                      127804 non-null float64\n",
      "v54                                 0 non-null float64\n",
      "dtypes: float64(37), int64(10), object(7)\n",
      "memory usage: 52.7+ MB\n"
     ]
    }
   ],
   "source": [
    "data.info()"
   ]
  },
  {
   "cell_type": "code",
   "execution_count": 205,
   "metadata": {},
   "outputs": [
    {
     "data": {
      "text/plain": [
       "array(['state_code', 'district_code', 'rural_urban', 'stratum', 'psu_id',\n",
       "       'ahs_house_unit', 'house_hold_no', 'date_survey',\n",
       "       'test_salt_iodine', 'record_code_iodine',\n",
       "       'record_code_iodine_reason', 'sl_no', 'sex', 'usual_residance',\n",
       "       'usual_residance_reason', 'identification_code', 'age_code', 'age',\n",
       "       'date_of_birth', 'month_of_birth', 'year_of_birth',\n",
       "       'weight_measured', 'weight_in_kg', 'length_height_measured',\n",
       "       'length_height_code', 'length_height_cm', 'haemoglobin_test',\n",
       "       'haemoglobin', 'haemoglobin_level', 'bp_systolic',\n",
       "       'bp_systolic_2_reading', 'bp_diastolic', 'bp_diastolic_2reading',\n",
       "       'pulse_rate', 'pulse_rate_2_reading', 'diabetes_test',\n",
       "       'fasting_blood_glucose', 'fasting_blood_glucose_mg_dl',\n",
       "       'marital_status', 'gauna_perfor_not_perfor', 'duration_pregnanacy',\n",
       "       'first_breast_feeding', 'is_cur_breast_feeding',\n",
       "       'day_or_month_for_breast_feeding_',\n",
       "       'day_or_month_for_breast_feeding', 'water_month', 'ani_milk_month',\n",
       "       'semisolid_month_or_day', 'solid_month', 'vegetables_month_or_day',\n",
       "       'illness_type', 'illness_duration', 'treatment_type', 'v54'], dtype=object)"
      ]
     },
     "execution_count": 205,
     "metadata": {},
     "output_type": "execute_result"
    }
   ],
   "source": [
    "data.columns.values"
   ]
  },
  {
   "cell_type": "code",
   "execution_count": 206,
   "metadata": {},
   "outputs": [],
   "source": [
    "data = data.drop(['state_code', 'psu_id','ahs_house_unit','house_hold_no', 'date_survey',\n",
    "                  'test_salt_iodine', 'record_code_iodine_reason', 'sl_no', 'usual_residance_reason',\n",
    "                  'identification_code', 'date_of_birth', 'year_of_birth', 'weight_measured',\n",
    "                  'length_height_measured', 'length_height_code', 'haemoglobin_test', 'haemoglobin', 'bp_systolic',\n",
    "                  'bp_systolic_2_reading', 'bp_diastolic', 'bp_diastolic_2reading', 'pulse_rate',\n",
    "                  'pulse_rate_2_reading', 'diabetes_test', 'fasting_blood_glucose', 'fasting_blood_glucose_mg_dl',\n",
    "                  'marital_status', 'gauna_perfor_not_perfor', 'duration_pregnanacy', 'illness_duration', 'v54'],\n",
    "                axis = 1)"
   ]
  },
  {
   "cell_type": "code",
   "execution_count": 207,
   "metadata": {},
   "outputs": [
    {
     "data": {
      "text/plain": [
       "(127810, 23)"
      ]
     },
     "execution_count": 207,
     "metadata": {},
     "output_type": "execute_result"
    }
   ],
   "source": [
    "data.shape"
   ]
  },
  {
   "cell_type": "code",
   "execution_count": 208,
   "metadata": {},
   "outputs": [
    {
     "data": {
      "text/plain": [
       "array(['district_code', 'rural_urban', 'stratum', 'record_code_iodine',\n",
       "       'sex', 'usual_residance', 'age_code', 'age', 'month_of_birth',\n",
       "       'weight_in_kg', 'length_height_cm', 'haemoglobin_level',\n",
       "       'first_breast_feeding', 'is_cur_breast_feeding',\n",
       "       'day_or_month_for_breast_feeding_',\n",
       "       'day_or_month_for_breast_feeding', 'water_month', 'ani_milk_month',\n",
       "       'semisolid_month_or_day', 'solid_month', 'vegetables_month_or_day',\n",
       "       'illness_type', 'treatment_type'], dtype=object)"
      ]
     },
     "execution_count": 208,
     "metadata": {},
     "output_type": "execute_result"
    }
   ],
   "source": [
    "data.columns.values"
   ]
  },
  {
   "cell_type": "code",
   "execution_count": 209,
   "metadata": {},
   "outputs": [],
   "source": [
    "data = data.drop(data[(data['age_code'] == 'Y') & (data['age'] > 5) | (data['illness_type'] == -1)].index)"
   ]
  },
  {
   "cell_type": "code",
   "execution_count": 210,
   "metadata": {},
   "outputs": [
    {
     "data": {
      "text/plain": [
       "(8588, 23)"
      ]
     },
     "execution_count": 210,
     "metadata": {},
     "output_type": "execute_result"
    }
   ],
   "source": [
    "data.shape"
   ]
  },
  {
   "cell_type": "code",
   "execution_count": 211,
   "metadata": {},
   "outputs": [
    {
     "data": {
      "text/plain": [
       "0.0    6535\n",
       "2.0     867\n",
       "3.0     820\n",
       "1.0     253\n",
       "4.0     107\n",
       "Name: illness_type, dtype: int64"
      ]
     },
     "execution_count": 211,
     "metadata": {},
     "output_type": "execute_result"
    }
   ],
   "source": [
    "data['illness_type'].value_counts()"
   ]
  },
  {
   "cell_type": "code",
   "execution_count": 212,
   "metadata": {},
   "outputs": [
    {
     "data": {
      "text/plain": [
       "Y     7343\n",
       "M     1192\n",
       "D       47\n",
       "-1       3\n",
       "Name: age_code, dtype: int64"
      ]
     },
     "execution_count": 212,
     "metadata": {},
     "output_type": "execute_result"
    }
   ],
   "source": [
    "data['age_code'].value_counts()"
   ]
  },
  {
   "cell_type": "code",
   "execution_count": 213,
   "metadata": {},
   "outputs": [
    {
     "data": {
      "text/plain": [
       "(8585, 23)"
      ]
     },
     "execution_count": 213,
     "metadata": {},
     "output_type": "execute_result"
    }
   ],
   "source": [
    "data = data.drop(data[data['age_code'] == '-1'].index)\n",
    "data.shape"
   ]
  },
  {
   "cell_type": "code",
   "execution_count": 214,
   "metadata": {},
   "outputs": [
    {
     "name": "stdout",
     "output_type": "stream",
     "text": [
      "1    7427\n",
      "2    1158\n",
      "Name: rural_urban, dtype: int64\n",
      "2    4127\n",
      "1    3300\n",
      "0    1158\n",
      "Name: stratum, dtype: int64\n",
      "3    8157\n",
      "2     317\n",
      "1     111\n",
      "Name: record_code_iodine, dtype: int64\n",
      "1    4416\n",
      "2    4169\n",
      "Name: sex, dtype: int64\n",
      "1    8580\n",
      "2       5\n",
      "Name: usual_residance, dtype: int64\n",
      "Y    7343\n",
      "M    1192\n",
      "D      47\n",
      "Name: age_code, dtype: int64\n",
      "0.0     1451\n",
      "1.0      881\n",
      "8.0      726\n",
      "10.0     634\n",
      "6.0      622\n",
      "7.0      607\n",
      "12.0     590\n",
      "9.0      583\n",
      "11.0     544\n",
      "2.0      536\n",
      "5.0      484\n",
      "4.0      462\n",
      "3.0      462\n",
      "Name: month_of_birth, dtype: int64\n"
     ]
    }
   ],
   "source": [
    "print(data['rural_urban'].value_counts())\n",
    "print(data['stratum'].value_counts())\n",
    "print(data['record_code_iodine'].value_counts())\n",
    "print(data['sex'].value_counts())\n",
    "print(data['usual_residance'].value_counts())\n",
    "print(data['age_code'].value_counts())\n",
    "print(data['month_of_birth'].value_counts())"
   ]
  },
  {
   "cell_type": "code",
   "execution_count": 215,
   "metadata": {},
   "outputs": [
    {
     "name": "stdout",
     "output_type": "stream",
     "text": [
      "M     5406\n",
      "-1    3070\n",
      "D      106\n",
      "Name: day_or_month_for_breast_feeding_, dtype: int64\n"
     ]
    }
   ],
   "source": [
    "print(data['day_or_month_for_breast_feeding_'].value_counts())"
   ]
  },
  {
   "cell_type": "code",
   "execution_count": 216,
   "metadata": {},
   "outputs": [
    {
     "data": {
      "text/plain": [
       "month_of_birth\n",
       "0.0     0.593384\n",
       "1.0     0.388195\n",
       "2.0     0.559701\n",
       "3.0     0.606061\n",
       "4.0     0.590909\n",
       "5.0     0.582645\n",
       "6.0     0.659164\n",
       "7.0     0.604613\n",
       "8.0     0.637741\n",
       "9.0     0.512864\n",
       "10.0    0.566246\n",
       "11.0    0.601103\n",
       "12.0    0.528814\n",
       "Name: illness_type, dtype: float64"
      ]
     },
     "execution_count": 216,
     "metadata": {},
     "output_type": "execute_result"
    }
   ],
   "source": [
    "data['illness_type'].groupby(data['month_of_birth']).mean()"
   ]
  },
  {
   "cell_type": "code",
   "execution_count": 217,
   "metadata": {},
   "outputs": [
    {
     "data": {
      "text/plain": [
       "0.0    0.751206\n",
       "2.0    0.112336\n",
       "3.0    0.102688\n",
       "1.0    0.024810\n",
       "4.0    0.008959\n",
       "Name: illness_type, dtype: float64"
      ]
     },
     "execution_count": 217,
     "metadata": {},
     "output_type": "execute_result"
    }
   ],
   "source": [
    "(data['illness_type'][data[data['month_of_birth']==0].index].value_counts())/1451"
   ]
  },
  {
   "cell_type": "code",
   "execution_count": 218,
   "metadata": {},
   "outputs": [
    {
     "name": "stdout",
     "output_type": "stream",
     "text": [
      "0.0    0.503790\n",
      "2.0    0.056513\n",
      "3.0    0.029635\n",
      "1.0    0.011716\n",
      "4.0    0.005513\n",
      "Name: illness_type, dtype: float64\n",
      "0.0    0.281185\n",
      "2.0    0.037216\n",
      "3.0    0.032391\n",
      "1.0    0.013094\n",
      "4.0    0.005513\n",
      "Name: illness_type, dtype: float64\n",
      "0.0    0.239145\n",
      "3.0    0.033770\n",
      "2.0    0.031702\n",
      "1.0    0.008959\n",
      "4.0    0.004824\n",
      "Name: illness_type, dtype: float64\n",
      "0.0    0.237767\n",
      "2.0    0.037905\n",
      "3.0    0.029635\n",
      "1.0    0.009649\n",
      "4.0    0.003446\n",
      "Name: illness_type, dtype: float64\n",
      "0.0    0.252929\n",
      "3.0    0.034459\n",
      "2.0    0.034459\n",
      "1.0    0.008270\n",
      "4.0    0.003446\n",
      "Name: illness_type, dtype: float64\n",
      "0.0    0.310131\n",
      "2.0    0.050999\n",
      "3.0    0.048243\n",
      "1.0    0.013784\n",
      "4.0    0.005513\n",
      "Name: illness_type, dtype: float64\n",
      "0.0    0.312198\n",
      "3.0    0.043418\n",
      "2.0    0.041351\n",
      "1.0    0.015162\n",
      "4.0    0.006203\n",
      "Name: illness_type, dtype: float64\n",
      "0.0    0.364576\n",
      "2.0    0.056513\n",
      "3.0    0.050999\n",
      "1.0    0.019986\n",
      "4.0    0.008270\n",
      "Name: illness_type, dtype: float64\n",
      "0.0    0.314266\n",
      "3.0    0.037905\n",
      "2.0    0.030324\n",
      "1.0    0.015162\n",
      "4.0    0.004135\n",
      "Name: illness_type, dtype: float64\n",
      "0.0    0.334941\n",
      "2.0    0.041351\n",
      "3.0    0.040662\n",
      "1.0    0.012405\n",
      "4.0    0.007581\n",
      "Name: illness_type, dtype: float64\n",
      "0.0    0.283942\n",
      "3.0    0.043418\n",
      "2.0    0.033081\n",
      "1.0    0.009649\n",
      "4.0    0.004824\n",
      "Name: illness_type, dtype: float64\n",
      "0.0    0.317712\n",
      "3.0    0.037905\n",
      "2.0    0.033770\n",
      "1.0    0.011716\n",
      "4.0    0.005513\n",
      "Name: illness_type, dtype: float64\n"
     ]
    }
   ],
   "source": [
    "print((data['illness_type'][data[data['month_of_birth']==1].index].value_counts())/1451)\n",
    "print((data['illness_type'][data[data['month_of_birth']==2].index].value_counts())/1451)\n",
    "print((data['illness_type'][data[data['month_of_birth']==3].index].value_counts())/1451)\n",
    "print((data['illness_type'][data[data['month_of_birth']==4].index].value_counts())/1451)\n",
    "print((data['illness_type'][data[data['month_of_birth']==5].index].value_counts())/1451)\n",
    "print((data['illness_type'][data[data['month_of_birth']==6].index].value_counts())/1451)\n",
    "print((data['illness_type'][data[data['month_of_birth']==7].index].value_counts())/1451)\n",
    "print((data['illness_type'][data[data['month_of_birth']==8].index].value_counts())/1451)\n",
    "print((data['illness_type'][data[data['month_of_birth']==9].index].value_counts())/1451)\n",
    "print((data['illness_type'][data[data['month_of_birth']==10].index].value_counts())/1451)\n",
    "print((data['illness_type'][data[data['month_of_birth']==11].index].value_counts())/1451)\n",
    "print((data['illness_type'][data[data['month_of_birth']==12].index].value_counts())/1451)"
   ]
  },
  {
   "cell_type": "code",
   "execution_count": 219,
   "metadata": {},
   "outputs": [
    {
     "data": {
      "text/plain": [
       "(8585, 22)"
      ]
     },
     "execution_count": 219,
     "metadata": {},
     "output_type": "execute_result"
    }
   ],
   "source": [
    "#droping birth month\n",
    "data = data.drop('month_of_birth', axis=1)\n",
    "data.shape"
   ]
  },
  {
   "cell_type": "code",
   "execution_count": 220,
   "metadata": {},
   "outputs": [
    {
     "data": {
      "text/plain": [
       "Index(['district_code', 'rural_urban', 'stratum', 'record_code_iodine', 'sex',\n",
       "       'usual_residance', 'age_code', 'age', 'weight_in_kg',\n",
       "       'length_height_cm', 'haemoglobin_level', 'first_breast_feeding',\n",
       "       'is_cur_breast_feeding', 'day_or_month_for_breast_feeding_',\n",
       "       'day_or_month_for_breast_feeding', 'water_month', 'ani_milk_month',\n",
       "       'semisolid_month_or_day', 'solid_month', 'vegetables_month_or_day',\n",
       "       'illness_type', 'treatment_type'],\n",
       "      dtype='object')"
      ]
     },
     "execution_count": 220,
     "metadata": {},
     "output_type": "execute_result"
    }
   ],
   "source": [
    "data.columns.unique()"
   ]
  },
  {
   "cell_type": "code",
   "execution_count": 221,
   "metadata": {},
   "outputs": [
    {
     "name": "stdout",
     "output_type": "stream",
     "text": [
      "1\n",
      "556\n",
      "0.0    77.158273\n",
      "2.0     7.553957\n",
      "3.0    14.028777\n",
      "4.0     1.258993\n",
      "Name: illness_type, dtype: float64\n",
      "2\n",
      "429\n",
      "0.0    77.622378\n",
      "1.0     1.631702\n",
      "2.0    10.489510\n",
      "3.0     9.790210\n",
      "4.0     0.466200\n",
      "Name: illness_type, dtype: float64\n",
      "3\n",
      "569\n",
      "0.0    35.325132\n",
      "1.0     6.151142\n",
      "2.0    19.156415\n",
      "3.0    38.664323\n",
      "4.0     0.702988\n",
      "Name: illness_type, dtype: float64\n",
      "4\n",
      "604\n",
      "0.0    86.589404\n",
      "1.0     1.655629\n",
      "2.0     6.456954\n",
      "3.0     3.807947\n",
      "4.0     1.490066\n",
      "Name: illness_type, dtype: float64\n",
      "5\n",
      "474\n",
      "0.0    76.582278\n",
      "1.0     4.430380\n",
      "2.0    11.603376\n",
      "3.0     6.329114\n",
      "4.0     1.054852\n",
      "Name: illness_type, dtype: float64\n",
      "6\n",
      "629\n",
      "0.0    61.367250\n",
      "1.0     5.246423\n",
      "2.0    11.446741\n",
      "3.0    17.806041\n",
      "4.0     4.133545\n",
      "Name: illness_type, dtype: float64\n",
      "7\n",
      "639\n",
      "0.0    66.197183\n",
      "1.0     6.259781\n",
      "2.0    21.283255\n",
      "3.0     5.320814\n",
      "4.0     0.938967\n",
      "Name: illness_type, dtype: float64\n",
      "8\n",
      "473\n",
      "0.0    80.761099\n",
      "1.0     0.422833\n",
      "2.0     7.610994\n",
      "3.0    10.782241\n",
      "4.0     0.422833\n",
      "Name: illness_type, dtype: float64\n",
      "9\n",
      "572\n",
      "0.0    67.307692\n",
      "1.0     4.020979\n",
      "2.0    16.083916\n",
      "3.0    11.538462\n",
      "4.0     1.048951\n",
      "Name: illness_type, dtype: float64\n",
      "10\n",
      "453\n",
      "0.0    88.520971\n",
      "1.0     1.545254\n",
      "2.0     8.388521\n",
      "3.0     1.324503\n",
      "4.0     0.220751\n",
      "Name: illness_type, dtype: float64\n",
      "11\n",
      "375\n",
      "0.0    84.000000\n",
      "1.0     0.533333\n",
      "2.0     9.600000\n",
      "3.0     5.333333\n",
      "4.0     0.533333\n",
      "Name: illness_type, dtype: float64\n",
      "12\n",
      "141\n",
      "0.0    85.106383\n",
      "1.0     4.255319\n",
      "2.0     2.836879\n",
      "3.0     7.801418\n",
      "Name: illness_type, dtype: float64\n",
      "13\n",
      "481\n",
      "0.0    89.604990\n",
      "1.0     0.415800\n",
      "2.0     0.415800\n",
      "3.0     7.276507\n",
      "4.0     2.286902\n",
      "Name: illness_type, dtype: float64\n",
      "14\n",
      "524\n",
      "0.0    95.419847\n",
      "1.0     1.908397\n",
      "2.0     0.572519\n",
      "3.0     1.717557\n",
      "4.0     0.381679\n",
      "Name: illness_type, dtype: float64\n",
      "15\n",
      "627\n",
      "0.0    77.511962\n",
      "1.0     4.306220\n",
      "2.0     3.827751\n",
      "3.0    11.164274\n",
      "4.0     3.189793\n",
      "Name: illness_type, dtype: float64\n",
      "16\n",
      "320\n",
      "0.0    69.0625\n",
      "1.0     0.6250\n",
      "2.0    28.4375\n",
      "3.0     1.5625\n",
      "4.0     0.3125\n",
      "Name: illness_type, dtype: float64\n",
      "17\n",
      "369\n",
      "0.0    87.262873\n",
      "1.0     4.878049\n",
      "2.0     7.317073\n",
      "4.0     0.271003\n",
      "Name: illness_type, dtype: float64\n",
      "18\n",
      "350\n",
      "0.0    89.714286\n",
      "1.0     2.285714\n",
      "2.0     4.571429\n",
      "3.0     2.285714\n",
      "4.0     0.571429\n",
      "Name: illness_type, dtype: float64\n"
     ]
    }
   ],
   "source": [
    "for i in data['district_code'].unique():\n",
    "    print(i)\n",
    "    x = data['district_code'][data[data['district_code']==i].index].value_counts()\n",
    "    print(x[i])\n",
    "    print((data['illness_type'][data[data['district_code']==i].index].value_counts().sort_index())*100/x[i])"
   ]
  },
  {
   "cell_type": "code",
   "execution_count": 222,
   "metadata": {},
   "outputs": [
    {
     "name": "stdout",
     "output_type": "stream",
     "text": [
      "1\n",
      "7427\n",
      "0.0    75.615996\n",
      "1.0     3.002558\n",
      "2.0    10.542615\n",
      "3.0     9.600108\n",
      "4.0     1.225259\n",
      "Name: illness_type, dtype: float64\n",
      "----------------------------------------------------\n",
      "2\n",
      "1158\n",
      "0.0    79.360967\n",
      "1.0     2.590674\n",
      "2.0     7.253886\n",
      "3.0     9.240069\n",
      "4.0     1.381693\n",
      "Name: illness_type, dtype: float64\n",
      "----------------------------------------------------\n"
     ]
    }
   ],
   "source": [
    "for i in data['rural_urban'].unique():\n",
    "    print(i)\n",
    "    x = data['rural_urban'][data[data['rural_urban']==i].index].value_counts()\n",
    "    print(x[i])\n",
    "    print((data['illness_type'][data[data['rural_urban']==i].index].value_counts().sort_index())*100/x[i])\n",
    "    print(\"----------------------------------------------------\")"
   ]
  },
  {
   "cell_type": "code",
   "execution_count": 223,
   "metadata": {},
   "outputs": [],
   "source": [
    "data = data.drop('rural_urban',axis=1)"
   ]
  },
  {
   "cell_type": "code",
   "execution_count": 224,
   "metadata": {},
   "outputs": [
    {
     "data": {
      "text/plain": [
       "array(['district_code', 'stratum', 'record_code_iodine', 'sex',\n",
       "       'usual_residance', 'age_code', 'age', 'weight_in_kg',\n",
       "       'length_height_cm', 'haemoglobin_level', 'first_breast_feeding',\n",
       "       'is_cur_breast_feeding', 'day_or_month_for_breast_feeding_',\n",
       "       'day_or_month_for_breast_feeding', 'water_month', 'ani_milk_month',\n",
       "       'semisolid_month_or_day', 'solid_month', 'vegetables_month_or_day',\n",
       "       'illness_type', 'treatment_type'], dtype=object)"
      ]
     },
     "execution_count": 224,
     "metadata": {},
     "output_type": "execute_result"
    }
   ],
   "source": [
    "data.columns.values"
   ]
  },
  {
   "cell_type": "code",
   "execution_count": 225,
   "metadata": {},
   "outputs": [
    {
     "name": "stdout",
     "output_type": "stream",
     "text": [
      "1\n",
      "3300\n",
      "0.0    75.030303\n",
      "1.0     2.181818\n",
      "2.0    10.939394\n",
      "3.0    10.939394\n",
      "4.0     0.878788\n",
      "Name: illness_type, dtype: float64\n",
      "----------------------------------------------------\n",
      "2\n",
      "4127\n",
      "0.0    76.084323\n",
      "1.0     3.658832\n",
      "2.0    10.225345\n",
      "3.0     8.529198\n",
      "4.0     1.502302\n",
      "Name: illness_type, dtype: float64\n",
      "----------------------------------------------------\n",
      "0\n",
      "1158\n",
      "0.0    79.360967\n",
      "1.0     2.590674\n",
      "2.0     7.253886\n",
      "3.0     9.240069\n",
      "4.0     1.381693\n",
      "Name: illness_type, dtype: float64\n",
      "----------------------------------------------------\n"
     ]
    }
   ],
   "source": [
    "for i in data['stratum'].unique():\n",
    "    print(i)\n",
    "    x = data['stratum'][data[data['stratum']==i].index].value_counts()\n",
    "    print(x[i])\n",
    "    print((data['illness_type'][data[data['stratum']==i].index].value_counts().sort_index())*100/x[i])\n",
    "    print(\"----------------------------------------------------\")"
   ]
  },
  {
   "cell_type": "code",
   "execution_count": 226,
   "metadata": {},
   "outputs": [],
   "source": [
    "data = data.drop(['stratum','district_code','usual_residance'],axis=1)"
   ]
  },
  {
   "cell_type": "code",
   "execution_count": 227,
   "metadata": {},
   "outputs": [
    {
     "data": {
      "text/plain": [
       "array(['record_code_iodine', 'sex', 'age_code', 'age', 'weight_in_kg',\n",
       "       'length_height_cm', 'haemoglobin_level', 'first_breast_feeding',\n",
       "       'is_cur_breast_feeding', 'day_or_month_for_breast_feeding_',\n",
       "       'day_or_month_for_breast_feeding', 'water_month', 'ani_milk_month',\n",
       "       'semisolid_month_or_day', 'solid_month', 'vegetables_month_or_day',\n",
       "       'illness_type', 'treatment_type'], dtype=object)"
      ]
     },
     "execution_count": 227,
     "metadata": {},
     "output_type": "execute_result"
    }
   ],
   "source": [
    "data.columns.values"
   ]
  },
  {
   "cell_type": "code",
   "execution_count": 228,
   "metadata": {},
   "outputs": [
    {
     "data": {
      "text/plain": [
       "-1.0    166\n",
       "Name: weight_in_kg, dtype: int64"
      ]
     },
     "execution_count": 228,
     "metadata": {},
     "output_type": "execute_result"
    }
   ],
   "source": [
    "data['weight_in_kg'][data[data['weight_in_kg'] == -1].index].value_counts()"
   ]
  },
  {
   "cell_type": "code",
   "execution_count": 229,
   "metadata": {},
   "outputs": [
    {
     "name": "stdout",
     "output_type": "stream",
     "text": [
      "Series([], Name: record_code_iodine, dtype: int64)\n",
      "Series([], Name: sex, dtype: int64)\n",
      "Series([], Name: age_code, dtype: int64)\n",
      "Series([], Name: age, dtype: int64)\n",
      "-1.0    166\n",
      "Name: weight_in_kg, dtype: int64\n",
      "-1.0    183\n",
      "Name: length_height_cm, dtype: int64\n",
      "-1.0    3078\n",
      "Name: haemoglobin_level, dtype: int64\n",
      "-1.0    3046\n",
      "Name: first_breast_feeding, dtype: int64\n",
      "-1.0    3044\n",
      "Name: is_cur_breast_feeding, dtype: int64\n",
      "Series([], Name: day_or_month_for_breast_feeding_, dtype: int64)\n",
      "-1.0    3071\n",
      "Name: day_or_month_for_breast_feeding, dtype: int64\n",
      "-1.0    3162\n",
      "Name: water_month, dtype: int64\n",
      "-1.0    3252\n",
      "Name: ani_milk_month, dtype: int64\n",
      "-1.0    3188\n",
      "Name: semisolid_month_or_day, dtype: int64\n",
      "-1.0    3230\n",
      "Name: solid_month, dtype: int64\n",
      "-1.0    3231\n",
      "Name: vegetables_month_or_day, dtype: int64\n"
     ]
    }
   ],
   "source": [
    "print(data['record_code_iodine'][data[data['record_code_iodine'] == -1].index].value_counts())\n",
    "print(data['sex'][data[data['sex'] == -1].index].value_counts())\n",
    "print(data['age_code'][data[data['age_code'] == -1].index].value_counts())\n",
    "print(data['age'][data[data['age'] == -1].index].value_counts())\n",
    "print(data['weight_in_kg'][data[data['weight_in_kg'] == -1].index].value_counts())\n",
    "print(data['length_height_cm'][data[data['length_height_cm'] == -1].index].value_counts())\n",
    "print(data['haemoglobin_level'][data[data['haemoglobin_level'] == -1].index].value_counts())\n",
    "print(data['first_breast_feeding'][data[data['first_breast_feeding'] == -1].index].value_counts())\n",
    "print(data['is_cur_breast_feeding'][data[data['is_cur_breast_feeding'] == -1].index].value_counts())\n",
    "print(data['day_or_month_for_breast_feeding_'][data[data['day_or_month_for_breast_feeding_'] == -1].index].value_counts())\n",
    "print(data['day_or_month_for_breast_feeding'][data[data['day_or_month_for_breast_feeding'] == -1].index].value_counts())\n",
    "print(data['water_month'][data[data['water_month'] == -1].index].value_counts())\n",
    "print(data['ani_milk_month'][data[data['ani_milk_month'] == -1].index].value_counts())\n",
    "print(data['semisolid_month_or_day'][data[data['semisolid_month_or_day'] == -1].index].value_counts())\n",
    "print(data['solid_month'][data[data['solid_month'] == -1].index].value_counts())\n",
    "print(data['vegetables_month_or_day'][data[data['vegetables_month_or_day'] == -1].index].value_counts())"
   ]
  },
  {
   "cell_type": "code",
   "execution_count": 230,
   "metadata": {},
   "outputs": [
    {
     "data": {
      "text/plain": [
       "(8585, 18)"
      ]
     },
     "execution_count": 230,
     "metadata": {},
     "output_type": "execute_result"
    }
   ],
   "source": [
    "data.shape"
   ]
  },
  {
   "cell_type": "code",
   "execution_count": 231,
   "metadata": {},
   "outputs": [],
   "source": [
    "data['water_month'] = data['water_month'].replace(-1, data['water_month'][data[data['water_month'] != -1].index].mean())"
   ]
  },
  {
   "cell_type": "code",
   "execution_count": 232,
   "metadata": {},
   "outputs": [
    {
     "data": {
      "text/plain": [
       "Series([], Name: water_month, dtype: int64)"
      ]
     },
     "execution_count": 232,
     "metadata": {},
     "output_type": "execute_result"
    }
   ],
   "source": [
    "data['water_month'][data[data['water_month'] == -1].index].value_counts()"
   ]
  },
  {
   "cell_type": "code",
   "execution_count": 233,
   "metadata": {},
   "outputs": [
    {
     "data": {
      "text/plain": [
       "-1.0     3188\n",
       " 8.0     1599\n",
       " 0.0     1044\n",
       " 7.0     1020\n",
       " 9.0      864\n",
       " 6.0      345\n",
       " 10.0     291\n",
       " 12.0     102\n",
       " 11.0      35\n",
       " 5.0       34\n",
       " 4.0       15\n",
       " 2.0       12\n",
       " 13.0      12\n",
       " 1.0        4\n",
       " 18.0       4\n",
       " 15.0       4\n",
       " 14.0       3\n",
       " 3.0        2\n",
       " 19.0       2\n",
       " 24.0       1\n",
       " 85.0       1\n",
       "Name: semisolid_month_or_day, dtype: int64"
      ]
     },
     "execution_count": 233,
     "metadata": {},
     "output_type": "execute_result"
    }
   ],
   "source": [
    "data['semisolid_month_or_day'].value_counts()"
   ]
  },
  {
   "cell_type": "code",
   "execution_count": 234,
   "metadata": {},
   "outputs": [],
   "source": [
    "data['ani_milk_month'] = data['ani_milk_month'].replace(-1, data['ani_milk_month'][data[data['ani_milk_month'] != -1].index].mean())\n",
    "data['semisolid_month_or_day'] = data['semisolid_month_or_day'].replace(-1, data['semisolid_month_or_day'][data[data['semisolid_month_or_day'] != -1].index].mean())\n",
    "data['solid_month'] = data['solid_month'].replace(-1, data['solid_month'][data[data['solid_month'] != -1].index].mean())\n",
    "data['vegetables_month_or_day'] = data['vegetables_month_or_day'].replace(-1, data['vegetables_month_or_day'][data[data['vegetables_month_or_day'] != -1].index].mean())"
   ]
  },
  {
   "cell_type": "code",
   "execution_count": 247,
   "metadata": {},
   "outputs": [
    {
     "name": "stdout",
     "output_type": "stream",
     "text": [
      "Series([], Name: water_month, dtype: int64)\n",
      "Series([], Name: ani_milk_month, dtype: int64)\n",
      "Series([], Name: semisolid_month_or_day, dtype: int64)\n",
      "Series([], Name: solid_month, dtype: int64)\n",
      "Series([], Name: vegetables_month_or_day, dtype: int64)\n"
     ]
    }
   ],
   "source": [
    "print(data['water_month'][data[data['water_month'] == -1].index].value_counts())\n",
    "print(data['ani_milk_month'][data[data['ani_milk_month'] == -1].index].value_counts())\n",
    "print(data['semisolid_month_or_day'][data[data['semisolid_month_or_day'] == -1].index].value_counts())\n",
    "print(data['solid_month'][data[data['solid_month'] == -1].index].value_counts())\n",
    "print(data['vegetables_month_or_day'][data[data['vegetables_month_or_day'] == -1].index].value_counts())"
   ]
  },
  {
   "cell_type": "code",
   "execution_count": 249,
   "metadata": {},
   "outputs": [
    {
     "data": {
      "text/plain": [
       "-1.0    3044\n",
       "Name: is_cur_breast_feeding, dtype: int64"
      ]
     },
     "execution_count": 249,
     "metadata": {},
     "output_type": "execute_result"
    }
   ],
   "source": [
    "data['is_cur_breast_feeding'][data[data['is_cur_breast_feeding'] == -1].index].value_counts()"
   ]
  },
  {
   "cell_type": "code",
   "execution_count": null,
   "metadata": {},
   "outputs": [],
   "source": []
  }
 ],
 "metadata": {
  "kernelspec": {
   "display_name": "Python 3",
   "language": "python",
   "name": "python3"
  },
  "language_info": {
   "codemirror_mode": {
    "name": "ipython",
    "version": 3
   },
   "file_extension": ".py",
   "mimetype": "text/x-python",
   "name": "python",
   "nbconvert_exporter": "python",
   "pygments_lexer": "ipython3",
   "version": "3.5.2"
  }
 },
 "nbformat": 4,
 "nbformat_minor": 2
}
