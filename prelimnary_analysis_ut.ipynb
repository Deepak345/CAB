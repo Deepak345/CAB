{
 "cells": [
  {
   "cell_type": "code",
   "execution_count": 1,
   "metadata": {},
   "outputs": [],
   "source": [
    "import pandas as pd\n",
    "import matplotlib.pyplot as plt\n",
    "%matplotlib inline"
   ]
  },
  {
   "cell_type": "code",
   "execution_count": 2,
   "metadata": {},
   "outputs": [],
   "source": [
    "ut = pd.read_csv(\"data/CAB_05_UT.csv\", low_memory=False)"
   ]
  },
  {
   "cell_type": "code",
   "execution_count": 3,
   "metadata": {},
   "outputs": [
    {
     "data": {
      "text/html": [
       "<div>\n",
       "<style>\n",
       "    .dataframe thead tr:only-child th {\n",
       "        text-align: right;\n",
       "    }\n",
       "\n",
       "    .dataframe thead th {\n",
       "        text-align: left;\n",
       "    }\n",
       "\n",
       "    .dataframe tbody tr th {\n",
       "        vertical-align: top;\n",
       "    }\n",
       "</style>\n",
       "<table border=\"1\" class=\"dataframe\">\n",
       "  <thead>\n",
       "    <tr style=\"text-align: right;\">\n",
       "      <th></th>\n",
       "      <th>state_code</th>\n",
       "      <th>district_code</th>\n",
       "      <th>rural_urban</th>\n",
       "      <th>stratum</th>\n",
       "      <th>psu_id</th>\n",
       "      <th>ahs_house_unit</th>\n",
       "      <th>house_hold_no</th>\n",
       "      <th>date_survey</th>\n",
       "      <th>test_salt_iodine</th>\n",
       "      <th>record_code_iodine</th>\n",
       "      <th>...</th>\n",
       "      <th>day_or_month_for_breast_feeding</th>\n",
       "      <th>water_month</th>\n",
       "      <th>ani_milk_month</th>\n",
       "      <th>semisolid_month_or_day</th>\n",
       "      <th>solid_month</th>\n",
       "      <th>vegetables_month_or_day</th>\n",
       "      <th>illness_type</th>\n",
       "      <th>illness_duration</th>\n",
       "      <th>treatment_type</th>\n",
       "      <th>v54</th>\n",
       "    </tr>\n",
       "  </thead>\n",
       "  <tbody>\n",
       "    <tr>\n",
       "      <th>0</th>\n",
       "      <td>5</td>\n",
       "      <td>1</td>\n",
       "      <td>2</td>\n",
       "      <td>0</td>\n",
       "      <td>2824556</td>\n",
       "      <td>29</td>\n",
       "      <td>4</td>\n",
       "      <td>19/05/2014</td>\n",
       "      <td>30</td>\n",
       "      <td>3</td>\n",
       "      <td>...</td>\n",
       "      <td>-1</td>\n",
       "      <td>-1</td>\n",
       "      <td>-1</td>\n",
       "      <td>-1</td>\n",
       "      <td>-1</td>\n",
       "      <td>-1</td>\n",
       "      <td>-1</td>\n",
       "      <td>-1</td>\n",
       "      <td>-1</td>\n",
       "      <td>NaN</td>\n",
       "    </tr>\n",
       "    <tr>\n",
       "      <th>1</th>\n",
       "      <td>5</td>\n",
       "      <td>1</td>\n",
       "      <td>2</td>\n",
       "      <td>0</td>\n",
       "      <td>2824557</td>\n",
       "      <td>28</td>\n",
       "      <td>3</td>\n",
       "      <td>19/05/2014</td>\n",
       "      <td>30</td>\n",
       "      <td>3</td>\n",
       "      <td>...</td>\n",
       "      <td>-1</td>\n",
       "      <td>-1</td>\n",
       "      <td>-1</td>\n",
       "      <td>-1</td>\n",
       "      <td>-1</td>\n",
       "      <td>-1</td>\n",
       "      <td>-1</td>\n",
       "      <td>-1</td>\n",
       "      <td>-1</td>\n",
       "      <td>NaN</td>\n",
       "    </tr>\n",
       "    <tr>\n",
       "      <th>2</th>\n",
       "      <td>5</td>\n",
       "      <td>1</td>\n",
       "      <td>2</td>\n",
       "      <td>0</td>\n",
       "      <td>2824558</td>\n",
       "      <td>97</td>\n",
       "      <td>5</td>\n",
       "      <td>20/05/2014</td>\n",
       "      <td>30</td>\n",
       "      <td>3</td>\n",
       "      <td>...</td>\n",
       "      <td>-1</td>\n",
       "      <td>-1</td>\n",
       "      <td>-1</td>\n",
       "      <td>-1</td>\n",
       "      <td>-1</td>\n",
       "      <td>-1</td>\n",
       "      <td>-1</td>\n",
       "      <td>-1</td>\n",
       "      <td>-1</td>\n",
       "      <td>NaN</td>\n",
       "    </tr>\n",
       "    <tr>\n",
       "      <th>3</th>\n",
       "      <td>5</td>\n",
       "      <td>1</td>\n",
       "      <td>2</td>\n",
       "      <td>0</td>\n",
       "      <td>2823671</td>\n",
       "      <td>32</td>\n",
       "      <td>1</td>\n",
       "      <td>15/05/2014</td>\n",
       "      <td>30</td>\n",
       "      <td>3</td>\n",
       "      <td>...</td>\n",
       "      <td>-1</td>\n",
       "      <td>-1</td>\n",
       "      <td>-1</td>\n",
       "      <td>-1</td>\n",
       "      <td>-1</td>\n",
       "      <td>-1</td>\n",
       "      <td>-1</td>\n",
       "      <td>-1</td>\n",
       "      <td>-1</td>\n",
       "      <td>NaN</td>\n",
       "    </tr>\n",
       "    <tr>\n",
       "      <th>4</th>\n",
       "      <td>5</td>\n",
       "      <td>1</td>\n",
       "      <td>2</td>\n",
       "      <td>0</td>\n",
       "      <td>2824555</td>\n",
       "      <td>26</td>\n",
       "      <td>7</td>\n",
       "      <td>19/05/2014</td>\n",
       "      <td>30</td>\n",
       "      <td>3</td>\n",
       "      <td>...</td>\n",
       "      <td>-1</td>\n",
       "      <td>-1</td>\n",
       "      <td>-1</td>\n",
       "      <td>-1</td>\n",
       "      <td>-1</td>\n",
       "      <td>-1</td>\n",
       "      <td>-1</td>\n",
       "      <td>-1</td>\n",
       "      <td>-1</td>\n",
       "      <td>NaN</td>\n",
       "    </tr>\n",
       "  </tbody>\n",
       "</table>\n",
       "<p>5 rows × 54 columns</p>\n",
       "</div>"
      ],
      "text/plain": [
       "   state_code  district_code  rural_urban  stratum   psu_id  ahs_house_unit  \\\n",
       "0           5              1            2        0  2824556              29   \n",
       "1           5              1            2        0  2824557              28   \n",
       "2           5              1            2        0  2824558              97   \n",
       "3           5              1            2        0  2823671              32   \n",
       "4           5              1            2        0  2824555              26   \n",
       "\n",
       "   house_hold_no date_survey  test_salt_iodine  record_code_iodine ...   \\\n",
       "0              4  19/05/2014                30                   3 ...    \n",
       "1              3  19/05/2014                30                   3 ...    \n",
       "2              5  20/05/2014                30                   3 ...    \n",
       "3              1  15/05/2014                30                   3 ...    \n",
       "4              7  19/05/2014                30                   3 ...    \n",
       "\n",
       "   day_or_month_for_breast_feeding  water_month  ani_milk_month  \\\n",
       "0                               -1           -1              -1   \n",
       "1                               -1           -1              -1   \n",
       "2                               -1           -1              -1   \n",
       "3                               -1           -1              -1   \n",
       "4                               -1           -1              -1   \n",
       "\n",
       "   semisolid_month_or_day solid_month  vegetables_month_or_day illness_type  \\\n",
       "0                      -1          -1                       -1           -1   \n",
       "1                      -1          -1                       -1           -1   \n",
       "2                      -1          -1                       -1           -1   \n",
       "3                      -1          -1                       -1           -1   \n",
       "4                      -1          -1                       -1           -1   \n",
       "\n",
       "   illness_duration  treatment_type  v54  \n",
       "0                -1              -1  NaN  \n",
       "1                -1              -1  NaN  \n",
       "2                -1              -1  NaN  \n",
       "3                -1              -1  NaN  \n",
       "4                -1              -1  NaN  \n",
       "\n",
       "[5 rows x 54 columns]"
      ]
     },
     "execution_count": 3,
     "metadata": {},
     "output_type": "execute_result"
    }
   ],
   "source": [
    "ut.head()"
   ]
  },
  {
   "cell_type": "code",
   "execution_count": 4,
   "metadata": {},
   "outputs": [
    {
     "name": "stdout",
     "output_type": "stream",
     "text": [
      "<class 'pandas.core.frame.DataFrame'>\n",
      "RangeIndex: 67342 entries, 0 to 67341\n",
      "Data columns (total 54 columns):\n",
      "state_code                          67342 non-null int64\n",
      "district_code                       67342 non-null int64\n",
      "rural_urban                         67342 non-null int64\n",
      "stratum                             67342 non-null int64\n",
      "psu_id                              67342 non-null int64\n",
      "ahs_house_unit                      67342 non-null int64\n",
      "house_hold_no                       67342 non-null int64\n",
      "date_survey                         67342 non-null object\n",
      "test_salt_iodine                    67342 non-null int64\n",
      "record_code_iodine                  67342 non-null int64\n",
      "record_code_iodine_reason           0 non-null float64\n",
      "sl_no                               67342 non-null int64\n",
      "sex                                 67342 non-null int64\n",
      "usual_residance                     67342 non-null int64\n",
      "usual_residance_reason              7 non-null object\n",
      "identification_code                 67338 non-null float64\n",
      "age_code                            67342 non-null object\n",
      "age                                 67342 non-null int64\n",
      "date_of_birth                       67342 non-null int64\n",
      "month_of_birth                      67342 non-null int64\n",
      "year_of_birth                       67342 non-null int64\n",
      "weight_measured                     67342 non-null int64\n",
      "weight_in_kg                        67342 non-null float64\n",
      "length_height_measured              67342 non-null int64\n",
      "length_height_code                  67342 non-null object\n",
      "length_height_cm                    67342 non-null float64\n",
      "haemoglobin_test                    67342 non-null int64\n",
      "haemoglobin                         67342 non-null int64\n",
      "haemoglobin_level                   67342 non-null float64\n",
      "bp_systolic                         67342 non-null int64\n",
      "bp_systolic_2_reading               67342 non-null int64\n",
      "bp_diastolic                        67342 non-null int64\n",
      "bp_diastolic_2reading               67342 non-null int64\n",
      "pulse_rate                          67342 non-null int64\n",
      "pulse_rate_2_reading                67342 non-null int64\n",
      "diabetes_test                       67342 non-null int64\n",
      "fasting_blood_glucose               67342 non-null int64\n",
      "fasting_blood_glucose_mg_dl         67342 non-null int64\n",
      "marital_status                      67342 non-null int64\n",
      "gauna_perfor_not_perfor             67342 non-null int64\n",
      "duration_pregnanacy                 67342 non-null int64\n",
      "first_breast_feeding                67342 non-null int64\n",
      "is_cur_breast_feeding               67342 non-null int64\n",
      "day_or_month_for_breast_feeding_    67342 non-null object\n",
      "day_or_month_for_breast_feeding     67342 non-null int64\n",
      "water_month                         67342 non-null int64\n",
      "ani_milk_month                      67342 non-null int64\n",
      "semisolid_month_or_day              67342 non-null int64\n",
      "solid_month                         67342 non-null int64\n",
      "vegetables_month_or_day             67342 non-null int64\n",
      "illness_type                        67342 non-null int64\n",
      "illness_duration                    67342 non-null int64\n",
      "treatment_type                      67342 non-null int64\n",
      "v54                                 0 non-null float64\n",
      "dtypes: float64(6), int64(43), object(5)\n",
      "memory usage: 27.7+ MB\n"
     ]
    }
   ],
   "source": [
    "ut.info()"
   ]
  },
  {
   "cell_type": "code",
   "execution_count": 5,
   "metadata": {},
   "outputs": [
    {
     "data": {
      "text/plain": [
       "<bound method NDFrame.describe of        state_code  district_code  rural_urban  stratum   psu_id  \\\n",
       "0               5              1            2        0  2824556   \n",
       "1               5              1            2        0  2824557   \n",
       "2               5              1            2        0  2824558   \n",
       "3               5              1            2        0  2823671   \n",
       "4               5              1            2        0  2824555   \n",
       "5               5              1            2        0  2823667   \n",
       "6               5              1            2        0  2824554   \n",
       "7               5              1            2        0  2823668   \n",
       "8               5              1            2        0  2823669   \n",
       "9               5              1            2        0  2823670   \n",
       "10              5              1            2        0  2824551   \n",
       "11              5              1            2        0  2824552   \n",
       "12              5              1            2        0  2823666   \n",
       "13              5              1            2        0  2824553   \n",
       "14              5              1            2        0  2823664   \n",
       "15              5              1            2        0  2823665   \n",
       "16              5              1            2        0  2824547   \n",
       "17              5              1            2        0  2823663   \n",
       "18              5              1            2        0  2824548   \n",
       "19              5              1            2        0  2824549   \n",
       "20              5              1            2        0  2824550   \n",
       "21              5              1            2        0  2824546   \n",
       "22              5              1            2        0  2823660   \n",
       "23              5              1            2        0  2823661   \n",
       "24              5              1            2        0  2823662   \n",
       "25              5              1            2        0  2823658   \n",
       "26              5              1            2        0  2824542   \n",
       "27              5              1            2        0  2823657   \n",
       "28              5              1            2        0  2824543   \n",
       "29              5              1            2        0  2824544   \n",
       "...           ...            ...          ...      ...      ...   \n",
       "67312           5              1            1        1  2825581   \n",
       "67313           5              1            1        1  2826120   \n",
       "67314           5              1            1        1  2823155   \n",
       "67315           5              1            1        1  2825179   \n",
       "67316           5              1            1        1  2825180   \n",
       "67317           5              1            1        1  2827426   \n",
       "67318           5              1            1        1  2826729   \n",
       "67319           5              1            1        1  2822320   \n",
       "67320           5              1            1        1  2824817   \n",
       "67321           5              1            1        1  2824146   \n",
       "67322           5              1            1        1  2825175   \n",
       "67323           5              1            1        1  2825176   \n",
       "67324           5              1            1        1  2827430   \n",
       "67325           5              1            1        1  2827434   \n",
       "67326           5              1            1        1  2827431   \n",
       "67327           5              1            1        1  2827432   \n",
       "67328           5              1            1        1  2822321   \n",
       "67329           5              1            1        1  2828065   \n",
       "67330           5              1            1        1  2828066   \n",
       "67331           5              1            1        1  2828067   \n",
       "67332           5              1            1        1  2825583   \n",
       "67333           5              1            1        1  2825584   \n",
       "67334           5              1            1        1  2826115   \n",
       "67335           5              1            1        1  2826116   \n",
       "67336           5              1            1        1  2826117   \n",
       "67337           5              1            1        1  2826118   \n",
       "67338           5              1            1        1  2824145   \n",
       "67339           5              1            1        1  2824141   \n",
       "67340           5              1            1        1  2824144   \n",
       "67341           5              1            1        1  2823145   \n",
       "\n",
       "       ahs_house_unit  house_hold_no date_survey  test_salt_iodine  \\\n",
       "0                  29              4  19/05/2014                30   \n",
       "1                  28              3  19/05/2014                30   \n",
       "2                  97              5  20/05/2014                30   \n",
       "3                  32              1  15/05/2014                30   \n",
       "4                  26              7  19/05/2014                30   \n",
       "5                  32              2  15/05/2014                30   \n",
       "6                  24              2  18/05/2014                30   \n",
       "7                  21              1  17/05/2014                30   \n",
       "8                 105              1  17/05/2014                30   \n",
       "9                  72              3  16/05/2014                30   \n",
       "10                 36              1  19/05/2014                30   \n",
       "11                106              1  19/05/2014                30   \n",
       "12                 32              1  15/05/2014                30   \n",
       "13                 28              2  19/05/2014                30   \n",
       "14                 23              9  15/05/2014                30   \n",
       "15                 72              2  17/05/2014                30   \n",
       "16                 24              1  18/05/2014                30   \n",
       "17                 49              1  16/05/2014                30   \n",
       "18                 24              2  18/05/2014                30   \n",
       "19                 13              2  18/05/2014                30   \n",
       "20                106              1  19/05/2014                30   \n",
       "21                 98              1  20/05/2014                30   \n",
       "22                 72              2  17/05/2014                30   \n",
       "23                 23              1  15/05/2014                30   \n",
       "24                101              1  17/05/2014                30   \n",
       "25                 23              1  15/05/2014                30   \n",
       "26                 26              7  19/05/2014                30   \n",
       "27                 73              1  14/05/2014                30   \n",
       "28                 36              1  19/05/2014                30   \n",
       "29                 24              2  18/05/2014                30   \n",
       "...               ...            ...         ...               ...   \n",
       "67312             100              1  18/01/2014                30   \n",
       "67313             279              1  05/09/2014                 0   \n",
       "67314             247              1  13/12/2013                30   \n",
       "67315               7              1  15/02/2014                30   \n",
       "67316              33              2  17/02/2014                30   \n",
       "67317               7              1  03/02/2014                 0   \n",
       "67318             226              1  24/12/2013                30   \n",
       "67319             415              1  15/04/2014                30   \n",
       "67320              60              1  02/06/2014                30   \n",
       "67321               9              3  08/10/2013                30   \n",
       "67322               7              1  15/02/2014                30   \n",
       "67323              84              1  13/02/2014                30   \n",
       "67324              55              1  13/03/2014                30   \n",
       "67325             104              1  03/11/2014                30   \n",
       "67326             178              2  03/03/2014                30   \n",
       "67327             192              2  03/03/2014                30   \n",
       "67328             229              1  29/04/2014                30   \n",
       "67329              21              1  26/03/2014                30   \n",
       "67330              46              1  27/03/2014                30   \n",
       "67331             284              1  04/04/2014                30   \n",
       "67332             144              2  20/01/2014                30   \n",
       "67333             195              1  22/01/2014                30   \n",
       "67334              31              1  05/04/2014                30   \n",
       "67335              31              1  05/04/2014                30   \n",
       "67336             286              1  05/08/2014                30   \n",
       "67337             377              1  05/10/2014                 0   \n",
       "67338               6              2  08/10/2013                30   \n",
       "67339              24              1  09/10/2013                30   \n",
       "67340             177              1  18/10/2013                30   \n",
       "67341               8              1  16/11/2013                30   \n",
       "\n",
       "       record_code_iodine ...   day_or_month_for_breast_feeding  water_month  \\\n",
       "0                       3 ...                                -1           -1   \n",
       "1                       3 ...                                -1           -1   \n",
       "2                       3 ...                                -1           -1   \n",
       "3                       3 ...                                -1           -1   \n",
       "4                       3 ...                                -1           -1   \n",
       "5                       3 ...                                -1           -1   \n",
       "6                       3 ...                                -1           -1   \n",
       "7                       3 ...                                -1           -1   \n",
       "8                       3 ...                                -1           -1   \n",
       "9                       3 ...                                -1           -1   \n",
       "10                      3 ...                                -1           -1   \n",
       "11                      3 ...                                -1           -1   \n",
       "12                      3 ...                                -1           -1   \n",
       "13                      3 ...                                -1           -1   \n",
       "14                      3 ...                                -1           -1   \n",
       "15                      3 ...                                -1           -1   \n",
       "16                      3 ...                                -1           -1   \n",
       "17                      3 ...                                -1           -1   \n",
       "18                      3 ...                                -1           -1   \n",
       "19                      3 ...                                -1           -1   \n",
       "20                      3 ...                                -1           -1   \n",
       "21                      3 ...                                -1           -1   \n",
       "22                      3 ...                                -1           -1   \n",
       "23                      3 ...                                -1           -1   \n",
       "24                      3 ...                                -1           -1   \n",
       "25                      3 ...                                -1           -1   \n",
       "26                      3 ...                                -1           -1   \n",
       "27                      3 ...                                -1           -1   \n",
       "28                      3 ...                                -1           -1   \n",
       "29                      3 ...                                -1           -1   \n",
       "...                   ... ...                               ...          ...   \n",
       "67312                   3 ...                                -1           -1   \n",
       "67313                   1 ...                                -1           -1   \n",
       "67314                   3 ...                                -1           -1   \n",
       "67315                   3 ...                                -1           -1   \n",
       "67316                   3 ...                                -1           -1   \n",
       "67317                   1 ...                                -1           -1   \n",
       "67318                   3 ...                                -1           -1   \n",
       "67319                   3 ...                                -1           -1   \n",
       "67320                   3 ...                                -1           -1   \n",
       "67321                   3 ...                                -1           -1   \n",
       "67322                   3 ...                                -1           -1   \n",
       "67323                   3 ...                                -1           -1   \n",
       "67324                   3 ...                                -1           -1   \n",
       "67325                   3 ...                                -1           -1   \n",
       "67326                   3 ...                                -1           -1   \n",
       "67327                   3 ...                                -1           -1   \n",
       "67328                   3 ...                                -1           -1   \n",
       "67329                   3 ...                                -1           -1   \n",
       "67330                   3 ...                                -1           -1   \n",
       "67331                   3 ...                                -1           -1   \n",
       "67332                   3 ...                                -1           -1   \n",
       "67333                   3 ...                                -1           -1   \n",
       "67334                   3 ...                                -1           -1   \n",
       "67335                   3 ...                                -1           -1   \n",
       "67336                   3 ...                                -1           -1   \n",
       "67337                   1 ...                                -1           -1   \n",
       "67338                   3 ...                                -1           -1   \n",
       "67339                   3 ...                                -1           -1   \n",
       "67340                   3 ...                                -1           -1   \n",
       "67341                   3 ...                                -1           -1   \n",
       "\n",
       "       ani_milk_month  semisolid_month_or_day solid_month  \\\n",
       "0                  -1                      -1          -1   \n",
       "1                  -1                      -1          -1   \n",
       "2                  -1                      -1          -1   \n",
       "3                  -1                      -1          -1   \n",
       "4                  -1                      -1          -1   \n",
       "5                  -1                      -1          -1   \n",
       "6                  -1                      -1          -1   \n",
       "7                  -1                      -1          -1   \n",
       "8                  -1                      -1          -1   \n",
       "9                  -1                      -1          -1   \n",
       "10                 -1                      -1          -1   \n",
       "11                 -1                      -1          -1   \n",
       "12                 -1                      -1          -1   \n",
       "13                 -1                      -1          -1   \n",
       "14                 -1                      -1          -1   \n",
       "15                 -1                      -1          -1   \n",
       "16                 -1                      -1          -1   \n",
       "17                 -1                      -1          -1   \n",
       "18                 -1                      -1          -1   \n",
       "19                 -1                      -1          -1   \n",
       "20                 -1                      -1          -1   \n",
       "21                 -1                      -1          -1   \n",
       "22                 -1                      -1          -1   \n",
       "23                 -1                      -1          -1   \n",
       "24                 -1                      -1          -1   \n",
       "25                 -1                      -1          -1   \n",
       "26                 -1                      -1          -1   \n",
       "27                 -1                      -1          -1   \n",
       "28                 -1                      -1          -1   \n",
       "29                 -1                      -1          -1   \n",
       "...               ...                     ...         ...   \n",
       "67312              -1                      -1          -1   \n",
       "67313              -1                      -1          -1   \n",
       "67314              -1                      -1          -1   \n",
       "67315              -1                      -1          -1   \n",
       "67316              -1                      -1          -1   \n",
       "67317              -1                      -1          -1   \n",
       "67318              -1                      -1          -1   \n",
       "67319              -1                      -1          -1   \n",
       "67320              -1                      -1          -1   \n",
       "67321              -1                      -1          -1   \n",
       "67322              -1                      -1          -1   \n",
       "67323              -1                      -1          -1   \n",
       "67324              -1                      -1          -1   \n",
       "67325              -1                      -1          -1   \n",
       "67326              -1                      -1          -1   \n",
       "67327              -1                      -1          -1   \n",
       "67328              -1                      -1          -1   \n",
       "67329              -1                      -1          -1   \n",
       "67330              -1                      -1          -1   \n",
       "67331              -1                      -1          -1   \n",
       "67332              -1                      -1          -1   \n",
       "67333              -1                      -1          -1   \n",
       "67334              -1                      -1          -1   \n",
       "67335              -1                      -1          -1   \n",
       "67336              -1                      -1          -1   \n",
       "67337              -1                      -1          -1   \n",
       "67338              -1                      -1          -1   \n",
       "67339              -1                      -1          -1   \n",
       "67340              -1                      -1          -1   \n",
       "67341              -1                      -1          -1   \n",
       "\n",
       "       vegetables_month_or_day illness_type  illness_duration  treatment_type  \\\n",
       "0                           -1           -1                -1              -1   \n",
       "1                           -1           -1                -1              -1   \n",
       "2                           -1           -1                -1              -1   \n",
       "3                           -1           -1                -1              -1   \n",
       "4                           -1           -1                -1              -1   \n",
       "5                           -1           -1                -1              -1   \n",
       "6                           -1           -1                -1              -1   \n",
       "7                           -1           -1                -1              -1   \n",
       "8                           -1           -1                -1              -1   \n",
       "9                           -1           -1                -1              -1   \n",
       "10                          -1           -1                -1              -1   \n",
       "11                          -1           -1                -1              -1   \n",
       "12                          -1           -1                -1              -1   \n",
       "13                          -1           -1                -1              -1   \n",
       "14                          -1           -1                -1              -1   \n",
       "15                          -1           -1                -1              -1   \n",
       "16                          -1           -1                -1              -1   \n",
       "17                          -1           -1                -1              -1   \n",
       "18                          -1           -1                -1              -1   \n",
       "19                          -1           -1                -1              -1   \n",
       "20                          -1           -1                -1              -1   \n",
       "21                          -1           -1                -1              -1   \n",
       "22                          -1           -1                -1              -1   \n",
       "23                          -1           -1                -1              -1   \n",
       "24                          -1           -1                -1              -1   \n",
       "25                          -1           -1                -1              -1   \n",
       "26                          -1           -1                -1              -1   \n",
       "27                          -1           -1                -1              -1   \n",
       "28                          -1           -1                -1              -1   \n",
       "29                          -1           -1                -1              -1   \n",
       "...                        ...          ...               ...             ...   \n",
       "67312                       -1           -1                -1              -1   \n",
       "67313                       -1           -1                -1              -1   \n",
       "67314                       -1           -1                -1              -1   \n",
       "67315                       -1           -1                -1              -1   \n",
       "67316                       -1           -1                -1              -1   \n",
       "67317                       -1           -1                -1              -1   \n",
       "67318                       -1           -1                -1              -1   \n",
       "67319                       -1           -1                -1              -1   \n",
       "67320                       -1           -1                -1              -1   \n",
       "67321                       -1           -1                -1              -1   \n",
       "67322                       -1           -1                -1              -1   \n",
       "67323                       -1           -1                -1              -1   \n",
       "67324                       -1           -1                -1              -1   \n",
       "67325                       -1           -1                -1              -1   \n",
       "67326                       -1           -1                -1              -1   \n",
       "67327                       -1           -1                -1              -1   \n",
       "67328                       -1           -1                -1              -1   \n",
       "67329                       -1           -1                -1              -1   \n",
       "67330                       -1           -1                -1              -1   \n",
       "67331                       -1           -1                -1              -1   \n",
       "67332                       -1           -1                -1              -1   \n",
       "67333                       -1           -1                -1              -1   \n",
       "67334                       -1           -1                -1              -1   \n",
       "67335                       -1           -1                -1              -1   \n",
       "67336                       -1           -1                -1              -1   \n",
       "67337                       -1           -1                -1              -1   \n",
       "67338                       -1           -1                -1              -1   \n",
       "67339                       -1           -1                -1              -1   \n",
       "67340                       -1           -1                -1              -1   \n",
       "67341                       -1           -1                -1              -1   \n",
       "\n",
       "       v54  \n",
       "0      NaN  \n",
       "1      NaN  \n",
       "2      NaN  \n",
       "3      NaN  \n",
       "4      NaN  \n",
       "5      NaN  \n",
       "6      NaN  \n",
       "7      NaN  \n",
       "8      NaN  \n",
       "9      NaN  \n",
       "10     NaN  \n",
       "11     NaN  \n",
       "12     NaN  \n",
       "13     NaN  \n",
       "14     NaN  \n",
       "15     NaN  \n",
       "16     NaN  \n",
       "17     NaN  \n",
       "18     NaN  \n",
       "19     NaN  \n",
       "20     NaN  \n",
       "21     NaN  \n",
       "22     NaN  \n",
       "23     NaN  \n",
       "24     NaN  \n",
       "25     NaN  \n",
       "26     NaN  \n",
       "27     NaN  \n",
       "28     NaN  \n",
       "29     NaN  \n",
       "...    ...  \n",
       "67312  NaN  \n",
       "67313  NaN  \n",
       "67314  NaN  \n",
       "67315  NaN  \n",
       "67316  NaN  \n",
       "67317  NaN  \n",
       "67318  NaN  \n",
       "67319  NaN  \n",
       "67320  NaN  \n",
       "67321  NaN  \n",
       "67322  NaN  \n",
       "67323  NaN  \n",
       "67324  NaN  \n",
       "67325  NaN  \n",
       "67326  NaN  \n",
       "67327  NaN  \n",
       "67328  NaN  \n",
       "67329  NaN  \n",
       "67330  NaN  \n",
       "67331  NaN  \n",
       "67332  NaN  \n",
       "67333  NaN  \n",
       "67334  NaN  \n",
       "67335  NaN  \n",
       "67336  NaN  \n",
       "67337  NaN  \n",
       "67338  NaN  \n",
       "67339  NaN  \n",
       "67340  NaN  \n",
       "67341  NaN  \n",
       "\n",
       "[67342 rows x 54 columns]>"
      ]
     },
     "execution_count": 5,
     "metadata": {},
     "output_type": "execute_result"
    }
   ],
   "source": [
    "ut.describe"
   ]
  },
  {
   "cell_type": "code",
   "execution_count": 6,
   "metadata": {},
   "outputs": [
    {
     "data": {
      "text/plain": [
       "array(['state_code', 'district_code', 'rural_urban', 'stratum', 'psu_id',\n",
       "       'ahs_house_unit', 'house_hold_no', 'date_survey',\n",
       "       'test_salt_iodine', 'record_code_iodine',\n",
       "       'record_code_iodine_reason', 'sl_no', 'sex', 'usual_residance',\n",
       "       'usual_residance_reason', 'identification_code', 'age_code', 'age',\n",
       "       'date_of_birth', 'month_of_birth', 'year_of_birth',\n",
       "       'weight_measured', 'weight_in_kg', 'length_height_measured',\n",
       "       'length_height_code', 'length_height_cm', 'haemoglobin_test',\n",
       "       'haemoglobin', 'haemoglobin_level', 'bp_systolic',\n",
       "       'bp_systolic_2_reading', 'bp_diastolic', 'bp_diastolic_2reading',\n",
       "       'pulse_rate', 'pulse_rate_2_reading', 'diabetes_test',\n",
       "       'fasting_blood_glucose', 'fasting_blood_glucose_mg_dl',\n",
       "       'marital_status', 'gauna_perfor_not_perfor', 'duration_pregnanacy',\n",
       "       'first_breast_feeding', 'is_cur_breast_feeding',\n",
       "       'day_or_month_for_breast_feeding_',\n",
       "       'day_or_month_for_breast_feeding', 'water_month', 'ani_milk_month',\n",
       "       'semisolid_month_or_day', 'solid_month', 'vegetables_month_or_day',\n",
       "       'illness_type', 'illness_duration', 'treatment_type', 'v54'], dtype=object)"
      ]
     },
     "execution_count": 6,
     "metadata": {},
     "output_type": "execute_result"
    }
   ],
   "source": [
    "ut.columns.values"
   ]
  },
  {
   "cell_type": "code",
   "execution_count": 7,
   "metadata": {},
   "outputs": [
    {
     "data": {
      "text/plain": [
       "array([0, 1, 2])"
      ]
     },
     "execution_count": 7,
     "metadata": {},
     "output_type": "execute_result"
    }
   ],
   "source": [
    "ut['stratum'].unique()"
   ]
  },
  {
   "cell_type": "code",
   "execution_count": 8,
   "metadata": {},
   "outputs": [
    {
     "data": {
      "text/plain": [
       "array([2, 1])"
      ]
     },
     "execution_count": 8,
     "metadata": {},
     "output_type": "execute_result"
    }
   ],
   "source": [
    "ut['rural_urban'].unique()"
   ]
  },
  {
   "cell_type": "code",
   "execution_count": 9,
   "metadata": {},
   "outputs": [],
   "source": [
    "ut = ut.drop(['psu_id','ahs_house_unit', 'house_hold_no', 'date_survey'], axis=1)"
   ]
  },
  {
   "cell_type": "code",
   "execution_count": 10,
   "metadata": {},
   "outputs": [],
   "source": [
    "ut = ut.drop(['record_code_iodine_reason','usual_residance_reason'], axis = 1)"
   ]
  },
  {
   "cell_type": "code",
   "execution_count": 11,
   "metadata": {},
   "outputs": [
    {
     "data": {
      "text/plain": [
       "array(['state_code', 'district_code', 'rural_urban', 'stratum',\n",
       "       'test_salt_iodine', 'record_code_iodine', 'sl_no', 'sex',\n",
       "       'usual_residance', 'identification_code', 'age_code', 'age',\n",
       "       'date_of_birth', 'month_of_birth', 'year_of_birth',\n",
       "       'weight_measured', 'weight_in_kg', 'length_height_measured',\n",
       "       'length_height_code', 'length_height_cm', 'haemoglobin_test',\n",
       "       'haemoglobin', 'haemoglobin_level', 'bp_systolic',\n",
       "       'bp_systolic_2_reading', 'bp_diastolic', 'bp_diastolic_2reading',\n",
       "       'pulse_rate', 'pulse_rate_2_reading', 'diabetes_test',\n",
       "       'fasting_blood_glucose', 'fasting_blood_glucose_mg_dl',\n",
       "       'marital_status', 'gauna_perfor_not_perfor', 'duration_pregnanacy',\n",
       "       'first_breast_feeding', 'is_cur_breast_feeding',\n",
       "       'day_or_month_for_breast_feeding_',\n",
       "       'day_or_month_for_breast_feeding', 'water_month', 'ani_milk_month',\n",
       "       'semisolid_month_or_day', 'solid_month', 'vegetables_month_or_day',\n",
       "       'illness_type', 'illness_duration', 'treatment_type', 'v54'], dtype=object)"
      ]
     },
     "execution_count": 11,
     "metadata": {},
     "output_type": "execute_result"
    }
   ],
   "source": [
    "ut.columns.values"
   ]
  },
  {
   "cell_type": "code",
   "execution_count": 12,
   "metadata": {},
   "outputs": [
    {
     "data": {
      "text/plain": [
       "(67342, 48)"
      ]
     },
     "execution_count": 12,
     "metadata": {},
     "output_type": "execute_result"
    }
   ],
   "source": [
    "ut.shape"
   ]
  },
  {
   "cell_type": "code",
   "execution_count": 13,
   "metadata": {},
   "outputs": [
    {
     "data": {
      "text/plain": [
       "array([30,  0, 15,  7,  3, 33, 20, 17, 18, 13,  1])"
      ]
     },
     "execution_count": 13,
     "metadata": {},
     "output_type": "execute_result"
    }
   ],
   "source": [
    "ut['test_salt_iodine'].unique()"
   ]
  },
  {
   "cell_type": "code",
   "execution_count": 14,
   "metadata": {},
   "outputs": [],
   "source": [
    "ut = ut.drop(['sl_no','identification_code'], axis = 1)"
   ]
  },
  {
   "cell_type": "code",
   "execution_count": 15,
   "metadata": {},
   "outputs": [
    {
     "data": {
      "text/plain": [
       "array(['Y', 'M', 'y', 'D'], dtype=object)"
      ]
     },
     "execution_count": 15,
     "metadata": {},
     "output_type": "execute_result"
    }
   ],
   "source": [
    "ut['age_code'].unique()"
   ]
  },
  {
   "cell_type": "code",
   "execution_count": 16,
   "metadata": {},
   "outputs": [
    {
     "data": {
      "text/plain": [
       "array([  8,   9,  10,  11,  12,  13,   4,   1,   2,   3,   5,   6,   7,\n",
       "        14,  15,  16,  17,  18,  19,  20,  21,  22,  23,  24,  25,  26,\n",
       "        27,  28,  29,  30,  31,  32,  33,  34,  35,  36,  37,  38,  39,\n",
       "        40,  41,  42,  43,  44,  45,  46,  47,  48,  49,  50,  51,  52,\n",
       "        53,  54,  55,  56,  57,  58,  59,  60,  61,  62,  63,  64,  65,\n",
       "        66,  67,  68,  69,  70,  71,  72,  73,  74,  75,  76,  77,  78,\n",
       "        79,  80,  81,  82,  83,  84,  85,  86,  87,  88,  90,  89,  91,\n",
       "        92,  93,  94,  95,  97,  98,  96,  99, 100])"
      ]
     },
     "execution_count": 16,
     "metadata": {},
     "output_type": "execute_result"
    }
   ],
   "source": [
    "ut['age'].unique()"
   ]
  },
  {
   "cell_type": "code",
   "execution_count": 17,
   "metadata": {},
   "outputs": [
    {
     "data": {
      "text/plain": [
       "array([-1,  1,  2,  4,  3])"
      ]
     },
     "execution_count": 17,
     "metadata": {},
     "output_type": "execute_result"
    }
   ],
   "source": [
    "ut['weight_measured'].unique()"
   ]
  },
  {
   "cell_type": "code",
   "execution_count": 18,
   "metadata": {},
   "outputs": [
    {
     "data": {
      "text/plain": [
       "array([-1,  1,  2])"
      ]
     },
     "execution_count": 18,
     "metadata": {},
     "output_type": "execute_result"
    }
   ],
   "source": [
    "ut['is_cur_breast_feeding'].unique()"
   ]
  },
  {
   "cell_type": "code",
   "execution_count": 19,
   "metadata": {},
   "outputs": [
    {
     "data": {
      "text/plain": [
       "(67342, 46)"
      ]
     },
     "execution_count": 19,
     "metadata": {},
     "output_type": "execute_result"
    }
   ],
   "source": [
    "ut.shape"
   ]
  },
  {
   "cell_type": "code",
   "execution_count": 20,
   "metadata": {},
   "outputs": [
    {
     "data": {
      "text/plain": [
       "array([ nan])"
      ]
     },
     "execution_count": 20,
     "metadata": {},
     "output_type": "execute_result"
    }
   ],
   "source": [
    "ut['v54'].unique()"
   ]
  },
  {
   "cell_type": "code",
   "execution_count": 21,
   "metadata": {},
   "outputs": [],
   "source": [
    "ut = ut.drop(['v54'], axis=1)"
   ]
  },
  {
   "cell_type": "code",
   "execution_count": 22,
   "metadata": {},
   "outputs": [
    {
     "data": {
      "text/plain": [
       "array(['state_code', 'district_code', 'rural_urban', 'stratum',\n",
       "       'test_salt_iodine', 'record_code_iodine', 'sex', 'usual_residance',\n",
       "       'age_code', 'age', 'date_of_birth', 'month_of_birth',\n",
       "       'year_of_birth', 'weight_measured', 'weight_in_kg',\n",
       "       'length_height_measured', 'length_height_code', 'length_height_cm',\n",
       "       'haemoglobin_test', 'haemoglobin', 'haemoglobin_level',\n",
       "       'bp_systolic', 'bp_systolic_2_reading', 'bp_diastolic',\n",
       "       'bp_diastolic_2reading', 'pulse_rate', 'pulse_rate_2_reading',\n",
       "       'diabetes_test', 'fasting_blood_glucose',\n",
       "       'fasting_blood_glucose_mg_dl', 'marital_status',\n",
       "       'gauna_perfor_not_perfor', 'duration_pregnanacy',\n",
       "       'first_breast_feeding', 'is_cur_breast_feeding',\n",
       "       'day_or_month_for_breast_feeding_',\n",
       "       'day_or_month_for_breast_feeding', 'water_month', 'ani_milk_month',\n",
       "       'semisolid_month_or_day', 'solid_month', 'vegetables_month_or_day',\n",
       "       'illness_type', 'illness_duration', 'treatment_type'], dtype=object)"
      ]
     },
     "execution_count": 22,
     "metadata": {},
     "output_type": "execute_result"
    }
   ],
   "source": [
    "ut.columns.values"
   ]
  },
  {
   "cell_type": "code",
   "execution_count": 23,
   "metadata": {},
   "outputs": [
    {
     "data": {
      "text/plain": [
       "(67342, 45)"
      ]
     },
     "execution_count": 23,
     "metadata": {},
     "output_type": "execute_result"
    }
   ],
   "source": [
    "ut.shape"
   ]
  }
 ],
 "metadata": {
  "kernelspec": {
   "display_name": "Python 3",
   "language": "python",
   "name": "python3"
  },
  "language_info": {
   "codemirror_mode": {
    "name": "ipython",
    "version": 3
   },
   "file_extension": ".py",
   "mimetype": "text/x-python",
   "name": "python",
   "nbconvert_exporter": "python",
   "pygments_lexer": "ipython3",
   "version": "3.5.2"
  }
 },
 "nbformat": 4,
 "nbformat_minor": 2
}
