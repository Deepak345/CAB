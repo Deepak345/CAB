{
 "cells": [
  {
   "cell_type": "code",
   "execution_count": 1,
   "metadata": {
    "collapsed": true
   },
   "outputs": [],
   "source": [
    "import pandas as pd\n",
    "import matplotlib.pyplot as plt\n",
    "import matplotlib\n",
    "import seaborn as sn\n",
    "%matplotlib inline"
   ]
  },
  {
   "cell_type": "code",
   "execution_count": 2,
   "metadata": {
    "collapsed": true
   },
   "outputs": [],
   "source": [
    "ass = pd.read_csv(\"./cleaned data/AS.csv\", low_memory=False, index_col=False)\n",
    "mp = pd.read_csv(\"./cleaned data/MP.csv\", low_memory=False, index_col=False)\n",
    "up = pd.read_csv(\"./cleaned data/UP.csv\", low_memory=False, index_col=False)\n",
    "jh = pd.read_csv(\"./cleaned data/JH.csv\", low_memory=False, index_col=False)\n",
    "rj = pd.read_csv(\"./cleaned data/RJ.csv\", low_memory=False, index_col=False)\n",
    "bh = pd.read_csv(\"./cleaned data/BH.csv\", low_memory=False, index_col=False)\n",
    "cg = pd.read_csv(\"./cleaned data/CG.csv\", low_memory=False, index_col=False)\n",
    "od = pd.read_csv(\"./cleaned data/OD.csv\", low_memory=False, index_col=False)\n",
    "ut = pd.read_csv(\"./cleaned data/UT.csv\", low_memory=False, index_col=False)"
   ]
  },
  {
   "cell_type": "code",
   "execution_count": 3,
   "metadata": {},
   "outputs": [
    {
     "data": {
      "text/plain": [
       "state_code                           0\n",
       "record_code_iodine                   0\n",
       "sex                                  0\n",
       "age                                  0\n",
       "weight_in_kg                       282\n",
       "length_height_cm                   282\n",
       "haemoglobin_level                  274\n",
       "first_breast_feeding                 0\n",
       "is_cur_breast_feeding                0\n",
       "day_or_month_for_breast_feeding      0\n",
       "water_month                          0\n",
       "ani_milk_month                       0\n",
       "semisolid_month_or_day               0\n",
       "solid_month                          0\n",
       "vegetables_month_or_day              0\n",
       "illness_type                         0\n",
       "treatment_type                       0\n",
       "dtype: int64"
      ]
     },
     "execution_count": 3,
     "metadata": {},
     "output_type": "execute_result"
    }
   ],
   "source": [
    "up.isnull().sum()"
   ]
  },
  {
   "cell_type": "code",
   "execution_count": 4,
   "metadata": {},
   "outputs": [
    {
     "data": {
      "text/plain": [
       "(3499, 17)"
      ]
     },
     "execution_count": 4,
     "metadata": {},
     "output_type": "execute_result"
    }
   ],
   "source": [
    "ut.shape"
   ]
  },
  {
   "cell_type": "code",
   "execution_count": 5,
   "metadata": {},
   "outputs": [
    {
     "data": {
      "text/plain": [
       "(6842, 17)"
      ]
     },
     "execution_count": 5,
     "metadata": {},
     "output_type": "execute_result"
    }
   ],
   "source": [
    "cg.shape"
   ]
  },
  {
   "cell_type": "code",
   "execution_count": 6,
   "metadata": {},
   "outputs": [
    {
     "data": {
      "text/plain": [
       "(8585, 17)"
      ]
     },
     "execution_count": 6,
     "metadata": {},
     "output_type": "execute_result"
    }
   ],
   "source": [
    "jh.shape"
   ]
  },
  {
   "cell_type": "code",
   "execution_count": 7,
   "metadata": {},
   "outputs": [
    {
     "data": {
      "text/plain": [
       "(7694, 17)"
      ]
     },
     "execution_count": 7,
     "metadata": {},
     "output_type": "execute_result"
    }
   ],
   "source": [
    "ass.shape"
   ]
  },
  {
   "cell_type": "code",
   "execution_count": 8,
   "metadata": {},
   "outputs": [
    {
     "data": {
      "text/plain": [
       "(12910, 17)"
      ]
     },
     "execution_count": 8,
     "metadata": {},
     "output_type": "execute_result"
    }
   ],
   "source": [
    "od.shape"
   ]
  },
  {
   "cell_type": "code",
   "execution_count": 9,
   "metadata": {},
   "outputs": [
    {
     "data": {
      "text/plain": [
       "(12107, 17)"
      ]
     },
     "execution_count": 9,
     "metadata": {},
     "output_type": "execute_result"
    }
   ],
   "source": [
    "rj.shape"
   ]
  },
  {
   "cell_type": "code",
   "execution_count": 10,
   "metadata": {},
   "outputs": [
    {
     "data": {
      "text/plain": [
       "(14661, 17)"
      ]
     },
     "execution_count": 10,
     "metadata": {},
     "output_type": "execute_result"
    }
   ],
   "source": [
    "mp.shape"
   ]
  },
  {
   "cell_type": "code",
   "execution_count": 11,
   "metadata": {},
   "outputs": [
    {
     "data": {
      "text/plain": [
       "(19760, 17)"
      ]
     },
     "execution_count": 11,
     "metadata": {},
     "output_type": "execute_result"
    }
   ],
   "source": [
    "bh.shape"
   ]
  },
  {
   "cell_type": "code",
   "execution_count": 12,
   "metadata": {},
   "outputs": [
    {
     "data": {
      "text/plain": [
       "(34916, 17)"
      ]
     },
     "execution_count": 12,
     "metadata": {},
     "output_type": "execute_result"
    }
   ],
   "source": [
    "up.shape"
   ]
  },
  {
   "cell_type": "code",
   "execution_count": 13,
   "metadata": {
    "collapsed": true
   },
   "outputs": [],
   "source": [
    "res = pd.concat([ut, cg, jh, ass, od, rj, mp, bh, up])"
   ]
  },
  {
   "cell_type": "code",
   "execution_count": 14,
   "metadata": {},
   "outputs": [
    {
     "data": {
      "text/plain": [
       "(120974, 17)"
      ]
     },
     "execution_count": 14,
     "metadata": {},
     "output_type": "execute_result"
    }
   ],
   "source": [
    "res.shape"
   ]
  },
  {
   "cell_type": "code",
   "execution_count": 15,
   "metadata": {
    "collapsed": true
   },
   "outputs": [],
   "source": [
    "frames = [ ut, cg, jh, ass, od, rj, mp, bh, up ]"
   ]
  },
  {
   "cell_type": "code",
   "execution_count": 16,
   "metadata": {
    "collapsed": true
   },
   "outputs": [],
   "source": [
    "result = pd.concat(frames)"
   ]
  },
  {
   "cell_type": "code",
   "execution_count": 17,
   "metadata": {
    "collapsed": true
   },
   "outputs": [],
   "source": [
    "result = result.drop(['treatment_type'], axis=1)"
   ]
  },
  {
   "cell_type": "code",
   "execution_count": 18,
   "metadata": {},
   "outputs": [
    {
     "data": {
      "text/html": [
       "<div>\n",
       "<style>\n",
       "    .dataframe thead tr:only-child th {\n",
       "        text-align: right;\n",
       "    }\n",
       "\n",
       "    .dataframe thead th {\n",
       "        text-align: left;\n",
       "    }\n",
       "\n",
       "    .dataframe tbody tr th {\n",
       "        vertical-align: top;\n",
       "    }\n",
       "</style>\n",
       "<table border=\"1\" class=\"dataframe\">\n",
       "  <thead>\n",
       "    <tr style=\"text-align: right;\">\n",
       "      <th></th>\n",
       "      <th>state_code</th>\n",
       "      <th>record_code_iodine</th>\n",
       "      <th>sex</th>\n",
       "      <th>age</th>\n",
       "      <th>weight_in_kg</th>\n",
       "      <th>length_height_cm</th>\n",
       "      <th>haemoglobin_level</th>\n",
       "      <th>first_breast_feeding</th>\n",
       "      <th>is_cur_breast_feeding</th>\n",
       "      <th>day_or_month_for_breast_feeding</th>\n",
       "      <th>water_month</th>\n",
       "      <th>ani_milk_month</th>\n",
       "      <th>semisolid_month_or_day</th>\n",
       "      <th>solid_month</th>\n",
       "      <th>vegetables_month_or_day</th>\n",
       "      <th>illness_type</th>\n",
       "    </tr>\n",
       "  </thead>\n",
       "  <tbody>\n",
       "    <tr>\n",
       "      <th>count</th>\n",
       "      <td>120974.000000</td>\n",
       "      <td>120974.000000</td>\n",
       "      <td>120974.000000</td>\n",
       "      <td>120969.000000</td>\n",
       "      <td>120299.000000</td>\n",
       "      <td>120299.000000</td>\n",
       "      <td>120087.000000</td>\n",
       "      <td>120969.000000</td>\n",
       "      <td>120969.000000</td>\n",
       "      <td>120969.000000</td>\n",
       "      <td>120969.000000</td>\n",
       "      <td>120969.000000</td>\n",
       "      <td>120969.000000</td>\n",
       "      <td>120969.000000</td>\n",
       "      <td>120969.000000</td>\n",
       "      <td>120969.000000</td>\n",
       "    </tr>\n",
       "    <tr>\n",
       "      <th>mean</th>\n",
       "      <td>14.013127</td>\n",
       "      <td>2.754013</td>\n",
       "      <td>1.474565</td>\n",
       "      <td>28.333193</td>\n",
       "      <td>10.725708</td>\n",
       "      <td>83.574595</td>\n",
       "      <td>9.049273</td>\n",
       "      <td>1.418049</td>\n",
       "      <td>1.663608</td>\n",
       "      <td>5.456125</td>\n",
       "      <td>4.654531</td>\n",
       "      <td>4.332259</td>\n",
       "      <td>5.888368</td>\n",
       "      <td>6.455489</td>\n",
       "      <td>6.447495</td>\n",
       "      <td>0.577090</td>\n",
       "    </tr>\n",
       "    <tr>\n",
       "      <th>std</th>\n",
       "      <td>6.165432</td>\n",
       "      <td>0.522006</td>\n",
       "      <td>0.499355</td>\n",
       "      <td>16.354566</td>\n",
       "      <td>4.830260</td>\n",
       "      <td>14.885953</td>\n",
       "      <td>1.774920</td>\n",
       "      <td>0.624158</td>\n",
       "      <td>0.473281</td>\n",
       "      <td>2.879880</td>\n",
       "      <td>2.408832</td>\n",
       "      <td>3.221255</td>\n",
       "      <td>3.341329</td>\n",
       "      <td>4.626277</td>\n",
       "      <td>4.968280</td>\n",
       "      <td>1.023997</td>\n",
       "    </tr>\n",
       "    <tr>\n",
       "      <th>min</th>\n",
       "      <td>5.000000</td>\n",
       "      <td>1.000000</td>\n",
       "      <td>1.000000</td>\n",
       "      <td>0.000000</td>\n",
       "      <td>1.000000</td>\n",
       "      <td>16.799999</td>\n",
       "      <td>3.000000</td>\n",
       "      <td>1.000000</td>\n",
       "      <td>1.000000</td>\n",
       "      <td>0.000000</td>\n",
       "      <td>0.000000</td>\n",
       "      <td>0.000000</td>\n",
       "      <td>0.000000</td>\n",
       "      <td>0.000000</td>\n",
       "      <td>0.000000</td>\n",
       "      <td>0.000000</td>\n",
       "    </tr>\n",
       "    <tr>\n",
       "      <th>25%</th>\n",
       "      <td>9.000000</td>\n",
       "      <td>3.000000</td>\n",
       "      <td>1.000000</td>\n",
       "      <td>12.000000</td>\n",
       "      <td>8.400000</td>\n",
       "      <td>73.199997</td>\n",
       "      <td>8.326735</td>\n",
       "      <td>1.000000</td>\n",
       "      <td>1.000000</td>\n",
       "      <td>5.000000</td>\n",
       "      <td>4.000000</td>\n",
       "      <td>0.000000</td>\n",
       "      <td>6.000000</td>\n",
       "      <td>0.000000</td>\n",
       "      <td>0.000000</td>\n",
       "      <td>0.000000</td>\n",
       "    </tr>\n",
       "    <tr>\n",
       "      <th>50%</th>\n",
       "      <td>10.000000</td>\n",
       "      <td>3.000000</td>\n",
       "      <td>1.000000</td>\n",
       "      <td>24.000000</td>\n",
       "      <td>10.600000</td>\n",
       "      <td>84.300003</td>\n",
       "      <td>8.926318</td>\n",
       "      <td>1.000000</td>\n",
       "      <td>2.000000</td>\n",
       "      <td>6.000000</td>\n",
       "      <td>5.000000</td>\n",
       "      <td>6.000000</td>\n",
       "      <td>7.000000</td>\n",
       "      <td>7.000000</td>\n",
       "      <td>8.000000</td>\n",
       "      <td>0.000000</td>\n",
       "    </tr>\n",
       "    <tr>\n",
       "      <th>75%</th>\n",
       "      <td>21.000000</td>\n",
       "      <td>3.000000</td>\n",
       "      <td>2.000000</td>\n",
       "      <td>36.000000</td>\n",
       "      <td>12.800000</td>\n",
       "      <td>94.316797</td>\n",
       "      <td>9.800000</td>\n",
       "      <td>2.000000</td>\n",
       "      <td>2.000000</td>\n",
       "      <td>6.000000</td>\n",
       "      <td>6.000000</td>\n",
       "      <td>6.000000</td>\n",
       "      <td>8.000000</td>\n",
       "      <td>10.000000</td>\n",
       "      <td>10.000000</td>\n",
       "      <td>1.000000</td>\n",
       "    </tr>\n",
       "    <tr>\n",
       "      <th>max</th>\n",
       "      <td>23.000000</td>\n",
       "      <td>3.000000</td>\n",
       "      <td>2.000000</td>\n",
       "      <td>324.000000</td>\n",
       "      <td>609.200010</td>\n",
       "      <td>205.300000</td>\n",
       "      <td>18.000000</td>\n",
       "      <td>5.000000</td>\n",
       "      <td>11.000000</td>\n",
       "      <td>38.000000</td>\n",
       "      <td>56.000000</td>\n",
       "      <td>96.000000</td>\n",
       "      <td>85.000000</td>\n",
       "      <td>92.000000</td>\n",
       "      <td>36.000000</td>\n",
       "      <td>4.000000</td>\n",
       "    </tr>\n",
       "  </tbody>\n",
       "</table>\n",
       "</div>"
      ],
      "text/plain": [
       "          state_code  record_code_iodine            sex            age  \\\n",
       "count  120974.000000       120974.000000  120974.000000  120969.000000   \n",
       "mean       14.013127            2.754013       1.474565      28.333193   \n",
       "std         6.165432            0.522006       0.499355      16.354566   \n",
       "min         5.000000            1.000000       1.000000       0.000000   \n",
       "25%         9.000000            3.000000       1.000000      12.000000   \n",
       "50%        10.000000            3.000000       1.000000      24.000000   \n",
       "75%        21.000000            3.000000       2.000000      36.000000   \n",
       "max        23.000000            3.000000       2.000000     324.000000   \n",
       "\n",
       "        weight_in_kg  length_height_cm  haemoglobin_level  \\\n",
       "count  120299.000000     120299.000000      120087.000000   \n",
       "mean       10.725708         83.574595           9.049273   \n",
       "std         4.830260         14.885953           1.774920   \n",
       "min         1.000000         16.799999           3.000000   \n",
       "25%         8.400000         73.199997           8.326735   \n",
       "50%        10.600000         84.300003           8.926318   \n",
       "75%        12.800000         94.316797           9.800000   \n",
       "max       609.200010        205.300000          18.000000   \n",
       "\n",
       "       first_breast_feeding  is_cur_breast_feeding  \\\n",
       "count         120969.000000          120969.000000   \n",
       "mean               1.418049               1.663608   \n",
       "std                0.624158               0.473281   \n",
       "min                1.000000               1.000000   \n",
       "25%                1.000000               1.000000   \n",
       "50%                1.000000               2.000000   \n",
       "75%                2.000000               2.000000   \n",
       "max                5.000000              11.000000   \n",
       "\n",
       "       day_or_month_for_breast_feeding    water_month  ani_milk_month  \\\n",
       "count                    120969.000000  120969.000000   120969.000000   \n",
       "mean                          5.456125       4.654531        4.332259   \n",
       "std                           2.879880       2.408832        3.221255   \n",
       "min                           0.000000       0.000000        0.000000   \n",
       "25%                           5.000000       4.000000        0.000000   \n",
       "50%                           6.000000       5.000000        6.000000   \n",
       "75%                           6.000000       6.000000        6.000000   \n",
       "max                          38.000000      56.000000       96.000000   \n",
       "\n",
       "       semisolid_month_or_day    solid_month  vegetables_month_or_day  \\\n",
       "count           120969.000000  120969.000000            120969.000000   \n",
       "mean                 5.888368       6.455489                 6.447495   \n",
       "std                  3.341329       4.626277                 4.968280   \n",
       "min                  0.000000       0.000000                 0.000000   \n",
       "25%                  6.000000       0.000000                 0.000000   \n",
       "50%                  7.000000       7.000000                 8.000000   \n",
       "75%                  8.000000      10.000000                10.000000   \n",
       "max                 85.000000      92.000000                36.000000   \n",
       "\n",
       "        illness_type  \n",
       "count  120969.000000  \n",
       "mean        0.577090  \n",
       "std         1.023997  \n",
       "min         0.000000  \n",
       "25%         0.000000  \n",
       "50%         0.000000  \n",
       "75%         1.000000  \n",
       "max         4.000000  "
      ]
     },
     "execution_count": 18,
     "metadata": {},
     "output_type": "execute_result"
    }
   ],
   "source": [
    "result.describe()"
   ]
  },
  {
   "cell_type": "code",
   "execution_count": 19,
   "metadata": {},
   "outputs": [
    {
     "name": "stdout",
     "output_type": "stream",
     "text": [
      "state_code\n",
      "Series([], Name: state_code, dtype: int64)\n",
      "record_code_iodine\n",
      "Series([], Name: record_code_iodine, dtype: int64)\n",
      "sex\n",
      "Series([], Name: sex, dtype: int64)\n",
      "age\n",
      "Series([], Name: age, dtype: int64)\n",
      "weight_in_kg\n",
      "Series([], Name: weight_in_kg, dtype: int64)\n",
      "length_height_cm\n",
      "Series([], Name: length_height_cm, dtype: int64)\n",
      "haemoglobin_level\n",
      "Series([], Name: haemoglobin_level, dtype: int64)\n",
      "first_breast_feeding\n",
      "Series([], Name: first_breast_feeding, dtype: int64)\n",
      "is_cur_breast_feeding\n",
      "Series([], Name: is_cur_breast_feeding, dtype: int64)\n",
      "day_or_month_for_breast_feeding\n",
      "Series([], Name: day_or_month_for_breast_feeding, dtype: int64)\n",
      "water_month\n",
      "Series([], Name: water_month, dtype: int64)\n",
      "ani_milk_month\n",
      "Series([], Name: ani_milk_month, dtype: int64)\n",
      "semisolid_month_or_day\n",
      "Series([], Name: semisolid_month_or_day, dtype: int64)\n",
      "solid_month\n",
      "Series([], Name: solid_month, dtype: int64)\n",
      "vegetables_month_or_day\n",
      "Series([], Name: vegetables_month_or_day, dtype: int64)\n",
      "illness_type\n",
      "Series([], Name: illness_type, dtype: int64)\n"
     ]
    }
   ],
   "source": [
    "for i in result.columns:\n",
    "    print(i)\n",
    "    print(result[i][result[i] == -1].value_counts())"
   ]
  },
  {
   "cell_type": "code",
   "execution_count": 20,
   "metadata": {},
   "outputs": [
    {
     "name": "stdout",
     "output_type": "stream",
     "text": [
      "state_code\n",
      "Series([], Name: state_code, dtype: int64)\n",
      "-------------------------\n",
      "record_code_iodine\n",
      "Series([], Name: state_code, dtype: int64)\n",
      "-------------------------\n",
      "sex\n",
      "Series([], Name: state_code, dtype: int64)\n",
      "-------------------------\n",
      "age\n",
      "20.0    3\n",
      "18.0    2\n",
      "Name: state_code, dtype: int64\n",
      "-------------------------\n",
      "weight_in_kg\n",
      "9.0     282\n",
      "8.0      82\n",
      "23.0     79\n",
      "21.0     69\n",
      "10.0     62\n",
      "20.0     44\n",
      "18.0     43\n",
      "22.0      8\n",
      "5.0       6\n",
      "Name: state_code, dtype: int64\n",
      "-------------------------\n",
      "length_height_cm\n",
      "9.0     282\n",
      "8.0      82\n",
      "23.0     79\n",
      "21.0     69\n",
      "10.0     62\n",
      "20.0     44\n",
      "18.0     43\n",
      "22.0      8\n",
      "5.0       6\n",
      "Name: state_code, dtype: int64\n",
      "-------------------------\n",
      "haemoglobin_level\n",
      "9.0     274\n",
      "20.0    146\n",
      "5.0     101\n",
      "21.0     86\n",
      "8.0      82\n",
      "23.0     77\n",
      "10.0     74\n",
      "18.0     43\n",
      "22.0      4\n",
      "Name: state_code, dtype: int64\n",
      "-------------------------\n",
      "first_breast_feeding\n",
      "20.0    3\n",
      "18.0    2\n",
      "Name: state_code, dtype: int64\n",
      "-------------------------\n",
      "is_cur_breast_feeding\n",
      "20.0    3\n",
      "18.0    2\n",
      "Name: state_code, dtype: int64\n",
      "-------------------------\n",
      "day_or_month_for_breast_feeding\n",
      "20.0    3\n",
      "18.0    2\n",
      "Name: state_code, dtype: int64\n",
      "-------------------------\n",
      "water_month\n",
      "20.0    3\n",
      "18.0    2\n",
      "Name: state_code, dtype: int64\n",
      "-------------------------\n",
      "ani_milk_month\n",
      "20.0    3\n",
      "18.0    2\n",
      "Name: state_code, dtype: int64\n",
      "-------------------------\n",
      "semisolid_month_or_day\n",
      "20.0    3\n",
      "18.0    2\n",
      "Name: state_code, dtype: int64\n",
      "-------------------------\n",
      "solid_month\n",
      "20.0    3\n",
      "18.0    2\n",
      "Name: state_code, dtype: int64\n",
      "-------------------------\n",
      "vegetables_month_or_day\n",
      "20.0    3\n",
      "18.0    2\n",
      "Name: state_code, dtype: int64\n",
      "-------------------------\n",
      "illness_type\n",
      "20.0    3\n",
      "18.0    2\n",
      "Name: state_code, dtype: int64\n",
      "-------------------------\n"
     ]
    }
   ],
   "source": [
    "for i in result.columns.values:\n",
    "    print(i)\n",
    "    print(result['state_code'][result[i].isnull()].value_counts())\n",
    "    print(\"-------------------------\")"
   ]
  },
  {
   "cell_type": "code",
   "execution_count": 21,
   "metadata": {},
   "outputs": [
    {
     "data": {
      "text/html": [
       "<div>\n",
       "<style>\n",
       "    .dataframe thead tr:only-child th {\n",
       "        text-align: right;\n",
       "    }\n",
       "\n",
       "    .dataframe thead th {\n",
       "        text-align: left;\n",
       "    }\n",
       "\n",
       "    .dataframe tbody tr th {\n",
       "        vertical-align: top;\n",
       "    }\n",
       "</style>\n",
       "<table border=\"1\" class=\"dataframe\">\n",
       "  <thead>\n",
       "    <tr style=\"text-align: right;\">\n",
       "      <th></th>\n",
       "      <th>state_code</th>\n",
       "      <th>record_code_iodine</th>\n",
       "      <th>sex</th>\n",
       "      <th>age</th>\n",
       "      <th>weight_in_kg</th>\n",
       "      <th>length_height_cm</th>\n",
       "      <th>haemoglobin_level</th>\n",
       "      <th>first_breast_feeding</th>\n",
       "      <th>is_cur_breast_feeding</th>\n",
       "      <th>day_or_month_for_breast_feeding</th>\n",
       "      <th>water_month</th>\n",
       "      <th>ani_milk_month</th>\n",
       "      <th>semisolid_month_or_day</th>\n",
       "      <th>solid_month</th>\n",
       "      <th>vegetables_month_or_day</th>\n",
       "      <th>illness_type</th>\n",
       "    </tr>\n",
       "  </thead>\n",
       "  <tbody>\n",
       "    <tr>\n",
       "      <th>count</th>\n",
       "      <td>120974.000000</td>\n",
       "      <td>120974.000000</td>\n",
       "      <td>120974.000000</td>\n",
       "      <td>120969.000000</td>\n",
       "      <td>120299.000000</td>\n",
       "      <td>120299.000000</td>\n",
       "      <td>120087.000000</td>\n",
       "      <td>120969.000000</td>\n",
       "      <td>120969.000000</td>\n",
       "      <td>120969.000000</td>\n",
       "      <td>120969.000000</td>\n",
       "      <td>120969.000000</td>\n",
       "      <td>120969.000000</td>\n",
       "      <td>120969.000000</td>\n",
       "      <td>120969.000000</td>\n",
       "      <td>120969.000000</td>\n",
       "    </tr>\n",
       "    <tr>\n",
       "      <th>mean</th>\n",
       "      <td>14.013127</td>\n",
       "      <td>2.754013</td>\n",
       "      <td>1.474565</td>\n",
       "      <td>28.333193</td>\n",
       "      <td>10.725708</td>\n",
       "      <td>83.574595</td>\n",
       "      <td>9.049273</td>\n",
       "      <td>1.418049</td>\n",
       "      <td>1.663608</td>\n",
       "      <td>5.456125</td>\n",
       "      <td>4.654531</td>\n",
       "      <td>4.332259</td>\n",
       "      <td>5.888368</td>\n",
       "      <td>6.455489</td>\n",
       "      <td>6.447495</td>\n",
       "      <td>0.577090</td>\n",
       "    </tr>\n",
       "    <tr>\n",
       "      <th>std</th>\n",
       "      <td>6.165432</td>\n",
       "      <td>0.522006</td>\n",
       "      <td>0.499355</td>\n",
       "      <td>16.354566</td>\n",
       "      <td>4.830260</td>\n",
       "      <td>14.885953</td>\n",
       "      <td>1.774920</td>\n",
       "      <td>0.624158</td>\n",
       "      <td>0.473281</td>\n",
       "      <td>2.879880</td>\n",
       "      <td>2.408832</td>\n",
       "      <td>3.221255</td>\n",
       "      <td>3.341329</td>\n",
       "      <td>4.626277</td>\n",
       "      <td>4.968280</td>\n",
       "      <td>1.023997</td>\n",
       "    </tr>\n",
       "    <tr>\n",
       "      <th>min</th>\n",
       "      <td>5.000000</td>\n",
       "      <td>1.000000</td>\n",
       "      <td>1.000000</td>\n",
       "      <td>0.000000</td>\n",
       "      <td>1.000000</td>\n",
       "      <td>16.799999</td>\n",
       "      <td>3.000000</td>\n",
       "      <td>1.000000</td>\n",
       "      <td>1.000000</td>\n",
       "      <td>0.000000</td>\n",
       "      <td>0.000000</td>\n",
       "      <td>0.000000</td>\n",
       "      <td>0.000000</td>\n",
       "      <td>0.000000</td>\n",
       "      <td>0.000000</td>\n",
       "      <td>0.000000</td>\n",
       "    </tr>\n",
       "    <tr>\n",
       "      <th>25%</th>\n",
       "      <td>9.000000</td>\n",
       "      <td>3.000000</td>\n",
       "      <td>1.000000</td>\n",
       "      <td>12.000000</td>\n",
       "      <td>8.400000</td>\n",
       "      <td>73.199997</td>\n",
       "      <td>8.326735</td>\n",
       "      <td>1.000000</td>\n",
       "      <td>1.000000</td>\n",
       "      <td>5.000000</td>\n",
       "      <td>4.000000</td>\n",
       "      <td>0.000000</td>\n",
       "      <td>6.000000</td>\n",
       "      <td>0.000000</td>\n",
       "      <td>0.000000</td>\n",
       "      <td>0.000000</td>\n",
       "    </tr>\n",
       "    <tr>\n",
       "      <th>50%</th>\n",
       "      <td>10.000000</td>\n",
       "      <td>3.000000</td>\n",
       "      <td>1.000000</td>\n",
       "      <td>24.000000</td>\n",
       "      <td>10.600000</td>\n",
       "      <td>84.300003</td>\n",
       "      <td>8.926318</td>\n",
       "      <td>1.000000</td>\n",
       "      <td>2.000000</td>\n",
       "      <td>6.000000</td>\n",
       "      <td>5.000000</td>\n",
       "      <td>6.000000</td>\n",
       "      <td>7.000000</td>\n",
       "      <td>7.000000</td>\n",
       "      <td>8.000000</td>\n",
       "      <td>0.000000</td>\n",
       "    </tr>\n",
       "    <tr>\n",
       "      <th>75%</th>\n",
       "      <td>21.000000</td>\n",
       "      <td>3.000000</td>\n",
       "      <td>2.000000</td>\n",
       "      <td>36.000000</td>\n",
       "      <td>12.800000</td>\n",
       "      <td>94.316797</td>\n",
       "      <td>9.800000</td>\n",
       "      <td>2.000000</td>\n",
       "      <td>2.000000</td>\n",
       "      <td>6.000000</td>\n",
       "      <td>6.000000</td>\n",
       "      <td>6.000000</td>\n",
       "      <td>8.000000</td>\n",
       "      <td>10.000000</td>\n",
       "      <td>10.000000</td>\n",
       "      <td>1.000000</td>\n",
       "    </tr>\n",
       "    <tr>\n",
       "      <th>max</th>\n",
       "      <td>23.000000</td>\n",
       "      <td>3.000000</td>\n",
       "      <td>2.000000</td>\n",
       "      <td>324.000000</td>\n",
       "      <td>609.200010</td>\n",
       "      <td>205.300000</td>\n",
       "      <td>18.000000</td>\n",
       "      <td>5.000000</td>\n",
       "      <td>11.000000</td>\n",
       "      <td>38.000000</td>\n",
       "      <td>56.000000</td>\n",
       "      <td>96.000000</td>\n",
       "      <td>85.000000</td>\n",
       "      <td>92.000000</td>\n",
       "      <td>36.000000</td>\n",
       "      <td>4.000000</td>\n",
       "    </tr>\n",
       "  </tbody>\n",
       "</table>\n",
       "</div>"
      ],
      "text/plain": [
       "          state_code  record_code_iodine            sex            age  \\\n",
       "count  120974.000000       120974.000000  120974.000000  120969.000000   \n",
       "mean       14.013127            2.754013       1.474565      28.333193   \n",
       "std         6.165432            0.522006       0.499355      16.354566   \n",
       "min         5.000000            1.000000       1.000000       0.000000   \n",
       "25%         9.000000            3.000000       1.000000      12.000000   \n",
       "50%        10.000000            3.000000       1.000000      24.000000   \n",
       "75%        21.000000            3.000000       2.000000      36.000000   \n",
       "max        23.000000            3.000000       2.000000     324.000000   \n",
       "\n",
       "        weight_in_kg  length_height_cm  haemoglobin_level  \\\n",
       "count  120299.000000     120299.000000      120087.000000   \n",
       "mean       10.725708         83.574595           9.049273   \n",
       "std         4.830260         14.885953           1.774920   \n",
       "min         1.000000         16.799999           3.000000   \n",
       "25%         8.400000         73.199997           8.326735   \n",
       "50%        10.600000         84.300003           8.926318   \n",
       "75%        12.800000         94.316797           9.800000   \n",
       "max       609.200010        205.300000          18.000000   \n",
       "\n",
       "       first_breast_feeding  is_cur_breast_feeding  \\\n",
       "count         120969.000000          120969.000000   \n",
       "mean               1.418049               1.663608   \n",
       "std                0.624158               0.473281   \n",
       "min                1.000000               1.000000   \n",
       "25%                1.000000               1.000000   \n",
       "50%                1.000000               2.000000   \n",
       "75%                2.000000               2.000000   \n",
       "max                5.000000              11.000000   \n",
       "\n",
       "       day_or_month_for_breast_feeding    water_month  ani_milk_month  \\\n",
       "count                    120969.000000  120969.000000   120969.000000   \n",
       "mean                          5.456125       4.654531        4.332259   \n",
       "std                           2.879880       2.408832        3.221255   \n",
       "min                           0.000000       0.000000        0.000000   \n",
       "25%                           5.000000       4.000000        0.000000   \n",
       "50%                           6.000000       5.000000        6.000000   \n",
       "75%                           6.000000       6.000000        6.000000   \n",
       "max                          38.000000      56.000000       96.000000   \n",
       "\n",
       "       semisolid_month_or_day    solid_month  vegetables_month_or_day  \\\n",
       "count           120969.000000  120969.000000            120969.000000   \n",
       "mean                 5.888368       6.455489                 6.447495   \n",
       "std                  3.341329       4.626277                 4.968280   \n",
       "min                  0.000000       0.000000                 0.000000   \n",
       "25%                  6.000000       0.000000                 0.000000   \n",
       "50%                  7.000000       7.000000                 8.000000   \n",
       "75%                  8.000000      10.000000                10.000000   \n",
       "max                 85.000000      92.000000                36.000000   \n",
       "\n",
       "        illness_type  \n",
       "count  120969.000000  \n",
       "mean        0.577090  \n",
       "std         1.023997  \n",
       "min         0.000000  \n",
       "25%         0.000000  \n",
       "50%         0.000000  \n",
       "75%         1.000000  \n",
       "max         4.000000  "
      ]
     },
     "execution_count": 21,
     "metadata": {},
     "output_type": "execute_result"
    }
   ],
   "source": [
    "result.describe()"
   ]
  },
  {
   "cell_type": "code",
   "execution_count": 22,
   "metadata": {},
   "outputs": [
    {
     "data": {
      "text/plain": [
       "state_code                           0\n",
       "record_code_iodine                   0\n",
       "sex                                  0\n",
       "age                                  0\n",
       "weight_in_kg                         6\n",
       "length_height_cm                     6\n",
       "haemoglobin_level                  101\n",
       "first_breast_feeding                 0\n",
       "is_cur_breast_feeding                0\n",
       "day_or_month_for_breast_feeding      0\n",
       "water_month                          0\n",
       "ani_milk_month                       0\n",
       "semisolid_month_or_day               0\n",
       "solid_month                          0\n",
       "vegetables_month_or_day              0\n",
       "illness_type                         0\n",
       "treatment_type                       0\n",
       "dtype: int64"
      ]
     },
     "execution_count": 22,
     "metadata": {},
     "output_type": "execute_result"
    }
   ],
   "source": [
    "ut.isnull().sum()"
   ]
  },
  {
   "cell_type": "code",
   "execution_count": 23,
   "metadata": {},
   "outputs": [
    {
     "data": {
      "text/html": [
       "<div>\n",
       "<style>\n",
       "    .dataframe thead tr:only-child th {\n",
       "        text-align: right;\n",
       "    }\n",
       "\n",
       "    .dataframe thead th {\n",
       "        text-align: left;\n",
       "    }\n",
       "\n",
       "    .dataframe tbody tr th {\n",
       "        vertical-align: top;\n",
       "    }\n",
       "</style>\n",
       "<table border=\"1\" class=\"dataframe\">\n",
       "  <thead>\n",
       "    <tr style=\"text-align: right;\">\n",
       "      <th></th>\n",
       "      <th>state_code</th>\n",
       "      <th>record_code_iodine</th>\n",
       "      <th>sex</th>\n",
       "      <th>age</th>\n",
       "      <th>weight_in_kg</th>\n",
       "      <th>length_height_cm</th>\n",
       "      <th>haemoglobin_level</th>\n",
       "      <th>first_breast_feeding</th>\n",
       "      <th>is_cur_breast_feeding</th>\n",
       "      <th>day_or_month_for_breast_feeding</th>\n",
       "      <th>water_month</th>\n",
       "      <th>ani_milk_month</th>\n",
       "      <th>semisolid_month_or_day</th>\n",
       "      <th>solid_month</th>\n",
       "      <th>vegetables_month_or_day</th>\n",
       "      <th>illness_type</th>\n",
       "    </tr>\n",
       "  </thead>\n",
       "  <tbody>\n",
       "    <tr>\n",
       "      <th>0</th>\n",
       "      <td>5.0</td>\n",
       "      <td>3</td>\n",
       "      <td>1</td>\n",
       "      <td>12.0</td>\n",
       "      <td>10.0</td>\n",
       "      <td>79.199997</td>\n",
       "      <td>11.000000</td>\n",
       "      <td>1.0</td>\n",
       "      <td>1.0</td>\n",
       "      <td>6.0</td>\n",
       "      <td>6.0</td>\n",
       "      <td>6.0</td>\n",
       "      <td>6.0</td>\n",
       "      <td>7.0</td>\n",
       "      <td>7.0</td>\n",
       "      <td>0.0</td>\n",
       "    </tr>\n",
       "    <tr>\n",
       "      <th>1</th>\n",
       "      <td>5.0</td>\n",
       "      <td>3</td>\n",
       "      <td>2</td>\n",
       "      <td>24.0</td>\n",
       "      <td>19.6</td>\n",
       "      <td>80.199997</td>\n",
       "      <td>7.366314</td>\n",
       "      <td>1.0</td>\n",
       "      <td>2.0</td>\n",
       "      <td>18.0</td>\n",
       "      <td>6.0</td>\n",
       "      <td>11.0</td>\n",
       "      <td>6.0</td>\n",
       "      <td>7.0</td>\n",
       "      <td>7.0</td>\n",
       "      <td>0.0</td>\n",
       "    </tr>\n",
       "    <tr>\n",
       "      <th>2</th>\n",
       "      <td>5.0</td>\n",
       "      <td>3</td>\n",
       "      <td>1</td>\n",
       "      <td>36.0</td>\n",
       "      <td>12.5</td>\n",
       "      <td>89.300003</td>\n",
       "      <td>8.275318</td>\n",
       "      <td>1.0</td>\n",
       "      <td>2.0</td>\n",
       "      <td>6.0</td>\n",
       "      <td>6.0</td>\n",
       "      <td>6.0</td>\n",
       "      <td>7.0</td>\n",
       "      <td>7.0</td>\n",
       "      <td>7.0</td>\n",
       "      <td>0.0</td>\n",
       "    </tr>\n",
       "    <tr>\n",
       "      <th>3</th>\n",
       "      <td>5.0</td>\n",
       "      <td>3</td>\n",
       "      <td>1</td>\n",
       "      <td>36.0</td>\n",
       "      <td>12.3</td>\n",
       "      <td>91.599998</td>\n",
       "      <td>10.000000</td>\n",
       "      <td>1.0</td>\n",
       "      <td>2.0</td>\n",
       "      <td>6.0</td>\n",
       "      <td>6.0</td>\n",
       "      <td>6.0</td>\n",
       "      <td>7.0</td>\n",
       "      <td>7.0</td>\n",
       "      <td>7.0</td>\n",
       "      <td>0.0</td>\n",
       "    </tr>\n",
       "    <tr>\n",
       "      <th>4</th>\n",
       "      <td>5.0</td>\n",
       "      <td>3</td>\n",
       "      <td>1</td>\n",
       "      <td>36.0</td>\n",
       "      <td>12.5</td>\n",
       "      <td>112.600000</td>\n",
       "      <td>3.000000</td>\n",
       "      <td>1.0</td>\n",
       "      <td>2.0</td>\n",
       "      <td>6.0</td>\n",
       "      <td>6.0</td>\n",
       "      <td>6.0</td>\n",
       "      <td>7.0</td>\n",
       "      <td>7.0</td>\n",
       "      <td>7.0</td>\n",
       "      <td>0.0</td>\n",
       "    </tr>\n",
       "    <tr>\n",
       "      <th>5</th>\n",
       "      <td>5.0</td>\n",
       "      <td>3</td>\n",
       "      <td>2</td>\n",
       "      <td>3.0</td>\n",
       "      <td>3.5</td>\n",
       "      <td>55.000000</td>\n",
       "      <td>NaN</td>\n",
       "      <td>2.0</td>\n",
       "      <td>1.0</td>\n",
       "      <td>3.0</td>\n",
       "      <td>0.0</td>\n",
       "      <td>0.0</td>\n",
       "      <td>0.0</td>\n",
       "      <td>0.0</td>\n",
       "      <td>0.0</td>\n",
       "      <td>0.0</td>\n",
       "    </tr>\n",
       "    <tr>\n",
       "      <th>6</th>\n",
       "      <td>5.0</td>\n",
       "      <td>3</td>\n",
       "      <td>1</td>\n",
       "      <td>2.0</td>\n",
       "      <td>4.6</td>\n",
       "      <td>53.000000</td>\n",
       "      <td>10.000000</td>\n",
       "      <td>1.0</td>\n",
       "      <td>1.0</td>\n",
       "      <td>2.0</td>\n",
       "      <td>0.0</td>\n",
       "      <td>0.0</td>\n",
       "      <td>0.0</td>\n",
       "      <td>0.0</td>\n",
       "      <td>0.0</td>\n",
       "      <td>0.0</td>\n",
       "    </tr>\n",
       "    <tr>\n",
       "      <th>7</th>\n",
       "      <td>5.0</td>\n",
       "      <td>3</td>\n",
       "      <td>1</td>\n",
       "      <td>2.0</td>\n",
       "      <td>6.0</td>\n",
       "      <td>57.000000</td>\n",
       "      <td>10.000000</td>\n",
       "      <td>2.0</td>\n",
       "      <td>1.0</td>\n",
       "      <td>2.0</td>\n",
       "      <td>0.0</td>\n",
       "      <td>0.0</td>\n",
       "      <td>0.0</td>\n",
       "      <td>0.0</td>\n",
       "      <td>0.0</td>\n",
       "      <td>0.0</td>\n",
       "    </tr>\n",
       "    <tr>\n",
       "      <th>8</th>\n",
       "      <td>5.0</td>\n",
       "      <td>3</td>\n",
       "      <td>2</td>\n",
       "      <td>10.0</td>\n",
       "      <td>7.1</td>\n",
       "      <td>64.000000</td>\n",
       "      <td>6.200000</td>\n",
       "      <td>2.0</td>\n",
       "      <td>1.0</td>\n",
       "      <td>6.0</td>\n",
       "      <td>6.0</td>\n",
       "      <td>6.0</td>\n",
       "      <td>9.0</td>\n",
       "      <td>9.0</td>\n",
       "      <td>9.0</td>\n",
       "      <td>0.0</td>\n",
       "    </tr>\n",
       "    <tr>\n",
       "      <th>9</th>\n",
       "      <td>5.0</td>\n",
       "      <td>3</td>\n",
       "      <td>1</td>\n",
       "      <td>12.0</td>\n",
       "      <td>8.0</td>\n",
       "      <td>70.000000</td>\n",
       "      <td>7.373391</td>\n",
       "      <td>2.0</td>\n",
       "      <td>2.0</td>\n",
       "      <td>6.0</td>\n",
       "      <td>6.0</td>\n",
       "      <td>0.0</td>\n",
       "      <td>0.0</td>\n",
       "      <td>0.0</td>\n",
       "      <td>0.0</td>\n",
       "      <td>0.0</td>\n",
       "    </tr>\n",
       "  </tbody>\n",
       "</table>\n",
       "</div>"
      ],
      "text/plain": [
       "   state_code  record_code_iodine  sex   age  weight_in_kg  length_height_cm  \\\n",
       "0         5.0                   3    1  12.0          10.0         79.199997   \n",
       "1         5.0                   3    2  24.0          19.6         80.199997   \n",
       "2         5.0                   3    1  36.0          12.5         89.300003   \n",
       "3         5.0                   3    1  36.0          12.3         91.599998   \n",
       "4         5.0                   3    1  36.0          12.5        112.600000   \n",
       "5         5.0                   3    2   3.0           3.5         55.000000   \n",
       "6         5.0                   3    1   2.0           4.6         53.000000   \n",
       "7         5.0                   3    1   2.0           6.0         57.000000   \n",
       "8         5.0                   3    2  10.0           7.1         64.000000   \n",
       "9         5.0                   3    1  12.0           8.0         70.000000   \n",
       "\n",
       "   haemoglobin_level  first_breast_feeding  is_cur_breast_feeding  \\\n",
       "0          11.000000                   1.0                    1.0   \n",
       "1           7.366314                   1.0                    2.0   \n",
       "2           8.275318                   1.0                    2.0   \n",
       "3          10.000000                   1.0                    2.0   \n",
       "4           3.000000                   1.0                    2.0   \n",
       "5                NaN                   2.0                    1.0   \n",
       "6          10.000000                   1.0                    1.0   \n",
       "7          10.000000                   2.0                    1.0   \n",
       "8           6.200000                   2.0                    1.0   \n",
       "9           7.373391                   2.0                    2.0   \n",
       "\n",
       "   day_or_month_for_breast_feeding  water_month  ani_milk_month  \\\n",
       "0                              6.0          6.0             6.0   \n",
       "1                             18.0          6.0            11.0   \n",
       "2                              6.0          6.0             6.0   \n",
       "3                              6.0          6.0             6.0   \n",
       "4                              6.0          6.0             6.0   \n",
       "5                              3.0          0.0             0.0   \n",
       "6                              2.0          0.0             0.0   \n",
       "7                              2.0          0.0             0.0   \n",
       "8                              6.0          6.0             6.0   \n",
       "9                              6.0          6.0             0.0   \n",
       "\n",
       "   semisolid_month_or_day  solid_month  vegetables_month_or_day  illness_type  \n",
       "0                     6.0          7.0                      7.0           0.0  \n",
       "1                     6.0          7.0                      7.0           0.0  \n",
       "2                     7.0          7.0                      7.0           0.0  \n",
       "3                     7.0          7.0                      7.0           0.0  \n",
       "4                     7.0          7.0                      7.0           0.0  \n",
       "5                     0.0          0.0                      0.0           0.0  \n",
       "6                     0.0          0.0                      0.0           0.0  \n",
       "7                     0.0          0.0                      0.0           0.0  \n",
       "8                     9.0          9.0                      9.0           0.0  \n",
       "9                     0.0          0.0                      0.0           0.0  "
      ]
     },
     "execution_count": 23,
     "metadata": {},
     "output_type": "execute_result"
    }
   ],
   "source": [
    "result.head(10)"
   ]
  },
  {
   "cell_type": "code",
   "execution_count": 24,
   "metadata": {},
   "outputs": [
    {
     "data": {
      "text/html": [
       "<div>\n",
       "<style>\n",
       "    .dataframe thead tr:only-child th {\n",
       "        text-align: right;\n",
       "    }\n",
       "\n",
       "    .dataframe thead th {\n",
       "        text-align: left;\n",
       "    }\n",
       "\n",
       "    .dataframe tbody tr th {\n",
       "        vertical-align: top;\n",
       "    }\n",
       "</style>\n",
       "<table border=\"1\" class=\"dataframe\">\n",
       "  <thead>\n",
       "    <tr style=\"text-align: right;\">\n",
       "      <th></th>\n",
       "      <th>state_code</th>\n",
       "      <th>record_code_iodine</th>\n",
       "      <th>sex</th>\n",
       "      <th>age</th>\n",
       "      <th>weight_in_kg</th>\n",
       "      <th>length_height_cm</th>\n",
       "      <th>haemoglobin_level</th>\n",
       "      <th>first_breast_feeding</th>\n",
       "      <th>is_cur_breast_feeding</th>\n",
       "      <th>day_or_month_for_breast_feeding</th>\n",
       "      <th>water_month</th>\n",
       "      <th>ani_milk_month</th>\n",
       "      <th>semisolid_month_or_day</th>\n",
       "      <th>solid_month</th>\n",
       "      <th>vegetables_month_or_day</th>\n",
       "      <th>illness_type</th>\n",
       "    </tr>\n",
       "  </thead>\n",
       "  <tbody>\n",
       "    <tr>\n",
       "      <th>34906</th>\n",
       "      <td>9.0</td>\n",
       "      <td>2</td>\n",
       "      <td>2</td>\n",
       "      <td>24.0</td>\n",
       "      <td>5.600000</td>\n",
       "      <td>70.000000</td>\n",
       "      <td>8.577048</td>\n",
       "      <td>1.0</td>\n",
       "      <td>2.0</td>\n",
       "      <td>6.0</td>\n",
       "      <td>5.0</td>\n",
       "      <td>6.0</td>\n",
       "      <td>6.0</td>\n",
       "      <td>7.0</td>\n",
       "      <td>8.0</td>\n",
       "      <td>2.0</td>\n",
       "    </tr>\n",
       "    <tr>\n",
       "      <th>34907</th>\n",
       "      <td>9.0</td>\n",
       "      <td>2</td>\n",
       "      <td>1</td>\n",
       "      <td>12.0</td>\n",
       "      <td>6.600000</td>\n",
       "      <td>63.400002</td>\n",
       "      <td>8.326735</td>\n",
       "      <td>1.0</td>\n",
       "      <td>2.0</td>\n",
       "      <td>6.0</td>\n",
       "      <td>5.0</td>\n",
       "      <td>6.0</td>\n",
       "      <td>6.0</td>\n",
       "      <td>7.0</td>\n",
       "      <td>8.0</td>\n",
       "      <td>2.0</td>\n",
       "    </tr>\n",
       "    <tr>\n",
       "      <th>34908</th>\n",
       "      <td>9.0</td>\n",
       "      <td>2</td>\n",
       "      <td>2</td>\n",
       "      <td>24.0</td>\n",
       "      <td>5.600000</td>\n",
       "      <td>70.000000</td>\n",
       "      <td>8.577048</td>\n",
       "      <td>1.0</td>\n",
       "      <td>2.0</td>\n",
       "      <td>6.0</td>\n",
       "      <td>5.0</td>\n",
       "      <td>6.0</td>\n",
       "      <td>6.0</td>\n",
       "      <td>7.0</td>\n",
       "      <td>8.0</td>\n",
       "      <td>2.0</td>\n",
       "    </tr>\n",
       "    <tr>\n",
       "      <th>34909</th>\n",
       "      <td>9.0</td>\n",
       "      <td>2</td>\n",
       "      <td>1</td>\n",
       "      <td>36.0</td>\n",
       "      <td>11.626453</td>\n",
       "      <td>87.537535</td>\n",
       "      <td>8.835934</td>\n",
       "      <td>1.0</td>\n",
       "      <td>2.0</td>\n",
       "      <td>6.0</td>\n",
       "      <td>5.0</td>\n",
       "      <td>6.0</td>\n",
       "      <td>6.0</td>\n",
       "      <td>7.0</td>\n",
       "      <td>8.0</td>\n",
       "      <td>2.0</td>\n",
       "    </tr>\n",
       "    <tr>\n",
       "      <th>34910</th>\n",
       "      <td>9.0</td>\n",
       "      <td>2</td>\n",
       "      <td>1</td>\n",
       "      <td>24.0</td>\n",
       "      <td>10.349590</td>\n",
       "      <td>80.702633</td>\n",
       "      <td>8.577048</td>\n",
       "      <td>1.0</td>\n",
       "      <td>2.0</td>\n",
       "      <td>6.0</td>\n",
       "      <td>5.0</td>\n",
       "      <td>6.0</td>\n",
       "      <td>6.0</td>\n",
       "      <td>7.0</td>\n",
       "      <td>8.0</td>\n",
       "      <td>2.0</td>\n",
       "    </tr>\n",
       "    <tr>\n",
       "      <th>34911</th>\n",
       "      <td>9.0</td>\n",
       "      <td>2</td>\n",
       "      <td>2</td>\n",
       "      <td>48.0</td>\n",
       "      <td>7.000000</td>\n",
       "      <td>80.000000</td>\n",
       "      <td>8.980460</td>\n",
       "      <td>1.0</td>\n",
       "      <td>2.0</td>\n",
       "      <td>6.0</td>\n",
       "      <td>5.0</td>\n",
       "      <td>6.0</td>\n",
       "      <td>6.0</td>\n",
       "      <td>7.0</td>\n",
       "      <td>8.0</td>\n",
       "      <td>0.0</td>\n",
       "    </tr>\n",
       "    <tr>\n",
       "      <th>34912</th>\n",
       "      <td>9.0</td>\n",
       "      <td>2</td>\n",
       "      <td>1</td>\n",
       "      <td>24.0</td>\n",
       "      <td>10.349590</td>\n",
       "      <td>80.702633</td>\n",
       "      <td>8.577048</td>\n",
       "      <td>1.0</td>\n",
       "      <td>2.0</td>\n",
       "      <td>6.0</td>\n",
       "      <td>5.0</td>\n",
       "      <td>6.0</td>\n",
       "      <td>6.0</td>\n",
       "      <td>7.0</td>\n",
       "      <td>8.0</td>\n",
       "      <td>2.0</td>\n",
       "    </tr>\n",
       "    <tr>\n",
       "      <th>34913</th>\n",
       "      <td>9.0</td>\n",
       "      <td>2</td>\n",
       "      <td>1</td>\n",
       "      <td>36.0</td>\n",
       "      <td>11.626453</td>\n",
       "      <td>87.537535</td>\n",
       "      <td>8.835934</td>\n",
       "      <td>1.0</td>\n",
       "      <td>2.0</td>\n",
       "      <td>6.0</td>\n",
       "      <td>5.0</td>\n",
       "      <td>6.0</td>\n",
       "      <td>6.0</td>\n",
       "      <td>7.0</td>\n",
       "      <td>8.0</td>\n",
       "      <td>2.0</td>\n",
       "    </tr>\n",
       "    <tr>\n",
       "      <th>34914</th>\n",
       "      <td>9.0</td>\n",
       "      <td>2</td>\n",
       "      <td>1</td>\n",
       "      <td>48.0</td>\n",
       "      <td>13.292706</td>\n",
       "      <td>95.342917</td>\n",
       "      <td>8.980460</td>\n",
       "      <td>1.0</td>\n",
       "      <td>2.0</td>\n",
       "      <td>6.0</td>\n",
       "      <td>5.0</td>\n",
       "      <td>6.0</td>\n",
       "      <td>6.0</td>\n",
       "      <td>7.0</td>\n",
       "      <td>8.0</td>\n",
       "      <td>0.0</td>\n",
       "    </tr>\n",
       "    <tr>\n",
       "      <th>34915</th>\n",
       "      <td>9.0</td>\n",
       "      <td>2</td>\n",
       "      <td>1</td>\n",
       "      <td>11.0</td>\n",
       "      <td>7.000000</td>\n",
       "      <td>63.400002</td>\n",
       "      <td>8.644444</td>\n",
       "      <td>1.0</td>\n",
       "      <td>1.0</td>\n",
       "      <td>5.0</td>\n",
       "      <td>5.0</td>\n",
       "      <td>6.0</td>\n",
       "      <td>7.0</td>\n",
       "      <td>0.0</td>\n",
       "      <td>0.0</td>\n",
       "      <td>0.0</td>\n",
       "    </tr>\n",
       "  </tbody>\n",
       "</table>\n",
       "</div>"
      ],
      "text/plain": [
       "       state_code  record_code_iodine  sex   age  weight_in_kg  \\\n",
       "34906         9.0                   2    2  24.0      5.600000   \n",
       "34907         9.0                   2    1  12.0      6.600000   \n",
       "34908         9.0                   2    2  24.0      5.600000   \n",
       "34909         9.0                   2    1  36.0     11.626453   \n",
       "34910         9.0                   2    1  24.0     10.349590   \n",
       "34911         9.0                   2    2  48.0      7.000000   \n",
       "34912         9.0                   2    1  24.0     10.349590   \n",
       "34913         9.0                   2    1  36.0     11.626453   \n",
       "34914         9.0                   2    1  48.0     13.292706   \n",
       "34915         9.0                   2    1  11.0      7.000000   \n",
       "\n",
       "       length_height_cm  haemoglobin_level  first_breast_feeding  \\\n",
       "34906         70.000000           8.577048                   1.0   \n",
       "34907         63.400002           8.326735                   1.0   \n",
       "34908         70.000000           8.577048                   1.0   \n",
       "34909         87.537535           8.835934                   1.0   \n",
       "34910         80.702633           8.577048                   1.0   \n",
       "34911         80.000000           8.980460                   1.0   \n",
       "34912         80.702633           8.577048                   1.0   \n",
       "34913         87.537535           8.835934                   1.0   \n",
       "34914         95.342917           8.980460                   1.0   \n",
       "34915         63.400002           8.644444                   1.0   \n",
       "\n",
       "       is_cur_breast_feeding  day_or_month_for_breast_feeding  water_month  \\\n",
       "34906                    2.0                              6.0          5.0   \n",
       "34907                    2.0                              6.0          5.0   \n",
       "34908                    2.0                              6.0          5.0   \n",
       "34909                    2.0                              6.0          5.0   \n",
       "34910                    2.0                              6.0          5.0   \n",
       "34911                    2.0                              6.0          5.0   \n",
       "34912                    2.0                              6.0          5.0   \n",
       "34913                    2.0                              6.0          5.0   \n",
       "34914                    2.0                              6.0          5.0   \n",
       "34915                    1.0                              5.0          5.0   \n",
       "\n",
       "       ani_milk_month  semisolid_month_or_day  solid_month  \\\n",
       "34906             6.0                     6.0          7.0   \n",
       "34907             6.0                     6.0          7.0   \n",
       "34908             6.0                     6.0          7.0   \n",
       "34909             6.0                     6.0          7.0   \n",
       "34910             6.0                     6.0          7.0   \n",
       "34911             6.0                     6.0          7.0   \n",
       "34912             6.0                     6.0          7.0   \n",
       "34913             6.0                     6.0          7.0   \n",
       "34914             6.0                     6.0          7.0   \n",
       "34915             6.0                     7.0          0.0   \n",
       "\n",
       "       vegetables_month_or_day  illness_type  \n",
       "34906                      8.0           2.0  \n",
       "34907                      8.0           2.0  \n",
       "34908                      8.0           2.0  \n",
       "34909                      8.0           2.0  \n",
       "34910                      8.0           2.0  \n",
       "34911                      8.0           0.0  \n",
       "34912                      8.0           2.0  \n",
       "34913                      8.0           2.0  \n",
       "34914                      8.0           0.0  \n",
       "34915                      0.0           0.0  "
      ]
     },
     "execution_count": 24,
     "metadata": {},
     "output_type": "execute_result"
    }
   ],
   "source": [
    "result.tail(10)"
   ]
  },
  {
   "cell_type": "code",
   "execution_count": 25,
   "metadata": {},
   "outputs": [
    {
     "data": {
      "text/plain": [
       "9.0     282\n",
       "8.0      82\n",
       "23.0     79\n",
       "21.0     69\n",
       "10.0     62\n",
       "20.0     44\n",
       "18.0     43\n",
       "22.0      8\n",
       "5.0       6\n",
       "Name: state_code, dtype: int64"
      ]
     },
     "execution_count": 25,
     "metadata": {},
     "output_type": "execute_result"
    }
   ],
   "source": [
    "result['state_code'][(result['weight_in_kg'].isnull()) & (result['weight_in_kg'].isnull())].value_counts()"
   ]
  },
  {
   "cell_type": "code",
   "execution_count": 26,
   "metadata": {
    "collapsed": true
   },
   "outputs": [],
   "source": [
    "result = result.drop(result[(result['weight_in_kg'].isnull()) & (result['weight_in_kg'].isnull())].index)"
   ]
  },
  {
   "cell_type": "code",
   "execution_count": 27,
   "metadata": {},
   "outputs": [
    {
     "data": {
      "text/plain": [
       "Series([], Name: state_code, dtype: int64)"
      ]
     },
     "execution_count": 27,
     "metadata": {},
     "output_type": "execute_result"
    }
   ],
   "source": [
    "result['state_code'][(result['weight_in_kg'].isnull()) & (result['weight_in_kg'].isnull())].value_counts()"
   ]
  },
  {
   "cell_type": "code",
   "execution_count": 28,
   "metadata": {},
   "outputs": [
    {
     "data": {
      "text/plain": [
       "Series([], Name: state_code, dtype: int64)"
      ]
     },
     "execution_count": 28,
     "metadata": {},
     "output_type": "execute_result"
    }
   ],
   "source": [
    "result['state_code'][(result['age'].isnull()) & (result['first_breast_feeding'].isnull()) & (result['is_cur_breast_feeding'].isnull()) & (result['day_or_month_for_breast_feeding'].isnull()) & (result['water_month'].isnull()) & (result['semisolid_month_or_day'].isnull()) & (result['ani_milk_month'].isnull()) & (result['solid_month'].isnull()) & (result['vegetables_month_or_day'].isnull()) & (result['illness_type'].isnull())].value_counts()"
   ]
  },
  {
   "cell_type": "code",
   "execution_count": 29,
   "metadata": {},
   "outputs": [
    {
     "name": "stdout",
     "output_type": "stream",
     "text": [
      "state_code\n",
      "Series([], Name: state_code, dtype: int64)\n",
      "-------------------------\n",
      "record_code_iodine\n",
      "Series([], Name: state_code, dtype: int64)\n",
      "-------------------------\n",
      "sex\n",
      "Series([], Name: state_code, dtype: int64)\n",
      "-------------------------\n",
      "age\n",
      "Series([], Name: state_code, dtype: int64)\n",
      "-------------------------\n",
      "weight_in_kg\n",
      "Series([], Name: state_code, dtype: int64)\n",
      "-------------------------\n",
      "length_height_cm\n",
      "Series([], Name: state_code, dtype: int64)\n",
      "-------------------------\n",
      "haemoglobin_level\n",
      "20.0    99\n",
      "5.0     94\n",
      "21.0    17\n",
      "9.0     10\n",
      "10.0    10\n",
      "23.0     2\n",
      "Name: state_code, dtype: int64\n",
      "-------------------------\n",
      "first_breast_feeding\n",
      "Series([], Name: state_code, dtype: int64)\n",
      "-------------------------\n",
      "is_cur_breast_feeding\n",
      "Series([], Name: state_code, dtype: int64)\n",
      "-------------------------\n",
      "day_or_month_for_breast_feeding\n",
      "Series([], Name: state_code, dtype: int64)\n",
      "-------------------------\n",
      "water_month\n",
      "Series([], Name: state_code, dtype: int64)\n",
      "-------------------------\n",
      "ani_milk_month\n",
      "Series([], Name: state_code, dtype: int64)\n",
      "-------------------------\n",
      "semisolid_month_or_day\n",
      "Series([], Name: state_code, dtype: int64)\n",
      "-------------------------\n",
      "solid_month\n",
      "Series([], Name: state_code, dtype: int64)\n",
      "-------------------------\n",
      "vegetables_month_or_day\n",
      "Series([], Name: state_code, dtype: int64)\n",
      "-------------------------\n",
      "illness_type\n",
      "Series([], Name: state_code, dtype: int64)\n",
      "-------------------------\n"
     ]
    }
   ],
   "source": [
    "for i in result.columns.values:\n",
    "    print(i)\n",
    "    print(result['state_code'][result[i].isnull()].value_counts())\n",
    "    print(\"-------------------------\")"
   ]
  },
  {
   "cell_type": "code",
   "execution_count": 30,
   "metadata": {
    "collapsed": true
   },
   "outputs": [],
   "source": [
    "result = result.drop(result[(result['haemoglobin_level'].isnull())].index)"
   ]
  },
  {
   "cell_type": "code",
   "execution_count": 31,
   "metadata": {},
   "outputs": [
    {
     "name": "stdout",
     "output_type": "stream",
     "text": [
      "state_code\n",
      "Series([], Name: state_code, dtype: int64)\n",
      "-------------------------\n",
      "record_code_iodine\n",
      "Series([], Name: state_code, dtype: int64)\n",
      "-------------------------\n",
      "sex\n",
      "Series([], Name: state_code, dtype: int64)\n",
      "-------------------------\n",
      "age\n",
      "Series([], Name: state_code, dtype: int64)\n",
      "-------------------------\n",
      "weight_in_kg\n",
      "Series([], Name: state_code, dtype: int64)\n",
      "-------------------------\n",
      "length_height_cm\n",
      "Series([], Name: state_code, dtype: int64)\n",
      "-------------------------\n",
      "haemoglobin_level\n",
      "Series([], Name: state_code, dtype: int64)\n",
      "-------------------------\n",
      "first_breast_feeding\n",
      "Series([], Name: state_code, dtype: int64)\n",
      "-------------------------\n",
      "is_cur_breast_feeding\n",
      "Series([], Name: state_code, dtype: int64)\n",
      "-------------------------\n",
      "day_or_month_for_breast_feeding\n",
      "Series([], Name: state_code, dtype: int64)\n",
      "-------------------------\n",
      "water_month\n",
      "Series([], Name: state_code, dtype: int64)\n",
      "-------------------------\n",
      "ani_milk_month\n",
      "Series([], Name: state_code, dtype: int64)\n",
      "-------------------------\n",
      "semisolid_month_or_day\n",
      "Series([], Name: state_code, dtype: int64)\n",
      "-------------------------\n",
      "solid_month\n",
      "Series([], Name: state_code, dtype: int64)\n",
      "-------------------------\n",
      "vegetables_month_or_day\n",
      "Series([], Name: state_code, dtype: int64)\n",
      "-------------------------\n",
      "illness_type\n",
      "Series([], Name: state_code, dtype: int64)\n",
      "-------------------------\n"
     ]
    }
   ],
   "source": [
    "for i in result.columns.values:\n",
    "    print(i)\n",
    "    print(result['state_code'][result[i].isnull()].value_counts())\n",
    "    print(\"-------------------------\")"
   ]
  },
  {
   "cell_type": "code",
   "execution_count": 32,
   "metadata": {},
   "outputs": [
    {
     "data": {
      "text/plain": [
       "(115350, 16)"
      ]
     },
     "execution_count": 32,
     "metadata": {},
     "output_type": "execute_result"
    }
   ],
   "source": [
    "result.shape"
   ]
  },
  {
   "cell_type": "code",
   "execution_count": 33,
   "metadata": {
    "scrolled": true
   },
   "outputs": [
    {
     "data": {
      "text/html": [
       "<div>\n",
       "<style>\n",
       "    .dataframe thead tr:only-child th {\n",
       "        text-align: right;\n",
       "    }\n",
       "\n",
       "    .dataframe thead th {\n",
       "        text-align: left;\n",
       "    }\n",
       "\n",
       "    .dataframe tbody tr th {\n",
       "        vertical-align: top;\n",
       "    }\n",
       "</style>\n",
       "<table border=\"1\" class=\"dataframe\">\n",
       "  <thead>\n",
       "    <tr style=\"text-align: right;\">\n",
       "      <th></th>\n",
       "      <th>state_code</th>\n",
       "      <th>record_code_iodine</th>\n",
       "      <th>sex</th>\n",
       "      <th>age</th>\n",
       "      <th>weight_in_kg</th>\n",
       "      <th>length_height_cm</th>\n",
       "      <th>haemoglobin_level</th>\n",
       "      <th>first_breast_feeding</th>\n",
       "      <th>is_cur_breast_feeding</th>\n",
       "      <th>day_or_month_for_breast_feeding</th>\n",
       "      <th>water_month</th>\n",
       "      <th>ani_milk_month</th>\n",
       "      <th>semisolid_month_or_day</th>\n",
       "      <th>solid_month</th>\n",
       "      <th>vegetables_month_or_day</th>\n",
       "      <th>illness_type</th>\n",
       "    </tr>\n",
       "  </thead>\n",
       "  <tbody>\n",
       "    <tr>\n",
       "      <th>count</th>\n",
       "      <td>115350.000000</td>\n",
       "      <td>115350.000000</td>\n",
       "      <td>115350.000000</td>\n",
       "      <td>115350.000000</td>\n",
       "      <td>115350.000000</td>\n",
       "      <td>115350.000000</td>\n",
       "      <td>115350.000000</td>\n",
       "      <td>115350.000000</td>\n",
       "      <td>115350.000000</td>\n",
       "      <td>115350.000000</td>\n",
       "      <td>115350.000000</td>\n",
       "      <td>115350.000000</td>\n",
       "      <td>115350.000000</td>\n",
       "      <td>115350.000000</td>\n",
       "      <td>115350.000000</td>\n",
       "      <td>115350.000000</td>\n",
       "    </tr>\n",
       "    <tr>\n",
       "      <th>mean</th>\n",
       "      <td>13.960624</td>\n",
       "      <td>2.753004</td>\n",
       "      <td>1.474417</td>\n",
       "      <td>28.528409</td>\n",
       "      <td>10.730525</td>\n",
       "      <td>83.597125</td>\n",
       "      <td>9.041601</td>\n",
       "      <td>1.420659</td>\n",
       "      <td>1.668270</td>\n",
       "      <td>5.480711</td>\n",
       "      <td>4.679003</td>\n",
       "      <td>4.350715</td>\n",
       "      <td>5.925722</td>\n",
       "      <td>6.487638</td>\n",
       "      <td>6.476420</td>\n",
       "      <td>0.580139</td>\n",
       "    </tr>\n",
       "    <tr>\n",
       "      <th>std</th>\n",
       "      <td>6.150231</td>\n",
       "      <td>0.523071</td>\n",
       "      <td>0.499347</td>\n",
       "      <td>16.220176</td>\n",
       "      <td>4.823204</td>\n",
       "      <td>14.862177</td>\n",
       "      <td>1.773647</td>\n",
       "      <td>0.625507</td>\n",
       "      <td>0.471683</td>\n",
       "      <td>2.849432</td>\n",
       "      <td>2.389533</td>\n",
       "      <td>3.216288</td>\n",
       "      <td>3.315650</td>\n",
       "      <td>4.614328</td>\n",
       "      <td>4.956524</td>\n",
       "      <td>1.024688</td>\n",
       "    </tr>\n",
       "    <tr>\n",
       "      <th>min</th>\n",
       "      <td>5.000000</td>\n",
       "      <td>1.000000</td>\n",
       "      <td>1.000000</td>\n",
       "      <td>0.000000</td>\n",
       "      <td>1.000000</td>\n",
       "      <td>16.799999</td>\n",
       "      <td>3.000000</td>\n",
       "      <td>1.000000</td>\n",
       "      <td>1.000000</td>\n",
       "      <td>0.000000</td>\n",
       "      <td>0.000000</td>\n",
       "      <td>0.000000</td>\n",
       "      <td>0.000000</td>\n",
       "      <td>0.000000</td>\n",
       "      <td>0.000000</td>\n",
       "      <td>0.000000</td>\n",
       "    </tr>\n",
       "    <tr>\n",
       "      <th>25%</th>\n",
       "      <td>9.000000</td>\n",
       "      <td>3.000000</td>\n",
       "      <td>1.000000</td>\n",
       "      <td>12.000000</td>\n",
       "      <td>8.400000</td>\n",
       "      <td>73.300003</td>\n",
       "      <td>8.326735</td>\n",
       "      <td>1.000000</td>\n",
       "      <td>1.000000</td>\n",
       "      <td>5.000000</td>\n",
       "      <td>4.000000</td>\n",
       "      <td>0.000000</td>\n",
       "      <td>6.000000</td>\n",
       "      <td>0.000000</td>\n",
       "      <td>0.000000</td>\n",
       "      <td>0.000000</td>\n",
       "    </tr>\n",
       "    <tr>\n",
       "      <th>50%</th>\n",
       "      <td>10.000000</td>\n",
       "      <td>3.000000</td>\n",
       "      <td>1.000000</td>\n",
       "      <td>24.000000</td>\n",
       "      <td>10.600000</td>\n",
       "      <td>84.300003</td>\n",
       "      <td>8.926318</td>\n",
       "      <td>1.000000</td>\n",
       "      <td>2.000000</td>\n",
       "      <td>6.000000</td>\n",
       "      <td>5.000000</td>\n",
       "      <td>6.000000</td>\n",
       "      <td>7.000000</td>\n",
       "      <td>7.000000</td>\n",
       "      <td>8.000000</td>\n",
       "      <td>0.000000</td>\n",
       "    </tr>\n",
       "    <tr>\n",
       "      <th>75%</th>\n",
       "      <td>21.000000</td>\n",
       "      <td>3.000000</td>\n",
       "      <td>2.000000</td>\n",
       "      <td>36.000000</td>\n",
       "      <td>12.800000</td>\n",
       "      <td>94.316797</td>\n",
       "      <td>9.800000</td>\n",
       "      <td>2.000000</td>\n",
       "      <td>2.000000</td>\n",
       "      <td>6.000000</td>\n",
       "      <td>6.000000</td>\n",
       "      <td>6.000000</td>\n",
       "      <td>8.000000</td>\n",
       "      <td>10.000000</td>\n",
       "      <td>10.000000</td>\n",
       "      <td>1.000000</td>\n",
       "    </tr>\n",
       "    <tr>\n",
       "      <th>max</th>\n",
       "      <td>23.000000</td>\n",
       "      <td>3.000000</td>\n",
       "      <td>2.000000</td>\n",
       "      <td>324.000000</td>\n",
       "      <td>609.200010</td>\n",
       "      <td>205.300000</td>\n",
       "      <td>18.000000</td>\n",
       "      <td>5.000000</td>\n",
       "      <td>11.000000</td>\n",
       "      <td>38.000000</td>\n",
       "      <td>56.000000</td>\n",
       "      <td>96.000000</td>\n",
       "      <td>85.000000</td>\n",
       "      <td>92.000000</td>\n",
       "      <td>36.000000</td>\n",
       "      <td>4.000000</td>\n",
       "    </tr>\n",
       "  </tbody>\n",
       "</table>\n",
       "</div>"
      ],
      "text/plain": [
       "          state_code  record_code_iodine            sex            age  \\\n",
       "count  115350.000000       115350.000000  115350.000000  115350.000000   \n",
       "mean       13.960624            2.753004       1.474417      28.528409   \n",
       "std         6.150231            0.523071       0.499347      16.220176   \n",
       "min         5.000000            1.000000       1.000000       0.000000   \n",
       "25%         9.000000            3.000000       1.000000      12.000000   \n",
       "50%        10.000000            3.000000       1.000000      24.000000   \n",
       "75%        21.000000            3.000000       2.000000      36.000000   \n",
       "max        23.000000            3.000000       2.000000     324.000000   \n",
       "\n",
       "        weight_in_kg  length_height_cm  haemoglobin_level  \\\n",
       "count  115350.000000     115350.000000      115350.000000   \n",
       "mean       10.730525         83.597125           9.041601   \n",
       "std         4.823204         14.862177           1.773647   \n",
       "min         1.000000         16.799999           3.000000   \n",
       "25%         8.400000         73.300003           8.326735   \n",
       "50%        10.600000         84.300003           8.926318   \n",
       "75%        12.800000         94.316797           9.800000   \n",
       "max       609.200010        205.300000          18.000000   \n",
       "\n",
       "       first_breast_feeding  is_cur_breast_feeding  \\\n",
       "count         115350.000000          115350.000000   \n",
       "mean               1.420659               1.668270   \n",
       "std                0.625507               0.471683   \n",
       "min                1.000000               1.000000   \n",
       "25%                1.000000               1.000000   \n",
       "50%                1.000000               2.000000   \n",
       "75%                2.000000               2.000000   \n",
       "max                5.000000              11.000000   \n",
       "\n",
       "       day_or_month_for_breast_feeding    water_month  ani_milk_month  \\\n",
       "count                    115350.000000  115350.000000   115350.000000   \n",
       "mean                          5.480711       4.679003        4.350715   \n",
       "std                           2.849432       2.389533        3.216288   \n",
       "min                           0.000000       0.000000        0.000000   \n",
       "25%                           5.000000       4.000000        0.000000   \n",
       "50%                           6.000000       5.000000        6.000000   \n",
       "75%                           6.000000       6.000000        6.000000   \n",
       "max                          38.000000      56.000000       96.000000   \n",
       "\n",
       "       semisolid_month_or_day    solid_month  vegetables_month_or_day  \\\n",
       "count           115350.000000  115350.000000            115350.000000   \n",
       "mean                 5.925722       6.487638                 6.476420   \n",
       "std                  3.315650       4.614328                 4.956524   \n",
       "min                  0.000000       0.000000                 0.000000   \n",
       "25%                  6.000000       0.000000                 0.000000   \n",
       "50%                  7.000000       7.000000                 8.000000   \n",
       "75%                  8.000000      10.000000                10.000000   \n",
       "max                 85.000000      92.000000                36.000000   \n",
       "\n",
       "        illness_type  \n",
       "count  115350.000000  \n",
       "mean        0.580139  \n",
       "std         1.024688  \n",
       "min         0.000000  \n",
       "25%         0.000000  \n",
       "50%         0.000000  \n",
       "75%         1.000000  \n",
       "max         4.000000  "
      ]
     },
     "execution_count": 33,
     "metadata": {},
     "output_type": "execute_result"
    }
   ],
   "source": [
    "result.describe()"
   ]
  },
  {
   "cell_type": "markdown",
   "metadata": {},
   "source": [
    "## Model Training"
   ]
  },
  {
   "cell_type": "code",
   "execution_count": 34,
   "metadata": {
    "collapsed": true
   },
   "outputs": [],
   "source": [
    "from sklearn.model_selection import train_test_split\n",
    "\n",
    "from sklearn.linear_model import LogisticRegression\n",
    "from sklearn.svm import SVC\n",
    "from sklearn.svm import LinearSVC\n",
    "from sklearn.tree import DecisionTreeClassifier\n",
    "from sklearn.neighbors import KNeighborsClassifier\n",
    "from sklearn.ensemble import RandomForestClassifier\n",
    "from sklearn.metrics import accuracy_score\n",
    "\n",
    "from sklearn.metrics import confusion_matrix"
   ]
  },
  {
   "cell_type": "code",
   "execution_count": 47,
   "metadata": {
    "collapsed": true
   },
   "outputs": [],
   "source": [
    "x_train, x_test, y_train, y_test = train_test_split(result.drop('illness_type', axis=1), result['illness_type'], test_size=0.3, random_state=22)"
   ]
  },
  {
   "cell_type": "code",
   "execution_count": 48,
   "metadata": {},
   "outputs": [
    {
     "data": {
      "text/plain": [
       "((80745, 15), (80745,))"
      ]
     },
     "execution_count": 48,
     "metadata": {},
     "output_type": "execute_result"
    }
   ],
   "source": [
    "x_train.shape, y_train.shape"
   ]
  },
  {
   "cell_type": "code",
   "execution_count": 49,
   "metadata": {},
   "outputs": [
    {
     "data": {
      "text/plain": [
       "((34605, 15), (34605,))"
      ]
     },
     "execution_count": 49,
     "metadata": {},
     "output_type": "execute_result"
    }
   ],
   "source": [
    "x_test.shape, y_test.shape"
   ]
  },
  {
   "cell_type": "code",
   "execution_count": 50,
   "metadata": {},
   "outputs": [
    {
     "data": {
      "text/plain": [
       "9.0     23808\n",
       "10.0    13252\n",
       "23.0     9698\n",
       "21.0     8554\n",
       "8.0      7999\n",
       "20.0     5647\n",
       "18.0     5062\n",
       "22.0     4472\n",
       "5.0      2253\n",
       "Name: state_code, dtype: int64"
      ]
     },
     "execution_count": 50,
     "metadata": {},
     "output_type": "execute_result"
    }
   ],
   "source": [
    "x_train['state_code'].value_counts()"
   ]
  },
  {
   "cell_type": "code",
   "execution_count": 51,
   "metadata": {
    "collapsed": true
   },
   "outputs": [],
   "source": [
    "svc = SVC()\n",
    "l_svc = LinearSVC()\n",
    "knc = KNeighborsClassifier(n_neighbors=49)\n",
    "dtc = DecisionTreeClassifier(min_samples_split=300, random_state=200)\n",
    "lrc = LogisticRegression()\n",
    "rfc = RandomForestClassifier(n_estimators=231, random_state=200)"
   ]
  },
  {
   "cell_type": "code",
   "execution_count": 52,
   "metadata": {
    "collapsed": true
   },
   "outputs": [],
   "source": [
    "clfs = {'SVC' : svc, 'Linear SVC' : l_svc, 'KN' : knc, 'DT': dtc, 'LR': lrc, 'RF': rfc}"
   ]
  },
  {
   "cell_type": "code",
   "execution_count": 53,
   "metadata": {
    "collapsed": true
   },
   "outputs": [],
   "source": [
    "def train_classifier(clf, feature_train, labels_train):    \n",
    "    clf.fit(feature_train, labels_train)\n",
    "    return clf"
   ]
  },
  {
   "cell_type": "code",
   "execution_count": 54,
   "metadata": {
    "collapsed": true
   },
   "outputs": [],
   "source": [
    "def predict_labels(clf, features):\n",
    "    return (clf.predict(features))"
   ]
  },
  {
   "cell_type": "code",
   "execution_count": 55,
   "metadata": {
    "collapsed": true
   },
   "outputs": [],
   "source": [
    "pred_scores = []\n",
    "# for k,v in clfs.items():\n",
    "#     clf = train_classifier(v, x_train, y_train)\n",
    "#     pred = predict_labels(v,x_test)\n",
    "#     pred_scores.append((k, [accuracy_score(y_test,pred)]))\n",
    "#     print(k,\" - \",clf.score(x_test, y_test))\n",
    "#     cm = confusion_matrix(y_test, pred)\n",
    "#     print(cm)\n",
    "#     sn.heatmap(cm, annot=True)\n",
    "#     plt.show()\n",
    "#     print(\"---------------------------------------\\n\\n\")"
   ]
  },
  {
   "cell_type": "code",
   "execution_count": 56,
   "metadata": {
    "collapsed": true
   },
   "outputs": [],
   "source": [
    "from sklearn.ensemble import AdaBoostClassifier\n",
    "from sklearn.ensemble import BaggingClassifier\n",
    "from sklearn.ensemble import ExtraTreesClassifier"
   ]
  },
  {
   "cell_type": "code",
   "execution_count": 57,
   "metadata": {
    "collapsed": true
   },
   "outputs": [],
   "source": [
    "abc = AdaBoostClassifier(n_estimators=231, random_state=200)\n",
    "bc = BaggingClassifier(n_estimators=231, random_state=200)\n",
    "etc = ExtraTreesClassifier(n_estimators=231, random_state=200)"
   ]
  },
  {
   "cell_type": "code",
   "execution_count": 58,
   "metadata": {},
   "outputs": [
    {
     "name": "stdout",
     "output_type": "stream",
     "text": [
      "0.72712035833\n",
      "[[24767     9    64    90     2]\n",
      " [ 2611     3    29    40     0]\n",
      " [ 4004     4   334    41     0]\n",
      " [ 2101     1    18    58     2]\n",
      " [  410     1     3    13     0]]\n"
     ]
    },
    {
     "data": {
      "text/plain": [
       "<matplotlib.axes._subplots.AxesSubplot at 0x7f2512586c88>"
      ]
     },
     "execution_count": 58,
     "metadata": {},
     "output_type": "execute_result"
    },
    {
     "data": {
      "image/png": "[encoded data removed]",
      "text/plain": [
       "<matplotlib.figure.Figure at 0x7f25125865f8>"
      ]
     },
     "metadata": {},
     "output_type": "display_data"
    }
   ],
   "source": [
    "clf = train_classifier(abc, x_train, y_train)\n",
    "pred = predict_labels(abc,x_test)\n",
    "pred_scores.append(('ABC', [accuracy_score(y_test,pred)]))\n",
    "print(clf.score(x_test, y_test))\n",
    "cm = confusion_matrix(y_test, pred)\n",
    "print(cm)\n",
    "sn.heatmap(cm, annot=True)"
   ]
  },
  {
   "cell_type": "code",
   "execution_count": 59,
   "metadata": {},
   "outputs": [
    {
     "name": "stdout",
     "output_type": "stream",
     "text": [
      "0.740471030198\n",
      "[[23409   421   763   326    13]\n",
      " [ 1922   409   235   116     1]\n",
      " [ 2474   236  1558   110     5]\n",
      " [ 1705   103   119   244     9]\n",
      " [  349    16    33    25     4]]\n"
     ]
    },
    {
     "data": {
      "text/plain": [
       "<matplotlib.axes._subplots.AxesSubplot at 0x7f2510405ac8>"
      ]
     },
     "execution_count": 59,
     "metadata": {},
     "output_type": "execute_result"
    },
    {
     "data": {
      "image/png": "[encoded data removed]",
      "text/plain": [
       "<matplotlib.figure.Figure at 0x7f2510405438>"
      ]
     },
     "metadata": {},
     "output_type": "display_data"
    }
   ],
   "source": [
    "clf = train_classifier(bc, x_train, y_train)\n",
    "pred = predict_labels(bc,x_test)\n",
    "pred_scores.append(('BC', [accuracy_score(y_test,pred)]))\n",
    "print(clf.score(x_test, y_test))\n",
    "cm = confusion_matrix(y_test, pred)\n",
    "print(cm)\n",
    "sn.heatmap(cm, annot=True)"
   ]
  },
  {
   "cell_type": "code",
   "execution_count": 60,
   "metadata": {},
   "outputs": [
    {
     "name": "stdout",
     "output_type": "stream",
     "text": [
      "0.734373645427\n",
      "[[23273   440   779   400    40]\n",
      " [ 1972   368   213   118    12]\n",
      " [ 2491   231  1541   111     9]\n",
      " [ 1717   124   103   225    11]\n",
      " [  342    23    33    23     6]]\n"
     ]
    },
    {
     "data": {
      "text/plain": [
       "<matplotlib.axes._subplots.AxesSubplot at 0x7f2516514470>"
      ]
     },
     "execution_count": 60,
     "metadata": {},
     "output_type": "execute_result"
    },
    {
     "data": {
      "image/png": "[encoded data removed]",
      "text/plain": [
       "<matplotlib.figure.Figure at 0x7f25104265c0>"
      ]
     },
     "metadata": {},
     "output_type": "display_data"
    }
   ],
   "source": [
    "clf = train_classifier(etc, x_train, y_train)\n",
    "pred = predict_labels(etc,x_test)\n",
    "pred_scores.append(('ETC', [accuracy_score(y_test,pred)]))\n",
    "print(clf.score(x_test, y_test))\n",
    "cm = confusion_matrix(y_test, pred)\n",
    "print(cm)\n",
    "sn.heatmap(cm, annot=True)"
   ]
  },
  {
   "cell_type": "code",
   "execution_count": 61,
   "metadata": {},
   "outputs": [
    {
     "name": "stdout",
     "output_type": "stream",
     "text": [
      "0.747984395319\n",
      "[[23935   253   527   208     9]\n",
      " [ 2124   319   148    88     4]\n",
      " [ 2684   169  1465    63     2]\n",
      " [ 1876    77    62   162     3]\n",
      " [  385    14    15    10     3]]\n"
     ]
    },
    {
     "data": {
      "image/png": "[encoded data removed]",
      "text/plain": [
       "<matplotlib.figure.Figure at 0x7f2516bddd30>"
      ]
     },
     "metadata": {},
     "output_type": "display_data"
    },
    {
     "name": "stdout",
     "output_type": "stream",
     "text": [
      "---------------------------------------\n",
      "\n",
      "\n"
     ]
    }
   ],
   "source": [
    "clf = train_classifier(rfc, x_train, y_train)\n",
    "pred = predict_labels(rfc,x_test)\n",
    "pred_scores.append(('RFC', [accuracy_score(y_test,pred)]))\n",
    "print(clf.score(x_test, y_test))\n",
    "cm = confusion_matrix(y_test, pred)\n",
    "print(cm)\n",
    "sn.heatmap(cm, annot=True)\n",
    "plt.show()\n",
    "print(\"---------------------------------------\\n\\n\")"
   ]
  },
  {
   "cell_type": "code",
   "execution_count": 62,
   "metadata": {},
   "outputs": [
    {
     "name": "stdout",
     "output_type": "stream",
     "text": [
      "0.720040456581\n",
      "[[24914     0    12     6     0]\n",
      " [ 2681     0     2     0     0]\n",
      " [ 4376     0     2     5     0]\n",
      " [ 2176     0     3     1     0]\n",
      " [  426     0     1     0     0]]\n"
     ]
    },
    {
     "data": {
      "text/plain": [
       "<matplotlib.axes._subplots.AxesSubplot at 0x7f2516ac3c88>"
      ]
     },
     "execution_count": 62,
     "metadata": {},
     "output_type": "execute_result"
    },
    {
     "data": {
      "image/png": "[encoded data removed]",
      "text/plain": [
       "<matplotlib.figure.Figure at 0x7f2516afe390>"
      ]
     },
     "metadata": {},
     "output_type": "display_data"
    }
   ],
   "source": [
    "clf = train_classifier(lrc, x_train, y_train)\n",
    "pred = predict_labels(lrc,x_test)\n",
    "pred_scores.append(('LRC', [accuracy_score(y_test,pred)]))\n",
    "print(clf.score(x_test, y_test))\n",
    "cm = confusion_matrix(y_test, pred)\n",
    "print(cm)\n",
    "sn.heatmap(cm, annot=True)"
   ]
  },
  {
   "cell_type": "code",
   "execution_count": 63,
   "metadata": {},
   "outputs": [
    {
     "name": "stdout",
     "output_type": "stream",
     "text": [
      "0.746134951597\n",
      "[[24189   278   376    84     5]\n",
      " [ 2359   227    77    20     0]\n",
      " [ 2905   142  1322    13     1]\n",
      " [ 1992    68    38    82     0]\n",
      " [  396    22     7     2     0]]\n"
     ]
    },
    {
     "data": {
      "text/plain": [
       "<matplotlib.axes._subplots.AxesSubplot at 0x7f2516950ef0>"
      ]
     },
     "execution_count": 63,
     "metadata": {},
     "output_type": "execute_result"
    },
    {
     "data": {
      "image/png": "[encoded data removed]",
      "text/plain": [
       "<matplotlib.figure.Figure at 0x7f2516950748>"
      ]
     },
     "metadata": {},
     "output_type": "display_data"
    }
   ],
   "source": [
    "clf = train_classifier(dtc, x_train, y_train)\n",
    "pred = predict_labels(dtc,x_test)\n",
    "pred_scores.append(('DTC', [accuracy_score(y_test,pred)]))\n",
    "print(clf.score(x_test, y_test))\n",
    "cm = confusion_matrix(y_test, pred)\n",
    "print(cm)\n",
    "sn.heatmap(cm, annot=True)"
   ]
  },
  {
   "cell_type": "code",
   "execution_count": 64,
   "metadata": {},
   "outputs": [
    {
     "name": "stdout",
     "output_type": "stream",
     "text": [
      "0.741251264268\n",
      "[[24299   107   483    43     0]\n",
      " [ 2452   133    77    21     0]\n",
      " [ 3134    74  1164    11     0]\n",
      " [ 2068    23    34    55     0]\n",
      " [  407     9     9     2     0]]\n"
     ]
    },
    {
     "data": {
      "text/plain": [
       "<matplotlib.axes._subplots.AxesSubplot at 0x7f251683aa58>"
      ]
     },
     "execution_count": 64,
     "metadata": {},
     "output_type": "execute_result"
    },
    {
     "data": {
      "image/png": "[encoded data removed]",
      "text/plain": [
       "<matplotlib.figure.Figure at 0x7f2516ad1f60>"
      ]
     },
     "metadata": {},
     "output_type": "display_data"
    }
   ],
   "source": [
    "clf = train_classifier(knc, x_train, y_train)\n",
    "pred = predict_labels(knc,x_test)\n",
    "pred_scores.append(('KNC', [accuracy_score(y_test,pred)]))\n",
    "print(clf.score(x_test, y_test))\n",
    "cm = confusion_matrix(y_test, pred)\n",
    "print(cm)\n",
    "sn.heatmap(cm, annot=True)"
   ]
  },
  {
   "cell_type": "code",
   "execution_count": 65,
   "metadata": {},
   "outputs": [
    {
     "name": "stdout",
     "output_type": "stream",
     "text": [
      "0.126773587632\n",
      "[[    3     6 24922     1     0]\n",
      " [    0     1  2682     0     0]\n",
      " [    0     0  4383     0     0]\n",
      " [    1     2  2177     0     0]\n",
      " [    0     0   427     0     0]]\n"
     ]
    },
    {
     "data": {
      "text/plain": [
       "<matplotlib.axes._subplots.AxesSubplot at 0x7f25167e14a8>"
      ]
     },
     "execution_count": 65,
     "metadata": {},
     "output_type": "execute_result"
    },
    {
     "data": {
      "image/png": "[encoded data removed]",
      "text/plain": [
       "<matplotlib.figure.Figure at 0x7f2516723518>"
      ]
     },
     "metadata": {},
     "output_type": "display_data"
    }
   ],
   "source": [
    "clf = train_classifier(l_svc, x_train, y_train)\n",
    "pred = predict_labels(l_svc,x_test)\n",
    "pred_scores.append(('L. SVC', [accuracy_score(y_test,pred)]))\n",
    "print(clf.score(x_test, y_test))\n",
    "cm = confusion_matrix(y_test, pred)\n",
    "print(cm)\n",
    "sn.heatmap(cm, annot=True)"
   ]
  },
  {
   "cell_type": "code",
   "execution_count": 66,
   "metadata": {},
   "outputs": [
    {
     "name": "stdout",
     "output_type": "stream",
     "text": [
      "0.720040456581\n",
      "[[24914     0    12     6     0]\n",
      " [ 2681     0     2     0     0]\n",
      " [ 4376     0     2     5     0]\n",
      " [ 2176     0     3     1     0]\n",
      " [  426     0     1     0     0]]\n"
     ]
    },
    {
     "data": {
      "text/plain": [
       "<matplotlib.axes._subplots.AxesSubplot at 0x7f2516b08780>"
      ]
     },
     "execution_count": 66,
     "metadata": {},
     "output_type": "execute_result"
    },
    {
     "data": {
      "image/png": "[encoded data removed]",
      "text/plain": [
       "<matplotlib.figure.Figure at 0x7f2516b3b550>"
      ]
     },
     "metadata": {},
     "output_type": "display_data"
    }
   ],
   "source": [
    "clf = train_classifier(lrc, x_train, y_train)\n",
    "pred = predict_labels(lrc,x_test)\n",
    "pred_scores.append(('LRC', [accuracy_score(y_test,pred)]))\n",
    "print(clf.score(x_test, y_test))\n",
    "cm = confusion_matrix(y_test, pred)\n",
    "print(cm)\n",
    "sn.heatmap(cm, annot=True)"
   ]
  },
  {
   "cell_type": "code",
   "execution_count": 24,
   "metadata": {
    "scrolled": true
   },
   "outputs": [
    {
     "ename": "NameError",
     "evalue": "name 'pred_scores' is not defined",
     "output_type": "error",
     "traceback": [
      "\u001b[0;31m---------------------------------------------------------------------------\u001b[0m",
      "\u001b[0;31mNameError\u001b[0m                                 Traceback (most recent call last)",
      "\u001b[0;32m<ipython-input-24-ef68cd12f9ce>\u001b[0m in \u001b[0;36m<module>\u001b[0;34m()\u001b[0m\n\u001b[0;32m----> 1\u001b[0;31m \u001b[0mscores\u001b[0m \u001b[0;34m=\u001b[0m \u001b[0mpd\u001b[0m\u001b[0;34m.\u001b[0m\u001b[0mDataFrame\u001b[0m\u001b[0;34m.\u001b[0m\u001b[0mfrom_items\u001b[0m\u001b[0;34m(\u001b[0m\u001b[0mpred_scores\u001b[0m\u001b[0;34m,\u001b[0m\u001b[0morient\u001b[0m\u001b[0;34m=\u001b[0m\u001b[0;34m'index'\u001b[0m\u001b[0;34m,\u001b[0m \u001b[0mcolumns\u001b[0m\u001b[0;34m=\u001b[0m\u001b[0;34m[\u001b[0m\u001b[0;34m'Score'\u001b[0m\u001b[0;34m]\u001b[0m\u001b[0;34m)\u001b[0m\u001b[0;34m\u001b[0m\u001b[0m\n\u001b[0m\u001b[1;32m      2\u001b[0m \u001b[0mscores\u001b[0m\u001b[0;34m\u001b[0m\u001b[0m\n",
      "\u001b[0;31mNameError\u001b[0m: name 'pred_scores' is not defined"
     ]
    }
   ],
   "source": [
    "scores = pd.DataFrame.from_items(pred_scores,orient='index', columns=['Score'])\n",
    "scores"
   ]
  },
  {
   "cell_type": "code",
   "execution_count": 35,
   "metadata": {},
   "outputs": [
    {
     "data": {
      "text/plain": [
       "48.0    1305\n",
       "60.0     746\n",
       "36.0     398\n",
       "24.0     138\n",
       "12.0     105\n",
       "11.0       9\n",
       "1.0        8\n",
       "9.0        8\n",
       "10.0       5\n",
       "5.0        4\n",
       "4.0        4\n",
       "7.0        3\n",
       "8.0        2\n",
       "2.0        1\n",
       "6.0        1\n",
       "Name: age, dtype: int64"
      ]
     },
     "execution_count": 35,
     "metadata": {},
     "output_type": "execute_result"
    }
   ],
   "source": [
    "result['age'][result['weight_in_kg'] > 17].value_counts()"
   ]
  },
  {
   "cell_type": "code",
   "execution_count": 36,
   "metadata": {},
   "outputs": [
    {
     "data": {
      "text/plain": [
       "60.0    746\n",
       "Name: age, dtype: int64"
      ]
     },
     "execution_count": 36,
     "metadata": {},
     "output_type": "execute_result"
    }
   ],
   "source": [
    "result['age'][(result['weight_in_kg'] > 17) & (result['age'] > 48) & (result['age'] <= 60)].value_counts()"
   ]
  },
  {
   "cell_type": "code",
   "execution_count": 37,
   "metadata": {},
   "outputs": [
    {
     "data": {
      "text/plain": [
       "count    4520.000000\n",
       "mean       14.136559\n",
       "std         2.012021\n",
       "min         4.800000\n",
       "25%        13.200000\n",
       "50%        14.500000\n",
       "75%        15.300000\n",
       "max        17.900000\n",
       "Name: weight_in_kg, dtype: float64"
      ]
     },
     "execution_count": 37,
     "metadata": {},
     "output_type": "execute_result"
    }
   ],
   "source": [
    "result['weight_in_kg'][(result['weight_in_kg'] < 18) & (result['age'] == 60)].describe()"
   ]
  },
  {
   "cell_type": "code",
   "execution_count": 38,
   "metadata": {
    "collapsed": true
   },
   "outputs": [],
   "source": [
    "result['weight_in_kg'][(result['weight_in_kg'] > 18) & (result['age'] == 60)] = 14.36"
   ]
  },
  {
   "cell_type": "code",
   "execution_count": 39,
   "metadata": {},
   "outputs": [
    {
     "data": {
      "text/plain": [
       "32       14.253333\n",
       "33       14.253333\n",
       "273      11.400000\n",
       "288      11.800000\n",
       "309      12.200000\n",
       "314      12.300000\n",
       "334      12.800000\n",
       "335      12.800000\n",
       "340      12.900000\n",
       "346      13.100000\n",
       "359      13.300000\n",
       "362      13.400000\n",
       "380      14.200000\n",
       "386      14.500000\n",
       "389      14.800000\n",
       "408      16.600000\n",
       "409      16.700001\n",
       "411      16.900000\n",
       "1206     14.253333\n",
       "1215     13.100000\n",
       "1406      9.600000\n",
       "1607     10.400000\n",
       "1620     14.360000\n",
       "1628     12.000000\n",
       "1632     14.360000\n",
       "1649     14.360000\n",
       "1651     13.400000\n",
       "1656     15.300000\n",
       "1678     14.360000\n",
       "1709     14.800000\n",
       "           ...    \n",
       "34274    14.500000\n",
       "34282    14.500000\n",
       "34291    14.400000\n",
       "34292    14.500000\n",
       "34301    14.200000\n",
       "34326     9.000000\n",
       "34359    14.500000\n",
       "34398     9.000000\n",
       "34443    14.360000\n",
       "34502    14.500000\n",
       "34517    14.360000\n",
       "34552     9.000000\n",
       "34618    10.900000\n",
       "34619    14.600000\n",
       "34626    15.000000\n",
       "34630    13.200000\n",
       "34634    12.200000\n",
       "34637    10.500000\n",
       "34645    14.587850\n",
       "34653    14.587850\n",
       "34654    15.700000\n",
       "34655     9.000000\n",
       "34715    15.500000\n",
       "34768    14.360000\n",
       "34781    14.500000\n",
       "34794    10.800000\n",
       "34851     9.000000\n",
       "34858     9.000000\n",
       "34865    18.000000\n",
       "34866     9.000000\n",
       "Name: weight_in_kg, Length: 5078, dtype: float64"
      ]
     },
     "execution_count": 39,
     "metadata": {},
     "output_type": "execute_result"
    }
   ],
   "source": [
    "result['weight_in_kg'][(result['age'] == 60)]"
   ]
  },
  {
   "cell_type": "code",
   "execution_count": 40,
   "metadata": {},
   "outputs": [
    {
     "name": "stderr",
     "output_type": "stream",
     "text": [
      "/home/nvs/anaconda3/lib/python3.6/site-packages/ipykernel_launcher.py:1: SettingWithCopyWarning: \n",
      "A value is trying to be set on a copy of a slice from a DataFrame\n",
      "\n",
      "See the caveats in the documentation: http://pandas.pydata.org/pandas-docs/stable/indexing.html#indexing-view-versus-copy\n",
      "  \"\"\"Entry point for launching an IPython kernel.\n"
     ]
    }
   ],
   "source": [
    "result['weight_in_kg'][(result['weight_in_kg'] > 16) & (result['age'] == 48)] = result['weight_in_kg'][(result['weight_in_kg'] <= 16) & (result['age'] == 48)].mean()"
   ]
  },
  {
   "cell_type": "code",
   "execution_count": 41,
   "metadata": {},
   "outputs": [
    {
     "data": {
      "text/plain": [
       "36.0     26535\n",
       "24.0     24452\n",
       "48.0     23462\n",
       "12.0     17394\n",
       "60.0      5078\n",
       "4.0       1971\n",
       "5.0       1908\n",
       "6.0       1885\n",
       "8.0       1837\n",
       "7.0       1791\n",
       "3.0       1681\n",
       "9.0       1656\n",
       "2.0       1525\n",
       "1.0       1450\n",
       "10.0      1389\n",
       "11.0      1312\n",
       "0.0         23\n",
       "324.0        1\n",
       "Name: age, dtype: int64"
      ]
     },
     "execution_count": 41,
     "metadata": {},
     "output_type": "execute_result"
    }
   ],
   "source": [
    "result['age'].value_counts()"
   ]
  },
  {
   "cell_type": "code",
   "execution_count": 42,
   "metadata": {},
   "outputs": [
    {
     "data": {
      "text/plain": [
       "<matplotlib.collections.PathCollection at 0x7f5b71043748>"
      ]
     },
     "execution_count": 42,
     "metadata": {},
     "output_type": "execute_result"
    },
    {
     "data": {
      "image/png": "[encoded data removed]",
      "text/plain": [
       "<matplotlib.figure.Figure at 0x7f5b760290b8>"
      ]
     },
     "metadata": {},
     "output_type": "display_data"
    }
   ],
   "source": [
    "plt.scatter(result['age'], result['weight_in_kg'])"
   ]
  },
  {
   "cell_type": "code",
   "execution_count": 43,
   "metadata": {},
   "outputs": [
    {
     "data": {
      "text/plain": [
       "3748    324.0\n",
       "Name: age, dtype: float64"
      ]
     },
     "execution_count": 43,
     "metadata": {},
     "output_type": "execute_result"
    }
   ],
   "source": [
    "result['age'][result['age'] > 60]"
   ]
  },
  {
   "cell_type": "code",
   "execution_count": 44,
   "metadata": {
    "collapsed": true
   },
   "outputs": [],
   "source": [
    "result = result[:][result['age'] <= 60]"
   ]
  },
  {
   "cell_type": "code",
   "execution_count": 45,
   "metadata": {},
   "outputs": [
    {
     "data": {
      "text/plain": [
       "Series([], Name: age, dtype: float64)"
      ]
     },
     "execution_count": 45,
     "metadata": {},
     "output_type": "execute_result"
    }
   ],
   "source": [
    "result['age'][result['age'] > 60]"
   ]
  },
  {
   "cell_type": "code",
   "execution_count": 46,
   "metadata": {
    "collapsed": true
   },
   "outputs": [],
   "source": [
    "result['weight_in_kg'][(result['age'] == 36) & (result['weight_in_kg'] > 14)] = result['weight_in_kg'][(result['age'] == 36) & (result['weight_in_kg'] <= 14)].median()"
   ]
  },
  {
   "cell_type": "code",
   "execution_count": 47,
   "metadata": {},
   "outputs": [
    {
     "name": "stderr",
     "output_type": "stream",
     "text": [
      "/home/nvs/anaconda3/lib/python3.6/site-packages/ipykernel_launcher.py:1: SettingWithCopyWarning: \n",
      "A value is trying to be set on a copy of a slice from a DataFrame\n",
      "\n",
      "See the caveats in the documentation: http://pandas.pydata.org/pandas-docs/stable/indexing.html#indexing-view-versus-copy\n",
      "  \"\"\"Entry point for launching an IPython kernel.\n"
     ]
    }
   ],
   "source": [
    "result['weight_in_kg'][(result['age'] == 24) & (result['weight_in_kg'] > 13)] = 10.2"
   ]
  },
  {
   "cell_type": "code",
   "execution_count": 48,
   "metadata": {},
   "outputs": [
    {
     "data": {
      "text/plain": [
       "36.0    26535\n",
       "24.0    24452\n",
       "48.0    23462\n",
       "12.0    17394\n",
       "60.0     5078\n",
       "4.0      1971\n",
       "5.0      1908\n",
       "6.0      1885\n",
       "8.0      1837\n",
       "7.0      1791\n",
       "3.0      1681\n",
       "9.0      1656\n",
       "2.0      1525\n",
       "1.0      1450\n",
       "10.0     1389\n",
       "11.0     1312\n",
       "0.0        23\n",
       "Name: age, dtype: int64"
      ]
     },
     "execution_count": 48,
     "metadata": {},
     "output_type": "execute_result"
    }
   ],
   "source": [
    "result['age'].value_counts()"
   ]
  },
  {
   "cell_type": "code",
   "execution_count": 49,
   "metadata": {},
   "outputs": [
    {
     "name": "stderr",
     "output_type": "stream",
     "text": [
      "/home/nvs/anaconda3/lib/python3.6/site-packages/ipykernel_launcher.py:4: SettingWithCopyWarning: \n",
      "A value is trying to be set on a copy of a slice from a DataFrame\n",
      "\n",
      "See the caveats in the documentation: http://pandas.pydata.org/pandas-docs/stable/indexing.html#indexing-view-versus-copy\n",
      "  after removing the cwd from sys.path.\n"
     ]
    },
    {
     "name": "stdout",
     "output_type": "stream",
     "text": [
      "10\n",
      "11\n",
      "12\n"
     ]
    }
   ],
   "source": [
    "k = 9.5\n",
    "for i in range(10, 13):\n",
    "    print(i)\n",
    "    result['weight_in_kg'][(result['age'] == i) & (result['weight_in_kg'] > k)] = result['weight_in_kg'][(result['age'] == i) & (result['weight_in_kg'] <= k)].median()\n",
    "    k += 0.2"
   ]
  },
  {
   "cell_type": "code",
   "execution_count": 50,
   "metadata": {},
   "outputs": [
    {
     "name": "stdout",
     "output_type": "stream",
     "text": [
      "10\n",
      "9.5\n",
      "11\n",
      "9.6999998\n",
      "12\n",
      "9.8999996\n"
     ]
    }
   ],
   "source": [
    "for i in range(10, 13):\n",
    "    print(i)\n",
    "    print(result['weight_in_kg'][(result['age'] == i)].max())"
   ]
  },
  {
   "cell_type": "code",
   "execution_count": 51,
   "metadata": {},
   "outputs": [
    {
     "name": "stdout",
     "output_type": "stream",
     "text": [
      "7\n",
      "8\n",
      "9\n"
     ]
    },
    {
     "name": "stderr",
     "output_type": "stream",
     "text": [
      "/home/nvs/anaconda3/lib/python3.6/site-packages/ipykernel_launcher.py:4: SettingWithCopyWarning: \n",
      "A value is trying to be set on a copy of a slice from a DataFrame\n",
      "\n",
      "See the caveats in the documentation: http://pandas.pydata.org/pandas-docs/stable/indexing.html#indexing-view-versus-copy\n",
      "  after removing the cwd from sys.path.\n"
     ]
    }
   ],
   "source": [
    "k = 9\n",
    "for i in range(7, 10):\n",
    "    print(i)\n",
    "    result['weight_in_kg'][(result['age'] == i) & (result['weight_in_kg'] > k)] = result['weight_in_kg'][(result['age'] == i) & (result['weight_in_kg'] <= k)].median()\n",
    "    k += 0.3"
   ]
  },
  {
   "cell_type": "code",
   "execution_count": 52,
   "metadata": {},
   "outputs": [
    {
     "name": "stdout",
     "output_type": "stream",
     "text": [
      "7\n",
      "9.0\n",
      "8\n",
      "9.1999998\n",
      "9\n",
      "9.5\n"
     ]
    }
   ],
   "source": [
    "for i in range(7, 10):\n",
    "    print(i)\n",
    "    print(result['weight_in_kg'][(result['age'] == i)].max())"
   ]
  },
  {
   "cell_type": "code",
   "execution_count": 53,
   "metadata": {},
   "outputs": [
    {
     "name": "stderr",
     "output_type": "stream",
     "text": [
      "/home/nvs/anaconda3/lib/python3.6/site-packages/ipykernel_launcher.py:1: SettingWithCopyWarning: \n",
      "A value is trying to be set on a copy of a slice from a DataFrame\n",
      "\n",
      "See the caveats in the documentation: http://pandas.pydata.org/pandas-docs/stable/indexing.html#indexing-view-versus-copy\n",
      "  \"\"\"Entry point for launching an IPython kernel.\n",
      "/home/nvs/anaconda3/lib/python3.6/site-packages/ipykernel_launcher.py:2: SettingWithCopyWarning: \n",
      "A value is trying to be set on a copy of a slice from a DataFrame\n",
      "\n",
      "See the caveats in the documentation: http://pandas.pydata.org/pandas-docs/stable/indexing.html#indexing-view-versus-copy\n",
      "  \n",
      "/home/nvs/anaconda3/lib/python3.6/site-packages/ipykernel_launcher.py:3: SettingWithCopyWarning: \n",
      "A value is trying to be set on a copy of a slice from a DataFrame\n",
      "\n",
      "See the caveats in the documentation: http://pandas.pydata.org/pandas-docs/stable/indexing.html#indexing-view-versus-copy\n",
      "  This is separate from the ipykernel package so we can avoid doing imports until\n",
      "/home/nvs/anaconda3/lib/python3.6/site-packages/ipykernel_launcher.py:4: SettingWithCopyWarning: \n",
      "A value is trying to be set on a copy of a slice from a DataFrame\n",
      "\n",
      "See the caveats in the documentation: http://pandas.pydata.org/pandas-docs/stable/indexing.html#indexing-view-versus-copy\n",
      "  after removing the cwd from sys.path.\n",
      "/home/nvs/anaconda3/lib/python3.6/site-packages/ipykernel_launcher.py:5: SettingWithCopyWarning: \n",
      "A value is trying to be set on a copy of a slice from a DataFrame\n",
      "\n",
      "See the caveats in the documentation: http://pandas.pydata.org/pandas-docs/stable/indexing.html#indexing-view-versus-copy\n",
      "  \"\"\"\n",
      "/home/nvs/anaconda3/lib/python3.6/site-packages/ipykernel_launcher.py:6: SettingWithCopyWarning: \n",
      "A value is trying to be set on a copy of a slice from a DataFrame\n",
      "\n",
      "See the caveats in the documentation: http://pandas.pydata.org/pandas-docs/stable/indexing.html#indexing-view-versus-copy\n",
      "  \n",
      "/home/nvs/anaconda3/lib/python3.6/site-packages/ipykernel_launcher.py:7: SettingWithCopyWarning: \n",
      "A value is trying to be set on a copy of a slice from a DataFrame\n",
      "\n",
      "See the caveats in the documentation: http://pandas.pydata.org/pandas-docs/stable/indexing.html#indexing-view-versus-copy\n",
      "  import sys\n"
     ]
    }
   ],
   "source": [
    "result['weight_in_kg'][(result['age'] == 6) & (result['weight_in_kg'] > 8.8)] = result['weight_in_kg'][(result['age'] == 6) & (result['weight_in_kg'] <= 8.8)].median()\n",
    "result['weight_in_kg'][(result['age'] == 5) & (result['weight_in_kg'] > 8.4)] = result['weight_in_kg'][(result['age'] == 5) & (result['weight_in_kg'] <= 8.4)].median()\n",
    "result['weight_in_kg'][(result['age'] == 4) & (result['weight_in_kg'] > 7.9)] = result['weight_in_kg'][(result['age'] == 4) & (result['weight_in_kg'] <= 7.9)].median()\n",
    "result['weight_in_kg'][(result['age'] == 3) & (result['weight_in_kg'] > 6.9)] = result['weight_in_kg'][(result['age'] == 3) & (result['weight_in_kg'] <= 6.9)].median()\n",
    "result['weight_in_kg'][(result['age'] == 2) & (result['weight_in_kg'] > 6.1)] = result['weight_in_kg'][(result['age'] == 2) & (result['weight_in_kg'] <= 6.1)].median()\n",
    "result['weight_in_kg'][(result['age'] == 1) & (result['weight_in_kg'] > 3.8)] = result['weight_in_kg'][(result['age'] == 1) & (result['weight_in_kg'] <= 3.8)].median()\n",
    "result['weight_in_kg'][(result['age'] == 0) & (result['weight_in_kg'] > 3.5)] = result['weight_in_kg'][(result['age'] == 0) & (result['weight_in_kg'] <= 3.5)].median()"
   ]
  },
  {
   "cell_type": "code",
   "execution_count": 54,
   "metadata": {},
   "outputs": [
    {
     "name": "stdout",
     "output_type": "stream",
     "text": [
      "0\n",
      "2.7\n",
      "1\n",
      "3.8\n",
      "2\n",
      "6.0999999\n",
      "3\n",
      "6.8000002\n",
      "4\n",
      "7.8000002\n",
      "5\n",
      "8.3999996\n",
      "6\n",
      "8.6999998\n",
      "7\n",
      "9.0\n",
      "8\n",
      "9.1999998\n",
      "9\n",
      "9.5\n",
      "10\n",
      "9.5\n",
      "11\n",
      "9.6999998\n",
      "12\n",
      "9.8999996\n",
      "13\n",
      "nan\n",
      "14\n",
      "nan\n",
      "15\n",
      "nan\n",
      "16\n",
      "nan\n",
      "17\n",
      "nan\n",
      "18\n",
      "nan\n",
      "19\n",
      "nan\n",
      "20\n",
      "nan\n",
      "21\n",
      "nan\n",
      "22\n",
      "nan\n",
      "23\n",
      "nan\n",
      "24\n",
      "13.0\n",
      "25\n",
      "nan\n",
      "26\n",
      "nan\n",
      "27\n",
      "nan\n",
      "28\n",
      "nan\n",
      "29\n",
      "nan\n",
      "30\n",
      "nan\n",
      "31\n",
      "nan\n",
      "32\n",
      "nan\n",
      "33\n",
      "nan\n",
      "34\n",
      "nan\n",
      "35\n",
      "nan\n",
      "36\n",
      "14.0\n",
      "37\n",
      "nan\n",
      "38\n",
      "nan\n",
      "39\n",
      "nan\n",
      "40\n",
      "nan\n",
      "41\n",
      "nan\n",
      "42\n",
      "nan\n",
      "43\n",
      "nan\n",
      "44\n",
      "nan\n",
      "45\n",
      "nan\n",
      "46\n",
      "nan\n",
      "47\n",
      "nan\n",
      "48\n",
      "16.0\n",
      "49\n",
      "nan\n",
      "50\n",
      "nan\n",
      "51\n",
      "nan\n",
      "52\n",
      "nan\n",
      "53\n",
      "nan\n",
      "54\n",
      "nan\n",
      "55\n",
      "nan\n",
      "56\n",
      "nan\n",
      "57\n",
      "nan\n",
      "58\n",
      "nan\n",
      "59\n",
      "nan\n",
      "60\n",
      "18.0\n"
     ]
    }
   ],
   "source": [
    "for i in range(61):\n",
    "    print(i)\n",
    "    print(result['weight_in_kg'][(result['age'] == i)].max())"
   ]
  },
  {
   "cell_type": "code",
   "execution_count": 55,
   "metadata": {},
   "outputs": [
    {
     "name": "stderr",
     "output_type": "stream",
     "text": [
      "/home/nvs/anaconda3/lib/python3.6/site-packages/ipykernel_launcher.py:2: SettingWithCopyWarning: \n",
      "A value is trying to be set on a copy of a slice from a DataFrame\n",
      "\n",
      "See the caveats in the documentation: http://pandas.pydata.org/pandas-docs/stable/indexing.html#indexing-view-versus-copy\n",
      "  \n",
      "/home/nvs/anaconda3/lib/python3.6/site-packages/ipykernel_launcher.py:3: SettingWithCopyWarning: \n",
      "A value is trying to be set on a copy of a slice from a DataFrame\n",
      "\n",
      "See the caveats in the documentation: http://pandas.pydata.org/pandas-docs/stable/indexing.html#indexing-view-versus-copy\n",
      "  This is separate from the ipykernel package so we can avoid doing imports until\n",
      "/home/nvs/anaconda3/lib/python3.6/site-packages/ipykernel_launcher.py:4: SettingWithCopyWarning: \n",
      "A value is trying to be set on a copy of a slice from a DataFrame\n",
      "\n",
      "See the caveats in the documentation: http://pandas.pydata.org/pandas-docs/stable/indexing.html#indexing-view-versus-copy\n",
      "  after removing the cwd from sys.path.\n",
      "/home/nvs/anaconda3/lib/python3.6/site-packages/ipykernel_launcher.py:5: SettingWithCopyWarning: \n",
      "A value is trying to be set on a copy of a slice from a DataFrame\n",
      "\n",
      "See the caveats in the documentation: http://pandas.pydata.org/pandas-docs/stable/indexing.html#indexing-view-versus-copy\n",
      "  \"\"\"\n",
      "/home/nvs/anaconda3/lib/python3.6/site-packages/ipykernel_launcher.py:6: SettingWithCopyWarning: \n",
      "A value is trying to be set on a copy of a slice from a DataFrame\n",
      "\n",
      "See the caveats in the documentation: http://pandas.pydata.org/pandas-docs/stable/indexing.html#indexing-view-versus-copy\n",
      "  \n",
      "/home/nvs/anaconda3/lib/python3.6/site-packages/ipykernel_launcher.py:7: SettingWithCopyWarning: \n",
      "A value is trying to be set on a copy of a slice from a DataFrame\n",
      "\n",
      "See the caveats in the documentation: http://pandas.pydata.org/pandas-docs/stable/indexing.html#indexing-view-versus-copy\n",
      "  import sys\n",
      "/home/nvs/anaconda3/lib/python3.6/site-packages/ipykernel_launcher.py:8: SettingWithCopyWarning: \n",
      "A value is trying to be set on a copy of a slice from a DataFrame\n",
      "\n",
      "See the caveats in the documentation: http://pandas.pydata.org/pandas-docs/stable/indexing.html#indexing-view-versus-copy\n",
      "  \n",
      "/home/nvs/anaconda3/lib/python3.6/site-packages/ipykernel_launcher.py:9: SettingWithCopyWarning: \n",
      "A value is trying to be set on a copy of a slice from a DataFrame\n",
      "\n",
      "See the caveats in the documentation: http://pandas.pydata.org/pandas-docs/stable/indexing.html#indexing-view-versus-copy\n",
      "  if __name__ == '__main__':\n",
      "/home/nvs/anaconda3/lib/python3.6/site-packages/ipykernel_launcher.py:10: SettingWithCopyWarning: \n",
      "A value is trying to be set on a copy of a slice from a DataFrame\n",
      "\n",
      "See the caveats in the documentation: http://pandas.pydata.org/pandas-docs/stable/indexing.html#indexing-view-versus-copy\n",
      "  # Remove the CWD from sys.path while we load stuff.\n",
      "/home/nvs/anaconda3/lib/python3.6/site-packages/ipykernel_launcher.py:11: SettingWithCopyWarning: \n",
      "A value is trying to be set on a copy of a slice from a DataFrame\n",
      "\n",
      "See the caveats in the documentation: http://pandas.pydata.org/pandas-docs/stable/indexing.html#indexing-view-versus-copy\n",
      "  # This is added back by InteractiveShellApp.init_path()\n",
      "/home/nvs/anaconda3/lib/python3.6/site-packages/ipykernel_launcher.py:12: SettingWithCopyWarning: \n",
      "A value is trying to be set on a copy of a slice from a DataFrame\n",
      "\n",
      "See the caveats in the documentation: http://pandas.pydata.org/pandas-docs/stable/indexing.html#indexing-view-versus-copy\n",
      "  if sys.path[0] == '':\n",
      "/home/nvs/anaconda3/lib/python3.6/site-packages/ipykernel_launcher.py:13: SettingWithCopyWarning: \n",
      "A value is trying to be set on a copy of a slice from a DataFrame\n",
      "\n",
      "See the caveats in the documentation: http://pandas.pydata.org/pandas-docs/stable/indexing.html#indexing-view-versus-copy\n",
      "  del sys.path[0]\n",
      "/home/nvs/anaconda3/lib/python3.6/site-packages/ipykernel_launcher.py:14: SettingWithCopyWarning: \n",
      "A value is trying to be set on a copy of a slice from a DataFrame\n",
      "\n",
      "See the caveats in the documentation: http://pandas.pydata.org/pandas-docs/stable/indexing.html#indexing-view-versus-copy\n",
      "  \n",
      "/home/nvs/anaconda3/lib/python3.6/site-packages/ipykernel_launcher.py:15: SettingWithCopyWarning: \n",
      "A value is trying to be set on a copy of a slice from a DataFrame\n",
      "\n",
      "See the caveats in the documentation: http://pandas.pydata.org/pandas-docs/stable/indexing.html#indexing-view-versus-copy\n",
      "  from ipykernel import kernelapp as app\n",
      "/home/nvs/anaconda3/lib/python3.6/site-packages/ipykernel_launcher.py:16: SettingWithCopyWarning: \n",
      "A value is trying to be set on a copy of a slice from a DataFrame\n",
      "\n",
      "See the caveats in the documentation: http://pandas.pydata.org/pandas-docs/stable/indexing.html#indexing-view-versus-copy\n",
      "  app.launch_new_instance()\n",
      "/home/nvs/anaconda3/lib/python3.6/site-packages/ipykernel_launcher.py:17: SettingWithCopyWarning: \n",
      "A value is trying to be set on a copy of a slice from a DataFrame\n",
      "\n",
      "See the caveats in the documentation: http://pandas.pydata.org/pandas-docs/stable/indexing.html#indexing-view-versus-copy\n"
     ]
    }
   ],
   "source": [
    "result['length_height_cm'][(result['length_height_cm'] > 125) & (result['age'] == 60)] = 100.92\n",
    "result['length_height_cm'][(result['length_height_cm'] > 120) & (result['age'] == 48)] = result['length_height_cm'][(result['length_height_cm'] <= 120) & (result['age'] == 48)].median()\n",
    "result['length_height_cm'][(result['length_height_cm'] > 114) & (result['age'] == 36)] = result['length_height_cm'][(result['length_height_cm'] <= 114) & (result['age'] == 36)].median()\n",
    "result['length_height_cm'][(result['length_height_cm'] > 108) & (result['age'] == 24)] = result['length_height_cm'][(result['length_height_cm'] <= 108) & (result['age'] == 24)].median()\n",
    "result['length_height_cm'][(result['length_height_cm'] > 101) & (result['age'] == 12)] = result['length_height_cm'][(result['length_height_cm'] <= 101) & (result['age'] == 12)].median()\n",
    "result['length_height_cm'][(result['length_height_cm'] > 97) & (result['age'] == 11)] = result['length_height_cm'][(result['length_height_cm'] <= 97) & (result['age'] == 11)].median()\n",
    "result['length_height_cm'][(result['length_height_cm'] > 94) & (result['age'] == 10)] = result['length_height_cm'][(result['length_height_cm'] <= 94) & (result['age'] == 10)].median()\n",
    "result['length_height_cm'][(result['length_height_cm'] > 90) & (result['age'] == 9)] = result['length_height_cm'][(result['length_height_cm'] <= 90) & (result['age'] == 9)].median()\n",
    "result['length_height_cm'][(result['length_height_cm'] > 87) & (result['age'] == 8)] = result['length_height_cm'][(result['length_height_cm'] <= 87) & (result['age'] == 8)].median()\n",
    "result['length_height_cm'][(result['length_height_cm'] > 84) & (result['age'] == 7)] = result['length_height_cm'][(result['length_height_cm'] <= 84) & (result['age'] == 7)].median()\n",
    "result['length_height_cm'][(result['length_height_cm'] > 81) & (result['age'] == 6)] = result['length_height_cm'][(result['length_height_cm'] <= 81) & (result['age'] == 6)].median()\n",
    "result['length_height_cm'][(result['length_height_cm'] > 78) & (result['age'] == 5)] = result['length_height_cm'][(result['length_height_cm'] <= 78) & (result['age'] == 5)].median()\n",
    "result['length_height_cm'][(result['length_height_cm'] > 75) & (result['age'] == 4)] = result['length_height_cm'][(result['length_height_cm'] <= 75) & (result['age'] == 4)].median()\n",
    "result['length_height_cm'][(result['length_height_cm'] > 70) & (result['age'] == 3)] = result['length_height_cm'][(result['length_height_cm'] <= 70) & (result['age'] == 3)].median()\n",
    "result['length_height_cm'][(result['length_height_cm'] > 67) & (result['age'] == 2)] = result['length_height_cm'][(result['length_height_cm'] <= 67) & (result['age'] == 2)].median()\n",
    "result['length_height_cm'][(result['length_height_cm'] > 65) & (result['age'] == 1)] = result['length_height_cm'][(result['length_height_cm'] <= 65) & (result['age'] == 1)].median()\n",
    "result['length_height_cm'][(result['length_height_cm'] > 60) & (result['age'] == 0)] = result['length_height_cm'][(result['length_height_cm'] <= 60) & (result['age'] == 0)].median()"
   ]
  },
  {
   "cell_type": "code",
   "execution_count": 56,
   "metadata": {},
   "outputs": [
    {
     "name": "stdout",
     "output_type": "stream",
     "text": [
      "0\n",
      "46.43478260869565\n",
      "1\n",
      "52.39818992686654\n",
      "2\n",
      "54.28650566660599\n",
      "3\n",
      "56.018425028361264\n",
      "4\n",
      "58.451846740044694\n",
      "5\n",
      "60.96314639346392\n",
      "6\n",
      "63.97686582231676\n",
      "7\n",
      "65.16347599381619\n",
      "8\n",
      "67.04485380377261\n",
      "9\n",
      "67.81328883120175\n",
      "10\n",
      "67.78261318948913\n",
      "11\n",
      "68.31477522375485\n",
      "12\n",
      "74.16129280921872\n",
      "13\n",
      "nan\n",
      "14\n",
      "nan\n",
      "15\n",
      "nan\n",
      "16\n",
      "nan\n",
      "17\n",
      "nan\n",
      "18\n",
      "nan\n",
      "19\n",
      "nan\n",
      "20\n",
      "nan\n",
      "21\n",
      "nan\n",
      "22\n",
      "nan\n",
      "23\n",
      "nan\n",
      "24\n",
      "81.94752406040512\n",
      "25\n",
      "nan\n",
      "26\n",
      "nan\n",
      "27\n",
      "nan\n",
      "28\n",
      "nan\n",
      "29\n",
      "nan\n",
      "30\n",
      "nan\n",
      "31\n",
      "nan\n",
      "32\n",
      "nan\n",
      "33\n",
      "nan\n",
      "34\n",
      "nan\n",
      "35\n",
      "nan\n",
      "36\n",
      "89.47632601497175\n",
      "37\n",
      "nan\n",
      "38\n",
      "nan\n",
      "39\n",
      "nan\n",
      "40\n",
      "nan\n",
      "41\n",
      "nan\n",
      "42\n",
      "nan\n",
      "43\n",
      "nan\n",
      "44\n",
      "nan\n",
      "45\n",
      "nan\n",
      "46\n",
      "nan\n",
      "47\n",
      "nan\n",
      "48\n",
      "96.87446733515074\n",
      "49\n",
      "nan\n",
      "50\n",
      "nan\n",
      "51\n",
      "nan\n",
      "52\n",
      "nan\n",
      "53\n",
      "nan\n",
      "54\n",
      "nan\n",
      "55\n",
      "nan\n",
      "56\n",
      "nan\n",
      "57\n",
      "nan\n",
      "58\n",
      "nan\n",
      "59\n",
      "nan\n",
      "60\n",
      "103.0517642004292\n"
     ]
    }
   ],
   "source": [
    "for i in range(61):\n",
    "    print(i)\n",
    "    print(result['length_height_cm'][(result['age'] == i)].mean())"
   ]
  },
  {
   "cell_type": "code",
   "execution_count": 57,
   "metadata": {},
   "outputs": [
    {
     "data": {
      "text/plain": [
       "count    115349.000000\n",
       "mean         10.239236\n",
       "std           2.957462\n",
       "min           1.000000\n",
       "25%           8.300000\n",
       "50%          10.400000\n",
       "75%          12.500000\n",
       "max          18.000000\n",
       "Name: weight_in_kg, dtype: float64"
      ]
     },
     "execution_count": 57,
     "metadata": {},
     "output_type": "execute_result"
    }
   ],
   "source": [
    "result['weight_in_kg'].describe()"
   ]
  },
  {
   "cell_type": "code",
   "execution_count": 58,
   "metadata": {},
   "outputs": [
    {
     "name": "stderr",
     "output_type": "stream",
     "text": [
      "/home/nvs/anaconda3/lib/python3.6/site-packages/ipykernel_launcher.py:4: SettingWithCopyWarning: \n",
      "A value is trying to be set on a copy of a slice from a DataFrame\n",
      "\n",
      "See the caveats in the documentation: http://pandas.pydata.org/pandas-docs/stable/indexing.html#indexing-view-versus-copy\n",
      "  after removing the cwd from sys.path.\n"
     ]
    }
   ],
   "source": [
    "for i in range(0, 9):\n",
    "    a = 2 * i\n",
    "    b = a + 2\n",
    "    result['weight_in_kg'][(result['weight_in_kg'] > a) & (result['weight_in_kg'] <= b)] = i + 1"
   ]
  },
  {
   "cell_type": "code",
   "execution_count": 59,
   "metadata": {},
   "outputs": [
    {
     "data": {
      "text/plain": [
       "6.0    28591\n",
       "5.0    25723\n",
       "7.0    24493\n",
       "4.0    15090\n",
       "8.0     9817\n",
       "3.0     7865\n",
       "2.0     2927\n",
       "9.0      737\n",
       "1.0      106\n",
       "Name: weight_in_kg, dtype: int64"
      ]
     },
     "execution_count": 59,
     "metadata": {},
     "output_type": "execute_result"
    }
   ],
   "source": [
    "result['weight_in_kg'].value_counts()"
   ]
  },
  {
   "cell_type": "code",
   "execution_count": 60,
   "metadata": {},
   "outputs": [
    {
     "data": {
      "text/plain": [
       "count    115349.000000\n",
       "mean         83.279710\n",
       "std          14.337887\n",
       "min          16.799999\n",
       "25%          73.199997\n",
       "50%          84.199997\n",
       "75%          94.199997\n",
       "max         125.000000\n",
       "Name: length_height_cm, dtype: float64"
      ]
     },
     "execution_count": 60,
     "metadata": {},
     "output_type": "execute_result"
    }
   ],
   "source": [
    "result['length_height_cm'].describe()"
   ]
  },
  {
   "cell_type": "code",
   "execution_count": 61,
   "metadata": {},
   "outputs": [
    {
     "name": "stderr",
     "output_type": "stream",
     "text": [
      "/home/nvs/anaconda3/lib/python3.6/site-packages/ipykernel_launcher.py:4: SettingWithCopyWarning: \n",
      "A value is trying to be set on a copy of a slice from a DataFrame\n",
      "\n",
      "See the caveats in the documentation: http://pandas.pydata.org/pandas-docs/stable/indexing.html#indexing-view-versus-copy\n",
      "  after removing the cwd from sys.path.\n"
     ]
    }
   ],
   "source": [
    "for i in range(1, 12):\n",
    "    a = 10 * i + 5\n",
    "    b = a + 10\n",
    "    result['length_height_cm'][(result['length_height_cm'] > a) & (result['length_height_cm'] <= b)] = i + 1"
   ]
  },
  {
   "cell_type": "code",
   "execution_count": 62,
   "metadata": {},
   "outputs": [
    {
     "data": {
      "text/plain": [
       "6.0    28591\n",
       "5.0    25723\n",
       "7.0    24493\n",
       "4.0    15090\n",
       "8.0     9817\n",
       "3.0     7865\n",
       "2.0     2927\n",
       "9.0      737\n",
       "1.0      106\n",
       "Name: weight_in_kg, dtype: int64"
      ]
     },
     "execution_count": 62,
     "metadata": {},
     "output_type": "execute_result"
    }
   ],
   "source": [
    "result['weight_in_kg'].value_counts()"
   ]
  },
  {
   "cell_type": "code",
   "execution_count": 63,
   "metadata": {},
   "outputs": [],
   "source": [
    "result['illness_type'][result['illness_type'] != 0] = 1"
   ]
  },
  {
   "cell_type": "code",
   "execution_count": 64,
   "metadata": {
    "collapsed": true
   },
   "outputs": [],
   "source": [
    "x_train, x_test, y_train, y_test = train_test_split(result.drop('illness_type', axis=1), result['illness_type'], test_size=0.3, random_state=22)"
   ]
  },
  {
   "cell_type": "code",
   "execution_count": 65,
   "metadata": {
    "collapsed": true
   },
   "outputs": [],
   "source": [
    "clf =  RandomForestClassifier( n_jobs = -1,random_state =50, max_features = \"auto\", min_samples_leaf = 50)"
   ]
  },
  {
   "cell_type": "code",
   "execution_count": 66,
   "metadata": {},
   "outputs": [
    {
     "data": {
      "text/plain": [
       "RandomForestClassifier(bootstrap=True, class_weight=None, criterion='gini',\n",
       "            max_depth=None, max_features='auto', max_leaf_nodes=None,\n",
       "            min_impurity_decrease=0.0, min_impurity_split=None,\n",
       "            min_samples_leaf=50, min_samples_split=2,\n",
       "            min_weight_fraction_leaf=0.0, n_estimators=10, n_jobs=-1,\n",
       "            oob_score=False, random_state=50, verbose=0, warm_start=False)"
      ]
     },
     "execution_count": 66,
     "metadata": {},
     "output_type": "execute_result"
    }
   ],
   "source": [
    "clf.fit(x_train, y_train)"
   ]
  },
  {
   "cell_type": "code",
   "execution_count": 67,
   "metadata": {},
   "outputs": [
    {
     "name": "stdout",
     "output_type": "stream",
     "text": [
      "0.774599046381\n",
      "[[23331  1562]\n",
      " [ 6238  3474]]\n"
     ]
    },
    {
     "data": {
      "text/plain": [
       "<matplotlib.axes._subplots.AxesSubplot at 0x7f5b6d80a9e8>"
      ]
     },
     "execution_count": 67,
     "metadata": {},
     "output_type": "execute_result"
    },
    {
     "data": {
      "image/png": "[encoded data removed]",
      "text/plain": [
       "<matplotlib.figure.Figure at 0x7f5b7107f358>"
      ]
     },
     "metadata": {},
     "output_type": "display_data"
    }
   ],
   "source": [
    "pred = clf.predict(x_test)\n",
    "print(clf.score(x_test, y_test))\n",
    "cm = confusion_matrix(y_test, pred)\n",
    "print(cm)\n",
    "sn.heatmap(cm, annot=True)"
   ]
  },
  {
   "cell_type": "code",
   "execution_count": 69,
   "metadata": {},
   "outputs": [
    {
     "name": "stdout",
     "output_type": "stream",
     "text": [
      "state_code\n",
      "0.00437334994009\n",
      "----------------------------------------------\n",
      "record_code_iodine\n",
      "-0.00871593649346\n",
      "----------------------------------------------\n",
      "sex\n",
      "-0.00240311166927\n",
      "----------------------------------------------\n",
      "age\n",
      "-0.266494393787\n",
      "----------------------------------------------\n",
      "weight_in_kg\n",
      "-0.21683682278\n",
      "----------------------------------------------\n",
      "length_height_cm\n",
      "-0.207726373779\n",
      "----------------------------------------------\n",
      "haemoglobin_level\n",
      "-0.0306632361388\n",
      "----------------------------------------------\n",
      "first_breast_feeding\n",
      "0.0400689548234\n",
      "----------------------------------------------\n",
      "is_cur_breast_feeding\n",
      "-0.163337478174\n",
      "----------------------------------------------\n",
      "day_or_month_for_breast_feeding\n",
      "-0.138411422381\n",
      "----------------------------------------------\n",
      "water_month\n",
      "-0.0635753729139\n",
      "----------------------------------------------\n",
      "ani_milk_month\n",
      "-0.0605332653984\n",
      "----------------------------------------------\n",
      "semisolid_month_or_day\n",
      "-0.00854383849163\n",
      "----------------------------------------------\n",
      "solid_month\n",
      "0.0284234868123\n",
      "----------------------------------------------\n",
      "vegetables_month_or_day\n",
      "0.0435536861312\n",
      "----------------------------------------------\n",
      "illness_type\n",
      "1.0\n",
      "----------------------------------------------\n"
     ]
    }
   ],
   "source": [
    "for col in result.columns:\n",
    "    print(col)\n",
    "    print(result[col].corr(result['illness_type']))\n",
    "    print(\"----------------------------------------------\")"
   ]
  },
  {
   "cell_type": "code",
   "execution_count": 70,
   "metadata": {
    "collapsed": true
   },
   "outputs": [],
   "source": [
    "from sklearn.model_selection import cross_val_score"
   ]
  },
  {
   "cell_type": "code",
   "execution_count": 76,
   "metadata": {
    "collapsed": true
   },
   "outputs": [],
   "source": [
    "scores = cross_val_score(clf, result.drop('illness_type', axis=1), result['illness_type'], cv=5)"
   ]
  },
  {
   "cell_type": "code",
   "execution_count": 77,
   "metadata": {},
   "outputs": [
    {
     "data": {
      "text/plain": [
       "array([ 0.716874  ,  0.69258778,  0.74703078,  0.75937405,  0.67055356])"
      ]
     },
     "execution_count": 77,
     "metadata": {},
     "output_type": "execute_result"
    }
   ],
   "source": [
    "scores"
   ]
  }
 ],
 "metadata": {
  "kernelspec": {
   "display_name": "Python 3",
   "language": "python",
   "name": "python3"
  },
  "language_info": {
   "codemirror_mode": {
    "name": "ipython",
    "version": 3
   },
   "file_extension": ".py",
   "mimetype": "text/x-python",
   "name": "python",
   "nbconvert_exporter": "python",
   "pygments_lexer": "ipython3",
   "version": "3.6.3"
  }
 },
 "nbformat": 4,
 "nbformat_minor": 2
}
