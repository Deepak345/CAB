{
 "cells": [
  {
   "cell_type": "code",
   "execution_count": 50,
   "metadata": {},
   "outputs": [],
   "source": [
    "import pandas as pd\n",
    "import matplotlib.pyplot as plt\n",
    "%matplotlib inline"
   ]
  },
  {
   "cell_type": "code",
   "execution_count": 51,
   "metadata": {},
   "outputs": [],
   "source": [
    "data = pd.read_csv(\"data/CAB_20_JH.csv\", low_memory = False)"
   ]
  },
  {
   "cell_type": "code",
   "execution_count": 52,
   "metadata": {},
   "outputs": [
    {
     "data": {
      "text/plain": [
       "(127810, 54)"
      ]
     },
     "execution_count": 52,
     "metadata": {},
     "output_type": "execute_result"
    }
   ],
   "source": [
    "data.shape"
   ]
  },
  {
   "cell_type": "code",
   "execution_count": 53,
   "metadata": {},
   "outputs": [
    {
     "name": "stdout",
     "output_type": "stream",
     "text": [
      "<class 'pandas.core.frame.DataFrame'>\n",
      "RangeIndex: 127810 entries, 0 to 127809\n",
      "Data columns (total 54 columns):\n",
      "state_code                          127807 non-null float64\n",
      "district_code                       127810 non-null int64\n",
      "rural_urban                         127810 non-null object\n",
      "stratum                             127810 non-null int64\n",
      "psu_id                              127810 non-null int64\n",
      "ahs_house_unit                      127810 non-null int64\n",
      "house_hold_no                       127810 non-null int64\n",
      "date_survey                         127810 non-null object\n",
      "test_salt_iodine                    127810 non-null int64\n",
      "record_code_iodine                  127810 non-null int64\n",
      "record_code_iodine_reason           93771 non-null object\n",
      "sl_no                               127810 non-null int64\n",
      "sex                                 127810 non-null int64\n",
      "usual_residance                     127810 non-null int64\n",
      "usual_residance_reason              99314 non-null object\n",
      "identification_code                 127791 non-null float64\n",
      "age_code                            127807 non-null object\n",
      "age                                 127807 non-null float64\n",
      "date_of_birth                       127807 non-null float64\n",
      "month_of_birth                      127807 non-null float64\n",
      "year_of_birth                       127807 non-null float64\n",
      "weight_measured                     127807 non-null float64\n",
      "weight_in_kg                        127807 non-null float64\n",
      "length_height_measured              127807 non-null float64\n",
      "length_height_code                  127807 non-null object\n",
      "length_height_cm                    127807 non-null float64\n",
      "haemoglobin_test                    127807 non-null float64\n",
      "haemoglobin                         127807 non-null float64\n",
      "haemoglobin_level                   127807 non-null float64\n",
      "bp_systolic                         127807 non-null float64\n",
      "bp_systolic_2_reading               127807 non-null float64\n",
      "bp_diastolic                        127807 non-null float64\n",
      "bp_diastolic_2reading               127807 non-null float64\n",
      "pulse_rate                          127807 non-null float64\n",
      "pulse_rate_2_reading                127807 non-null float64\n",
      "diabetes_test                       127807 non-null float64\n",
      "fasting_blood_glucose               127807 non-null float64\n",
      "fasting_blood_glucose_mg_dl         127807 non-null float64\n",
      "marital_status                      127807 non-null float64\n",
      "gauna_perfor_not_perfor             127804 non-null float64\n",
      "duration_pregnanacy                 127804 non-null float64\n",
      "first_breast_feeding                127804 non-null float64\n",
      "is_cur_breast_feeding               127804 non-null float64\n",
      "day_or_month_for_breast_feeding_    127804 non-null object\n",
      "day_or_month_for_breast_feeding     127804 non-null float64\n",
      "water_month                         127804 non-null float64\n",
      "ani_milk_month                      127804 non-null float64\n",
      "semisolid_month_or_day              127804 non-null float64\n",
      "solid_month                         127804 non-null float64\n",
      "vegetables_month_or_day             127804 non-null float64\n",
      "illness_type                        127804 non-null float64\n",
      "illness_duration                    127804 non-null float64\n",
      "treatment_type                      127804 non-null float64\n",
      "v54                                 0 non-null float64\n",
      "dtypes: float64(37), int64(10), object(7)\n",
      "memory usage: 52.7+ MB\n"
     ]
    }
   ],
   "source": [
    "data.info()"
   ]
  },
  {
   "cell_type": "code",
   "execution_count": 54,
   "metadata": {},
   "outputs": [
    {
     "data": {
      "text/plain": [
       "array(['state_code', 'district_code', 'rural_urban', 'stratum', 'psu_id',\n",
       "       'ahs_house_unit', 'house_hold_no', 'date_survey',\n",
       "       'test_salt_iodine', 'record_code_iodine',\n",
       "       'record_code_iodine_reason', 'sl_no', 'sex', 'usual_residance',\n",
       "       'usual_residance_reason', 'identification_code', 'age_code', 'age',\n",
       "       'date_of_birth', 'month_of_birth', 'year_of_birth',\n",
       "       'weight_measured', 'weight_in_kg', 'length_height_measured',\n",
       "       'length_height_code', 'length_height_cm', 'haemoglobin_test',\n",
       "       'haemoglobin', 'haemoglobin_level', 'bp_systolic',\n",
       "       'bp_systolic_2_reading', 'bp_diastolic', 'bp_diastolic_2reading',\n",
       "       'pulse_rate', 'pulse_rate_2_reading', 'diabetes_test',\n",
       "       'fasting_blood_glucose', 'fasting_blood_glucose_mg_dl',\n",
       "       'marital_status', 'gauna_perfor_not_perfor', 'duration_pregnanacy',\n",
       "       'first_breast_feeding', 'is_cur_breast_feeding',\n",
       "       'day_or_month_for_breast_feeding_',\n",
       "       'day_or_month_for_breast_feeding', 'water_month', 'ani_milk_month',\n",
       "       'semisolid_month_or_day', 'solid_month', 'vegetables_month_or_day',\n",
       "       'illness_type', 'illness_duration', 'treatment_type', 'v54'], dtype=object)"
      ]
     },
     "execution_count": 54,
     "metadata": {},
     "output_type": "execute_result"
    }
   ],
   "source": [
    "data.columns.values"
   ]
  },
  {
   "cell_type": "code",
   "execution_count": 55,
   "metadata": {},
   "outputs": [],
   "source": [
    "data = data.drop(['state_code', 'district_code', 'psu_id','ahs_house_unit','house_hold_no', 'date_survey',\n",
    "                  'test_salt_iodine', 'record_code_iodine_reason', 'sl_no', 'usual_residance_reason',\n",
    "                  'identification_code', 'date_of_birth', 'year_of_birth', 'weight_measured',\n",
    "                  'length_height_measured', 'haemoglobin_test', 'haemoglobin', 'bp_systolic',\n",
    "                  'bp_systolic_2_reading', 'bp_diastolic', 'bp_diastolic_2reading', 'pulse_rate',\n",
    "                  'pulse_rate_2_reading', 'diabetes_test', 'fasting_blood_glucose', 'fasting_blood_glucose_mg_dl',\n",
    "                  'marital_status', 'gauna_perfor_not_perfor', 'duration_pregnanacy', 'illness_duration', 'v54'],\n",
    "                axis = 1)"
   ]
  },
  {
   "cell_type": "code",
   "execution_count": 56,
   "metadata": {},
   "outputs": [
    {
     "data": {
      "text/plain": [
       "(127810, 23)"
      ]
     },
     "execution_count": 56,
     "metadata": {},
     "output_type": "execute_result"
    }
   ],
   "source": [
    "data.shape"
   ]
  },
  {
   "cell_type": "code",
   "execution_count": 57,
   "metadata": {},
   "outputs": [
    {
     "data": {
      "text/plain": [
       "array(['rural_urban', 'stratum', 'record_code_iodine', 'sex',\n",
       "       'usual_residance', 'age_code', 'age', 'month_of_birth',\n",
       "       'weight_in_kg', 'length_height_code', 'length_height_cm',\n",
       "       'haemoglobin_level', 'first_breast_feeding',\n",
       "       'is_cur_breast_feeding', 'day_or_month_for_breast_feeding_',\n",
       "       'day_or_month_for_breast_feeding', 'water_month', 'ani_milk_month',\n",
       "       'semisolid_month_or_day', 'solid_month', 'vegetables_month_or_day',\n",
       "       'illness_type', 'treatment_type'], dtype=object)"
      ]
     },
     "execution_count": 57,
     "metadata": {},
     "output_type": "execute_result"
    }
   ],
   "source": [
    "data.columns.values"
   ]
  },
  {
   "cell_type": "code",
   "execution_count": 58,
   "metadata": {},
   "outputs": [],
   "source": [
    "data = data.drop(data[(data['age_code'] == 'Y') & (data['age'] > 5) | (data['illness_type'] == -1)].index)"
   ]
  },
  {
   "cell_type": "code",
   "execution_count": 59,
   "metadata": {},
   "outputs": [
    {
     "data": {
      "text/plain": [
       "(8588, 23)"
      ]
     },
     "execution_count": 59,
     "metadata": {},
     "output_type": "execute_result"
    }
   ],
   "source": [
    "data.shape"
   ]
  },
  {
   "cell_type": "code",
   "execution_count": null,
   "metadata": {},
   "outputs": [],
   "source": []
  }
 ],
 "metadata": {
  "kernelspec": {
   "display_name": "Python 3",
   "language": "python",
   "name": "python3"
  },
  "language_info": {
   "codemirror_mode": {
    "name": "ipython",
    "version": 3
   },
   "file_extension": ".py",
   "mimetype": "text/x-python",
   "name": "python",
   "nbconvert_exporter": "python",
   "pygments_lexer": "ipython3",
   "version": "3.5.2"
  }
 },
 "nbformat": 4,
 "nbformat_minor": 2
}
