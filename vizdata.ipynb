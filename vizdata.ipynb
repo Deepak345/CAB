{
 "cells": [
  {
   "cell_type": "code",
   "execution_count": 1,
   "metadata": {
    "collapsed": true
   },
   "outputs": [],
   "source": [
    "import pandas as pd\n",
    "import matplotlib.pyplot as plt\n",
    "import matplotlib\n",
    "%matplotlib inline"
   ]
  },
  {
   "cell_type": "code",
   "execution_count": 2,
   "metadata": {
    "collapsed": true
   },
   "outputs": [],
   "source": [
    "ass = pd.read_csv(\"./cleaned data/AS.csv\", low_memory=False, index_col=False)\n",
    "mp = pd.read_csv(\"./cleaned data/MP.csv\", low_memory=False, index_col=False)\n",
    "up = pd.read_csv(\"./cleaned data/UP.csv\", low_memory=False, index_col=False)\n",
    "jh = pd.read_csv(\"./cleaned data/JH.csv\", low_memory=False, index_col=False)\n",
    "rj = pd.read_csv(\"./cleaned data/RJ.csv\", low_memory=False, index_col=False)\n",
    "bh = pd.read_csv(\"./cleaned data/BH.csv\", low_memory=False, index_col=False)\n",
    "cg = pd.read_csv(\"./cleaned data/CG.csv\", low_memory=False, index_col=False)\n",
    "od = pd.read_csv(\"./cleaned data/OD.csv\", low_memory=False, index_col=False)\n",
    "ut = pd.read_csv(\"./cleaned data/UT.csv\", low_memory=False, index_col=False)"
   ]
  },
  {
   "cell_type": "code",
   "execution_count": 3,
   "metadata": {
    "collapsed": true
   },
   "outputs": [],
   "source": [
    "frames = [ ut, cg, jh, ass, od, rj, mp, bh, up ]"
   ]
  },
  {
   "cell_type": "code",
   "execution_count": 4,
   "metadata": {
    "collapsed": true
   },
   "outputs": [],
   "source": [
    "result = pd.concat(frames)"
   ]
  },
  {
   "cell_type": "code",
   "execution_count": 5,
   "metadata": {
    "collapsed": true
   },
   "outputs": [],
   "source": [
    "result = result.drop(['treatment_type'], axis=1)"
   ]
  },
  {
   "cell_type": "code",
   "execution_count": 8,
   "metadata": {
    "collapsed": true
   },
   "outputs": [],
   "source": [
    "result = result.drop(result[(result['weight_in_kg'].isnull()) & (result['weight_in_kg'].isnull())].index)"
   ]
  },
  {
   "cell_type": "code",
   "execution_count": 9,
   "metadata": {
    "collapsed": true
   },
   "outputs": [],
   "source": [
    "result = result.drop(result[(result['haemoglobin_level'].isnull())].index)"
   ]
  },
  {
   "cell_type": "code",
   "execution_count": 12,
   "metadata": {},
   "outputs": [
    {
     "data": {
      "text/plain": [
       "0"
      ]
     },
     "execution_count": 12,
     "metadata": {},
     "output_type": "execute_result"
    }
   ],
   "source": [
    "result.isnull().sum().sum()"
   ]
  },
  {
   "cell_type": "code",
   "execution_count": 13,
   "metadata": {},
   "outputs": [
    {
     "data": {
      "text/plain": [
       "state_code\n",
       "5.0     86.273560\n",
       "8.0     84.284886\n",
       "9.0     81.319572\n",
       "10.0    83.044609\n",
       "18.0    86.165794\n",
       "20.0    85.230291\n",
       "21.0    84.309879\n",
       "22.0    84.931508\n",
       "23.0    85.235022\n",
       "Name: length_height_cm, dtype: float64"
      ]
     },
     "execution_count": 13,
     "metadata": {},
     "output_type": "execute_result"
    }
   ],
   "source": [
    "result.groupby(['state_code'])['length_height_cm'].mean()"
   ]
  },
  {
   "cell_type": "code",
   "execution_count": 14,
   "metadata": {},
   "outputs": [
    {
     "data": {
      "text/plain": [
       "state_code  sex\n",
       "5.0         1      86.775910\n",
       "            2      85.717790\n",
       "8.0         1      84.630406\n",
       "            2      83.907955\n",
       "9.0         1      81.631399\n",
       "            2      80.970772\n",
       "10.0        1      82.847863\n",
       "            2      83.261188\n",
       "18.0        1      86.599632\n",
       "            2      85.687860\n",
       "20.0        1      85.616457\n",
       "            2      84.820511\n",
       "21.0        1      84.844245\n",
       "            2      83.722821\n",
       "22.0        1      84.413812\n",
       "            2      85.533816\n",
       "23.0        1      85.049696\n",
       "            2      85.442577\n",
       "Name: length_height_cm, dtype: float64"
      ]
     },
     "execution_count": 14,
     "metadata": {},
     "output_type": "execute_result"
    }
   ],
   "source": [
    "result.groupby(['state_code', 'sex'])['length_height_cm'].mean()"
   ]
  },
  {
   "cell_type": "code",
   "execution_count": 15,
   "metadata": {},
   "outputs": [
    {
     "data": {
      "text/plain": [
       "state_code\n",
       "5.0     11.741458\n",
       "8.0     10.801541\n",
       "9.0     10.435524\n",
       "10.0    10.427538\n",
       "18.0    11.312061\n",
       "20.0    10.974762\n",
       "21.0    10.794475\n",
       "22.0    10.597504\n",
       "23.0    11.138301\n",
       "Name: weight_in_kg, dtype: float64"
      ]
     },
     "execution_count": 15,
     "metadata": {},
     "output_type": "execute_result"
    }
   ],
   "source": [
    "result.groupby(['state_code'])['weight_in_kg'].mean()"
   ]
  },
  {
   "cell_type": "code",
   "execution_count": 16,
   "metadata": {},
   "outputs": [
    {
     "data": {
      "text/plain": [
       "state_code  sex\n",
       "5.0         1      11.902085\n",
       "            2      11.563750\n",
       "8.0         1      10.987350\n",
       "            2      10.598841\n",
       "9.0         1      10.575979\n",
       "            2      10.278416\n",
       "10.0        1      10.409367\n",
       "            2      10.447540\n",
       "18.0        1      11.559792\n",
       "            2      11.039151\n",
       "20.0        1      11.124187\n",
       "            2      10.816198\n",
       "21.0        1      11.065410\n",
       "            2      10.496823\n",
       "22.0        1      10.624647\n",
       "            2      10.565924\n",
       "23.0        1      11.258074\n",
       "            2      11.004162\n",
       "Name: weight_in_kg, dtype: float64"
      ]
     },
     "execution_count": 16,
     "metadata": {},
     "output_type": "execute_result"
    }
   ],
   "source": [
    "result.groupby(['state_code', 'sex'])['weight_in_kg'].mean()"
   ]
  },
  {
   "cell_type": "code",
   "execution_count": 17,
   "metadata": {},
   "outputs": [
    {
     "data": {
      "text/plain": [
       "state_code  illness_type\n",
       "5.0         0.0              2331\n",
       "            3.0               551\n",
       "            1.0               146\n",
       "            2.0               138\n",
       "            4.0                23\n",
       "8.0         0.0              8936\n",
       "            1.0              1188\n",
       "            2.0               725\n",
       "            3.0               481\n",
       "            4.0               101\n",
       "9.0         0.0             22165\n",
       "            2.0              5627\n",
       "            1.0              3295\n",
       "            3.0              2352\n",
       "            4.0               581\n",
       "10.0        0.0             14999\n",
       "            2.0              2542\n",
       "            3.0               766\n",
       "            1.0               657\n",
       "            4.0                21\n",
       "18.0        0.0              6464\n",
       "            2.0               455\n",
       "            3.0               150\n",
       "            1.0                71\n",
       "            4.0                35\n",
       "20.0        0.0              6124\n",
       "            2.0               811\n",
       "            3.0               760\n",
       "            1.0               230\n",
       "            4.0                97\n",
       "21.0        0.0              6964\n",
       "            3.0              1894\n",
       "            2.0              1593\n",
       "            1.0              1219\n",
       "            4.0               546\n",
       "22.0        0.0              4246\n",
       "            2.0              1095\n",
       "            1.0               755\n",
       "            3.0               214\n",
       "            4.0                57\n",
       "23.0        0.0             10605\n",
       "            2.0              1759\n",
       "            1.0              1140\n",
       "            3.0               384\n",
       "            4.0                57\n",
       "Name: illness_type, dtype: int64"
      ]
     },
     "execution_count": 17,
     "metadata": {},
     "output_type": "execute_result"
    }
   ],
   "source": [
    "result.groupby(['state_code'])['illness_type'].value_counts()"
   ]
  },
  {
   "cell_type": "code",
   "execution_count": 21,
   "metadata": {},
   "outputs": [
    {
     "data": {
      "text/plain": [
       "state_code  illness_type\n",
       "5.0         0.0             73.095014\n",
       "            3.0             17.278144\n",
       "            1.0              4.578238\n",
       "            2.0              4.327375\n",
       "            4.0              0.721229\n",
       "8.0         0.0             78.173388\n",
       "            1.0             10.392792\n",
       "            2.0              6.342402\n",
       "            3.0              4.207856\n",
       "            4.0              0.883562\n",
       "9.0         0.0             65.152851\n",
       "            2.0             16.540270\n",
       "            1.0              9.685479\n",
       "            3.0              6.913580\n",
       "            4.0              1.707819\n",
       "10.0        0.0             79.004477\n",
       "            2.0             13.389518\n",
       "            3.0              4.034764\n",
       "            1.0              3.460627\n",
       "            4.0              0.110614\n",
       "18.0        0.0             90.090592\n",
       "            2.0              6.341463\n",
       "            3.0              2.090592\n",
       "            1.0              0.989547\n",
       "            4.0              0.487805\n",
       "20.0        0.0             76.340065\n",
       "            2.0             10.109698\n",
       "            3.0              9.473947\n",
       "            1.0              2.867115\n",
       "            4.0              1.209175\n",
       "21.0        0.0             57.007204\n",
       "            3.0             15.504257\n",
       "            2.0             13.040275\n",
       "            1.0              9.978716\n",
       "            4.0              4.469548\n",
       "22.0        0.0             66.687608\n",
       "            2.0             17.198052\n",
       "            1.0             11.858018\n",
       "            3.0              3.361081\n",
       "            4.0              0.895241\n",
       "23.0        0.0             76.048763\n",
       "            2.0             12.613840\n",
       "            1.0              8.174973\n",
       "            3.0              2.753675\n",
       "            4.0              0.408749\n",
       "Name: illness_type, dtype: float64"
      ]
     },
     "execution_count": 21,
     "metadata": {},
     "output_type": "execute_result"
    }
   ],
   "source": [
    "result.groupby(['state_code'])['illness_type'].value_counts(normalize=True) * 100"
   ]
  },
  {
   "cell_type": "code",
   "execution_count": 23,
   "metadata": {},
   "outputs": [
    {
     "data": {
      "text/plain": [
       "state_code  age    illness_type\n",
       "5.0         2.0    0.0               21\n",
       "                   3.0                7\n",
       "                   2.0                4\n",
       "            5.0    0.0               17\n",
       "                   3.0               12\n",
       "                   1.0                2\n",
       "            6.0    0.0               20\n",
       "                   3.0                9\n",
       "                   1.0                2\n",
       "                   2.0                1\n",
       "            7.0    0.0               23\n",
       "                   3.0                9\n",
       "                   1.0                4\n",
       "                   2.0                1\n",
       "                   4.0                1\n",
       "            8.0    0.0               28\n",
       "                   3.0               14\n",
       "                   2.0                5\n",
       "                   1.0                1\n",
       "            9.0    0.0               34\n",
       "                   3.0               10\n",
       "                   2.0                3\n",
       "                   1.0                1\n",
       "            10.0   0.0               14\n",
       "                   3.0               11\n",
       "                   1.0                2\n",
       "                   2.0                2\n",
       "            11.0   0.0               21\n",
       "                   3.0                5\n",
       "                   2.0                3\n",
       "                                   ... \n",
       "23.0        11.0   1.0               30\n",
       "                   2.0               20\n",
       "                   3.0                6\n",
       "                   4.0                1\n",
       "            12.0   0.0              801\n",
       "                   2.0              228\n",
       "                   1.0              218\n",
       "                   3.0               76\n",
       "                   4.0               10\n",
       "            24.0   0.0             1746\n",
       "                   2.0              437\n",
       "                   1.0              174\n",
       "                   3.0               77\n",
       "                   4.0               10\n",
       "            36.0   0.0             2735\n",
       "                   2.0              605\n",
       "                   1.0               95\n",
       "                   3.0               52\n",
       "                   4.0               16\n",
       "            48.0   0.0             2986\n",
       "                   2.0               79\n",
       "                   1.0               73\n",
       "                   3.0               53\n",
       "                   4.0                5\n",
       "            60.0   0.0             1243\n",
       "                   1.0               46\n",
       "                   2.0               27\n",
       "                   3.0               13\n",
       "                   4.0                6\n",
       "            324.0  0.0                1\n",
       "Name: illness_type, Length: 652, dtype: int64"
      ]
     },
     "execution_count": 23,
     "metadata": {},
     "output_type": "execute_result"
    }
   ],
   "source": [
    "result.groupby(['state_code', 'age'])['illness_type'].value_counts()"
   ]
  },
  {
   "cell_type": "markdown",
   "metadata": {},
   "source": [
    "## Scatter Plot"
   ]
  },
  {
   "cell_type": "code",
   "execution_count": 24,
   "metadata": {},
   "outputs": [
    {
     "data": {
      "text/plain": [
       "state_code\n",
       "5.0     1.400439\n",
       "8.0     1.529700\n",
       "9.0     1.631540\n",
       "10.0    1.428496\n",
       "18.0    1.359861\n",
       "20.0    1.427823\n",
       "21.0    1.162001\n",
       "22.0    1.102246\n",
       "23.0    1.209896\n",
       "Name: first_breast_feeding, dtype: float64"
      ]
     },
     "execution_count": 24,
     "metadata": {},
     "output_type": "execute_result"
    }
   ],
   "source": [
    "result.groupby(['state_code'])['first_breast_feeding'].mean()"
   ]
  },
  {
   "cell_type": "code",
   "execution_count": 25,
   "metadata": {},
   "outputs": [
    {
     "data": {
      "text/plain": [
       "state_code\n",
       "5.0     5.325180\n",
       "8.0     5.260957\n",
       "9.0     3.860964\n",
       "10.0    4.237293\n",
       "18.0    5.300627\n",
       "20.0    5.298803\n",
       "21.0    5.544368\n",
       "22.0    4.424533\n",
       "23.0    5.332951\n",
       "Name: water_month, dtype: float64"
      ]
     },
     "execution_count": 25,
     "metadata": {},
     "output_type": "execute_result"
    }
   ],
   "source": [
    "result.groupby(['state_code'])['water_month'].mean()"
   ]
  },
  {
   "cell_type": "code",
   "execution_count": 26,
   "metadata": {},
   "outputs": [
    {
     "data": {
      "text/plain": [
       "state_code\n",
       "5.0     4.777360\n",
       "8.0     5.167702\n",
       "9.0     3.679659\n",
       "10.0    5.111035\n",
       "18.0    5.370592\n",
       "20.0    3.616679\n",
       "21.0    2.718075\n",
       "22.0    3.802576\n",
       "23.0    5.763428\n",
       "Name: ani_milk_month, dtype: float64"
      ]
     },
     "execution_count": 26,
     "metadata": {},
     "output_type": "execute_result"
    }
   ],
   "source": [
    "result.groupby(['state_code'])['ani_milk_month'].mean()"
   ]
  },
  {
   "cell_type": "code",
   "execution_count": 27,
   "metadata": {},
   "outputs": [
    {
     "data": {
      "text/plain": [
       "state_code\n",
       "5.0     7.160865\n",
       "8.0     6.278978\n",
       "9.0     6.026308\n",
       "10.0    6.063629\n",
       "18.0    5.951220\n",
       "20.0    6.464099\n",
       "21.0    5.762688\n",
       "22.0    4.007853\n",
       "23.0    5.616207\n",
       "Name: semisolid_month_or_day, dtype: float64"
      ]
     },
     "execution_count": 27,
     "metadata": {},
     "output_type": "execute_result"
    }
   ],
   "source": [
    "result.groupby(['state_code'])['semisolid_month_or_day'].mean()"
   ]
  },
  {
   "cell_type": "code",
   "execution_count": 28,
   "metadata": {},
   "outputs": [
    {
     "data": {
      "text/plain": [
       "state_code\n",
       "5.0     8.337723\n",
       "8.0     5.725921\n",
       "9.0     6.779306\n",
       "10.0    7.635238\n",
       "18.0    6.966411\n",
       "20.0    7.036026\n",
       "21.0    5.753029\n",
       "22.0    3.719805\n",
       "23.0    5.760488\n",
       "Name: solid_month, dtype: float64"
      ]
     },
     "execution_count": 28,
     "metadata": {},
     "output_type": "execute_result"
    }
   ],
   "source": [
    "result.groupby(['state_code'])['solid_month'].mean()"
   ]
  },
  {
   "cell_type": "code",
   "execution_count": 29,
   "metadata": {},
   "outputs": [
    {
     "data": {
      "text/plain": [
       "state_code\n",
       "5.0     7.902791\n",
       "8.0     6.094655\n",
       "9.0     6.427102\n",
       "10.0    7.934422\n",
       "18.0    7.164878\n",
       "20.0    7.038145\n",
       "21.0    5.625246\n",
       "22.0    3.880635\n",
       "23.0    5.851990\n",
       "Name: vegetables_month_or_day, dtype: float64"
      ]
     },
     "execution_count": 29,
     "metadata": {},
     "output_type": "execute_result"
    }
   ],
   "source": [
    "result.groupby(['state_code'])['vegetables_month_or_day'].mean()"
   ]
  },
  {
   "cell_type": "code",
   "execution_count": null,
   "metadata": {
    "collapsed": true
   },
   "outputs": [],
   "source": []
  }
 ],
 "metadata": {
  "kernelspec": {
   "display_name": "Python 3",
   "language": "python",
   "name": "python3"
  },
  "language_info": {
   "codemirror_mode": {
    "name": "ipython",
    "version": 3
   },
   "file_extension": ".py",
   "mimetype": "text/x-python",
   "name": "python",
   "nbconvert_exporter": "python",
   "pygments_lexer": "ipython3",
   "version": "3.6.3"
  }
 },
 "nbformat": 4,
 "nbformat_minor": 2
}
